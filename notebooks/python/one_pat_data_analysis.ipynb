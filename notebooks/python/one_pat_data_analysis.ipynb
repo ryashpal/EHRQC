{
 "cells": [
  {
   "cell_type": "markdown",
   "metadata": {},
   "source": [
    "# One Patient Data Analysis"
   ]
  },
  {
   "cell_type": "markdown",
   "metadata": {},
   "source": [
    "## Load Libraries"
   ]
  },
  {
   "cell_type": "code",
   "execution_count": 144,
   "metadata": {},
   "outputs": [],
   "source": [
    "import pandas as pd\n",
    "import os\n",
    "import datetime as dt\n",
    "\n",
    "from matplotlib import pyplot as plt\n",
    "import seaborn as sns"
   ]
  },
  {
   "cell_type": "markdown",
   "metadata": {},
   "source": [
    "## Read Data"
   ]
  },
  {
   "cell_type": "code",
   "execution_count": 5,
   "metadata": {},
   "outputs": [
    {
     "data": {
      "text/plain": [
       "'/superbugai-data/yash/chapter_1/workspace/EHRQC/notebooks/python'"
      ]
     },
     "execution_count": 5,
     "metadata": {},
     "output_type": "execute_result"
    }
   ],
   "source": [
    "os.getcwd()"
   ]
  },
  {
   "cell_type": "code",
   "execution_count": 6,
   "metadata": {},
   "outputs": [],
   "source": [
    "dataFilePath = '../../data/one-pat-vitals.csv'\n",
    "dataDf = pd.read_csv(dataFilePath)"
   ]
  },
  {
   "cell_type": "code",
   "execution_count": 13,
   "metadata": {},
   "outputs": [
    {
     "data": {
      "text/html": [
       "<div>\n",
       "<style scoped>\n",
       "    .dataframe tbody tr th:only-of-type {\n",
       "        vertical-align: middle;\n",
       "    }\n",
       "\n",
       "    .dataframe tbody tr th {\n",
       "        vertical-align: top;\n",
       "    }\n",
       "\n",
       "    .dataframe thead th {\n",
       "        text-align: right;\n",
       "    }\n",
       "</style>\n",
       "<table border=\"1\" class=\"dataframe\">\n",
       "  <thead>\n",
       "    <tr style=\"text-align: right;\">\n",
       "      <th></th>\n",
       "      <th>PATIENT_ID</th>\n",
       "      <th>TYPE</th>\n",
       "      <th>RESULT</th>\n",
       "      <th>ORDER_DATETIME</th>\n",
       "      <th>PERFORMED_DATETIME</th>\n",
       "      <th>NORMAL_LOW</th>\n",
       "      <th>NORMAL_HIGH</th>\n",
       "      <th>CRITICAL_LOW</th>\n",
       "      <th>CRITICAL_HIGH</th>\n",
       "    </tr>\n",
       "  </thead>\n",
       "  <tbody>\n",
       "    <tr>\n",
       "      <th>0</th>\n",
       "      <td>2169055</td>\n",
       "      <td>Urea</td>\n",
       "      <td>6.1</td>\n",
       "      <td>2016-09-29 12:24:44.000</td>\n",
       "      <td>2016-09-29 15:20:41.000</td>\n",
       "      <td>2.5</td>\n",
       "      <td>7.2</td>\n",
       "      <td></td>\n",
       "      <td>&gt;30.0</td>\n",
       "    </tr>\n",
       "    <tr>\n",
       "      <th>1</th>\n",
       "      <td>2169055</td>\n",
       "      <td>Eosinophils</td>\n",
       "      <td>0.00</td>\n",
       "      <td>2016-10-08 09:09:11.000</td>\n",
       "      <td>2016-10-08 09:59:52.000</td>\n",
       "      <td>0.00</td>\n",
       "      <td>0.50</td>\n",
       "      <td></td>\n",
       "      <td></td>\n",
       "    </tr>\n",
       "    <tr>\n",
       "      <th>2</th>\n",
       "      <td>2169055</td>\n",
       "      <td>eGFR</td>\n",
       "      <td>82</td>\n",
       "      <td>2016-09-29 12:24:44.000</td>\n",
       "      <td>2016-09-29 15:20:42.000</td>\n",
       "      <td>&gt;=90</td>\n",
       "      <td></td>\n",
       "      <td></td>\n",
       "      <td></td>\n",
       "    </tr>\n",
       "    <tr>\n",
       "      <th>3</th>\n",
       "      <td>2169055</td>\n",
       "      <td>INR</td>\n",
       "      <td>1.1</td>\n",
       "      <td>2016-09-29 12:24:44.000</td>\n",
       "      <td>2016-09-29 15:23:15.000</td>\n",
       "      <td>0.9</td>\n",
       "      <td>1.3</td>\n",
       "      <td></td>\n",
       "      <td>&gt;3.9</td>\n",
       "    </tr>\n",
       "    <tr>\n",
       "      <th>4</th>\n",
       "      <td>2169055</td>\n",
       "      <td>Sodium</td>\n",
       "      <td>141</td>\n",
       "      <td>2016-10-07 18:50:55.000</td>\n",
       "      <td>2016-10-08 10:10:41.000</td>\n",
       "      <td>135</td>\n",
       "      <td>145</td>\n",
       "      <td>125</td>\n",
       "      <td>155</td>\n",
       "    </tr>\n",
       "    <tr>\n",
       "      <th>...</th>\n",
       "      <td>...</td>\n",
       "      <td>...</td>\n",
       "      <td>...</td>\n",
       "      <td>...</td>\n",
       "      <td>...</td>\n",
       "      <td>...</td>\n",
       "      <td>...</td>\n",
       "      <td>...</td>\n",
       "      <td>...</td>\n",
       "    </tr>\n",
       "    <tr>\n",
       "      <th>42573</th>\n",
       "      <td>2169055</td>\n",
       "      <td>Respiratory Distress</td>\n",
       "      <td>Nil</td>\n",
       "      <td>NaN</td>\n",
       "      <td>2021-05-04 17:50:13.000</td>\n",
       "      <td>NaN</td>\n",
       "      <td>NaN</td>\n",
       "      <td>NaN</td>\n",
       "      <td>NaN</td>\n",
       "    </tr>\n",
       "    <tr>\n",
       "      <th>42574</th>\n",
       "      <td>2169055</td>\n",
       "      <td>Respiratory Rate</td>\n",
       "      <td>18</td>\n",
       "      <td>NaN</td>\n",
       "      <td>2021-05-04 17:50:13.000</td>\n",
       "      <td>11</td>\n",
       "      <td>24</td>\n",
       "      <td>6</td>\n",
       "      <td>36</td>\n",
       "    </tr>\n",
       "    <tr>\n",
       "      <th>42575</th>\n",
       "      <td>2169055</td>\n",
       "      <td>WCDC_Discharge Destination</td>\n",
       "      <td>Home</td>\n",
       "      <td>NaN</td>\n",
       "      <td>2021-05-04 20:09:24.000</td>\n",
       "      <td>NaN</td>\n",
       "      <td>NaN</td>\n",
       "      <td>NaN</td>\n",
       "      <td>NaN</td>\n",
       "    </tr>\n",
       "    <tr>\n",
       "      <th>42576</th>\n",
       "      <td>2169055</td>\n",
       "      <td>WCDC_GP Details Confirmed</td>\n",
       "      <td>Yes</td>\n",
       "      <td>NaN</td>\n",
       "      <td>2021-05-04 20:09:24.000</td>\n",
       "      <td>NaN</td>\n",
       "      <td>NaN</td>\n",
       "      <td>NaN</td>\n",
       "      <td>NaN</td>\n",
       "    </tr>\n",
       "    <tr>\n",
       "      <th>42577</th>\n",
       "      <td>2169055</td>\n",
       "      <td>WCDC_Discharge Summary Sent By</td>\n",
       "      <td>Document Distribution</td>\n",
       "      <td>NaN</td>\n",
       "      <td>2021-05-04 20:09:24.000</td>\n",
       "      <td>NaN</td>\n",
       "      <td>NaN</td>\n",
       "      <td>NaN</td>\n",
       "      <td>NaN</td>\n",
       "    </tr>\n",
       "  </tbody>\n",
       "</table>\n",
       "<p>42578 rows × 9 columns</p>\n",
       "</div>"
      ],
      "text/plain": [
       "       PATIENT_ID                            TYPE                 RESULT  \\\n",
       "0         2169055                            Urea                    6.1   \n",
       "1         2169055                     Eosinophils                   0.00   \n",
       "2         2169055                            eGFR                     82   \n",
       "3         2169055                             INR                    1.1   \n",
       "4         2169055                          Sodium                    141   \n",
       "...           ...                             ...                    ...   \n",
       "42573     2169055            Respiratory Distress                    Nil   \n",
       "42574     2169055                Respiratory Rate                     18   \n",
       "42575     2169055      WCDC_Discharge Destination                   Home   \n",
       "42576     2169055       WCDC_GP Details Confirmed                    Yes   \n",
       "42577     2169055  WCDC_Discharge Summary Sent By  Document Distribution   \n",
       "\n",
       "                ORDER_DATETIME       PERFORMED_DATETIME NORMAL_LOW  \\\n",
       "0      2016-09-29 12:24:44.000  2016-09-29 15:20:41.000        2.5   \n",
       "1      2016-10-08 09:09:11.000  2016-10-08 09:59:52.000       0.00   \n",
       "2      2016-09-29 12:24:44.000  2016-09-29 15:20:42.000       >=90   \n",
       "3      2016-09-29 12:24:44.000  2016-09-29 15:23:15.000        0.9   \n",
       "4      2016-10-07 18:50:55.000  2016-10-08 10:10:41.000        135   \n",
       "...                        ...                      ...        ...   \n",
       "42573                      NaN  2021-05-04 17:50:13.000        NaN   \n",
       "42574                      NaN  2021-05-04 17:50:13.000         11   \n",
       "42575                      NaN  2021-05-04 20:09:24.000        NaN   \n",
       "42576                      NaN  2021-05-04 20:09:24.000        NaN   \n",
       "42577                      NaN  2021-05-04 20:09:24.000        NaN   \n",
       "\n",
       "      NORMAL_HIGH CRITICAL_LOW CRITICAL_HIGH  \n",
       "0             7.2                      >30.0  \n",
       "1            0.50                             \n",
       "2                                             \n",
       "3             1.3                       >3.9  \n",
       "4             145          125           155  \n",
       "...           ...          ...           ...  \n",
       "42573         NaN          NaN           NaN  \n",
       "42574          24            6            36  \n",
       "42575         NaN          NaN           NaN  \n",
       "42576         NaN          NaN           NaN  \n",
       "42577         NaN          NaN           NaN  \n",
       "\n",
       "[42578 rows x 9 columns]"
      ]
     },
     "execution_count": 13,
     "metadata": {},
     "output_type": "execute_result"
    }
   ],
   "source": [
    "dataDf"
   ]
  },
  {
   "cell_type": "code",
   "execution_count": 86,
   "metadata": {},
   "outputs": [],
   "source": [
    "dataDf['PERFORMED_DATETIME'] = dataDf['PERFORMED_DATETIME'].apply(lambda x : pd.to_datetime(str(x)))\n",
    "dataDf['PERFORMED_DATE'] = dataDf.PERFORMED_DATETIME.dt.date"
   ]
  },
  {
   "cell_type": "markdown",
   "metadata": {},
   "source": [
    "## Vital Type Bar Plot"
   ]
  },
  {
   "cell_type": "code",
   "execution_count": 14,
   "metadata": {},
   "outputs": [
    {
     "data": {
      "text/plain": [
       "1825"
      ]
     },
     "execution_count": 14,
     "metadata": {},
     "output_type": "execute_result"
    }
   ],
   "source": [
    "len(dataDf.TYPE.unique())"
   ]
  },
  {
   "cell_type": "code",
   "execution_count": 39,
   "metadata": {},
   "outputs": [],
   "source": [
    "def is_number(s):\n",
    "    try:\n",
    "        float(s)\n",
    "        return True\n",
    "    except ValueError:\n",
    "        return False"
   ]
  },
  {
   "cell_type": "code",
   "execution_count": 48,
   "metadata": {},
   "outputs": [],
   "source": [
    "numericIndicies = [is_number(str(r)) for r in dataDf.RESULT]"
   ]
  },
  {
   "cell_type": "code",
   "execution_count": 55,
   "metadata": {},
   "outputs": [],
   "source": [
    "dataDf['IS_NUMERIC'] = numericIndicies"
   ]
  },
  {
   "cell_type": "code",
   "execution_count": 67,
   "metadata": {},
   "outputs": [],
   "source": [
    "typeValueCounts = dataDf[dataDf.IS_NUMERIC].TYPE.value_counts()"
   ]
  },
  {
   "cell_type": "code",
   "execution_count": 79,
   "metadata": {},
   "outputs": [
    {
     "data": {
      "text/plain": [
       "SpO2                                   582\n",
       "Respiratory Rate                       582\n",
       "Diastolic Blood Pressure               553\n",
       "Systolic Blood Pressure                548\n",
       "Temperature Temporal                   411\n",
       "                                      ... \n",
       "Urine Erythrocytes                       1\n",
       "sodium phosphate                         1\n",
       "Estimated Intake EN Protein Per Min      1\n",
       "Estimated Intake EN Protein              1\n",
       "bvc_total_score                          1\n",
       "Name: TYPE, Length: 457, dtype: int64"
      ]
     },
     "execution_count": 79,
     "metadata": {},
     "output_type": "execute_result"
    }
   ],
   "source": [
    "typeValueCounts"
   ]
  },
  {
   "cell_type": "code",
   "execution_count": 80,
   "metadata": {},
   "outputs": [],
   "source": [
    "typeValueCounts.to_csv('../../data/unique_types.csv')"
   ]
  },
  {
   "cell_type": "markdown",
   "metadata": {},
   "source": [
    "## Heart Rate"
   ]
  },
  {
   "cell_type": "code",
   "execution_count": 114,
   "metadata": {},
   "outputs": [
    {
     "data": {
      "text/html": [
       "<div>\n",
       "<style scoped>\n",
       "    .dataframe tbody tr th:only-of-type {\n",
       "        vertical-align: middle;\n",
       "    }\n",
       "\n",
       "    .dataframe tbody tr th {\n",
       "        vertical-align: top;\n",
       "    }\n",
       "\n",
       "    .dataframe thead th {\n",
       "        text-align: right;\n",
       "    }\n",
       "</style>\n",
       "<table border=\"1\" class=\"dataframe\">\n",
       "  <thead>\n",
       "    <tr style=\"text-align: right;\">\n",
       "      <th></th>\n",
       "      <th>PATIENT_ID</th>\n",
       "      <th>TYPE</th>\n",
       "      <th>RESULT</th>\n",
       "      <th>ORDER_DATETIME</th>\n",
       "      <th>PERFORMED_DATETIME</th>\n",
       "      <th>NORMAL_LOW</th>\n",
       "      <th>NORMAL_HIGH</th>\n",
       "      <th>CRITICAL_LOW</th>\n",
       "      <th>CRITICAL_HIGH</th>\n",
       "      <th>IS_NUMERIC</th>\n",
       "      <th>PERFORMED_DATE</th>\n",
       "    </tr>\n",
       "  </thead>\n",
       "  <tbody>\n",
       "    <tr>\n",
       "      <th>3931</th>\n",
       "      <td>2169055</td>\n",
       "      <td>Heart Rate Monitored</td>\n",
       "      <td>46</td>\n",
       "      <td>NaN</td>\n",
       "      <td>2019-07-25 09:31:30</td>\n",
       "      <td>51</td>\n",
       "      <td>119</td>\n",
       "      <td>40</td>\n",
       "      <td>140</td>\n",
       "      <td>True</td>\n",
       "      <td>2019-07-25</td>\n",
       "    </tr>\n",
       "    <tr>\n",
       "      <th>3932</th>\n",
       "      <td>2169055</td>\n",
       "      <td>Heart Rate Monitored</td>\n",
       "      <td>50</td>\n",
       "      <td>NaN</td>\n",
       "      <td>2019-07-25 09:56:35</td>\n",
       "      <td>51</td>\n",
       "      <td>119</td>\n",
       "      <td>40</td>\n",
       "      <td>140</td>\n",
       "      <td>True</td>\n",
       "      <td>2019-07-25</td>\n",
       "    </tr>\n",
       "    <tr>\n",
       "      <th>3936</th>\n",
       "      <td>2169055</td>\n",
       "      <td>Heart Rate Monitored</td>\n",
       "      <td>46</td>\n",
       "      <td>NaN</td>\n",
       "      <td>2019-07-25 10:32:35</td>\n",
       "      <td>51</td>\n",
       "      <td>119</td>\n",
       "      <td>40</td>\n",
       "      <td>140</td>\n",
       "      <td>True</td>\n",
       "      <td>2019-07-25</td>\n",
       "    </tr>\n",
       "    <tr>\n",
       "      <th>4000</th>\n",
       "      <td>2169055</td>\n",
       "      <td>Heart Rate Monitored</td>\n",
       "      <td>46</td>\n",
       "      <td>NaN</td>\n",
       "      <td>2019-07-25 09:31:54</td>\n",
       "      <td>51</td>\n",
       "      <td>119</td>\n",
       "      <td>40</td>\n",
       "      <td>140</td>\n",
       "      <td>True</td>\n",
       "      <td>2019-07-25</td>\n",
       "    </tr>\n",
       "    <tr>\n",
       "      <th>4001</th>\n",
       "      <td>2169055</td>\n",
       "      <td>Heart Rate Monitored</td>\n",
       "      <td>44</td>\n",
       "      <td>NaN</td>\n",
       "      <td>2019-07-25 09:42:05</td>\n",
       "      <td>51</td>\n",
       "      <td>119</td>\n",
       "      <td>40</td>\n",
       "      <td>140</td>\n",
       "      <td>True</td>\n",
       "      <td>2019-07-25</td>\n",
       "    </tr>\n",
       "    <tr>\n",
       "      <th>...</th>\n",
       "      <td>...</td>\n",
       "      <td>...</td>\n",
       "      <td>...</td>\n",
       "      <td>...</td>\n",
       "      <td>...</td>\n",
       "      <td>...</td>\n",
       "      <td>...</td>\n",
       "      <td>...</td>\n",
       "      <td>...</td>\n",
       "      <td>...</td>\n",
       "      <td>...</td>\n",
       "    </tr>\n",
       "    <tr>\n",
       "      <th>39571</th>\n",
       "      <td>2169055</td>\n",
       "      <td>Heart Rate Monitored</td>\n",
       "      <td>67</td>\n",
       "      <td>NaN</td>\n",
       "      <td>2021-04-14 01:01:29</td>\n",
       "      <td>51</td>\n",
       "      <td>119</td>\n",
       "      <td>40</td>\n",
       "      <td>140</td>\n",
       "      <td>True</td>\n",
       "      <td>2021-04-14</td>\n",
       "    </tr>\n",
       "    <tr>\n",
       "      <th>39976</th>\n",
       "      <td>2169055</td>\n",
       "      <td>Heart Rate Monitored</td>\n",
       "      <td>66</td>\n",
       "      <td>NaN</td>\n",
       "      <td>2021-04-14 22:35:41</td>\n",
       "      <td>51</td>\n",
       "      <td>119</td>\n",
       "      <td>40</td>\n",
       "      <td>140</td>\n",
       "      <td>True</td>\n",
       "      <td>2021-04-14</td>\n",
       "    </tr>\n",
       "    <tr>\n",
       "      <th>41794</th>\n",
       "      <td>2169055</td>\n",
       "      <td>Heart Rate Monitored</td>\n",
       "      <td>78</td>\n",
       "      <td>NaN</td>\n",
       "      <td>2021-04-20 14:03:44</td>\n",
       "      <td>51</td>\n",
       "      <td>119</td>\n",
       "      <td>40</td>\n",
       "      <td>140</td>\n",
       "      <td>True</td>\n",
       "      <td>2021-04-20</td>\n",
       "    </tr>\n",
       "    <tr>\n",
       "      <th>41921</th>\n",
       "      <td>2169055</td>\n",
       "      <td>Heart Rate Monitored</td>\n",
       "      <td>74</td>\n",
       "      <td>NaN</td>\n",
       "      <td>2021-04-20 21:59:37</td>\n",
       "      <td>51</td>\n",
       "      <td>119</td>\n",
       "      <td>40</td>\n",
       "      <td>140</td>\n",
       "      <td>True</td>\n",
       "      <td>2021-04-20</td>\n",
       "    </tr>\n",
       "    <tr>\n",
       "      <th>42328</th>\n",
       "      <td>2169055</td>\n",
       "      <td>Heart Rate Monitored</td>\n",
       "      <td>78</td>\n",
       "      <td>NaN</td>\n",
       "      <td>2021-05-03 05:38:10</td>\n",
       "      <td>51</td>\n",
       "      <td>119</td>\n",
       "      <td>40</td>\n",
       "      <td>140</td>\n",
       "      <td>True</td>\n",
       "      <td>2021-05-03</td>\n",
       "    </tr>\n",
       "  </tbody>\n",
       "</table>\n",
       "<p>365 rows × 11 columns</p>\n",
       "</div>"
      ],
      "text/plain": [
       "       PATIENT_ID                  TYPE RESULT ORDER_DATETIME  \\\n",
       "3931      2169055  Heart Rate Monitored     46            NaN   \n",
       "3932      2169055  Heart Rate Monitored     50            NaN   \n",
       "3936      2169055  Heart Rate Monitored     46            NaN   \n",
       "4000      2169055  Heart Rate Monitored     46            NaN   \n",
       "4001      2169055  Heart Rate Monitored     44            NaN   \n",
       "...           ...                   ...    ...            ...   \n",
       "39571     2169055  Heart Rate Monitored     67            NaN   \n",
       "39976     2169055  Heart Rate Monitored     66            NaN   \n",
       "41794     2169055  Heart Rate Monitored     78            NaN   \n",
       "41921     2169055  Heart Rate Monitored     74            NaN   \n",
       "42328     2169055  Heart Rate Monitored     78            NaN   \n",
       "\n",
       "       PERFORMED_DATETIME NORMAL_LOW NORMAL_HIGH CRITICAL_LOW CRITICAL_HIGH  \\\n",
       "3931  2019-07-25 09:31:30         51         119           40           140   \n",
       "3932  2019-07-25 09:56:35         51         119           40           140   \n",
       "3936  2019-07-25 10:32:35         51         119           40           140   \n",
       "4000  2019-07-25 09:31:54         51         119           40           140   \n",
       "4001  2019-07-25 09:42:05         51         119           40           140   \n",
       "...                   ...        ...         ...          ...           ...   \n",
       "39571 2021-04-14 01:01:29         51         119           40           140   \n",
       "39976 2021-04-14 22:35:41         51         119           40           140   \n",
       "41794 2021-04-20 14:03:44         51         119           40           140   \n",
       "41921 2021-04-20 21:59:37         51         119           40           140   \n",
       "42328 2021-05-03 05:38:10         51         119           40           140   \n",
       "\n",
       "       IS_NUMERIC PERFORMED_DATE  \n",
       "3931         True     2019-07-25  \n",
       "3932         True     2019-07-25  \n",
       "3936         True     2019-07-25  \n",
       "4000         True     2019-07-25  \n",
       "4001         True     2019-07-25  \n",
       "...           ...            ...  \n",
       "39571        True     2021-04-14  \n",
       "39976        True     2021-04-14  \n",
       "41794        True     2021-04-20  \n",
       "41921        True     2021-04-20  \n",
       "42328        True     2021-05-03  \n",
       "\n",
       "[365 rows x 11 columns]"
      ]
     },
     "execution_count": 114,
     "metadata": {},
     "output_type": "execute_result"
    }
   ],
   "source": [
    "heartRateDf = dataDf[dataDf.TYPE == 'Heart Rate Monitored']\n",
    "heartRateDf"
   ]
  },
  {
   "cell_type": "code",
   "execution_count": 115,
   "metadata": {},
   "outputs": [
    {
     "name": "stderr",
     "output_type": "stream",
     "text": [
      "/tmp/ipykernel_4193604/3253715514.py:1: SettingWithCopyWarning: \n",
      "A value is trying to be set on a copy of a slice from a DataFrame.\n",
      "Try using .loc[row_indexer,col_indexer] = value instead\n",
      "\n",
      "See the caveats in the documentation: https://pandas.pydata.org/pandas-docs/stable/user_guide/indexing.html#returning-a-view-versus-a-copy\n",
      "  heartRateDf['RESULT'] = heartRateDf['RESULT'].astype(float)\n"
     ]
    }
   ],
   "source": [
    "heartRateDf['RESULT'] = heartRateDf['RESULT'].astype(float)"
   ]
  },
  {
   "cell_type": "code",
   "execution_count": 116,
   "metadata": {},
   "outputs": [
    {
     "data": {
      "text/plain": [
       "{'whiskers': [<matplotlib.lines.Line2D at 0x7f07e5569760>,\n",
       "  <matplotlib.lines.Line2D at 0x7f07e5569af0>],\n",
       " 'caps': [<matplotlib.lines.Line2D at 0x7f07e5569e80>,\n",
       "  <matplotlib.lines.Line2D at 0x7f07e5577250>],\n",
       " 'boxes': [<matplotlib.lines.Line2D at 0x7f07e55693d0>],\n",
       " 'medians': [<matplotlib.lines.Line2D at 0x7f07e55775e0>],\n",
       " 'fliers': [<matplotlib.lines.Line2D at 0x7f07e5577970>],\n",
       " 'means': []}"
      ]
     },
     "execution_count": 116,
     "metadata": {},
     "output_type": "execute_result"
    },
    {
     "data": {
      "image/png": "[encoded data removed]",
      "text/plain": [
       "<Figure size 432x288 with 1 Axes>"
      ]
     },
     "metadata": {
      "needs_background": "light"
     },
     "output_type": "display_data"
    }
   ],
   "source": [
    "plt.boxplot(heartRateDf.RESULT)"
   ]
  },
  {
   "cell_type": "code",
   "execution_count": 117,
   "metadata": {},
   "outputs": [
    {
     "data": {
      "text/plain": [
       "{'bodies': [<matplotlib.collections.PolyCollection at 0x7f07e54c8d00>],\n",
       " 'cmaxes': <matplotlib.collections.LineCollection at 0x7f07e5547760>,\n",
       " 'cmins': <matplotlib.collections.LineCollection at 0x7f07e54d8250>,\n",
       " 'cbars': <matplotlib.collections.LineCollection at 0x7f07e54d8580>}"
      ]
     },
     "execution_count": 117,
     "metadata": {},
     "output_type": "execute_result"
    },
    {
     "data": {
      "image/png": "[encoded data removed]",
      "text/plain": [
       "<Figure size 432x288 with 1 Axes>"
      ]
     },
     "metadata": {
      "needs_background": "light"
     },
     "output_type": "display_data"
    }
   ],
   "source": [
    "plt.violinplot(heartRateDf.RESULT)"
   ]
  },
  {
   "cell_type": "code",
   "execution_count": 118,
   "metadata": {},
   "outputs": [
    {
     "data": {
      "text/plain": [
       "2020-11-27    47\n",
       "2020-11-28    25\n",
       "2020-11-29    21\n",
       "2020-11-26    20\n",
       "2020-11-30    19\n",
       "              ..\n",
       "2021-02-09     1\n",
       "2021-02-08     1\n",
       "2021-02-07     1\n",
       "2021-02-04     1\n",
       "2021-05-03     1\n",
       "Name: PERFORMED_DATE, Length: 81, dtype: int64"
      ]
     },
     "execution_count": 118,
     "metadata": {},
     "output_type": "execute_result"
    }
   ],
   "source": [
    "heartRateValueCounts = heartRateDf.PERFORMED_DATE.value_counts()\n",
    "heartRateValueCounts"
   ]
  },
  {
   "cell_type": "code",
   "execution_count": 119,
   "metadata": {},
   "outputs": [
    {
     "data": {
      "text/plain": [
       "<BarContainer object of 81 artists>"
      ]
     },
     "execution_count": 119,
     "metadata": {},
     "output_type": "execute_result"
    },
    {
     "data": {
      "image/png": "[encoded data removed]",
      "text/plain": [
       "<Figure size 864x432 with 1 Axes>"
      ]
     },
     "metadata": {
      "needs_background": "light"
     },
     "output_type": "display_data"
    }
   ],
   "source": [
    "plt.figure(figsize=(12, 6))\n",
    "plt.title('Date wise counts of Heart Rate values')\n",
    "plt.xlabel('Performed Date')\n",
    "plt.ylabel('Count')\n",
    "plt.bar(x = heartRateValueCounts.index, height = heartRateValueCounts)"
   ]
  },
  {
   "cell_type": "code",
   "execution_count": 122,
   "metadata": {},
   "outputs": [
    {
     "data": {
      "text/plain": [
       "PERFORMED_DATE\n",
       "2019-07-25    49.428571\n",
       "2020-11-25    56.000000\n",
       "2020-11-26    51.800000\n",
       "2020-11-27    49.127660\n",
       "2020-11-28    43.880000\n",
       "                ...    \n",
       "2021-04-12    84.000000\n",
       "2021-04-13    80.300000\n",
       "2021-04-14    66.000000\n",
       "2021-04-20    76.000000\n",
       "2021-05-03    78.000000\n",
       "Name: RESULT, Length: 81, dtype: float64"
      ]
     },
     "execution_count": 122,
     "metadata": {},
     "output_type": "execute_result"
    }
   ],
   "source": [
    "heartRateValueMeans = heartRateDf.groupby('PERFORMED_DATE').RESULT.mean()\n",
    "heartRateValueMeans"
   ]
  },
  {
   "cell_type": "code",
   "execution_count": 163,
   "metadata": {},
   "outputs": [
    {
     "data": {
      "text/plain": [
       "[<matplotlib.lines.Line2D at 0x7f07b00d7370>]"
      ]
     },
     "execution_count": 163,
     "metadata": {},
     "output_type": "execute_result"
    },
    {
     "data": {
      "image/png": "[encoded data removed]",
      "text/plain": [
       "<Figure size 864x432 with 1 Axes>"
      ]
     },
     "metadata": {
      "needs_background": "light"
     },
     "output_type": "display_data"
    }
   ],
   "source": [
    "plt.figure(figsize=(12, 6))\n",
    "plt.title('Date wise Average of Heart Rate values')\n",
    "plt.xlabel('Performed Date')\n",
    "plt.ylabel('Count')\n",
    "plt.plot(heartRateValueMeans.index, heartRateValueMeans)"
   ]
  },
  {
   "cell_type": "markdown",
   "metadata": {},
   "source": [
    "## Temperature"
   ]
  },
  {
   "cell_type": "code",
   "execution_count": 156,
   "metadata": {},
   "outputs": [
    {
     "data": {
      "text/html": [
       "<div>\n",
       "<style scoped>\n",
       "    .dataframe tbody tr th:only-of-type {\n",
       "        vertical-align: middle;\n",
       "    }\n",
       "\n",
       "    .dataframe tbody tr th {\n",
       "        vertical-align: top;\n",
       "    }\n",
       "\n",
       "    .dataframe thead th {\n",
       "        text-align: right;\n",
       "    }\n",
       "</style>\n",
       "<table border=\"1\" class=\"dataframe\">\n",
       "  <thead>\n",
       "    <tr style=\"text-align: right;\">\n",
       "      <th></th>\n",
       "      <th>PATIENT_ID</th>\n",
       "      <th>TYPE</th>\n",
       "      <th>RESULT</th>\n",
       "      <th>ORDER_DATETIME</th>\n",
       "      <th>PERFORMED_DATETIME</th>\n",
       "      <th>NORMAL_LOW</th>\n",
       "      <th>NORMAL_HIGH</th>\n",
       "      <th>CRITICAL_LOW</th>\n",
       "      <th>CRITICAL_HIGH</th>\n",
       "      <th>IS_NUMERIC</th>\n",
       "      <th>PERFORMED_DATE</th>\n",
       "    </tr>\n",
       "  </thead>\n",
       "  <tbody>\n",
       "    <tr>\n",
       "      <th>3839</th>\n",
       "      <td>2169055</td>\n",
       "      <td>Temperature Temporal</td>\n",
       "      <td>36.8</td>\n",
       "      <td>NaN</td>\n",
       "      <td>2019-07-25 10:06:17</td>\n",
       "      <td>35.5</td>\n",
       "      <td>38.3</td>\n",
       "      <td>NaN</td>\n",
       "      <td>NaN</td>\n",
       "      <td>True</td>\n",
       "      <td>2019-07-25</td>\n",
       "    </tr>\n",
       "    <tr>\n",
       "      <th>4104</th>\n",
       "      <td>2169055</td>\n",
       "      <td>Temperature Temporal</td>\n",
       "      <td>37.5</td>\n",
       "      <td>NaN</td>\n",
       "      <td>2019-07-25 10:32:35</td>\n",
       "      <td>35.5</td>\n",
       "      <td>38.3</td>\n",
       "      <td>NaN</td>\n",
       "      <td>NaN</td>\n",
       "      <td>True</td>\n",
       "      <td>2019-07-25</td>\n",
       "    </tr>\n",
       "    <tr>\n",
       "      <th>13165</th>\n",
       "      <td>2169055</td>\n",
       "      <td>Temperature Temporal</td>\n",
       "      <td>36.0</td>\n",
       "      <td>NaN</td>\n",
       "      <td>2020-11-28 11:02:08</td>\n",
       "      <td>35.5</td>\n",
       "      <td>38.3</td>\n",
       "      <td>NaN</td>\n",
       "      <td>NaN</td>\n",
       "      <td>True</td>\n",
       "      <td>2020-11-28</td>\n",
       "    </tr>\n",
       "    <tr>\n",
       "      <th>13223</th>\n",
       "      <td>2169055</td>\n",
       "      <td>Temperature Temporal</td>\n",
       "      <td>36.5</td>\n",
       "      <td>NaN</td>\n",
       "      <td>2020-11-28 13:10:36</td>\n",
       "      <td>35.5</td>\n",
       "      <td>38.3</td>\n",
       "      <td>NaN</td>\n",
       "      <td>NaN</td>\n",
       "      <td>True</td>\n",
       "      <td>2020-11-28</td>\n",
       "    </tr>\n",
       "    <tr>\n",
       "      <th>13341</th>\n",
       "      <td>2169055</td>\n",
       "      <td>Temperature Temporal</td>\n",
       "      <td>36.5</td>\n",
       "      <td>NaN</td>\n",
       "      <td>2020-11-28 16:03:16</td>\n",
       "      <td>35.5</td>\n",
       "      <td>38.3</td>\n",
       "      <td>NaN</td>\n",
       "      <td>NaN</td>\n",
       "      <td>True</td>\n",
       "      <td>2020-11-28</td>\n",
       "    </tr>\n",
       "    <tr>\n",
       "      <th>...</th>\n",
       "      <td>...</td>\n",
       "      <td>...</td>\n",
       "      <td>...</td>\n",
       "      <td>...</td>\n",
       "      <td>...</td>\n",
       "      <td>...</td>\n",
       "      <td>...</td>\n",
       "      <td>...</td>\n",
       "      <td>...</td>\n",
       "      <td>...</td>\n",
       "      <td>...</td>\n",
       "    </tr>\n",
       "    <tr>\n",
       "      <th>42434</th>\n",
       "      <td>2169055</td>\n",
       "      <td>Temperature Temporal</td>\n",
       "      <td>36.9</td>\n",
       "      <td>NaN</td>\n",
       "      <td>2021-05-04 05:40:15</td>\n",
       "      <td>35.5</td>\n",
       "      <td>38.3</td>\n",
       "      <td>NaN</td>\n",
       "      <td>NaN</td>\n",
       "      <td>True</td>\n",
       "      <td>2021-05-04</td>\n",
       "    </tr>\n",
       "    <tr>\n",
       "      <th>42460</th>\n",
       "      <td>2169055</td>\n",
       "      <td>Temperature Temporal</td>\n",
       "      <td>36.4</td>\n",
       "      <td>NaN</td>\n",
       "      <td>2021-05-04 08:22:56</td>\n",
       "      <td>35.5</td>\n",
       "      <td>38.3</td>\n",
       "      <td>NaN</td>\n",
       "      <td>NaN</td>\n",
       "      <td>True</td>\n",
       "      <td>2021-05-04</td>\n",
       "    </tr>\n",
       "    <tr>\n",
       "      <th>42506</th>\n",
       "      <td>2169055</td>\n",
       "      <td>Temperature Temporal</td>\n",
       "      <td>36.2</td>\n",
       "      <td>NaN</td>\n",
       "      <td>2021-05-04 10:34:11</td>\n",
       "      <td>35.5</td>\n",
       "      <td>38.3</td>\n",
       "      <td>NaN</td>\n",
       "      <td>NaN</td>\n",
       "      <td>True</td>\n",
       "      <td>2021-05-04</td>\n",
       "    </tr>\n",
       "    <tr>\n",
       "      <th>42531</th>\n",
       "      <td>2169055</td>\n",
       "      <td>Temperature Temporal</td>\n",
       "      <td>35.6</td>\n",
       "      <td>NaN</td>\n",
       "      <td>2021-05-04 14:18:53</td>\n",
       "      <td>35.5</td>\n",
       "      <td>38.3</td>\n",
       "      <td>NaN</td>\n",
       "      <td>NaN</td>\n",
       "      <td>True</td>\n",
       "      <td>2021-05-04</td>\n",
       "    </tr>\n",
       "    <tr>\n",
       "      <th>42568</th>\n",
       "      <td>2169055</td>\n",
       "      <td>Temperature Temporal</td>\n",
       "      <td>36.3</td>\n",
       "      <td>NaN</td>\n",
       "      <td>2021-05-04 17:50:13</td>\n",
       "      <td>35.5</td>\n",
       "      <td>38.3</td>\n",
       "      <td>NaN</td>\n",
       "      <td>NaN</td>\n",
       "      <td>True</td>\n",
       "      <td>2021-05-04</td>\n",
       "    </tr>\n",
       "  </tbody>\n",
       "</table>\n",
       "<p>411 rows × 11 columns</p>\n",
       "</div>"
      ],
      "text/plain": [
       "       PATIENT_ID                  TYPE RESULT ORDER_DATETIME  \\\n",
       "3839      2169055  Temperature Temporal   36.8            NaN   \n",
       "4104      2169055  Temperature Temporal   37.5            NaN   \n",
       "13165     2169055  Temperature Temporal   36.0            NaN   \n",
       "13223     2169055  Temperature Temporal   36.5            NaN   \n",
       "13341     2169055  Temperature Temporal   36.5            NaN   \n",
       "...           ...                   ...    ...            ...   \n",
       "42434     2169055  Temperature Temporal   36.9            NaN   \n",
       "42460     2169055  Temperature Temporal   36.4            NaN   \n",
       "42506     2169055  Temperature Temporal   36.2            NaN   \n",
       "42531     2169055  Temperature Temporal   35.6            NaN   \n",
       "42568     2169055  Temperature Temporal   36.3            NaN   \n",
       "\n",
       "       PERFORMED_DATETIME NORMAL_LOW NORMAL_HIGH CRITICAL_LOW CRITICAL_HIGH  \\\n",
       "3839  2019-07-25 10:06:17       35.5        38.3          NaN           NaN   \n",
       "4104  2019-07-25 10:32:35       35.5        38.3          NaN           NaN   \n",
       "13165 2020-11-28 11:02:08       35.5        38.3          NaN           NaN   \n",
       "13223 2020-11-28 13:10:36       35.5        38.3          NaN           NaN   \n",
       "13341 2020-11-28 16:03:16       35.5        38.3          NaN           NaN   \n",
       "...                   ...        ...         ...          ...           ...   \n",
       "42434 2021-05-04 05:40:15       35.5        38.3          NaN           NaN   \n",
       "42460 2021-05-04 08:22:56       35.5        38.3          NaN           NaN   \n",
       "42506 2021-05-04 10:34:11       35.5        38.3          NaN           NaN   \n",
       "42531 2021-05-04 14:18:53       35.5        38.3          NaN           NaN   \n",
       "42568 2021-05-04 17:50:13       35.5        38.3          NaN           NaN   \n",
       "\n",
       "       IS_NUMERIC PERFORMED_DATE  \n",
       "3839         True     2019-07-25  \n",
       "4104         True     2019-07-25  \n",
       "13165        True     2020-11-28  \n",
       "13223        True     2020-11-28  \n",
       "13341        True     2020-11-28  \n",
       "...           ...            ...  \n",
       "42434        True     2021-05-04  \n",
       "42460        True     2021-05-04  \n",
       "42506        True     2021-05-04  \n",
       "42531        True     2021-05-04  \n",
       "42568        True     2021-05-04  \n",
       "\n",
       "[411 rows x 11 columns]"
      ]
     },
     "execution_count": 156,
     "metadata": {},
     "output_type": "execute_result"
    }
   ],
   "source": [
    "temperatureRateDf = dataDf[dataDf.TYPE == 'Temperature Temporal']\n",
    "temperatureRateDf"
   ]
  },
  {
   "cell_type": "code",
   "execution_count": 157,
   "metadata": {},
   "outputs": [
    {
     "name": "stderr",
     "output_type": "stream",
     "text": [
      "/tmp/ipykernel_4193604/1869672491.py:1: SettingWithCopyWarning: \n",
      "A value is trying to be set on a copy of a slice from a DataFrame.\n",
      "Try using .loc[row_indexer,col_indexer] = value instead\n",
      "\n",
      "See the caveats in the documentation: https://pandas.pydata.org/pandas-docs/stable/user_guide/indexing.html#returning-a-view-versus-a-copy\n",
      "  temperatureRateDf['RESULT'] = temperatureRateDf['RESULT'].astype(float)\n"
     ]
    }
   ],
   "source": [
    "temperatureRateDf['RESULT'] = temperatureRateDf['RESULT'].astype(float)"
   ]
  },
  {
   "cell_type": "code",
   "execution_count": 158,
   "metadata": {},
   "outputs": [
    {
     "data": {
      "text/plain": [
       "{'whiskers': [<matplotlib.lines.Line2D at 0x7f07b02da1c0>,\n",
       "  <matplotlib.lines.Line2D at 0x7f07b02da550>],\n",
       " 'caps': [<matplotlib.lines.Line2D at 0x7f07b02da8e0>,\n",
       "  <matplotlib.lines.Line2D at 0x7f07b02dac70>],\n",
       " 'boxes': [<matplotlib.lines.Line2D at 0x7f07b02ccdf0>],\n",
       " 'medians': [<matplotlib.lines.Line2D at 0x7f07b02e4040>],\n",
       " 'fliers': [<matplotlib.lines.Line2D at 0x7f07b02e43d0>],\n",
       " 'means': []}"
      ]
     },
     "execution_count": 158,
     "metadata": {},
     "output_type": "execute_result"
    },
    {
     "data": {
      "image/png": "[encoded data removed]",
      "text/plain": [
       "<Figure size 432x288 with 1 Axes>"
      ]
     },
     "metadata": {
      "needs_background": "light"
     },
     "output_type": "display_data"
    }
   ],
   "source": [
    "plt.boxplot(temperatureRateDf.RESULT)"
   ]
  },
  {
   "cell_type": "code",
   "execution_count": 159,
   "metadata": {},
   "outputs": [
    {
     "data": {
      "text/plain": [
       "{'bodies': [<matplotlib.collections.PolyCollection at 0x7f07b02bb1c0>],\n",
       " 'cmaxes': <matplotlib.collections.LineCollection at 0x7f07b037f700>,\n",
       " 'cmins': <matplotlib.collections.LineCollection at 0x7f07b02bb6d0>,\n",
       " 'cbars': <matplotlib.collections.LineCollection at 0x7f07b02bba00>}"
      ]
     },
     "execution_count": 159,
     "metadata": {},
     "output_type": "execute_result"
    },
    {
     "data": {
      "image/png": "[encoded data removed]",
      "text/plain": [
       "<Figure size 432x288 with 1 Axes>"
      ]
     },
     "metadata": {
      "needs_background": "light"
     },
     "output_type": "display_data"
    }
   ],
   "source": [
    "plt.violinplot(temperatureRateDf.RESULT)"
   ]
  },
  {
   "cell_type": "code",
   "execution_count": 160,
   "metadata": {},
   "outputs": [
    {
     "data": {
      "text/plain": [
       "2021-04-13    10\n",
       "2021-04-17     9\n",
       "2020-12-01     9\n",
       "2021-03-02     8\n",
       "2021-03-29     8\n",
       "              ..\n",
       "2021-02-11     1\n",
       "2021-02-12     1\n",
       "2021-02-13     1\n",
       "2021-02-14     1\n",
       "2021-02-09     1\n",
       "Name: PERFORMED_DATE, Length: 121, dtype: int64"
      ]
     },
     "execution_count": 160,
     "metadata": {},
     "output_type": "execute_result"
    }
   ],
   "source": [
    "temperatureValueCounts = temperatureRateDf.PERFORMED_DATE.value_counts()\n",
    "temperatureValueCounts"
   ]
  },
  {
   "cell_type": "code",
   "execution_count": 161,
   "metadata": {},
   "outputs": [
    {
     "data": {
      "text/plain": [
       "<BarContainer object of 121 artists>"
      ]
     },
     "execution_count": 161,
     "metadata": {},
     "output_type": "execute_result"
    },
    {
     "data": {
      "image/png": "[encoded data removed]",
      "text/plain": [
       "<Figure size 864x432 with 1 Axes>"
      ]
     },
     "metadata": {
      "needs_background": "light"
     },
     "output_type": "display_data"
    }
   ],
   "source": [
    "plt.figure(figsize=(12, 6))\n",
    "plt.title('Date wise counts of Temperature values')\n",
    "plt.xlabel('Performed Date')\n",
    "plt.ylabel('Count')\n",
    "plt.bar(x = temperatureValueCounts.index, height = temperatureValueCounts)"
   ]
  },
  {
   "cell_type": "code",
   "execution_count": 162,
   "metadata": {},
   "outputs": [
    {
     "data": {
      "text/plain": [
       "PERFORMED_DATE\n",
       "2019-07-25    37.150000\n",
       "2020-11-28    36.325000\n",
       "2020-11-29    36.883333\n",
       "2020-11-30    37.250000\n",
       "2020-12-01    36.988889\n",
       "                ...    \n",
       "2021-04-20    36.200000\n",
       "2021-04-21    36.466667\n",
       "2021-04-22    36.200000\n",
       "2021-05-03    36.533333\n",
       "2021-05-04    36.280000\n",
       "Name: RESULT, Length: 121, dtype: float64"
      ]
     },
     "execution_count": 162,
     "metadata": {},
     "output_type": "execute_result"
    }
   ],
   "source": [
    "temperatureValueMeans = temperatureRateDf.groupby('PERFORMED_DATE').RESULT.mean()\n",
    "temperatureValueMeans"
   ]
  },
  {
   "cell_type": "code",
   "execution_count": 164,
   "metadata": {},
   "outputs": [
    {
     "data": {
      "text/plain": [
       "[<matplotlib.lines.Line2D at 0x7f07b00bc490>]"
      ]
     },
     "execution_count": 164,
     "metadata": {},
     "output_type": "execute_result"
    },
    {
     "data": {
      "image/png": "[encoded data removed]",
      "text/plain": [
       "<Figure size 864x432 with 1 Axes>"
      ]
     },
     "metadata": {
      "needs_background": "light"
     },
     "output_type": "display_data"
    }
   ],
   "source": [
    "plt.figure(figsize=(12, 6))\n",
    "plt.title('Date wise average of Temperature values')\n",
    "plt.xlabel('Performed Date')\n",
    "plt.ylabel('Count')\n",
    "plt.plot(temperatureValueMeans.index, temperatureValueMeans)"
   ]
  },
  {
   "cell_type": "markdown",
   "metadata": {},
   "source": [
    "## Respiratory Rate"
   ]
  },
  {
   "cell_type": "code",
   "execution_count": 165,
   "metadata": {},
   "outputs": [
    {
     "data": {
      "text/html": [
       "<div>\n",
       "<style scoped>\n",
       "    .dataframe tbody tr th:only-of-type {\n",
       "        vertical-align: middle;\n",
       "    }\n",
       "\n",
       "    .dataframe tbody tr th {\n",
       "        vertical-align: top;\n",
       "    }\n",
       "\n",
       "    .dataframe thead th {\n",
       "        text-align: right;\n",
       "    }\n",
       "</style>\n",
       "<table border=\"1\" class=\"dataframe\">\n",
       "  <thead>\n",
       "    <tr style=\"text-align: right;\">\n",
       "      <th></th>\n",
       "      <th>PATIENT_ID</th>\n",
       "      <th>TYPE</th>\n",
       "      <th>RESULT</th>\n",
       "      <th>ORDER_DATETIME</th>\n",
       "      <th>PERFORMED_DATETIME</th>\n",
       "      <th>NORMAL_LOW</th>\n",
       "      <th>NORMAL_HIGH</th>\n",
       "      <th>CRITICAL_LOW</th>\n",
       "      <th>CRITICAL_HIGH</th>\n",
       "      <th>IS_NUMERIC</th>\n",
       "      <th>PERFORMED_DATE</th>\n",
       "    </tr>\n",
       "  </thead>\n",
       "  <tbody>\n",
       "    <tr>\n",
       "      <th>397</th>\n",
       "      <td>2169055</td>\n",
       "      <td>Respiratory Rate</td>\n",
       "      <td>20</td>\n",
       "      <td>NaN</td>\n",
       "      <td>2016-09-29 14:40:48</td>\n",
       "      <td>14</td>\n",
       "      <td>20</td>\n",
       "      <td></td>\n",
       "      <td></td>\n",
       "      <td>True</td>\n",
       "      <td>2016-09-29</td>\n",
       "    </tr>\n",
       "    <tr>\n",
       "      <th>3840</th>\n",
       "      <td>2169055</td>\n",
       "      <td>Respiratory Rate</td>\n",
       "      <td>16</td>\n",
       "      <td>NaN</td>\n",
       "      <td>2019-07-25 10:06:17</td>\n",
       "      <td>11</td>\n",
       "      <td>24</td>\n",
       "      <td>6</td>\n",
       "      <td>36</td>\n",
       "      <td>True</td>\n",
       "      <td>2019-07-25</td>\n",
       "    </tr>\n",
       "    <tr>\n",
       "      <th>3881</th>\n",
       "      <td>2169055</td>\n",
       "      <td>Respiratory Rate</td>\n",
       "      <td>12</td>\n",
       "      <td>NaN</td>\n",
       "      <td>2019-07-25 09:41:57</td>\n",
       "      <td>11</td>\n",
       "      <td>24</td>\n",
       "      <td>6</td>\n",
       "      <td>36</td>\n",
       "      <td>True</td>\n",
       "      <td>2019-07-25</td>\n",
       "    </tr>\n",
       "    <tr>\n",
       "      <th>3901</th>\n",
       "      <td>2169055</td>\n",
       "      <td>Respiratory Rate</td>\n",
       "      <td>14</td>\n",
       "      <td>NaN</td>\n",
       "      <td>2019-07-25 08:58:09</td>\n",
       "      <td>11</td>\n",
       "      <td>24</td>\n",
       "      <td>6</td>\n",
       "      <td>36</td>\n",
       "      <td>True</td>\n",
       "      <td>2019-07-25</td>\n",
       "    </tr>\n",
       "    <tr>\n",
       "      <th>3925</th>\n",
       "      <td>2169055</td>\n",
       "      <td>Respiratory Rate</td>\n",
       "      <td>12</td>\n",
       "      <td>NaN</td>\n",
       "      <td>2019-07-25 09:56:27</td>\n",
       "      <td>11</td>\n",
       "      <td>24</td>\n",
       "      <td>6</td>\n",
       "      <td>36</td>\n",
       "      <td>True</td>\n",
       "      <td>2019-07-25</td>\n",
       "    </tr>\n",
       "    <tr>\n",
       "      <th>...</th>\n",
       "      <td>...</td>\n",
       "      <td>...</td>\n",
       "      <td>...</td>\n",
       "      <td>...</td>\n",
       "      <td>...</td>\n",
       "      <td>...</td>\n",
       "      <td>...</td>\n",
       "      <td>...</td>\n",
       "      <td>...</td>\n",
       "      <td>...</td>\n",
       "      <td>...</td>\n",
       "    </tr>\n",
       "    <tr>\n",
       "      <th>42449</th>\n",
       "      <td>2169055</td>\n",
       "      <td>Respiratory Rate</td>\n",
       "      <td>16</td>\n",
       "      <td>NaN</td>\n",
       "      <td>2021-05-04 08:22:56</td>\n",
       "      <td>11</td>\n",
       "      <td>24</td>\n",
       "      <td>6</td>\n",
       "      <td>36</td>\n",
       "      <td>True</td>\n",
       "      <td>2021-05-04</td>\n",
       "    </tr>\n",
       "    <tr>\n",
       "      <th>42513</th>\n",
       "      <td>2169055</td>\n",
       "      <td>Respiratory Rate</td>\n",
       "      <td>18</td>\n",
       "      <td>NaN</td>\n",
       "      <td>2021-05-04 10:34:11</td>\n",
       "      <td>11</td>\n",
       "      <td>24</td>\n",
       "      <td>6</td>\n",
       "      <td>36</td>\n",
       "      <td>True</td>\n",
       "      <td>2021-05-04</td>\n",
       "    </tr>\n",
       "    <tr>\n",
       "      <th>42524</th>\n",
       "      <td>2169055</td>\n",
       "      <td>Respiratory Rate</td>\n",
       "      <td>16</td>\n",
       "      <td>NaN</td>\n",
       "      <td>2021-05-04 13:28:24</td>\n",
       "      <td>11</td>\n",
       "      <td>24</td>\n",
       "      <td>6</td>\n",
       "      <td>36</td>\n",
       "      <td>True</td>\n",
       "      <td>2021-05-04</td>\n",
       "    </tr>\n",
       "    <tr>\n",
       "      <th>42539</th>\n",
       "      <td>2169055</td>\n",
       "      <td>Respiratory Rate</td>\n",
       "      <td>16</td>\n",
       "      <td>NaN</td>\n",
       "      <td>2021-05-04 14:18:53</td>\n",
       "      <td>11</td>\n",
       "      <td>24</td>\n",
       "      <td>6</td>\n",
       "      <td>36</td>\n",
       "      <td>True</td>\n",
       "      <td>2021-05-04</td>\n",
       "    </tr>\n",
       "    <tr>\n",
       "      <th>42574</th>\n",
       "      <td>2169055</td>\n",
       "      <td>Respiratory Rate</td>\n",
       "      <td>18</td>\n",
       "      <td>NaN</td>\n",
       "      <td>2021-05-04 17:50:13</td>\n",
       "      <td>11</td>\n",
       "      <td>24</td>\n",
       "      <td>6</td>\n",
       "      <td>36</td>\n",
       "      <td>True</td>\n",
       "      <td>2021-05-04</td>\n",
       "    </tr>\n",
       "  </tbody>\n",
       "</table>\n",
       "<p>582 rows × 11 columns</p>\n",
       "</div>"
      ],
      "text/plain": [
       "       PATIENT_ID              TYPE RESULT ORDER_DATETIME  PERFORMED_DATETIME  \\\n",
       "397       2169055  Respiratory Rate     20            NaN 2016-09-29 14:40:48   \n",
       "3840      2169055  Respiratory Rate     16            NaN 2019-07-25 10:06:17   \n",
       "3881      2169055  Respiratory Rate     12            NaN 2019-07-25 09:41:57   \n",
       "3901      2169055  Respiratory Rate     14            NaN 2019-07-25 08:58:09   \n",
       "3925      2169055  Respiratory Rate     12            NaN 2019-07-25 09:56:27   \n",
       "...           ...               ...    ...            ...                 ...   \n",
       "42449     2169055  Respiratory Rate     16            NaN 2021-05-04 08:22:56   \n",
       "42513     2169055  Respiratory Rate     18            NaN 2021-05-04 10:34:11   \n",
       "42524     2169055  Respiratory Rate     16            NaN 2021-05-04 13:28:24   \n",
       "42539     2169055  Respiratory Rate     16            NaN 2021-05-04 14:18:53   \n",
       "42574     2169055  Respiratory Rate     18            NaN 2021-05-04 17:50:13   \n",
       "\n",
       "      NORMAL_LOW NORMAL_HIGH CRITICAL_LOW CRITICAL_HIGH  IS_NUMERIC  \\\n",
       "397           14          20                                   True   \n",
       "3840          11          24            6            36        True   \n",
       "3881          11          24            6            36        True   \n",
       "3901          11          24            6            36        True   \n",
       "3925          11          24            6            36        True   \n",
       "...          ...         ...          ...           ...         ...   \n",
       "42449         11          24            6            36        True   \n",
       "42513         11          24            6            36        True   \n",
       "42524         11          24            6            36        True   \n",
       "42539         11          24            6            36        True   \n",
       "42574         11          24            6            36        True   \n",
       "\n",
       "      PERFORMED_DATE  \n",
       "397       2016-09-29  \n",
       "3840      2019-07-25  \n",
       "3881      2019-07-25  \n",
       "3901      2019-07-25  \n",
       "3925      2019-07-25  \n",
       "...              ...  \n",
       "42449     2021-05-04  \n",
       "42513     2021-05-04  \n",
       "42524     2021-05-04  \n",
       "42539     2021-05-04  \n",
       "42574     2021-05-04  \n",
       "\n",
       "[582 rows x 11 columns]"
      ]
     },
     "execution_count": 165,
     "metadata": {},
     "output_type": "execute_result"
    }
   ],
   "source": [
    "respRateDf = dataDf[dataDf.TYPE == 'Respiratory Rate']\n",
    "respRateDf"
   ]
  },
  {
   "cell_type": "code",
   "execution_count": 166,
   "metadata": {},
   "outputs": [
    {
     "name": "stderr",
     "output_type": "stream",
     "text": [
      "/tmp/ipykernel_4193604/402550580.py:1: SettingWithCopyWarning: \n",
      "A value is trying to be set on a copy of a slice from a DataFrame.\n",
      "Try using .loc[row_indexer,col_indexer] = value instead\n",
      "\n",
      "See the caveats in the documentation: https://pandas.pydata.org/pandas-docs/stable/user_guide/indexing.html#returning-a-view-versus-a-copy\n",
      "  respRateDf['RESULT'] = respRateDf['RESULT'].astype(float)\n"
     ]
    }
   ],
   "source": [
    "respRateDf['RESULT'] = respRateDf['RESULT'].astype(float)"
   ]
  },
  {
   "cell_type": "code",
   "execution_count": 167,
   "metadata": {},
   "outputs": [
    {
     "data": {
      "text/plain": [
       "{'whiskers': [<matplotlib.lines.Line2D at 0x7f07ab7cdcd0>,\n",
       "  <matplotlib.lines.Line2D at 0x7f07ab7dd0a0>],\n",
       " 'caps': [<matplotlib.lines.Line2D at 0x7f07ab7dd430>,\n",
       "  <matplotlib.lines.Line2D at 0x7f07ab7dd7c0>],\n",
       " 'boxes': [<matplotlib.lines.Line2D at 0x7f07ab7cd940>],\n",
       " 'medians': [<matplotlib.lines.Line2D at 0x7f07ab7ddb50>],\n",
       " 'fliers': [<matplotlib.lines.Line2D at 0x7f07ab7ddee0>],\n",
       " 'means': []}"
      ]
     },
     "execution_count": 167,
     "metadata": {},
     "output_type": "execute_result"
    },
    {
     "data": {
      "image/png": "[encoded data removed]",
      "text/plain": [
       "<Figure size 432x288 with 1 Axes>"
      ]
     },
     "metadata": {
      "needs_background": "light"
     },
     "output_type": "display_data"
    }
   ],
   "source": [
    "plt.boxplot(respRateDf.RESULT)"
   ]
  },
  {
   "cell_type": "code",
   "execution_count": 168,
   "metadata": {},
   "outputs": [
    {
     "data": {
      "text/plain": [
       "{'bodies': [<matplotlib.collections.PolyCollection at 0x7f07ab7fb850>],\n",
       " 'cmaxes': <matplotlib.collections.LineCollection at 0x7f07ab7b5f40>,\n",
       " 'cmins': <matplotlib.collections.LineCollection at 0x7f07ab746520>,\n",
       " 'cbars': <matplotlib.collections.LineCollection at 0x7f07ab746850>}"
      ]
     },
     "execution_count": 168,
     "metadata": {},
     "output_type": "execute_result"
    },
    {
     "data": {
      "image/png": "[encoded data removed]",
      "text/plain": [
       "<Figure size 432x288 with 1 Axes>"
      ]
     },
     "metadata": {
      "needs_background": "light"
     },
     "output_type": "display_data"
    }
   ],
   "source": [
    "plt.violinplot(respRateDf.RESULT)"
   ]
  },
  {
   "cell_type": "code",
   "execution_count": 169,
   "metadata": {},
   "outputs": [
    {
     "data": {
      "text/plain": [
       "2020-11-27    47\n",
       "2020-11-28    25\n",
       "2020-11-30    22\n",
       "2020-11-26    20\n",
       "2020-11-29    20\n",
       "              ..\n",
       "2021-02-09     1\n",
       "2021-02-11     1\n",
       "2021-02-12     1\n",
       "2021-02-13     1\n",
       "2021-02-07     1\n",
       "Name: PERFORMED_DATE, Length: 125, dtype: int64"
      ]
     },
     "execution_count": 169,
     "metadata": {},
     "output_type": "execute_result"
    }
   ],
   "source": [
    "respRateValueCounts = respRateDf.PERFORMED_DATE.value_counts()\n",
    "respRateValueCounts"
   ]
  },
  {
   "cell_type": "code",
   "execution_count": 170,
   "metadata": {},
   "outputs": [
    {
     "data": {
      "text/plain": [
       "<BarContainer object of 125 artists>"
      ]
     },
     "execution_count": 170,
     "metadata": {},
     "output_type": "execute_result"
    },
    {
     "data": {
      "image/png": "[encoded data removed]",
      "text/plain": [
       "<Figure size 864x432 with 1 Axes>"
      ]
     },
     "metadata": {
      "needs_background": "light"
     },
     "output_type": "display_data"
    }
   ],
   "source": [
    "plt.figure(figsize=(12, 6))\n",
    "plt.title('Date wise counts of Respiratory Rate values')\n",
    "plt.xlabel('Performed Date')\n",
    "plt.ylabel('Count')\n",
    "plt.bar(x = respRateValueCounts.index, height = respRateValueCounts)"
   ]
  },
  {
   "cell_type": "code",
   "execution_count": 171,
   "metadata": {},
   "outputs": [
    {
     "data": {
      "text/plain": [
       "PERFORMED_DATE\n",
       "2016-09-29    20.000000\n",
       "2019-07-25    14.222222\n",
       "2020-11-25    18.500000\n",
       "2020-11-26    12.400000\n",
       "2020-11-27    15.936170\n",
       "                ...    \n",
       "2021-04-20    17.333333\n",
       "2021-04-21    17.500000\n",
       "2021-04-22    18.000000\n",
       "2021-05-03    14.666667\n",
       "2021-05-04    16.800000\n",
       "Name: RESULT, Length: 125, dtype: float64"
      ]
     },
     "execution_count": 171,
     "metadata": {},
     "output_type": "execute_result"
    }
   ],
   "source": [
    "respRateValueMeans = respRateDf.groupby('PERFORMED_DATE').RESULT.mean()\n",
    "respRateValueMeans"
   ]
  },
  {
   "cell_type": "code",
   "execution_count": 172,
   "metadata": {},
   "outputs": [
    {
     "data": {
      "text/plain": [
       "[<matplotlib.lines.Line2D at 0x7f07ab63dc40>]"
      ]
     },
     "execution_count": 172,
     "metadata": {},
     "output_type": "execute_result"
    },
    {
     "data": {
      "image/png": "[encoded data removed]",
      "text/plain": [
       "<Figure size 864x432 with 1 Axes>"
      ]
     },
     "metadata": {
      "needs_background": "light"
     },
     "output_type": "display_data"
    }
   ],
   "source": [
    "plt.figure(figsize=(12, 6))\n",
    "plt.title('Date wise average of Respiratory Rate values')\n",
    "plt.xlabel('Performed Date')\n",
    "plt.ylabel('Count')\n",
    "plt.plot(respRateValueMeans.index, respRateValueMeans)"
   ]
  },
  {
   "cell_type": "markdown",
   "metadata": {},
   "source": [
    "## Diastolic Blood Pressure"
   ]
  },
  {
   "cell_type": "code",
   "execution_count": 173,
   "metadata": {},
   "outputs": [
    {
     "data": {
      "text/html": [
       "<div>\n",
       "<style scoped>\n",
       "    .dataframe tbody tr th:only-of-type {\n",
       "        vertical-align: middle;\n",
       "    }\n",
       "\n",
       "    .dataframe tbody tr th {\n",
       "        vertical-align: top;\n",
       "    }\n",
       "\n",
       "    .dataframe thead th {\n",
       "        text-align: right;\n",
       "    }\n",
       "</style>\n",
       "<table border=\"1\" class=\"dataframe\">\n",
       "  <thead>\n",
       "    <tr style=\"text-align: right;\">\n",
       "      <th></th>\n",
       "      <th>PATIENT_ID</th>\n",
       "      <th>TYPE</th>\n",
       "      <th>RESULT</th>\n",
       "      <th>ORDER_DATETIME</th>\n",
       "      <th>PERFORMED_DATETIME</th>\n",
       "      <th>NORMAL_LOW</th>\n",
       "      <th>NORMAL_HIGH</th>\n",
       "      <th>CRITICAL_LOW</th>\n",
       "      <th>CRITICAL_HIGH</th>\n",
       "      <th>IS_NUMERIC</th>\n",
       "      <th>PERFORMED_DATE</th>\n",
       "    </tr>\n",
       "  </thead>\n",
       "  <tbody>\n",
       "    <tr>\n",
       "      <th>398</th>\n",
       "      <td>2169055</td>\n",
       "      <td>Diastolic Blood Pressure</td>\n",
       "      <td>86</td>\n",
       "      <td>NaN</td>\n",
       "      <td>2016-09-29 14:40:48</td>\n",
       "      <td>60</td>\n",
       "      <td>90</td>\n",
       "      <td></td>\n",
       "      <td></td>\n",
       "      <td>True</td>\n",
       "      <td>2016-09-29</td>\n",
       "    </tr>\n",
       "    <tr>\n",
       "      <th>3879</th>\n",
       "      <td>2169055</td>\n",
       "      <td>Diastolic Blood Pressure</td>\n",
       "      <td>72</td>\n",
       "      <td>NaN</td>\n",
       "      <td>2019-07-25 09:31:15</td>\n",
       "      <td>60</td>\n",
       "      <td>90</td>\n",
       "      <td>NaN</td>\n",
       "      <td>NaN</td>\n",
       "      <td>True</td>\n",
       "      <td>2019-07-25</td>\n",
       "    </tr>\n",
       "    <tr>\n",
       "      <th>3956</th>\n",
       "      <td>2169055</td>\n",
       "      <td>Diastolic Blood Pressure</td>\n",
       "      <td>85</td>\n",
       "      <td>NaN</td>\n",
       "      <td>2019-07-25 09:56:24</td>\n",
       "      <td>60</td>\n",
       "      <td>90</td>\n",
       "      <td>NaN</td>\n",
       "      <td>NaN</td>\n",
       "      <td>True</td>\n",
       "      <td>2019-07-25</td>\n",
       "    </tr>\n",
       "    <tr>\n",
       "      <th>3975</th>\n",
       "      <td>2169055</td>\n",
       "      <td>Diastolic Blood Pressure</td>\n",
       "      <td>71</td>\n",
       "      <td>NaN</td>\n",
       "      <td>2019-07-25 09:41:53</td>\n",
       "      <td>60</td>\n",
       "      <td>90</td>\n",
       "      <td>NaN</td>\n",
       "      <td>NaN</td>\n",
       "      <td>True</td>\n",
       "      <td>2019-07-25</td>\n",
       "    </tr>\n",
       "    <tr>\n",
       "      <th>4003</th>\n",
       "      <td>2169055</td>\n",
       "      <td>Diastolic Blood Pressure</td>\n",
       "      <td>71</td>\n",
       "      <td>NaN</td>\n",
       "      <td>2019-07-25 10:06:17</td>\n",
       "      <td>60</td>\n",
       "      <td>90</td>\n",
       "      <td>NaN</td>\n",
       "      <td>NaN</td>\n",
       "      <td>True</td>\n",
       "      <td>2019-07-25</td>\n",
       "    </tr>\n",
       "    <tr>\n",
       "      <th>...</th>\n",
       "      <td>...</td>\n",
       "      <td>...</td>\n",
       "      <td>...</td>\n",
       "      <td>...</td>\n",
       "      <td>...</td>\n",
       "      <td>...</td>\n",
       "      <td>...</td>\n",
       "      <td>...</td>\n",
       "      <td>...</td>\n",
       "      <td>...</td>\n",
       "      <td>...</td>\n",
       "    </tr>\n",
       "    <tr>\n",
       "      <th>42463</th>\n",
       "      <td>2169055</td>\n",
       "      <td>Diastolic Blood Pressure</td>\n",
       "      <td>75</td>\n",
       "      <td>NaN</td>\n",
       "      <td>2021-05-04 08:22:56</td>\n",
       "      <td>60</td>\n",
       "      <td>90</td>\n",
       "      <td>NaN</td>\n",
       "      <td>NaN</td>\n",
       "      <td>True</td>\n",
       "      <td>2021-05-04</td>\n",
       "    </tr>\n",
       "    <tr>\n",
       "      <th>42508</th>\n",
       "      <td>2169055</td>\n",
       "      <td>Diastolic Blood Pressure</td>\n",
       "      <td>83</td>\n",
       "      <td>NaN</td>\n",
       "      <td>2021-05-04 10:34:11</td>\n",
       "      <td>60</td>\n",
       "      <td>90</td>\n",
       "      <td>NaN</td>\n",
       "      <td>NaN</td>\n",
       "      <td>True</td>\n",
       "      <td>2021-05-04</td>\n",
       "    </tr>\n",
       "    <tr>\n",
       "      <th>42519</th>\n",
       "      <td>2169055</td>\n",
       "      <td>Diastolic Blood Pressure</td>\n",
       "      <td>73</td>\n",
       "      <td>NaN</td>\n",
       "      <td>2021-05-04 13:28:24</td>\n",
       "      <td>60</td>\n",
       "      <td>90</td>\n",
       "      <td>NaN</td>\n",
       "      <td>NaN</td>\n",
       "      <td>True</td>\n",
       "      <td>2021-05-04</td>\n",
       "    </tr>\n",
       "    <tr>\n",
       "      <th>42534</th>\n",
       "      <td>2169055</td>\n",
       "      <td>Diastolic Blood Pressure</td>\n",
       "      <td>83</td>\n",
       "      <td>NaN</td>\n",
       "      <td>2021-05-04 14:18:53</td>\n",
       "      <td>60</td>\n",
       "      <td>90</td>\n",
       "      <td>NaN</td>\n",
       "      <td>NaN</td>\n",
       "      <td>True</td>\n",
       "      <td>2021-05-04</td>\n",
       "    </tr>\n",
       "    <tr>\n",
       "      <th>42569</th>\n",
       "      <td>2169055</td>\n",
       "      <td>Diastolic Blood Pressure</td>\n",
       "      <td>48</td>\n",
       "      <td>NaN</td>\n",
       "      <td>2021-05-04 17:50:13</td>\n",
       "      <td>60</td>\n",
       "      <td>90</td>\n",
       "      <td>NaN</td>\n",
       "      <td>NaN</td>\n",
       "      <td>True</td>\n",
       "      <td>2021-05-04</td>\n",
       "    </tr>\n",
       "  </tbody>\n",
       "</table>\n",
       "<p>553 rows × 11 columns</p>\n",
       "</div>"
      ],
      "text/plain": [
       "       PATIENT_ID                      TYPE RESULT ORDER_DATETIME  \\\n",
       "398       2169055  Diastolic Blood Pressure     86            NaN   \n",
       "3879      2169055  Diastolic Blood Pressure     72            NaN   \n",
       "3956      2169055  Diastolic Blood Pressure     85            NaN   \n",
       "3975      2169055  Diastolic Blood Pressure     71            NaN   \n",
       "4003      2169055  Diastolic Blood Pressure     71            NaN   \n",
       "...           ...                       ...    ...            ...   \n",
       "42463     2169055  Diastolic Blood Pressure     75            NaN   \n",
       "42508     2169055  Diastolic Blood Pressure     83            NaN   \n",
       "42519     2169055  Diastolic Blood Pressure     73            NaN   \n",
       "42534     2169055  Diastolic Blood Pressure     83            NaN   \n",
       "42569     2169055  Diastolic Blood Pressure     48            NaN   \n",
       "\n",
       "       PERFORMED_DATETIME NORMAL_LOW NORMAL_HIGH CRITICAL_LOW CRITICAL_HIGH  \\\n",
       "398   2016-09-29 14:40:48         60          90                              \n",
       "3879  2019-07-25 09:31:15         60          90          NaN           NaN   \n",
       "3956  2019-07-25 09:56:24         60          90          NaN           NaN   \n",
       "3975  2019-07-25 09:41:53         60          90          NaN           NaN   \n",
       "4003  2019-07-25 10:06:17         60          90          NaN           NaN   \n",
       "...                   ...        ...         ...          ...           ...   \n",
       "42463 2021-05-04 08:22:56         60          90          NaN           NaN   \n",
       "42508 2021-05-04 10:34:11         60          90          NaN           NaN   \n",
       "42519 2021-05-04 13:28:24         60          90          NaN           NaN   \n",
       "42534 2021-05-04 14:18:53         60          90          NaN           NaN   \n",
       "42569 2021-05-04 17:50:13         60          90          NaN           NaN   \n",
       "\n",
       "       IS_NUMERIC PERFORMED_DATE  \n",
       "398          True     2016-09-29  \n",
       "3879         True     2019-07-25  \n",
       "3956         True     2019-07-25  \n",
       "3975         True     2019-07-25  \n",
       "4003         True     2019-07-25  \n",
       "...           ...            ...  \n",
       "42463        True     2021-05-04  \n",
       "42508        True     2021-05-04  \n",
       "42519        True     2021-05-04  \n",
       "42534        True     2021-05-04  \n",
       "42569        True     2021-05-04  \n",
       "\n",
       "[553 rows x 11 columns]"
      ]
     },
     "execution_count": 173,
     "metadata": {},
     "output_type": "execute_result"
    }
   ],
   "source": [
    "dbpDf = dataDf[dataDf.TYPE == 'Diastolic Blood Pressure']\n",
    "dbpDf"
   ]
  },
  {
   "cell_type": "code",
   "execution_count": 174,
   "metadata": {},
   "outputs": [
    {
     "name": "stderr",
     "output_type": "stream",
     "text": [
      "/tmp/ipykernel_4193604/932218025.py:1: SettingWithCopyWarning: \n",
      "A value is trying to be set on a copy of a slice from a DataFrame.\n",
      "Try using .loc[row_indexer,col_indexer] = value instead\n",
      "\n",
      "See the caveats in the documentation: https://pandas.pydata.org/pandas-docs/stable/user_guide/indexing.html#returning-a-view-versus-a-copy\n",
      "  dbpDf['RESULT'] = dbpDf['RESULT'].astype(float)\n"
     ]
    }
   ],
   "source": [
    "dbpDf['RESULT'] = dbpDf['RESULT'].astype(float)"
   ]
  },
  {
   "cell_type": "code",
   "execution_count": 175,
   "metadata": {},
   "outputs": [
    {
     "data": {
      "text/plain": [
       "{'whiskers': [<matplotlib.lines.Line2D at 0x7f07ab549820>,\n",
       "  <matplotlib.lines.Line2D at 0x7f07ab549bb0>],\n",
       " 'caps': [<matplotlib.lines.Line2D at 0x7f07ab549f40>,\n",
       "  <matplotlib.lines.Line2D at 0x7f07ab556310>],\n",
       " 'boxes': [<matplotlib.lines.Line2D at 0x7f07ab549490>],\n",
       " 'medians': [<matplotlib.lines.Line2D at 0x7f07ab5566a0>],\n",
       " 'fliers': [<matplotlib.lines.Line2D at 0x7f07ab556a30>],\n",
       " 'means': []}"
      ]
     },
     "execution_count": 175,
     "metadata": {},
     "output_type": "execute_result"
    },
    {
     "data": {
      "image/png": "[encoded data removed]",
      "text/plain": [
       "<Figure size 432x288 with 1 Axes>"
      ]
     },
     "metadata": {
      "needs_background": "light"
     },
     "output_type": "display_data"
    }
   ],
   "source": [
    "plt.boxplot(dbpDf.RESULT)"
   ]
  },
  {
   "cell_type": "code",
   "execution_count": 176,
   "metadata": {},
   "outputs": [
    {
     "data": {
      "text/plain": [
       "{'bodies': [<matplotlib.collections.PolyCollection at 0x7f07ab5287f0>],\n",
       " 'cmaxes': <matplotlib.collections.LineCollection at 0x7f07ab62adf0>,\n",
       " 'cmins': <matplotlib.collections.LineCollection at 0x7f07ab528e20>,\n",
       " 'cbars': <matplotlib.collections.LineCollection at 0x7f07ab5371c0>}"
      ]
     },
     "execution_count": 176,
     "metadata": {},
     "output_type": "execute_result"
    },
    {
     "data": {
      "image/png": "[encoded data removed]",
      "text/plain": [
       "<Figure size 432x288 with 1 Axes>"
      ]
     },
     "metadata": {
      "needs_background": "light"
     },
     "output_type": "display_data"
    }
   ],
   "source": [
    "plt.violinplot(dbpDf.RESULT)"
   ]
  },
  {
   "cell_type": "code",
   "execution_count": 177,
   "metadata": {},
   "outputs": [
    {
     "data": {
      "text/plain": [
       "2020-11-27    44\n",
       "2020-11-28    27\n",
       "2020-11-30    22\n",
       "2020-11-29    21\n",
       "2020-12-01    16\n",
       "              ..\n",
       "2021-01-14     1\n",
       "2021-01-17     1\n",
       "2021-01-21     1\n",
       "2021-01-22     1\n",
       "2016-09-29     1\n",
       "Name: PERFORMED_DATE, Length: 117, dtype: int64"
      ]
     },
     "execution_count": 177,
     "metadata": {},
     "output_type": "execute_result"
    }
   ],
   "source": [
    "dbpValueCounts = dbpDf.PERFORMED_DATE.value_counts()\n",
    "dbpValueCounts"
   ]
  },
  {
   "cell_type": "code",
   "execution_count": 178,
   "metadata": {},
   "outputs": [
    {
     "data": {
      "text/plain": [
       "<BarContainer object of 117 artists>"
      ]
     },
     "execution_count": 178,
     "metadata": {},
     "output_type": "execute_result"
    },
    {
     "data": {
      "image/png": "[encoded data removed]",
      "text/plain": [
       "<Figure size 864x432 with 1 Axes>"
      ]
     },
     "metadata": {
      "needs_background": "light"
     },
     "output_type": "display_data"
    }
   ],
   "source": [
    "plt.figure(figsize=(12, 6))\n",
    "plt.title('Date wise counts of Diastolic Blood Pressure values')\n",
    "plt.xlabel('Performed Date')\n",
    "plt.ylabel('Count')\n",
    "plt.bar(x = dbpValueCounts.index, height = dbpValueCounts)"
   ]
  },
  {
   "cell_type": "code",
   "execution_count": 179,
   "metadata": {},
   "outputs": [
    {
     "data": {
      "text/plain": [
       "PERFORMED_DATE\n",
       "2016-09-29    86.000000\n",
       "2019-07-25    72.444444\n",
       "2020-11-17    71.000000\n",
       "2020-11-25    96.000000\n",
       "2020-11-26    69.000000\n",
       "                ...    \n",
       "2021-04-20    76.666667\n",
       "2021-04-21    70.750000\n",
       "2021-04-22    83.000000\n",
       "2021-05-03    69.666667\n",
       "2021-05-04    72.166667\n",
       "Name: RESULT, Length: 117, dtype: float64"
      ]
     },
     "execution_count": 179,
     "metadata": {},
     "output_type": "execute_result"
    }
   ],
   "source": [
    "dbpValueMeans = dbpDf.groupby('PERFORMED_DATE').RESULT.mean()\n",
    "dbpValueMeans"
   ]
  },
  {
   "cell_type": "code",
   "execution_count": 180,
   "metadata": {},
   "outputs": [
    {
     "data": {
      "text/plain": [
       "[<matplotlib.lines.Line2D at 0x7f07ab3b0fd0>]"
      ]
     },
     "execution_count": 180,
     "metadata": {},
     "output_type": "execute_result"
    },
    {
     "data": {
      "image/png": "[encoded data removed]",
      "text/plain": [
       "<Figure size 864x432 with 1 Axes>"
      ]
     },
     "metadata": {
      "needs_background": "light"
     },
     "output_type": "display_data"
    }
   ],
   "source": [
    "plt.figure(figsize=(12, 6))\n",
    "plt.title('Date wise average of Diastolic Blood Pressure values')\n",
    "plt.xlabel('Performed Date')\n",
    "plt.ylabel('Count')\n",
    "plt.plot(dbpValueMeans.index, dbpValueMeans)"
   ]
  },
  {
   "cell_type": "markdown",
   "metadata": {},
   "source": [
    "## Systolic Blood Pressure"
   ]
  },
  {
   "cell_type": "code",
   "execution_count": 181,
   "metadata": {},
   "outputs": [
    {
     "data": {
      "text/html": [
       "<div>\n",
       "<style scoped>\n",
       "    .dataframe tbody tr th:only-of-type {\n",
       "        vertical-align: middle;\n",
       "    }\n",
       "\n",
       "    .dataframe tbody tr th {\n",
       "        vertical-align: top;\n",
       "    }\n",
       "\n",
       "    .dataframe thead th {\n",
       "        text-align: right;\n",
       "    }\n",
       "</style>\n",
       "<table border=\"1\" class=\"dataframe\">\n",
       "  <thead>\n",
       "    <tr style=\"text-align: right;\">\n",
       "      <th></th>\n",
       "      <th>PATIENT_ID</th>\n",
       "      <th>TYPE</th>\n",
       "      <th>RESULT</th>\n",
       "      <th>ORDER_DATETIME</th>\n",
       "      <th>PERFORMED_DATETIME</th>\n",
       "      <th>NORMAL_LOW</th>\n",
       "      <th>NORMAL_HIGH</th>\n",
       "      <th>CRITICAL_LOW</th>\n",
       "      <th>CRITICAL_HIGH</th>\n",
       "      <th>IS_NUMERIC</th>\n",
       "      <th>PERFORMED_DATE</th>\n",
       "    </tr>\n",
       "  </thead>\n",
       "  <tbody>\n",
       "    <tr>\n",
       "      <th>395</th>\n",
       "      <td>2169055</td>\n",
       "      <td>Systolic Blood Pressure</td>\n",
       "      <td>134</td>\n",
       "      <td>NaN</td>\n",
       "      <td>2016-09-29 14:40:48</td>\n",
       "      <td>90</td>\n",
       "      <td>140</td>\n",
       "      <td></td>\n",
       "      <td></td>\n",
       "      <td>True</td>\n",
       "      <td>2016-09-29</td>\n",
       "    </tr>\n",
       "    <tr>\n",
       "      <th>3837</th>\n",
       "      <td>2169055</td>\n",
       "      <td>Systolic Blood Pressure</td>\n",
       "      <td>122</td>\n",
       "      <td>NaN</td>\n",
       "      <td>2019-07-25 09:41:53</td>\n",
       "      <td>101</td>\n",
       "      <td>179</td>\n",
       "      <td>90</td>\n",
       "      <td>200</td>\n",
       "      <td>True</td>\n",
       "      <td>2019-07-25</td>\n",
       "    </tr>\n",
       "    <tr>\n",
       "      <th>3900</th>\n",
       "      <td>2169055</td>\n",
       "      <td>Systolic Blood Pressure</td>\n",
       "      <td>122</td>\n",
       "      <td>NaN</td>\n",
       "      <td>2019-07-25 08:58:05</td>\n",
       "      <td>101</td>\n",
       "      <td>179</td>\n",
       "      <td>90</td>\n",
       "      <td>200</td>\n",
       "      <td>True</td>\n",
       "      <td>2019-07-25</td>\n",
       "    </tr>\n",
       "    <tr>\n",
       "      <th>4046</th>\n",
       "      <td>2169055</td>\n",
       "      <td>Systolic Blood Pressure</td>\n",
       "      <td>128</td>\n",
       "      <td>NaN</td>\n",
       "      <td>2019-07-25 09:31:40</td>\n",
       "      <td>101</td>\n",
       "      <td>179</td>\n",
       "      <td>90</td>\n",
       "      <td>200</td>\n",
       "      <td>True</td>\n",
       "      <td>2019-07-25</td>\n",
       "    </tr>\n",
       "    <tr>\n",
       "      <th>4063</th>\n",
       "      <td>2169055</td>\n",
       "      <td>Systolic Blood Pressure</td>\n",
       "      <td>112</td>\n",
       "      <td>NaN</td>\n",
       "      <td>2019-07-25 07:11:30</td>\n",
       "      <td>101</td>\n",
       "      <td>179</td>\n",
       "      <td>90</td>\n",
       "      <td>200</td>\n",
       "      <td>True</td>\n",
       "      <td>2019-07-25</td>\n",
       "    </tr>\n",
       "    <tr>\n",
       "      <th>...</th>\n",
       "      <td>...</td>\n",
       "      <td>...</td>\n",
       "      <td>...</td>\n",
       "      <td>...</td>\n",
       "      <td>...</td>\n",
       "      <td>...</td>\n",
       "      <td>...</td>\n",
       "      <td>...</td>\n",
       "      <td>...</td>\n",
       "      <td>...</td>\n",
       "      <td>...</td>\n",
       "    </tr>\n",
       "    <tr>\n",
       "      <th>42445</th>\n",
       "      <td>2169055</td>\n",
       "      <td>Systolic Blood Pressure</td>\n",
       "      <td>124</td>\n",
       "      <td>NaN</td>\n",
       "      <td>2021-05-04 08:22:56</td>\n",
       "      <td>101</td>\n",
       "      <td>179</td>\n",
       "      <td>90</td>\n",
       "      <td>200</td>\n",
       "      <td>True</td>\n",
       "      <td>2021-05-04</td>\n",
       "    </tr>\n",
       "    <tr>\n",
       "      <th>42509</th>\n",
       "      <td>2169055</td>\n",
       "      <td>Systolic Blood Pressure</td>\n",
       "      <td>132</td>\n",
       "      <td>NaN</td>\n",
       "      <td>2021-05-04 10:34:11</td>\n",
       "      <td>101</td>\n",
       "      <td>179</td>\n",
       "      <td>90</td>\n",
       "      <td>200</td>\n",
       "      <td>True</td>\n",
       "      <td>2021-05-04</td>\n",
       "    </tr>\n",
       "    <tr>\n",
       "      <th>42520</th>\n",
       "      <td>2169055</td>\n",
       "      <td>Systolic Blood Pressure</td>\n",
       "      <td>147</td>\n",
       "      <td>NaN</td>\n",
       "      <td>2021-05-04 13:28:24</td>\n",
       "      <td>101</td>\n",
       "      <td>179</td>\n",
       "      <td>90</td>\n",
       "      <td>200</td>\n",
       "      <td>True</td>\n",
       "      <td>2021-05-04</td>\n",
       "    </tr>\n",
       "    <tr>\n",
       "      <th>42535</th>\n",
       "      <td>2169055</td>\n",
       "      <td>Systolic Blood Pressure</td>\n",
       "      <td>117</td>\n",
       "      <td>NaN</td>\n",
       "      <td>2021-05-04 14:18:53</td>\n",
       "      <td>101</td>\n",
       "      <td>179</td>\n",
       "      <td>90</td>\n",
       "      <td>200</td>\n",
       "      <td>True</td>\n",
       "      <td>2021-05-04</td>\n",
       "    </tr>\n",
       "    <tr>\n",
       "      <th>42570</th>\n",
       "      <td>2169055</td>\n",
       "      <td>Systolic Blood Pressure</td>\n",
       "      <td>119</td>\n",
       "      <td>NaN</td>\n",
       "      <td>2021-05-04 17:50:13</td>\n",
       "      <td>101</td>\n",
       "      <td>179</td>\n",
       "      <td>90</td>\n",
       "      <td>200</td>\n",
       "      <td>True</td>\n",
       "      <td>2021-05-04</td>\n",
       "    </tr>\n",
       "  </tbody>\n",
       "</table>\n",
       "<p>548 rows × 11 columns</p>\n",
       "</div>"
      ],
      "text/plain": [
       "       PATIENT_ID                     TYPE RESULT ORDER_DATETIME  \\\n",
       "395       2169055  Systolic Blood Pressure    134            NaN   \n",
       "3837      2169055  Systolic Blood Pressure    122            NaN   \n",
       "3900      2169055  Systolic Blood Pressure    122            NaN   \n",
       "4046      2169055  Systolic Blood Pressure    128            NaN   \n",
       "4063      2169055  Systolic Blood Pressure    112            NaN   \n",
       "...           ...                      ...    ...            ...   \n",
       "42445     2169055  Systolic Blood Pressure    124            NaN   \n",
       "42509     2169055  Systolic Blood Pressure    132            NaN   \n",
       "42520     2169055  Systolic Blood Pressure    147            NaN   \n",
       "42535     2169055  Systolic Blood Pressure    117            NaN   \n",
       "42570     2169055  Systolic Blood Pressure    119            NaN   \n",
       "\n",
       "       PERFORMED_DATETIME NORMAL_LOW NORMAL_HIGH CRITICAL_LOW CRITICAL_HIGH  \\\n",
       "395   2016-09-29 14:40:48         90         140                              \n",
       "3837  2019-07-25 09:41:53        101         179           90           200   \n",
       "3900  2019-07-25 08:58:05        101         179           90           200   \n",
       "4046  2019-07-25 09:31:40        101         179           90           200   \n",
       "4063  2019-07-25 07:11:30        101         179           90           200   \n",
       "...                   ...        ...         ...          ...           ...   \n",
       "42445 2021-05-04 08:22:56        101         179           90           200   \n",
       "42509 2021-05-04 10:34:11        101         179           90           200   \n",
       "42520 2021-05-04 13:28:24        101         179           90           200   \n",
       "42535 2021-05-04 14:18:53        101         179           90           200   \n",
       "42570 2021-05-04 17:50:13        101         179           90           200   \n",
       "\n",
       "       IS_NUMERIC PERFORMED_DATE  \n",
       "395          True     2016-09-29  \n",
       "3837         True     2019-07-25  \n",
       "3900         True     2019-07-25  \n",
       "4046         True     2019-07-25  \n",
       "4063         True     2019-07-25  \n",
       "...           ...            ...  \n",
       "42445        True     2021-05-04  \n",
       "42509        True     2021-05-04  \n",
       "42520        True     2021-05-04  \n",
       "42535        True     2021-05-04  \n",
       "42570        True     2021-05-04  \n",
       "\n",
       "[548 rows x 11 columns]"
      ]
     },
     "execution_count": 181,
     "metadata": {},
     "output_type": "execute_result"
    }
   ],
   "source": [
    "sbpDf = dataDf[dataDf.TYPE == 'Systolic Blood Pressure']\n",
    "sbpDf"
   ]
  },
  {
   "cell_type": "code",
   "execution_count": 182,
   "metadata": {},
   "outputs": [
    {
     "name": "stderr",
     "output_type": "stream",
     "text": [
      "/tmp/ipykernel_4193604/2111407339.py:1: SettingWithCopyWarning: \n",
      "A value is trying to be set on a copy of a slice from a DataFrame.\n",
      "Try using .loc[row_indexer,col_indexer] = value instead\n",
      "\n",
      "See the caveats in the documentation: https://pandas.pydata.org/pandas-docs/stable/user_guide/indexing.html#returning-a-view-versus-a-copy\n",
      "  sbpDf['RESULT'] = sbpDf['RESULT'].astype(float)\n"
     ]
    }
   ],
   "source": [
    "sbpDf['RESULT'] = sbpDf['RESULT'].astype(float)"
   ]
  },
  {
   "cell_type": "code",
   "execution_count": 183,
   "metadata": {},
   "outputs": [
    {
     "data": {
      "text/plain": [
       "{'whiskers': [<matplotlib.lines.Line2D at 0x7f07ab2c19d0>,\n",
       "  <matplotlib.lines.Line2D at 0x7f07ab2c1d60>],\n",
       " 'caps': [<matplotlib.lines.Line2D at 0x7f07ab2ce130>,\n",
       "  <matplotlib.lines.Line2D at 0x7f07ab2ce4c0>],\n",
       " 'boxes': [<matplotlib.lines.Line2D at 0x7f07ab2c1640>],\n",
       " 'medians': [<matplotlib.lines.Line2D at 0x7f07ab2ce850>],\n",
       " 'fliers': [<matplotlib.lines.Line2D at 0x7f07ab2cebe0>],\n",
       " 'means': []}"
      ]
     },
     "execution_count": 183,
     "metadata": {},
     "output_type": "execute_result"
    },
    {
     "data": {
      "image/png": "[encoded data removed]",
      "text/plain": [
       "<Figure size 432x288 with 1 Axes>"
      ]
     },
     "metadata": {
      "needs_background": "light"
     },
     "output_type": "display_data"
    }
   ],
   "source": [
    "plt.boxplot(sbpDf.RESULT)"
   ]
  },
  {
   "cell_type": "code",
   "execution_count": 184,
   "metadata": {},
   "outputs": [
    {
     "data": {
      "text/plain": [
       "{'bodies': [<matplotlib.collections.PolyCollection at 0x7f07ab29efd0>],\n",
       " 'cmaxes': <matplotlib.collections.LineCollection at 0x7f07ab29eeb0>,\n",
       " 'cmins': <matplotlib.collections.LineCollection at 0x7f07ab2af520>,\n",
       " 'cbars': <matplotlib.collections.LineCollection at 0x7f07ab2af850>}"
      ]
     },
     "execution_count": 184,
     "metadata": {},
     "output_type": "execute_result"
    },
    {
     "data": {
      "image/png": "[encoded data removed]",
      "text/plain": [
       "<Figure size 432x288 with 1 Axes>"
      ]
     },
     "metadata": {
      "needs_background": "light"
     },
     "output_type": "display_data"
    }
   ],
   "source": [
    "plt.violinplot(sbpDf.RESULT)"
   ]
  },
  {
   "cell_type": "code",
   "execution_count": 185,
   "metadata": {},
   "outputs": [
    {
     "data": {
      "text/plain": [
       "2020-11-27    44\n",
       "2020-11-28    27\n",
       "2020-11-30    22\n",
       "2020-11-29    21\n",
       "2020-12-01    16\n",
       "              ..\n",
       "2021-01-22     1\n",
       "2021-01-21     1\n",
       "2021-01-13     1\n",
       "2021-01-14     1\n",
       "2016-09-29     1\n",
       "Name: PERFORMED_DATE, Length: 116, dtype: int64"
      ]
     },
     "execution_count": 185,
     "metadata": {},
     "output_type": "execute_result"
    }
   ],
   "source": [
    "sbpValueCounts = sbpDf.PERFORMED_DATE.value_counts()\n",
    "sbpValueCounts"
   ]
  },
  {
   "cell_type": "code",
   "execution_count": 186,
   "metadata": {},
   "outputs": [
    {
     "data": {
      "text/plain": [
       "<BarContainer object of 116 artists>"
      ]
     },
     "execution_count": 186,
     "metadata": {},
     "output_type": "execute_result"
    },
    {
     "data": {
      "image/png": "[encoded data removed]",
      "text/plain": [
       "<Figure size 864x432 with 1 Axes>"
      ]
     },
     "metadata": {
      "needs_background": "light"
     },
     "output_type": "display_data"
    }
   ],
   "source": [
    "plt.figure(figsize=(12, 6))\n",
    "plt.title('Date wise counts of Systolic Blood Pressure values')\n",
    "plt.xlabel('Performed Date')\n",
    "plt.ylabel('Count')\n",
    "plt.bar(x = sbpValueCounts.index, height = sbpValueCounts)"
   ]
  },
  {
   "cell_type": "code",
   "execution_count": 187,
   "metadata": {},
   "outputs": [
    {
     "data": {
      "text/plain": [
       "PERFORMED_DATE\n",
       "2016-09-29    134.000000\n",
       "2019-07-25    123.571429\n",
       "2020-11-17    101.000000\n",
       "2020-11-25    119.000000\n",
       "2020-11-26    122.200000\n",
       "                 ...    \n",
       "2021-04-20    121.333333\n",
       "2021-04-21    117.500000\n",
       "2021-04-22    103.000000\n",
       "2021-05-03    153.666667\n",
       "2021-05-04    132.833333\n",
       "Name: RESULT, Length: 116, dtype: float64"
      ]
     },
     "execution_count": 187,
     "metadata": {},
     "output_type": "execute_result"
    }
   ],
   "source": [
    "sbpValueMeans = sbpDf.groupby('PERFORMED_DATE').RESULT.mean()\n",
    "sbpValueMeans"
   ]
  },
  {
   "cell_type": "code",
   "execution_count": 188,
   "metadata": {},
   "outputs": [
    {
     "data": {
      "text/plain": [
       "[<matplotlib.lines.Line2D at 0x7f07ab2d9fd0>]"
      ]
     },
     "execution_count": 188,
     "metadata": {},
     "output_type": "execute_result"
    },
    {
     "data": {
      "image/png": "[encoded data removed]",
      "text/plain": [
       "<Figure size 864x432 with 1 Axes>"
      ]
     },
     "metadata": {
      "needs_background": "light"
     },
     "output_type": "display_data"
    }
   ],
   "source": [
    "plt.figure(figsize=(12, 6))\n",
    "plt.title('Date wise average of Systolic Blood Pressure values')\n",
    "plt.xlabel('Performed Date')\n",
    "plt.ylabel('Count')\n",
    "plt.plot(sbpValueMeans.index, sbpValueMeans)"
   ]
  },
  {
   "cell_type": "markdown",
   "metadata": {},
   "source": [
    "## Combined line plots"
   ]
  },
  {
   "cell_type": "code",
   "execution_count": 136,
   "metadata": {},
   "outputs": [
    {
     "data": {
      "text/html": [
       "<div>\n",
       "<style scoped>\n",
       "    .dataframe tbody tr th:only-of-type {\n",
       "        vertical-align: middle;\n",
       "    }\n",
       "\n",
       "    .dataframe tbody tr th {\n",
       "        vertical-align: top;\n",
       "    }\n",
       "\n",
       "    .dataframe thead th {\n",
       "        text-align: right;\n",
       "    }\n",
       "</style>\n",
       "<table border=\"1\" class=\"dataframe\">\n",
       "  <thead>\n",
       "    <tr style=\"text-align: right;\">\n",
       "      <th></th>\n",
       "      <th>PATIENT_ID</th>\n",
       "      <th>TYPE</th>\n",
       "      <th>RESULT</th>\n",
       "      <th>ORDER_DATETIME</th>\n",
       "      <th>PERFORMED_DATETIME</th>\n",
       "      <th>NORMAL_LOW</th>\n",
       "      <th>NORMAL_HIGH</th>\n",
       "      <th>CRITICAL_LOW</th>\n",
       "      <th>CRITICAL_HIGH</th>\n",
       "      <th>IS_NUMERIC</th>\n",
       "      <th>PERFORMED_DATE</th>\n",
       "    </tr>\n",
       "  </thead>\n",
       "  <tbody>\n",
       "    <tr>\n",
       "      <th>395</th>\n",
       "      <td>2169055</td>\n",
       "      <td>Systolic Blood Pressure</td>\n",
       "      <td>134</td>\n",
       "      <td>NaN</td>\n",
       "      <td>2016-09-29 14:40:48</td>\n",
       "      <td>90</td>\n",
       "      <td>140</td>\n",
       "      <td></td>\n",
       "      <td></td>\n",
       "      <td>True</td>\n",
       "      <td>2016-09-29</td>\n",
       "    </tr>\n",
       "    <tr>\n",
       "      <th>397</th>\n",
       "      <td>2169055</td>\n",
       "      <td>Respiratory Rate</td>\n",
       "      <td>20</td>\n",
       "      <td>NaN</td>\n",
       "      <td>2016-09-29 14:40:48</td>\n",
       "      <td>14</td>\n",
       "      <td>20</td>\n",
       "      <td></td>\n",
       "      <td></td>\n",
       "      <td>True</td>\n",
       "      <td>2016-09-29</td>\n",
       "    </tr>\n",
       "    <tr>\n",
       "      <th>398</th>\n",
       "      <td>2169055</td>\n",
       "      <td>Diastolic Blood Pressure</td>\n",
       "      <td>86</td>\n",
       "      <td>NaN</td>\n",
       "      <td>2016-09-29 14:40:48</td>\n",
       "      <td>60</td>\n",
       "      <td>90</td>\n",
       "      <td></td>\n",
       "      <td></td>\n",
       "      <td>True</td>\n",
       "      <td>2016-09-29</td>\n",
       "    </tr>\n",
       "    <tr>\n",
       "      <th>3837</th>\n",
       "      <td>2169055</td>\n",
       "      <td>Systolic Blood Pressure</td>\n",
       "      <td>122</td>\n",
       "      <td>NaN</td>\n",
       "      <td>2019-07-25 09:41:53</td>\n",
       "      <td>101</td>\n",
       "      <td>179</td>\n",
       "      <td>90</td>\n",
       "      <td>200</td>\n",
       "      <td>True</td>\n",
       "      <td>2019-07-25</td>\n",
       "    </tr>\n",
       "    <tr>\n",
       "      <th>3839</th>\n",
       "      <td>2169055</td>\n",
       "      <td>Temperature Temporal</td>\n",
       "      <td>36.8</td>\n",
       "      <td>NaN</td>\n",
       "      <td>2019-07-25 10:06:17</td>\n",
       "      <td>35.5</td>\n",
       "      <td>38.3</td>\n",
       "      <td>NaN</td>\n",
       "      <td>NaN</td>\n",
       "      <td>True</td>\n",
       "      <td>2019-07-25</td>\n",
       "    </tr>\n",
       "    <tr>\n",
       "      <th>...</th>\n",
       "      <td>...</td>\n",
       "      <td>...</td>\n",
       "      <td>...</td>\n",
       "      <td>...</td>\n",
       "      <td>...</td>\n",
       "      <td>...</td>\n",
       "      <td>...</td>\n",
       "      <td>...</td>\n",
       "      <td>...</td>\n",
       "      <td>...</td>\n",
       "      <td>...</td>\n",
       "    </tr>\n",
       "    <tr>\n",
       "      <th>42539</th>\n",
       "      <td>2169055</td>\n",
       "      <td>Respiratory Rate</td>\n",
       "      <td>16</td>\n",
       "      <td>NaN</td>\n",
       "      <td>2021-05-04 14:18:53</td>\n",
       "      <td>11</td>\n",
       "      <td>24</td>\n",
       "      <td>6</td>\n",
       "      <td>36</td>\n",
       "      <td>True</td>\n",
       "      <td>2021-05-04</td>\n",
       "    </tr>\n",
       "    <tr>\n",
       "      <th>42568</th>\n",
       "      <td>2169055</td>\n",
       "      <td>Temperature Temporal</td>\n",
       "      <td>36.3</td>\n",
       "      <td>NaN</td>\n",
       "      <td>2021-05-04 17:50:13</td>\n",
       "      <td>35.5</td>\n",
       "      <td>38.3</td>\n",
       "      <td>NaN</td>\n",
       "      <td>NaN</td>\n",
       "      <td>True</td>\n",
       "      <td>2021-05-04</td>\n",
       "    </tr>\n",
       "    <tr>\n",
       "      <th>42569</th>\n",
       "      <td>2169055</td>\n",
       "      <td>Diastolic Blood Pressure</td>\n",
       "      <td>48</td>\n",
       "      <td>NaN</td>\n",
       "      <td>2021-05-04 17:50:13</td>\n",
       "      <td>60</td>\n",
       "      <td>90</td>\n",
       "      <td>NaN</td>\n",
       "      <td>NaN</td>\n",
       "      <td>True</td>\n",
       "      <td>2021-05-04</td>\n",
       "    </tr>\n",
       "    <tr>\n",
       "      <th>42570</th>\n",
       "      <td>2169055</td>\n",
       "      <td>Systolic Blood Pressure</td>\n",
       "      <td>119</td>\n",
       "      <td>NaN</td>\n",
       "      <td>2021-05-04 17:50:13</td>\n",
       "      <td>101</td>\n",
       "      <td>179</td>\n",
       "      <td>90</td>\n",
       "      <td>200</td>\n",
       "      <td>True</td>\n",
       "      <td>2021-05-04</td>\n",
       "    </tr>\n",
       "    <tr>\n",
       "      <th>42574</th>\n",
       "      <td>2169055</td>\n",
       "      <td>Respiratory Rate</td>\n",
       "      <td>18</td>\n",
       "      <td>NaN</td>\n",
       "      <td>2021-05-04 17:50:13</td>\n",
       "      <td>11</td>\n",
       "      <td>24</td>\n",
       "      <td>6</td>\n",
       "      <td>36</td>\n",
       "      <td>True</td>\n",
       "      <td>2021-05-04</td>\n",
       "    </tr>\n",
       "  </tbody>\n",
       "</table>\n",
       "<p>2459 rows × 11 columns</p>\n",
       "</div>"
      ],
      "text/plain": [
       "       PATIENT_ID                      TYPE RESULT ORDER_DATETIME  \\\n",
       "395       2169055   Systolic Blood Pressure    134            NaN   \n",
       "397       2169055          Respiratory Rate     20            NaN   \n",
       "398       2169055  Diastolic Blood Pressure     86            NaN   \n",
       "3837      2169055   Systolic Blood Pressure    122            NaN   \n",
       "3839      2169055      Temperature Temporal   36.8            NaN   \n",
       "...           ...                       ...    ...            ...   \n",
       "42539     2169055          Respiratory Rate     16            NaN   \n",
       "42568     2169055      Temperature Temporal   36.3            NaN   \n",
       "42569     2169055  Diastolic Blood Pressure     48            NaN   \n",
       "42570     2169055   Systolic Blood Pressure    119            NaN   \n",
       "42574     2169055          Respiratory Rate     18            NaN   \n",
       "\n",
       "       PERFORMED_DATETIME NORMAL_LOW NORMAL_HIGH CRITICAL_LOW CRITICAL_HIGH  \\\n",
       "395   2016-09-29 14:40:48         90         140                              \n",
       "397   2016-09-29 14:40:48         14          20                              \n",
       "398   2016-09-29 14:40:48         60          90                              \n",
       "3837  2019-07-25 09:41:53        101         179           90           200   \n",
       "3839  2019-07-25 10:06:17       35.5        38.3          NaN           NaN   \n",
       "...                   ...        ...         ...          ...           ...   \n",
       "42539 2021-05-04 14:18:53         11          24            6            36   \n",
       "42568 2021-05-04 17:50:13       35.5        38.3          NaN           NaN   \n",
       "42569 2021-05-04 17:50:13         60          90          NaN           NaN   \n",
       "42570 2021-05-04 17:50:13        101         179           90           200   \n",
       "42574 2021-05-04 17:50:13         11          24            6            36   \n",
       "\n",
       "       IS_NUMERIC PERFORMED_DATE  \n",
       "395          True     2016-09-29  \n",
       "397          True     2016-09-29  \n",
       "398          True     2016-09-29  \n",
       "3837         True     2019-07-25  \n",
       "3839         True     2019-07-25  \n",
       "...           ...            ...  \n",
       "42539        True     2021-05-04  \n",
       "42568        True     2021-05-04  \n",
       "42569        True     2021-05-04  \n",
       "42570        True     2021-05-04  \n",
       "42574        True     2021-05-04  \n",
       "\n",
       "[2459 rows x 11 columns]"
      ]
     },
     "execution_count": 136,
     "metadata": {},
     "output_type": "execute_result"
    }
   ],
   "source": [
    "combinedDf1 = dataDf[\n",
    "    (dataDf.TYPE == 'Heart Rate Monitored')\n",
    "    | (dataDf.TYPE == 'Respiratory Rate')\n",
    "    | (dataDf.TYPE == 'Temperature Temporal')\n",
    "    | (dataDf.TYPE == 'Diastolic Blood Pressure')\n",
    "    | (dataDf.TYPE == 'Systolic Blood Pressure')\n",
    "    ]\n",
    "combinedDf1"
   ]
  },
  {
   "cell_type": "code",
   "execution_count": 137,
   "metadata": {},
   "outputs": [
    {
     "data": {
      "text/plain": [
       "Respiratory Rate            582\n",
       "Diastolic Blood Pressure    553\n",
       "Systolic Blood Pressure     548\n",
       "Temperature Temporal        411\n",
       "Heart Rate Monitored        365\n",
       "Name: TYPE, dtype: int64"
      ]
     },
     "execution_count": 137,
     "metadata": {},
     "output_type": "execute_result"
    }
   ],
   "source": [
    "combinedDf1.TYPE.value_counts()"
   ]
  },
  {
   "cell_type": "code",
   "execution_count": 140,
   "metadata": {},
   "outputs": [
    {
     "name": "stderr",
     "output_type": "stream",
     "text": [
      "/tmp/ipykernel_4193604/1850698039.py:1: SettingWithCopyWarning: \n",
      "A value is trying to be set on a copy of a slice from a DataFrame.\n",
      "Try using .loc[row_indexer,col_indexer] = value instead\n",
      "\n",
      "See the caveats in the documentation: https://pandas.pydata.org/pandas-docs/stable/user_guide/indexing.html#returning-a-view-versus-a-copy\n",
      "  combinedDf1['RESULT'] = combinedDf1['RESULT'].astype(float)\n"
     ]
    }
   ],
   "source": [
    "combinedDf1['RESULT'] = combinedDf1['RESULT'].astype(float)"
   ]
  },
  {
   "cell_type": "code",
   "execution_count": 143,
   "metadata": {},
   "outputs": [
    {
     "data": {
      "text/html": [
       "<div>\n",
       "<style scoped>\n",
       "    .dataframe tbody tr th:only-of-type {\n",
       "        vertical-align: middle;\n",
       "    }\n",
       "\n",
       "    .dataframe tbody tr th {\n",
       "        vertical-align: top;\n",
       "    }\n",
       "\n",
       "    .dataframe thead th {\n",
       "        text-align: right;\n",
       "    }\n",
       "</style>\n",
       "<table border=\"1\" class=\"dataframe\">\n",
       "  <thead>\n",
       "    <tr style=\"text-align: right;\">\n",
       "      <th></th>\n",
       "      <th>PERFORMED_DATE</th>\n",
       "      <th>TYPE</th>\n",
       "      <th>RESULT</th>\n",
       "    </tr>\n",
       "  </thead>\n",
       "  <tbody>\n",
       "    <tr>\n",
       "      <th>0</th>\n",
       "      <td>2016-09-29</td>\n",
       "      <td>Diastolic Blood Pressure</td>\n",
       "      <td>86.000000</td>\n",
       "    </tr>\n",
       "    <tr>\n",
       "      <th>1</th>\n",
       "      <td>2016-09-29</td>\n",
       "      <td>Respiratory Rate</td>\n",
       "      <td>20.000000</td>\n",
       "    </tr>\n",
       "    <tr>\n",
       "      <th>2</th>\n",
       "      <td>2016-09-29</td>\n",
       "      <td>Systolic Blood Pressure</td>\n",
       "      <td>134.000000</td>\n",
       "    </tr>\n",
       "    <tr>\n",
       "      <th>3</th>\n",
       "      <td>2019-07-25</td>\n",
       "      <td>Diastolic Blood Pressure</td>\n",
       "      <td>72.444444</td>\n",
       "    </tr>\n",
       "    <tr>\n",
       "      <th>4</th>\n",
       "      <td>2019-07-25</td>\n",
       "      <td>Heart Rate Monitored</td>\n",
       "      <td>49.428571</td>\n",
       "    </tr>\n",
       "    <tr>\n",
       "      <th>...</th>\n",
       "      <td>...</td>\n",
       "      <td>...</td>\n",
       "      <td>...</td>\n",
       "    </tr>\n",
       "    <tr>\n",
       "      <th>555</th>\n",
       "      <td>2021-05-03</td>\n",
       "      <td>Temperature Temporal</td>\n",
       "      <td>36.533333</td>\n",
       "    </tr>\n",
       "    <tr>\n",
       "      <th>556</th>\n",
       "      <td>2021-05-04</td>\n",
       "      <td>Diastolic Blood Pressure</td>\n",
       "      <td>72.166667</td>\n",
       "    </tr>\n",
       "    <tr>\n",
       "      <th>557</th>\n",
       "      <td>2021-05-04</td>\n",
       "      <td>Respiratory Rate</td>\n",
       "      <td>16.800000</td>\n",
       "    </tr>\n",
       "    <tr>\n",
       "      <th>558</th>\n",
       "      <td>2021-05-04</td>\n",
       "      <td>Systolic Blood Pressure</td>\n",
       "      <td>132.833333</td>\n",
       "    </tr>\n",
       "    <tr>\n",
       "      <th>559</th>\n",
       "      <td>2021-05-04</td>\n",
       "      <td>Temperature Temporal</td>\n",
       "      <td>36.280000</td>\n",
       "    </tr>\n",
       "  </tbody>\n",
       "</table>\n",
       "<p>560 rows × 3 columns</p>\n",
       "</div>"
      ],
      "text/plain": [
       "    PERFORMED_DATE                      TYPE      RESULT\n",
       "0       2016-09-29  Diastolic Blood Pressure   86.000000\n",
       "1       2016-09-29          Respiratory Rate   20.000000\n",
       "2       2016-09-29   Systolic Blood Pressure  134.000000\n",
       "3       2019-07-25  Diastolic Blood Pressure   72.444444\n",
       "4       2019-07-25      Heart Rate Monitored   49.428571\n",
       "..             ...                       ...         ...\n",
       "555     2021-05-03      Temperature Temporal   36.533333\n",
       "556     2021-05-04  Diastolic Blood Pressure   72.166667\n",
       "557     2021-05-04          Respiratory Rate   16.800000\n",
       "558     2021-05-04   Systolic Blood Pressure  132.833333\n",
       "559     2021-05-04      Temperature Temporal   36.280000\n",
       "\n",
       "[560 rows x 3 columns]"
      ]
     },
     "execution_count": 143,
     "metadata": {},
     "output_type": "execute_result"
    }
   ],
   "source": [
    "averageValuesDf = combinedDf1.groupby(['PERFORMED_DATE', 'TYPE']).RESULT.mean().reset_index()\n",
    "averageValuesDf"
   ]
  },
  {
   "cell_type": "code",
   "execution_count": 147,
   "metadata": {},
   "outputs": [
    {
     "data": {
      "text/plain": [
       "<AxesSubplot:title={'center':'Date wise average value of vitals'}, xlabel='Performed Date', ylabel='Value'>"
      ]
     },
     "execution_count": 147,
     "metadata": {},
     "output_type": "execute_result"
    },
    {
     "data": {
      "image/png": "[encoded data removed]",
      "text/plain": [
       "<Figure size 864x432 with 1 Axes>"
      ]
     },
     "metadata": {
      "needs_background": "light"
     },
     "output_type": "display_data"
    }
   ],
   "source": [
    "plt.figure(figsize=(12, 6))\n",
    "plt.title('Date wise average value of vitals')\n",
    "plt.xlabel('Performed Date')\n",
    "plt.ylabel('Value')\n",
    "sns.lineplot(data=averageValuesDf, x='PERFORMED_DATE', y='RESULT', hue='TYPE')"
   ]
  },
  {
   "cell_type": "code",
   "execution_count": 150,
   "metadata": {},
   "outputs": [
    {
     "data": {
      "text/html": [
       "<div>\n",
       "<style scoped>\n",
       "    .dataframe tbody tr th:only-of-type {\n",
       "        vertical-align: middle;\n",
       "    }\n",
       "\n",
       "    .dataframe tbody tr th {\n",
       "        vertical-align: top;\n",
       "    }\n",
       "\n",
       "    .dataframe thead th {\n",
       "        text-align: right;\n",
       "    }\n",
       "</style>\n",
       "<table border=\"1\" class=\"dataframe\">\n",
       "  <thead>\n",
       "    <tr style=\"text-align: right;\">\n",
       "      <th></th>\n",
       "      <th>PERFORMED_DATE</th>\n",
       "      <th>TYPE</th>\n",
       "      <th>RESULT</th>\n",
       "    </tr>\n",
       "  </thead>\n",
       "  <tbody>\n",
       "    <tr>\n",
       "      <th>8</th>\n",
       "      <td>2020-11-17</td>\n",
       "      <td>Diastolic Blood Pressure</td>\n",
       "      <td>71.000000</td>\n",
       "    </tr>\n",
       "    <tr>\n",
       "      <th>9</th>\n",
       "      <td>2020-11-17</td>\n",
       "      <td>Systolic Blood Pressure</td>\n",
       "      <td>101.000000</td>\n",
       "    </tr>\n",
       "    <tr>\n",
       "      <th>10</th>\n",
       "      <td>2020-11-25</td>\n",
       "      <td>Diastolic Blood Pressure</td>\n",
       "      <td>96.000000</td>\n",
       "    </tr>\n",
       "    <tr>\n",
       "      <th>11</th>\n",
       "      <td>2020-11-25</td>\n",
       "      <td>Heart Rate Monitored</td>\n",
       "      <td>56.000000</td>\n",
       "    </tr>\n",
       "    <tr>\n",
       "      <th>12</th>\n",
       "      <td>2020-11-25</td>\n",
       "      <td>Respiratory Rate</td>\n",
       "      <td>18.500000</td>\n",
       "    </tr>\n",
       "    <tr>\n",
       "      <th>...</th>\n",
       "      <td>...</td>\n",
       "      <td>...</td>\n",
       "      <td>...</td>\n",
       "    </tr>\n",
       "    <tr>\n",
       "      <th>555</th>\n",
       "      <td>2021-05-03</td>\n",
       "      <td>Temperature Temporal</td>\n",
       "      <td>36.533333</td>\n",
       "    </tr>\n",
       "    <tr>\n",
       "      <th>556</th>\n",
       "      <td>2021-05-04</td>\n",
       "      <td>Diastolic Blood Pressure</td>\n",
       "      <td>72.166667</td>\n",
       "    </tr>\n",
       "    <tr>\n",
       "      <th>557</th>\n",
       "      <td>2021-05-04</td>\n",
       "      <td>Respiratory Rate</td>\n",
       "      <td>16.800000</td>\n",
       "    </tr>\n",
       "    <tr>\n",
       "      <th>558</th>\n",
       "      <td>2021-05-04</td>\n",
       "      <td>Systolic Blood Pressure</td>\n",
       "      <td>132.833333</td>\n",
       "    </tr>\n",
       "    <tr>\n",
       "      <th>559</th>\n",
       "      <td>2021-05-04</td>\n",
       "      <td>Temperature Temporal</td>\n",
       "      <td>36.280000</td>\n",
       "    </tr>\n",
       "  </tbody>\n",
       "</table>\n",
       "<p>552 rows × 3 columns</p>\n",
       "</div>"
      ],
      "text/plain": [
       "    PERFORMED_DATE                      TYPE      RESULT\n",
       "8       2020-11-17  Diastolic Blood Pressure   71.000000\n",
       "9       2020-11-17   Systolic Blood Pressure  101.000000\n",
       "10      2020-11-25  Diastolic Blood Pressure   96.000000\n",
       "11      2020-11-25      Heart Rate Monitored   56.000000\n",
       "12      2020-11-25          Respiratory Rate   18.500000\n",
       "..             ...                       ...         ...\n",
       "555     2021-05-03      Temperature Temporal   36.533333\n",
       "556     2021-05-04  Diastolic Blood Pressure   72.166667\n",
       "557     2021-05-04          Respiratory Rate   16.800000\n",
       "558     2021-05-04   Systolic Blood Pressure  132.833333\n",
       "559     2021-05-04      Temperature Temporal   36.280000\n",
       "\n",
       "[552 rows x 3 columns]"
      ]
     },
     "execution_count": 150,
     "metadata": {},
     "output_type": "execute_result"
    }
   ],
   "source": [
    "averageValuesDf[averageValuesDf.PERFORMED_DATE > dt.date(year=2020,month=10,day=1)]"
   ]
  },
  {
   "cell_type": "code",
   "execution_count": 155,
   "metadata": {},
   "outputs": [
    {
     "data": {
      "text/plain": [
       "<AxesSubplot:title={'center':'Date wise average value of vitals (Date>2020)'}, xlabel='Performed Date', ylabel='Value'>"
      ]
     },
     "execution_count": 155,
     "metadata": {},
     "output_type": "execute_result"
    },
    {
     "data": {
      "image/png": "[encoded data removed]",
      "text/plain": [
       "<Figure size 864x432 with 1 Axes>"
      ]
     },
     "metadata": {
      "needs_background": "light"
     },
     "output_type": "display_data"
    }
   ],
   "source": [
    "plt.figure(figsize=(12, 6))\n",
    "plt.title('Date wise average value of vitals (Date>2020)')\n",
    "plt.xlabel('Performed Date')\n",
    "plt.ylabel('Value')\n",
    "sns.lineplot(\n",
    "    data=averageValuesDf[averageValuesDf.PERFORMED_DATE > dt.date(year=2020,month=1,day=1)],\n",
    "    x='PERFORMED_DATE',\n",
    "    y='RESULT',\n",
    "    hue='TYPE'\n",
    "    )"
   ]
  },
  {
   "cell_type": "code",
   "execution_count": null,
   "metadata": {},
   "outputs": [],
   "source": []
  }
 ],
 "metadata": {
  "interpreter": {
   "hash": "617c926ecca363868930838dc93c61919d8cc1862c55e772d6a15ee214466f9b"
  },
  "kernelspec": {
   "display_name": "Python 3.9.1 64-bit ('.venv': venv)",
   "language": "python",
   "name": "python3"
  },
  "language_info": {
   "codemirror_mode": {
    "name": "ipython",
    "version": 3
   },
   "file_extension": ".py",
   "mimetype": "text/x-python",
   "name": "python",
   "nbconvert_exporter": "python",
   "pygments_lexer": "ipython3",
   "version": "3.9.1"
  },
  "orig_nbformat": 4
 },
 "nbformat": 4,
 "nbformat_minor": 2
}
