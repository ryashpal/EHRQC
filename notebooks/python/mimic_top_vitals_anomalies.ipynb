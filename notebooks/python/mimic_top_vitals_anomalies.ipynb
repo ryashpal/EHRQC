{
 "cells": [
  {
   "cell_type": "markdown",
   "id": "f1dbc797",
   "metadata": {},
   "source": [
    "# Import libraries"
   ]
  },
  {
   "cell_type": "code",
   "execution_count": 76,
   "id": "d5f311b4",
   "metadata": {},
   "outputs": [],
   "source": [
    "import os\n",
    "import re\n",
    "import psycopg2\n",
    "import numpy as np\n",
    "import pandas as pd\n",
    "\n",
    "from matplotlib import pyplot as plt\n",
    "import seaborn as sns\n",
    "from sklearn.decomposition import PCA\n",
    "import sklearn.metrics as metrics"
   ]
  },
  {
   "cell_type": "markdown",
   "id": "e85d46c6",
   "metadata": {},
   "source": [
    "# Postgres conection"
   ]
  },
  {
   "cell_type": "code",
   "execution_count": 2,
   "id": "2ab61dcb",
   "metadata": {},
   "outputs": [],
   "source": [
    "sqluser = 'postgres'\n",
    "dbname = 'mimic4'\n",
    "hostname = 'localhost'\n",
    "port_number = 5434\n",
    "schema_name = 'mimiciv'"
   ]
  },
  {
   "cell_type": "code",
   "execution_count": 3,
   "id": "ddf0e0f0",
   "metadata": {},
   "outputs": [],
   "source": [
    "# Connect to postgres with a copy of the MIMIC-III database\n",
    "con = psycopg2.connect(dbname=dbname, user=sqluser, host=hostname, port=port_number, password='mysecretpassword')"
   ]
  },
  {
   "cell_type": "code",
   "execution_count": 4,
   "id": "349be1ea",
   "metadata": {},
   "outputs": [],
   "source": [
    "# the below statement is prepended to queries to ensure they select from the right schema\n",
    "query_schema = 'set search_path to ' + schema_name + ';'"
   ]
  },
  {
   "cell_type": "markdown",
   "id": "8c43ef0a",
   "metadata": {},
   "source": [
    "# Get numeric vitals with > 80% coverage"
   ]
  },
  {
   "cell_type": "code",
   "execution_count": 5,
   "id": "40cf8552",
   "metadata": {},
   "outputs": [],
   "source": [
    "top_vitals = [\"heart_rate\", \"respiratory_rate\", \"o_saturation_pulseoxymetry\", \"heart_rhythm\", \"gcs_eye_opening\", \"gcs_verbal_response\", \"gcs_motor_response\", \"alarms_on\", \"head_of_bed\", \"rul_lung_sounds\", \"lul_lung_sounds\", \"temperature_site\", \"heart_rate_alarm_low\", \"heart_rate_alarm_high\", \"rll_lung_sounds\", \"turn\", \"lll_lung_sounds\", \"parameters_checked\", \"o_saturation_pulseoxymetry_alarm_low\", \"o_saturation_pulseoxymetry_alarm_high\", \"resp_alarm_high\", \"resp_alarm_low\", \"abdominal_assessment\", \"skin_integrity\", \"skin_temperature\", \"oral_cavity\", \"skin_condition\", \"bowel_sounds\", \"activity_tolerance\", \"skin_color\", \"pain_present\", \"braden_sensory_perception\", \"braden_mobility\", \"braden_moisture\", \"braden_activity\", \"braden_nutrition\", \"braden_friction_shear\", \"non_invasive_blood_pressure_mean\", \"non_invasive_blood_pressure_systolic\", \"non_invasive_blood_pressure_diastolic\", \"spo_desat_limit\", \"o_delivery_device_s_\", \"temperature_fahrenheit\", \"diet_type\", \"urine_source\", \"edema_location\", \"position\", \"dorsal_pedpulse_r\", \"dorsal_pedpulse_l\", \"iv_saline_lock\", \"gait_transferring\", \"ambulatory_aid\", \"mental_status\", \"secondary_diagnosis\", \"history_of_falling_within_mnths_\", \"ectopy_type__x\", \"sodium_serum_\", \"potassium_serum_\", \"chloride_serum_\", \"creatinine_serum_\", \"bun\", \"hco_serum_\", \"anion_gap\", \"hematocrit_serum_\", \"glucose_serum_\", \"hemoglobin\", \"platelet_count\", \"wbc\", \"pain_location\", \"cough_effort\", \"non_invasive_blood_pressure_alarm_low\", \"non_invasive_blood_pressure_alarm_high\", \"magnesium\", \"nbp_alarm_source\", \"urine_color\", \"education_learner\", \"education_topic\", \"education_barrier\", \"education_method\", \"education_response\", \"urine_appearance\", \"side_rails_x\", \"safety_measures\", \"admission_weight_kg_\", \"phosphorous\", \"calcium_non_ionized\", \"posttib_pulses_r\", \"posttib_pulses_l\", \"pain_level_acceptable\", \"pain_level\", \"support_systems\", \"pupil_size_right\", \"pupil_size_left\", \"pain_management\", \"pupil_response_right\", \"pupil_response_left\", \"pain_type\", \"rle_temp\", \"lle_temp\", \"rle_color\", \"anti_embolic_device\", \"lle_color\", \"rue_temp\", \"lue_temp\", \"rue_color\", \"lue_color\", \"richmond_ras_scale\", \"nares_r\", \"nares_l\", \"pain_assessment_method_x\", \"cough_type\", \"prothrombin_time\", \"inr\", \"ptt\", \"capillary_refill_r\", \"oral_care\", \"capillary_refill_l\", \"admission_weight_lbs_\", \"all_medications_tolerated_without_adverse_side_effects\", \"family_communication\", \"pain_cause\", \"anti_embolic_device_status\"]"
   ]
  },
  {
   "cell_type": "code",
   "execution_count": 9,
   "id": "8f1ae2f0",
   "metadata": {},
   "outputs": [],
   "source": [
    "itemidQuery = query_schema + \\\n",
    "\"\"\"\n",
    "SELECT\n",
    "itm.itemid,\n",
    "itm.label, \n",
    "itm.abbreviation, \n",
    "itm.param_type \n",
    "FROM mimiciv.chartevents cev\n",
    "INNER JOIN mimiciv.d_items itm\n",
    "ON itm.itemid = cev.itemid\n",
    "GROUP BY itm.itemid\n",
    "\"\"\"\n",
    "\n",
    "itemidsDf = pd.read_sql_query(itemidQuery, con)"
   ]
  },
  {
   "cell_type": "code",
   "execution_count": 30,
   "id": "a34b7aa3",
   "metadata": {},
   "outputs": [
    {
     "data": {
      "text/html": [
       "<div>\n",
       "<style scoped>\n",
       "    .dataframe tbody tr th:only-of-type {\n",
       "        vertical-align: middle;\n",
       "    }\n",
       "\n",
       "    .dataframe tbody tr th {\n",
       "        vertical-align: top;\n",
       "    }\n",
       "\n",
       "    .dataframe thead th {\n",
       "        text-align: right;\n",
       "    }\n",
       "</style>\n",
       "<table border=\"1\" class=\"dataframe\">\n",
       "  <thead>\n",
       "    <tr style=\"text-align: right;\">\n",
       "      <th></th>\n",
       "      <th>itemid</th>\n",
       "      <th>label</th>\n",
       "      <th>abbreviation</th>\n",
       "      <th>param_type</th>\n",
       "      <th>lbl</th>\n",
       "    </tr>\n",
       "  </thead>\n",
       "  <tbody>\n",
       "    <tr>\n",
       "      <th>0</th>\n",
       "      <td>220045</td>\n",
       "      <td>Heart Rate</td>\n",
       "      <td>HR</td>\n",
       "      <td>Numeric</td>\n",
       "      <td>heart_rate</td>\n",
       "    </tr>\n",
       "    <tr>\n",
       "      <th>1</th>\n",
       "      <td>220046</td>\n",
       "      <td>Heart rate Alarm - High</td>\n",
       "      <td>HR Alarm - High</td>\n",
       "      <td>Numeric</td>\n",
       "      <td>heart_rate_alarm_high</td>\n",
       "    </tr>\n",
       "    <tr>\n",
       "      <th>2</th>\n",
       "      <td>220047</td>\n",
       "      <td>Heart Rate Alarm - Low</td>\n",
       "      <td>HR Alarm - Low</td>\n",
       "      <td>Numeric</td>\n",
       "      <td>heart_rate_alarm_low</td>\n",
       "    </tr>\n",
       "    <tr>\n",
       "      <th>3</th>\n",
       "      <td>220048</td>\n",
       "      <td>Heart Rhythm</td>\n",
       "      <td>Heart Rhythm</td>\n",
       "      <td>Text</td>\n",
       "      <td>heart_rhythm</td>\n",
       "    </tr>\n",
       "    <tr>\n",
       "      <th>21</th>\n",
       "      <td>220179</td>\n",
       "      <td>Non Invasive Blood Pressure systolic</td>\n",
       "      <td>NBPs</td>\n",
       "      <td>Numeric</td>\n",
       "      <td>non_invasive_blood_pressure_systolic</td>\n",
       "    </tr>\n",
       "    <tr>\n",
       "      <th>...</th>\n",
       "      <td>...</td>\n",
       "      <td>...</td>\n",
       "      <td>...</td>\n",
       "      <td>...</td>\n",
       "      <td>...</td>\n",
       "    </tr>\n",
       "    <tr>\n",
       "      <th>1217</th>\n",
       "      <td>227684</td>\n",
       "      <td>Safety Measures</td>\n",
       "      <td>Safety Measures</td>\n",
       "      <td>Text</td>\n",
       "      <td>safety_measures</td>\n",
       "    </tr>\n",
       "    <tr>\n",
       "      <th>1220</th>\n",
       "      <td>227700</td>\n",
       "      <td>Safety Measures</td>\n",
       "      <td>Safety Measures</td>\n",
       "      <td>Text</td>\n",
       "      <td>safety_measures</td>\n",
       "    </tr>\n",
       "    <tr>\n",
       "      <th>1339</th>\n",
       "      <td>227968</td>\n",
       "      <td>All Medications Tolerated without Adverse Side...</td>\n",
       "      <td>All Medications Tolerated</td>\n",
       "      <td>Text</td>\n",
       "      <td>all_medications_tolerated_without_adverse_side...</td>\n",
       "    </tr>\n",
       "    <tr>\n",
       "      <th>1340</th>\n",
       "      <td>227969</td>\n",
       "      <td>Safety Measures</td>\n",
       "      <td>Safety Measures</td>\n",
       "      <td>Text</td>\n",
       "      <td>safety_measures</td>\n",
       "    </tr>\n",
       "    <tr>\n",
       "      <th>1367</th>\n",
       "      <td>228096</td>\n",
       "      <td>Richmond-RAS Scale</td>\n",
       "      <td>Richmond-RAS Scale</td>\n",
       "      <td>Text</td>\n",
       "      <td>richmond_ras_scale</td>\n",
       "    </tr>\n",
       "  </tbody>\n",
       "</table>\n",
       "<p>121 rows × 5 columns</p>\n",
       "</div>"
      ],
      "text/plain": [
       "      itemid                                              label  \\\n",
       "0     220045                                         Heart Rate   \n",
       "1     220046                            Heart rate Alarm - High   \n",
       "2     220047                             Heart Rate Alarm - Low   \n",
       "3     220048                                       Heart Rhythm   \n",
       "21    220179               Non Invasive Blood Pressure systolic   \n",
       "...      ...                                                ...   \n",
       "1217  227684                                    Safety Measures   \n",
       "1220  227700                                    Safety Measures   \n",
       "1339  227968  All Medications Tolerated without Adverse Side...   \n",
       "1340  227969                                    Safety Measures   \n",
       "1367  228096                                 Richmond-RAS Scale   \n",
       "\n",
       "                   abbreviation param_type  \\\n",
       "0                            HR    Numeric   \n",
       "1               HR Alarm - High    Numeric   \n",
       "2                HR Alarm - Low    Numeric   \n",
       "3                  Heart Rhythm       Text   \n",
       "21                         NBPs    Numeric   \n",
       "...                         ...        ...   \n",
       "1217            Safety Measures       Text   \n",
       "1220            Safety Measures       Text   \n",
       "1339  All Medications Tolerated       Text   \n",
       "1340            Safety Measures       Text   \n",
       "1367         Richmond-RAS Scale       Text   \n",
       "\n",
       "                                                    lbl  \n",
       "0                                            heart_rate  \n",
       "1                                 heart_rate_alarm_high  \n",
       "2                                  heart_rate_alarm_low  \n",
       "3                                          heart_rhythm  \n",
       "21                 non_invasive_blood_pressure_systolic  \n",
       "...                                                 ...  \n",
       "1217                                    safety_measures  \n",
       "1220                                    safety_measures  \n",
       "1339  all_medications_tolerated_without_adverse_side...  \n",
       "1340                                    safety_measures  \n",
       "1367                                 richmond_ras_scale  \n",
       "\n",
       "[121 rows x 5 columns]"
      ]
     },
     "execution_count": 30,
     "metadata": {},
     "output_type": "execute_result"
    }
   ],
   "source": [
    "labels = []\n",
    "rows = []\n",
    "\n",
    "for index, row in itemidsDf.iterrows():\n",
    "    lbl = re.sub(\"[^a-zA-Z]+\", \"_\", str(row['label'])).lower()\n",
    "    if lbl in top_vitals:\n",
    "        labels.append(lbl)\n",
    "        rows.append(row)\n",
    "\n",
    "# print(type(rows[0]))\n",
    "topItemidsDf = pd.DataFrame(rows)\n",
    "# topItemidsDf\n",
    "topItemidsDf['lbl'] = labels\n",
    "topItemidsDf"
   ]
  },
  {
   "cell_type": "code",
   "execution_count": 48,
   "id": "3f4d8f21",
   "metadata": {},
   "outputs": [
    {
     "data": {
      "text/html": [
       "<div>\n",
       "<style scoped>\n",
       "    .dataframe tbody tr th:only-of-type {\n",
       "        vertical-align: middle;\n",
       "    }\n",
       "\n",
       "    .dataframe tbody tr th {\n",
       "        vertical-align: top;\n",
       "    }\n",
       "\n",
       "    .dataframe thead th {\n",
       "        text-align: right;\n",
       "    }\n",
       "</style>\n",
       "<table border=\"1\" class=\"dataframe\">\n",
       "  <thead>\n",
       "    <tr style=\"text-align: right;\">\n",
       "      <th></th>\n",
       "      <th>itemid</th>\n",
       "      <th>lbl</th>\n",
       "    </tr>\n",
       "  </thead>\n",
       "  <tbody>\n",
       "    <tr>\n",
       "      <th>0</th>\n",
       "      <td>220045</td>\n",
       "      <td>heart_rate</td>\n",
       "    </tr>\n",
       "    <tr>\n",
       "      <th>1</th>\n",
       "      <td>220046</td>\n",
       "      <td>heart_rate_alarm_high</td>\n",
       "    </tr>\n",
       "    <tr>\n",
       "      <th>2</th>\n",
       "      <td>220047</td>\n",
       "      <td>heart_rate_alarm_low</td>\n",
       "    </tr>\n",
       "    <tr>\n",
       "      <th>21</th>\n",
       "      <td>220179</td>\n",
       "      <td>non_invasive_blood_pressure_systolic</td>\n",
       "    </tr>\n",
       "    <tr>\n",
       "      <th>22</th>\n",
       "      <td>220180</td>\n",
       "      <td>non_invasive_blood_pressure_diastolic</td>\n",
       "    </tr>\n",
       "    <tr>\n",
       "      <th>23</th>\n",
       "      <td>220181</td>\n",
       "      <td>non_invasive_blood_pressure_mean</td>\n",
       "    </tr>\n",
       "    <tr>\n",
       "      <th>25</th>\n",
       "      <td>220210</td>\n",
       "      <td>respiratory_rate</td>\n",
       "    </tr>\n",
       "    <tr>\n",
       "      <th>28</th>\n",
       "      <td>220228</td>\n",
       "      <td>hemoglobin</td>\n",
       "    </tr>\n",
       "    <tr>\n",
       "      <th>32</th>\n",
       "      <td>220277</td>\n",
       "      <td>o_saturation_pulseoxymetry</td>\n",
       "    </tr>\n",
       "    <tr>\n",
       "      <th>38</th>\n",
       "      <td>220545</td>\n",
       "      <td>hematocrit_serum_</td>\n",
       "    </tr>\n",
       "    <tr>\n",
       "      <th>39</th>\n",
       "      <td>220546</td>\n",
       "      <td>wbc</td>\n",
       "    </tr>\n",
       "    <tr>\n",
       "      <th>43</th>\n",
       "      <td>220602</td>\n",
       "      <td>chloride_serum_</td>\n",
       "    </tr>\n",
       "    <tr>\n",
       "      <th>45</th>\n",
       "      <td>220615</td>\n",
       "      <td>creatinine_serum_</td>\n",
       "    </tr>\n",
       "    <tr>\n",
       "      <th>46</th>\n",
       "      <td>220621</td>\n",
       "      <td>glucose_serum_</td>\n",
       "    </tr>\n",
       "    <tr>\n",
       "      <th>49</th>\n",
       "      <td>220635</td>\n",
       "      <td>magnesium</td>\n",
       "    </tr>\n",
       "    <tr>\n",
       "      <th>51</th>\n",
       "      <td>220645</td>\n",
       "      <td>sodium_serum_</td>\n",
       "    </tr>\n",
       "    <tr>\n",
       "      <th>58</th>\n",
       "      <td>223751</td>\n",
       "      <td>non_invasive_blood_pressure_alarm_high</td>\n",
       "    </tr>\n",
       "    <tr>\n",
       "      <th>59</th>\n",
       "      <td>223752</td>\n",
       "      <td>non_invasive_blood_pressure_alarm_low</td>\n",
       "    </tr>\n",
       "    <tr>\n",
       "      <th>65</th>\n",
       "      <td>223761</td>\n",
       "      <td>temperature_fahrenheit</td>\n",
       "    </tr>\n",
       "    <tr>\n",
       "      <th>73</th>\n",
       "      <td>223769</td>\n",
       "      <td>o_saturation_pulseoxymetry_alarm_high</td>\n",
       "    </tr>\n",
       "    <tr>\n",
       "      <th>74</th>\n",
       "      <td>223770</td>\n",
       "      <td>o_saturation_pulseoxymetry_alarm_low</td>\n",
       "    </tr>\n",
       "    <tr>\n",
       "      <th>283</th>\n",
       "      <td>224161</td>\n",
       "      <td>resp_alarm_high</td>\n",
       "    </tr>\n",
       "    <tr>\n",
       "      <th>284</th>\n",
       "      <td>224162</td>\n",
       "      <td>resp_alarm_low</td>\n",
       "    </tr>\n",
       "    <tr>\n",
       "      <th>768</th>\n",
       "      <td>225624</td>\n",
       "      <td>bun</td>\n",
       "    </tr>\n",
       "    <tr>\n",
       "      <th>769</th>\n",
       "      <td>225625</td>\n",
       "      <td>calcium_non_ionized</td>\n",
       "    </tr>\n",
       "    <tr>\n",
       "      <th>789</th>\n",
       "      <td>225677</td>\n",
       "      <td>phosphorous</td>\n",
       "    </tr>\n",
       "    <tr>\n",
       "      <th>903</th>\n",
       "      <td>226253</td>\n",
       "      <td>spo_desat_limit</td>\n",
       "    </tr>\n",
       "    <tr>\n",
       "      <th>912</th>\n",
       "      <td>226512</td>\n",
       "      <td>admission_weight_kg_</td>\n",
       "    </tr>\n",
       "    <tr>\n",
       "      <th>913</th>\n",
       "      <td>226531</td>\n",
       "      <td>admission_weight_lbs_</td>\n",
       "    </tr>\n",
       "    <tr>\n",
       "      <th>1011</th>\n",
       "      <td>227073</td>\n",
       "      <td>anion_gap</td>\n",
       "    </tr>\n",
       "  </tbody>\n",
       "</table>\n",
       "</div>"
      ],
      "text/plain": [
       "      itemid                                     lbl\n",
       "0     220045                              heart_rate\n",
       "1     220046                   heart_rate_alarm_high\n",
       "2     220047                    heart_rate_alarm_low\n",
       "21    220179    non_invasive_blood_pressure_systolic\n",
       "22    220180   non_invasive_blood_pressure_diastolic\n",
       "23    220181        non_invasive_blood_pressure_mean\n",
       "25    220210                        respiratory_rate\n",
       "28    220228                              hemoglobin\n",
       "32    220277              o_saturation_pulseoxymetry\n",
       "38    220545                       hematocrit_serum_\n",
       "39    220546                                     wbc\n",
       "43    220602                         chloride_serum_\n",
       "45    220615                       creatinine_serum_\n",
       "46    220621                          glucose_serum_\n",
       "49    220635                               magnesium\n",
       "51    220645                           sodium_serum_\n",
       "58    223751  non_invasive_blood_pressure_alarm_high\n",
       "59    223752   non_invasive_blood_pressure_alarm_low\n",
       "65    223761                  temperature_fahrenheit\n",
       "73    223769   o_saturation_pulseoxymetry_alarm_high\n",
       "74    223770    o_saturation_pulseoxymetry_alarm_low\n",
       "283   224161                         resp_alarm_high\n",
       "284   224162                          resp_alarm_low\n",
       "768   225624                                     bun\n",
       "769   225625                     calcium_non_ionized\n",
       "789   225677                             phosphorous\n",
       "903   226253                         spo_desat_limit\n",
       "912   226512                    admission_weight_kg_\n",
       "913   226531                   admission_weight_lbs_\n",
       "1011  227073                               anion_gap"
      ]
     },
     "execution_count": 48,
     "metadata": {},
     "output_type": "execute_result"
    }
   ],
   "source": [
    "numericItems = topItemidsDf[topItemidsDf['param_type'] == 'Numeric'][['itemid', 'lbl']]\n",
    "numericItems"
   ]
  },
  {
   "cell_type": "markdown",
   "id": "b909648e",
   "metadata": {},
   "source": [
    "# Get data"
   ]
  },
  {
   "cell_type": "code",
   "execution_count": 62,
   "id": "a072900b",
   "metadata": {},
   "outputs": [],
   "source": [
    "itemidQuery = query_schema + \\\n",
    "\"\"\"\n",
    "    WITH vitals_stg_1 AS\n",
    "    (\n",
    "        SELECT icu.stay_id, cev.charttime, cev.valuenum\n",
    "        , CASE\n",
    "                WHEN itemid = 220045 THEN 'heart_rate'\n",
    "                WHEN itemid = 220046 THEN 'heart_rate_alarm_high'\n",
    "                WHEN itemid = 220047 THEN 'heart_rate_alarm_low'\n",
    "                WHEN itemid = 220179 THEN 'non_invasive_blood_pressure_systolic'\n",
    "                WHEN itemid = 220180 THEN 'non_invasive_blood_pressure_diastolic'\n",
    "                WHEN itemid = 220181 THEN 'non_invasive_blood_pressure_mean'\n",
    "                WHEN itemid = 220210 THEN 'respiratory_rate'\n",
    "                WHEN itemid = 220228 THEN 'hemoglobin'\n",
    "                WHEN itemid = 220277 THEN 'o_saturation_pulseoxymetry'\n",
    "                WHEN itemid = 220545 THEN 'hematocrit_serum_'\n",
    "                WHEN itemid = 220546 THEN 'wbc'\n",
    "                WHEN itemid = 220602 THEN 'chloride_serum_'\n",
    "                WHEN itemid = 220615 THEN 'creatinine_serum_'\n",
    "                WHEN itemid = 220621 THEN 'glucose_serum_'\n",
    "                WHEN itemid = 220635 THEN 'magnesium'\n",
    "                WHEN itemid = 220645 THEN 'sodium_serum_'\n",
    "                WHEN itemid = 223751 THEN 'non_invasive_blood_pressure_alarm_high'\n",
    "                WHEN itemid = 223752 THEN 'non_invasive_blood_pressure_alarm_low'\n",
    "                WHEN itemid = 223761 THEN 'temperature_fahrenheit'\n",
    "                WHEN itemid = 223769 THEN 'o_saturation_pulseoxymetry_alarm_high'\n",
    "                WHEN itemid = 223770 THEN 'o_saturation_pulseoxymetry_alarm_low'\n",
    "                WHEN itemid = 224161 THEN 'resp_alarm_high'\n",
    "                WHEN itemid = 224162 THEN 'resp_alarm_low'\n",
    "                WHEN itemid = 225624 THEN 'bun'\n",
    "                WHEN itemid = 225625 THEN 'calcium_non_ionized'\n",
    "                WHEN itemid = 225677 THEN 'phosphorous'\n",
    "                WHEN itemid = 226253 THEN 'spo_desat_limit'\n",
    "                WHEN itemid = 226512 THEN 'admission_weight_kg_'\n",
    "                WHEN itemid = 226531 THEN 'admission_weight_lbs_'\n",
    "                WHEN itemid = 227073 THEN 'anion_gap'\n",
    "            ELSE null\n",
    "            END AS label\n",
    "        FROM mimiciv.icustays icu\n",
    "        INNER JOIN mimiciv.chartevents cev\n",
    "        ON cev.stay_id = icu.stay_id\n",
    "        AND cev.charttime >= icu.intime\n",
    "        AND cev.charttime <= icu.intime + interval '24 hour'\n",
    "        WHERE cev.itemid IN\n",
    "        (\n",
    "            220045,\n",
    "            220046,\n",
    "            220047,\n",
    "            220179,\n",
    "            220180,\n",
    "            220181,\n",
    "            220210,\n",
    "            220228,\n",
    "            220277,\n",
    "            220545,\n",
    "            220546,\n",
    "            220602,\n",
    "            220615,\n",
    "            220621,\n",
    "            220635,\n",
    "            220645,\n",
    "            223751,\n",
    "            223752,\n",
    "            223761,\n",
    "            223769,\n",
    "            223770,\n",
    "            224161,\n",
    "            224162,\n",
    "            225624,\n",
    "            225625,\n",
    "            225677,\n",
    "            226253,\n",
    "            226512,\n",
    "            226531,\n",
    "            227073\n",
    "        )\n",
    "        AND valuenum IS NOT null\n",
    "    )\n",
    "    , vitals_stg_2 AS\n",
    "    (\n",
    "    SELECT\n",
    "        stay_id, valuenum, label\n",
    "        , ROW_NUMBER() OVER (PARTITION BY stay_id, label ORDER BY charttime) AS rn\n",
    "    FROM vitals_stg_1\n",
    "    )\n",
    "    , vitals_stg_3 AS\n",
    "    (\n",
    "    SELECT\n",
    "        stay_id\n",
    "        , rn\n",
    "        , COALESCE(MAX(CASE WHEN label = 'heart_rate' THEN valuenum ELSE null END)) AS heart_rate\n",
    "        , COALESCE(MAX(CASE WHEN label = 'heart_rate_alarm_high' THEN valuenum ELSE null END)) AS heart_rate_alarm_high\n",
    "        , COALESCE(MAX(CASE WHEN label = 'heart_rate_alarm_low' THEN valuenum ELSE null END)) AS heart_rate_alarm_low\n",
    "        , COALESCE(MAX(CASE WHEN label = 'non_invasive_blood_pressure_systolic' THEN valuenum ELSE null END)) AS non_invasive_blood_pressure_systolic\n",
    "        , COALESCE(MAX(CASE WHEN label = 'non_invasive_blood_pressure_diastolic' THEN valuenum ELSE null END)) AS non_invasive_blood_pressure_diastolic\n",
    "        , COALESCE(MAX(CASE WHEN label = 'non_invasive_blood_pressure_mean' THEN valuenum ELSE null END)) AS non_invasive_blood_pressure_mean\n",
    "        , COALESCE(MAX(CASE WHEN label = 'respiratory_rate' THEN valuenum ELSE null END)) AS respiratory_rate\n",
    "        , COALESCE(MAX(CASE WHEN label = 'hemoglobin' THEN valuenum ELSE null END)) AS hemoglobin\n",
    "        , COALESCE(MAX(CASE WHEN label = 'o_saturation_pulseoxymetry' THEN valuenum ELSE null END)) AS o_saturation_pulseoxymetry\n",
    "        , COALESCE(MAX(CASE WHEN label = 'hematocrit_serum_' THEN valuenum ELSE null END)) AS hematocrit_serum_\n",
    "        , COALESCE(MAX(CASE WHEN label = 'wbc' THEN valuenum ELSE null END)) AS wbc\n",
    "        , COALESCE(MAX(CASE WHEN label = 'chloride_serum_' THEN valuenum ELSE null END)) AS chloride_serum_\n",
    "        , COALESCE(MAX(CASE WHEN label = 'creatinine_serum_' THEN valuenum ELSE null END)) AS creatinine_serum_\n",
    "        , COALESCE(MAX(CASE WHEN label = 'glucose_serum_' THEN valuenum ELSE null END)) AS glucose_serum_\n",
    "        , COALESCE(MAX(CASE WHEN label = 'magnesium' THEN valuenum ELSE null END)) AS magnesium\n",
    "        , COALESCE(MAX(CASE WHEN label = 'sodium_serum_' THEN valuenum ELSE null END)) AS sodium_serum_\n",
    "        , COALESCE(MAX(CASE WHEN label = 'non_invasive_blood_pressure_alarm_high' THEN valuenum ELSE null END)) AS non_invasive_blood_pressure_alarm_high\n",
    "        , COALESCE(MAX(CASE WHEN label = 'non_invasive_blood_pressure_alarm_low' THEN valuenum ELSE null END)) AS non_invasive_blood_pressure_alarm_low\n",
    "        , COALESCE(MAX(CASE WHEN label = 'temperature_fahrenheit' THEN valuenum ELSE null END)) AS temperature_fahrenheit\n",
    "        , COALESCE(MAX(CASE WHEN label = 'o_saturation_pulseoxymetry_alarm_high' THEN valuenum ELSE null END)) AS o_saturation_pulseoxymetry_alarm_high\n",
    "        , COALESCE(MAX(CASE WHEN label = 'o_saturation_pulseoxymetry_alarm_low' THEN valuenum ELSE null END)) AS o_saturation_pulseoxymetry_alarm_low\n",
    "        , COALESCE(MAX(CASE WHEN label = 'resp_alarm_high' THEN valuenum ELSE null END)) AS resp_alarm_high\n",
    "        , COALESCE(MAX(CASE WHEN label = 'resp_alarm_low' THEN valuenum ELSE null END)) AS resp_alarm_low\n",
    "        , COALESCE(MAX(CASE WHEN label = 'bun' THEN valuenum ELSE null END)) AS bun\n",
    "        , COALESCE(MAX(CASE WHEN label = 'calcium_non_ionized' THEN valuenum ELSE null END)) AS calcium_non_ionized\n",
    "        , COALESCE(MAX(CASE WHEN label = 'phosphorous' THEN valuenum ELSE null END)) AS phosphorous\n",
    "        , COALESCE(MAX(CASE WHEN label = 'spo_desat_limit' THEN valuenum ELSE null END)) AS spo_desat_limit\n",
    "        , COALESCE(MAX(CASE WHEN label = 'admission_weight_kg_' THEN valuenum ELSE null END)) AS admission_weight_kg_\n",
    "        , COALESCE(MAX(CASE WHEN label = 'admission_weight_lbs_' THEN valuenum ELSE null END)) AS admission_weight_lbs_\n",
    "        , COALESCE(MAX(CASE WHEN label = 'anion_gap' THEN valuenum ELSE null END)) AS anion_gap\n",
    "    FROM vitals_stg_2\n",
    "    GROUP BY stay_id, rn\n",
    "    )\n",
    "    , vitals_stg_4 AS\n",
    "    (\n",
    "        SELECT\n",
    "        stay_id,\n",
    "        AVG(heart_rate) AS heart_rate,\n",
    "        AVG(heart_rate_alarm_high) AS heart_rate_alarm_high,\n",
    "        AVG(heart_rate_alarm_low) AS heart_rate_alarm_low,\n",
    "        AVG(non_invasive_blood_pressure_systolic) AS non_invasive_blood_pressure_systolic,\n",
    "        AVG(non_invasive_blood_pressure_diastolic) AS non_invasive_blood_pressure_diastolic,\n",
    "        AVG(non_invasive_blood_pressure_mean) AS non_invasive_blood_pressure_mean,\n",
    "        AVG(respiratory_rate) AS respiratory_rate,\n",
    "        AVG(hemoglobin) AS hemoglobin,\n",
    "        AVG(o_saturation_pulseoxymetry) AS o_saturation_pulseoxymetry,\n",
    "        AVG(hematocrit_serum_) AS hematocrit_serum_,\n",
    "        AVG(wbc) AS wbc,\n",
    "        AVG(chloride_serum_) AS chloride_serum_,\n",
    "        AVG(creatinine_serum_) AS creatinine_serum_,\n",
    "        AVG(glucose_serum_) AS glucose_serum_,\n",
    "        AVG(magnesium) AS magnesium,\n",
    "        AVG(sodium_serum_) AS sodium_serum_,\n",
    "        AVG(non_invasive_blood_pressure_alarm_high) AS non_invasive_blood_pressure_alarm_high,\n",
    "        AVG(non_invasive_blood_pressure_alarm_low) AS non_invasive_blood_pressure_alarm_low,\n",
    "        AVG(temperature_fahrenheit) AS temperature_fahrenheit,\n",
    "        AVG(o_saturation_pulseoxymetry_alarm_high) AS o_saturation_pulseoxymetry_alarm_high,\n",
    "        AVG(o_saturation_pulseoxymetry_alarm_low) AS o_saturation_pulseoxymetry_alarm_low,\n",
    "        AVG(resp_alarm_high) AS resp_alarm_high,\n",
    "        AVG(resp_alarm_low) AS resp_alarm_low,\n",
    "        AVG(bun) AS bun,\n",
    "        AVG(calcium_non_ionized) AS calcium_non_ionized,\n",
    "        AVG(phosphorous) AS phosphorous,\n",
    "        AVG(spo_desat_limit) AS spo_desat_limit,\n",
    "        AVG(admission_weight_kg_) AS admission_weight_kg_,\n",
    "        AVG(admission_weight_lbs_) AS admission_weight_lbs_,\n",
    "        AVG(anion_gap) AS anion_gap\n",
    "        FROM vitals_stg_3\n",
    "        GROUP BY stay_id\n",
    "    )\n",
    "    SELECT * FROM vitals_stg_4\n",
    "\"\"\"\n",
    "# \"\"\"\n",
    "# SELECT\n",
    "# *\n",
    "# FROM mimiciv.chartevents cev\n",
    "# WHERE cev.itemid IN \"\"\" + str(numericItemIds).replace('[', '(').replace(']', ')') + \"\"\"\n",
    "# \"\"\"\n",
    "\n",
    "itemidsDf = pd.read_sql_query(itemidQuery, con)"
   ]
  },
  {
   "cell_type": "code",
   "execution_count": 63,
   "id": "9b45462d",
   "metadata": {},
   "outputs": [
    {
     "data": {
      "text/html": [
       "<div>\n",
       "<style scoped>\n",
       "    .dataframe tbody tr th:only-of-type {\n",
       "        vertical-align: middle;\n",
       "    }\n",
       "\n",
       "    .dataframe tbody tr th {\n",
       "        vertical-align: top;\n",
       "    }\n",
       "\n",
       "    .dataframe thead th {\n",
       "        text-align: right;\n",
       "    }\n",
       "</style>\n",
       "<table border=\"1\" class=\"dataframe\">\n",
       "  <thead>\n",
       "    <tr style=\"text-align: right;\">\n",
       "      <th></th>\n",
       "      <th>stay_id</th>\n",
       "      <th>heart_rate</th>\n",
       "      <th>heart_rate_alarm_high</th>\n",
       "      <th>heart_rate_alarm_low</th>\n",
       "      <th>non_invasive_blood_pressure_systolic</th>\n",
       "      <th>non_invasive_blood_pressure_diastolic</th>\n",
       "      <th>non_invasive_blood_pressure_mean</th>\n",
       "      <th>respiratory_rate</th>\n",
       "      <th>hemoglobin</th>\n",
       "      <th>o_saturation_pulseoxymetry</th>\n",
       "      <th>...</th>\n",
       "      <th>o_saturation_pulseoxymetry_alarm_low</th>\n",
       "      <th>resp_alarm_high</th>\n",
       "      <th>resp_alarm_low</th>\n",
       "      <th>bun</th>\n",
       "      <th>calcium_non_ionized</th>\n",
       "      <th>phosphorous</th>\n",
       "      <th>spo_desat_limit</th>\n",
       "      <th>admission_weight_kg_</th>\n",
       "      <th>admission_weight_lbs_</th>\n",
       "      <th>anion_gap</th>\n",
       "    </tr>\n",
       "  </thead>\n",
       "  <tbody>\n",
       "    <tr>\n",
       "      <th>0</th>\n",
       "      <td>30000153</td>\n",
       "      <td>106.840000</td>\n",
       "      <td>127.500000</td>\n",
       "      <td>60.000000</td>\n",
       "      <td>137.111111</td>\n",
       "      <td>72.000000</td>\n",
       "      <td>86.333333</td>\n",
       "      <td>15.076923</td>\n",
       "      <td>10.30</td>\n",
       "      <td>96.640000</td>\n",
       "      <td>...</td>\n",
       "      <td>90.000000</td>\n",
       "      <td>32.500000</td>\n",
       "      <td>10.000000</td>\n",
       "      <td>22.000000</td>\n",
       "      <td>7.700000</td>\n",
       "      <td>3.650000</td>\n",
       "      <td>85.000000</td>\n",
       "      <td>NaN</td>\n",
       "      <td>NaN</td>\n",
       "      <td>12.000000</td>\n",
       "    </tr>\n",
       "    <tr>\n",
       "      <th>1</th>\n",
       "      <td>30000213</td>\n",
       "      <td>81.680000</td>\n",
       "      <td>130.000000</td>\n",
       "      <td>45.000000</td>\n",
       "      <td>134.920000</td>\n",
       "      <td>56.160000</td>\n",
       "      <td>79.120000</td>\n",
       "      <td>19.080000</td>\n",
       "      <td>7.40</td>\n",
       "      <td>98.960000</td>\n",
       "      <td>...</td>\n",
       "      <td>92.000000</td>\n",
       "      <td>35.000000</td>\n",
       "      <td>8.000000</td>\n",
       "      <td>60.666667</td>\n",
       "      <td>8.333333</td>\n",
       "      <td>5.733333</td>\n",
       "      <td>86.500000</td>\n",
       "      <td>NaN</td>\n",
       "      <td>NaN</td>\n",
       "      <td>15.666667</td>\n",
       "    </tr>\n",
       "    <tr>\n",
       "      <th>2</th>\n",
       "      <td>30000484</td>\n",
       "      <td>89.958333</td>\n",
       "      <td>120.000000</td>\n",
       "      <td>50.000000</td>\n",
       "      <td>105.750000</td>\n",
       "      <td>55.625000</td>\n",
       "      <td>65.083333</td>\n",
       "      <td>14.708333</td>\n",
       "      <td>8.10</td>\n",
       "      <td>99.791667</td>\n",
       "      <td>...</td>\n",
       "      <td>90.000000</td>\n",
       "      <td>30.000000</td>\n",
       "      <td>8.000000</td>\n",
       "      <td>47.000000</td>\n",
       "      <td>7.800000</td>\n",
       "      <td>1.900000</td>\n",
       "      <td>85.000000</td>\n",
       "      <td>NaN</td>\n",
       "      <td>150.7</td>\n",
       "      <td>10.000000</td>\n",
       "    </tr>\n",
       "    <tr>\n",
       "      <th>3</th>\n",
       "      <td>30000646</td>\n",
       "      <td>86.423729</td>\n",
       "      <td>120.000000</td>\n",
       "      <td>60.000000</td>\n",
       "      <td>92.703704</td>\n",
       "      <td>56.481481</td>\n",
       "      <td>64.666667</td>\n",
       "      <td>25.627119</td>\n",
       "      <td>13.00</td>\n",
       "      <td>95.610169</td>\n",
       "      <td>...</td>\n",
       "      <td>91.600000</td>\n",
       "      <td>39.000000</td>\n",
       "      <td>8.000000</td>\n",
       "      <td>11.000000</td>\n",
       "      <td>7.400000</td>\n",
       "      <td>3.100000</td>\n",
       "      <td>85.000000</td>\n",
       "      <td>NaN</td>\n",
       "      <td>168.1</td>\n",
       "      <td>12.333333</td>\n",
       "    </tr>\n",
       "    <tr>\n",
       "      <th>4</th>\n",
       "      <td>30001148</td>\n",
       "      <td>75.520000</td>\n",
       "      <td>100.000000</td>\n",
       "      <td>60.000000</td>\n",
       "      <td>106.333333</td>\n",
       "      <td>56.666667</td>\n",
       "      <td>68.500000</td>\n",
       "      <td>14.740741</td>\n",
       "      <td>10.10</td>\n",
       "      <td>98.360000</td>\n",
       "      <td>...</td>\n",
       "      <td>92.000000</td>\n",
       "      <td>31.666667</td>\n",
       "      <td>8.000000</td>\n",
       "      <td>10.500000</td>\n",
       "      <td>NaN</td>\n",
       "      <td>NaN</td>\n",
       "      <td>85.000000</td>\n",
       "      <td>65.7</td>\n",
       "      <td>144.5</td>\n",
       "      <td>10.000000</td>\n",
       "    </tr>\n",
       "    <tr>\n",
       "      <th>...</th>\n",
       "      <td>...</td>\n",
       "      <td>...</td>\n",
       "      <td>...</td>\n",
       "      <td>...</td>\n",
       "      <td>...</td>\n",
       "      <td>...</td>\n",
       "      <td>...</td>\n",
       "      <td>...</td>\n",
       "      <td>...</td>\n",
       "      <td>...</td>\n",
       "      <td>...</td>\n",
       "      <td>...</td>\n",
       "      <td>...</td>\n",
       "      <td>...</td>\n",
       "      <td>...</td>\n",
       "      <td>...</td>\n",
       "      <td>...</td>\n",
       "      <td>...</td>\n",
       "      <td>...</td>\n",
       "      <td>...</td>\n",
       "      <td>...</td>\n",
       "    </tr>\n",
       "    <tr>\n",
       "      <th>76517</th>\n",
       "      <td>39999301</td>\n",
       "      <td>59.884615</td>\n",
       "      <td>120.000000</td>\n",
       "      <td>50.000000</td>\n",
       "      <td>135.571429</td>\n",
       "      <td>87.714286</td>\n",
       "      <td>99.250000</td>\n",
       "      <td>15.807692</td>\n",
       "      <td>11.40</td>\n",
       "      <td>94.200000</td>\n",
       "      <td>...</td>\n",
       "      <td>90.000000</td>\n",
       "      <td>31.666667</td>\n",
       "      <td>8.000000</td>\n",
       "      <td>19.500000</td>\n",
       "      <td>8.800000</td>\n",
       "      <td>3.500000</td>\n",
       "      <td>85.000000</td>\n",
       "      <td>NaN</td>\n",
       "      <td>NaN</td>\n",
       "      <td>13.500000</td>\n",
       "    </tr>\n",
       "    <tr>\n",
       "      <th>76518</th>\n",
       "      <td>39999384</td>\n",
       "      <td>70.840000</td>\n",
       "      <td>125.000000</td>\n",
       "      <td>70.000000</td>\n",
       "      <td>137.600000</td>\n",
       "      <td>51.200000</td>\n",
       "      <td>72.700000</td>\n",
       "      <td>18.040000</td>\n",
       "      <td>7.85</td>\n",
       "      <td>98.160000</td>\n",
       "      <td>...</td>\n",
       "      <td>90.000000</td>\n",
       "      <td>35.000000</td>\n",
       "      <td>8.000000</td>\n",
       "      <td>91.000000</td>\n",
       "      <td>8.600000</td>\n",
       "      <td>5.400000</td>\n",
       "      <td>88.000000</td>\n",
       "      <td>NaN</td>\n",
       "      <td>147.4</td>\n",
       "      <td>16.000000</td>\n",
       "    </tr>\n",
       "    <tr>\n",
       "      <th>76519</th>\n",
       "      <td>39999552</td>\n",
       "      <td>85.125000</td>\n",
       "      <td>116.666667</td>\n",
       "      <td>60.000000</td>\n",
       "      <td>128.000000</td>\n",
       "      <td>66.000000</td>\n",
       "      <td>81.800000</td>\n",
       "      <td>16.571429</td>\n",
       "      <td>9.78</td>\n",
       "      <td>98.142857</td>\n",
       "      <td>...</td>\n",
       "      <td>92.000000</td>\n",
       "      <td>35.000000</td>\n",
       "      <td>8.000000</td>\n",
       "      <td>10.000000</td>\n",
       "      <td>8.800000</td>\n",
       "      <td>4.100000</td>\n",
       "      <td>85.000000</td>\n",
       "      <td>NaN</td>\n",
       "      <td>NaN</td>\n",
       "      <td>11.500000</td>\n",
       "    </tr>\n",
       "    <tr>\n",
       "      <th>76520</th>\n",
       "      <td>39999562</td>\n",
       "      <td>101.440000</td>\n",
       "      <td>100.000000</td>\n",
       "      <td>51.428571</td>\n",
       "      <td>136.384615</td>\n",
       "      <td>79.461538</td>\n",
       "      <td>95.615385</td>\n",
       "      <td>NaN</td>\n",
       "      <td>NaN</td>\n",
       "      <td>93.800000</td>\n",
       "      <td>...</td>\n",
       "      <td>92.000000</td>\n",
       "      <td>29.285714</td>\n",
       "      <td>8.285714</td>\n",
       "      <td>NaN</td>\n",
       "      <td>NaN</td>\n",
       "      <td>NaN</td>\n",
       "      <td>88.000000</td>\n",
       "      <td>NaN</td>\n",
       "      <td>NaN</td>\n",
       "      <td>NaN</td>\n",
       "    </tr>\n",
       "    <tr>\n",
       "      <th>76521</th>\n",
       "      <td>39999810</td>\n",
       "      <td>67.210526</td>\n",
       "      <td>130.000000</td>\n",
       "      <td>50.000000</td>\n",
       "      <td>138.500000</td>\n",
       "      <td>82.863636</td>\n",
       "      <td>99.772727</td>\n",
       "      <td>17.105263</td>\n",
       "      <td>13.70</td>\n",
       "      <td>96.315789</td>\n",
       "      <td>...</td>\n",
       "      <td>92.285714</td>\n",
       "      <td>30.000000</td>\n",
       "      <td>8.000000</td>\n",
       "      <td>16.500000</td>\n",
       "      <td>8.800000</td>\n",
       "      <td>3.550000</td>\n",
       "      <td>87.571429</td>\n",
       "      <td>NaN</td>\n",
       "      <td>158.4</td>\n",
       "      <td>18.000000</td>\n",
       "    </tr>\n",
       "  </tbody>\n",
       "</table>\n",
       "<p>76522 rows × 31 columns</p>\n",
       "</div>"
      ],
      "text/plain": [
       "        stay_id  heart_rate  heart_rate_alarm_high  heart_rate_alarm_low  \\\n",
       "0      30000153  106.840000             127.500000             60.000000   \n",
       "1      30000213   81.680000             130.000000             45.000000   \n",
       "2      30000484   89.958333             120.000000             50.000000   \n",
       "3      30000646   86.423729             120.000000             60.000000   \n",
       "4      30001148   75.520000             100.000000             60.000000   \n",
       "...         ...         ...                    ...                   ...   \n",
       "76517  39999301   59.884615             120.000000             50.000000   \n",
       "76518  39999384   70.840000             125.000000             70.000000   \n",
       "76519  39999552   85.125000             116.666667             60.000000   \n",
       "76520  39999562  101.440000             100.000000             51.428571   \n",
       "76521  39999810   67.210526             130.000000             50.000000   \n",
       "\n",
       "       non_invasive_blood_pressure_systolic  \\\n",
       "0                                137.111111   \n",
       "1                                134.920000   \n",
       "2                                105.750000   \n",
       "3                                 92.703704   \n",
       "4                                106.333333   \n",
       "...                                     ...   \n",
       "76517                            135.571429   \n",
       "76518                            137.600000   \n",
       "76519                            128.000000   \n",
       "76520                            136.384615   \n",
       "76521                            138.500000   \n",
       "\n",
       "       non_invasive_blood_pressure_diastolic  \\\n",
       "0                                  72.000000   \n",
       "1                                  56.160000   \n",
       "2                                  55.625000   \n",
       "3                                  56.481481   \n",
       "4                                  56.666667   \n",
       "...                                      ...   \n",
       "76517                              87.714286   \n",
       "76518                              51.200000   \n",
       "76519                              66.000000   \n",
       "76520                              79.461538   \n",
       "76521                              82.863636   \n",
       "\n",
       "       non_invasive_blood_pressure_mean  respiratory_rate  hemoglobin  \\\n",
       "0                             86.333333         15.076923       10.30   \n",
       "1                             79.120000         19.080000        7.40   \n",
       "2                             65.083333         14.708333        8.10   \n",
       "3                             64.666667         25.627119       13.00   \n",
       "4                             68.500000         14.740741       10.10   \n",
       "...                                 ...               ...         ...   \n",
       "76517                         99.250000         15.807692       11.40   \n",
       "76518                         72.700000         18.040000        7.85   \n",
       "76519                         81.800000         16.571429        9.78   \n",
       "76520                         95.615385               NaN         NaN   \n",
       "76521                         99.772727         17.105263       13.70   \n",
       "\n",
       "       o_saturation_pulseoxymetry  ...  o_saturation_pulseoxymetry_alarm_low  \\\n",
       "0                       96.640000  ...                             90.000000   \n",
       "1                       98.960000  ...                             92.000000   \n",
       "2                       99.791667  ...                             90.000000   \n",
       "3                       95.610169  ...                             91.600000   \n",
       "4                       98.360000  ...                             92.000000   \n",
       "...                           ...  ...                                   ...   \n",
       "76517                   94.200000  ...                             90.000000   \n",
       "76518                   98.160000  ...                             90.000000   \n",
       "76519                   98.142857  ...                             92.000000   \n",
       "76520                   93.800000  ...                             92.000000   \n",
       "76521                   96.315789  ...                             92.285714   \n",
       "\n",
       "       resp_alarm_high  resp_alarm_low        bun  calcium_non_ionized  \\\n",
       "0            32.500000       10.000000  22.000000             7.700000   \n",
       "1            35.000000        8.000000  60.666667             8.333333   \n",
       "2            30.000000        8.000000  47.000000             7.800000   \n",
       "3            39.000000        8.000000  11.000000             7.400000   \n",
       "4            31.666667        8.000000  10.500000                  NaN   \n",
       "...                ...             ...        ...                  ...   \n",
       "76517        31.666667        8.000000  19.500000             8.800000   \n",
       "76518        35.000000        8.000000  91.000000             8.600000   \n",
       "76519        35.000000        8.000000  10.000000             8.800000   \n",
       "76520        29.285714        8.285714        NaN                  NaN   \n",
       "76521        30.000000        8.000000  16.500000             8.800000   \n",
       "\n",
       "       phosphorous  spo_desat_limit  admission_weight_kg_  \\\n",
       "0         3.650000        85.000000                   NaN   \n",
       "1         5.733333        86.500000                   NaN   \n",
       "2         1.900000        85.000000                   NaN   \n",
       "3         3.100000        85.000000                   NaN   \n",
       "4              NaN        85.000000                  65.7   \n",
       "...            ...              ...                   ...   \n",
       "76517     3.500000        85.000000                   NaN   \n",
       "76518     5.400000        88.000000                   NaN   \n",
       "76519     4.100000        85.000000                   NaN   \n",
       "76520          NaN        88.000000                   NaN   \n",
       "76521     3.550000        87.571429                   NaN   \n",
       "\n",
       "       admission_weight_lbs_  anion_gap  \n",
       "0                        NaN  12.000000  \n",
       "1                        NaN  15.666667  \n",
       "2                      150.7  10.000000  \n",
       "3                      168.1  12.333333  \n",
       "4                      144.5  10.000000  \n",
       "...                      ...        ...  \n",
       "76517                    NaN  13.500000  \n",
       "76518                  147.4  16.000000  \n",
       "76519                    NaN  11.500000  \n",
       "76520                    NaN        NaN  \n",
       "76521                  158.4  18.000000  \n",
       "\n",
       "[76522 rows x 31 columns]"
      ]
     },
     "execution_count": 63,
     "metadata": {},
     "output_type": "execute_result"
    }
   ],
   "source": [
    "itemidsDf"
   ]
  },
  {
   "cell_type": "markdown",
   "id": "5ae5e0cd",
   "metadata": {},
   "source": [
    "# Save data"
   ]
  },
  {
   "cell_type": "code",
   "execution_count": 70,
   "id": "148ce826",
   "metadata": {},
   "outputs": [],
   "source": [
    "outpath = os.getcwd() + '/../../data/mimic_top_numeric_vitals.csv'\n",
    "itemidsDf.to_csv(outpath)"
   ]
  },
  {
   "cell_type": "markdown",
   "id": "8b45bf67",
   "metadata": {},
   "source": [
    "# Read anomaly file"
   ]
  },
  {
   "cell_type": "code",
   "execution_count": 71,
   "id": "1c9fa318",
   "metadata": {},
   "outputs": [],
   "source": [
    "anomalypath = os.getcwd() + '/../../data/mimic_top_numeric_vitals_anomalies.csv'\n",
    "anomalies_df = pd.read_csv(anomalypath)"
   ]
  },
  {
   "cell_type": "code",
   "execution_count": 72,
   "id": "72139ce9",
   "metadata": {},
   "outputs": [
    {
     "data": {
      "text/html": [
       "<div>\n",
       "<style scoped>\n",
       "    .dataframe tbody tr th:only-of-type {\n",
       "        vertical-align: middle;\n",
       "    }\n",
       "\n",
       "    .dataframe tbody tr th {\n",
       "        vertical-align: top;\n",
       "    }\n",
       "\n",
       "    .dataframe thead th {\n",
       "        text-align: right;\n",
       "    }\n",
       "</style>\n",
       "<table border=\"1\" class=\"dataframe\">\n",
       "  <thead>\n",
       "    <tr style=\"text-align: right;\">\n",
       "      <th></th>\n",
       "      <th>stay_id</th>\n",
       "      <th>heart_rate</th>\n",
       "      <th>heart_rate_alarm_high</th>\n",
       "      <th>heart_rate_alarm_low</th>\n",
       "      <th>non_invasive_blood_pressure_systolic</th>\n",
       "      <th>non_invasive_blood_pressure_diastolic</th>\n",
       "      <th>non_invasive_blood_pressure_mean</th>\n",
       "      <th>respiratory_rate</th>\n",
       "      <th>hemoglobin</th>\n",
       "      <th>o_saturation_pulseoxymetry</th>\n",
       "      <th>...</th>\n",
       "      <th>spo_desat_limit</th>\n",
       "      <th>admission_weight_kg_</th>\n",
       "      <th>admission_weight_lbs_</th>\n",
       "      <th>anion_gap</th>\n",
       "      <th>y_knn_agg</th>\n",
       "      <th>y_lof</th>\n",
       "      <th>y_inflo</th>\n",
       "      <th>y_kdeos</th>\n",
       "      <th>y_ldf</th>\n",
       "      <th>ensemble_scores</th>\n",
       "    </tr>\n",
       "  </thead>\n",
       "  <tbody>\n",
       "    <tr>\n",
       "      <th>0</th>\n",
       "      <td>30000153</td>\n",
       "      <td>106.840000</td>\n",
       "      <td>127.500000</td>\n",
       "      <td>60.000000</td>\n",
       "      <td>137.111111</td>\n",
       "      <td>72.000000</td>\n",
       "      <td>86.333333</td>\n",
       "      <td>15.076923</td>\n",
       "      <td>10.30</td>\n",
       "      <td>96.640000</td>\n",
       "      <td>...</td>\n",
       "      <td>85.000000</td>\n",
       "      <td>0.0</td>\n",
       "      <td>0.0</td>\n",
       "      <td>12.000000</td>\n",
       "      <td>3634.987255</td>\n",
       "      <td>1.093453</td>\n",
       "      <td>0.890150</td>\n",
       "      <td>0.279920</td>\n",
       "      <td>0.935516</td>\n",
       "      <td>4.311311</td>\n",
       "    </tr>\n",
       "    <tr>\n",
       "      <th>1</th>\n",
       "      <td>30000213</td>\n",
       "      <td>81.680000</td>\n",
       "      <td>130.000000</td>\n",
       "      <td>45.000000</td>\n",
       "      <td>134.920000</td>\n",
       "      <td>56.160000</td>\n",
       "      <td>79.120000</td>\n",
       "      <td>19.080000</td>\n",
       "      <td>7.40</td>\n",
       "      <td>98.960000</td>\n",
       "      <td>...</td>\n",
       "      <td>86.500000</td>\n",
       "      <td>0.0</td>\n",
       "      <td>0.0</td>\n",
       "      <td>15.666667</td>\n",
       "      <td>4528.195886</td>\n",
       "      <td>1.083567</td>\n",
       "      <td>0.860502</td>\n",
       "      <td>0.821136</td>\n",
       "      <td>0.935722</td>\n",
       "      <td>4.526844</td>\n",
       "    </tr>\n",
       "    <tr>\n",
       "      <th>2</th>\n",
       "      <td>30000484</td>\n",
       "      <td>89.958333</td>\n",
       "      <td>120.000000</td>\n",
       "      <td>50.000000</td>\n",
       "      <td>105.750000</td>\n",
       "      <td>55.625000</td>\n",
       "      <td>65.083333</td>\n",
       "      <td>14.708333</td>\n",
       "      <td>8.10</td>\n",
       "      <td>99.791667</td>\n",
       "      <td>...</td>\n",
       "      <td>85.000000</td>\n",
       "      <td>0.0</td>\n",
       "      <td>150.7</td>\n",
       "      <td>10.000000</td>\n",
       "      <td>3890.845865</td>\n",
       "      <td>1.035211</td>\n",
       "      <td>0.972753</td>\n",
       "      <td>0.626656</td>\n",
       "      <td>0.820872</td>\n",
       "      <td>4.061090</td>\n",
       "    </tr>\n",
       "    <tr>\n",
       "      <th>3</th>\n",
       "      <td>30000646</td>\n",
       "      <td>86.423729</td>\n",
       "      <td>120.000000</td>\n",
       "      <td>60.000000</td>\n",
       "      <td>92.703704</td>\n",
       "      <td>56.481481</td>\n",
       "      <td>64.666667</td>\n",
       "      <td>25.627119</td>\n",
       "      <td>13.00</td>\n",
       "      <td>95.610169</td>\n",
       "      <td>...</td>\n",
       "      <td>85.000000</td>\n",
       "      <td>0.0</td>\n",
       "      <td>168.1</td>\n",
       "      <td>12.333333</td>\n",
       "      <td>4162.207521</td>\n",
       "      <td>0.979509</td>\n",
       "      <td>0.963948</td>\n",
       "      <td>0.433535</td>\n",
       "      <td>0.461619</td>\n",
       "      <td>3.552068</td>\n",
       "    </tr>\n",
       "    <tr>\n",
       "      <th>4</th>\n",
       "      <td>30001148</td>\n",
       "      <td>75.520000</td>\n",
       "      <td>100.000000</td>\n",
       "      <td>60.000000</td>\n",
       "      <td>106.333333</td>\n",
       "      <td>56.666667</td>\n",
       "      <td>68.500000</td>\n",
       "      <td>14.740741</td>\n",
       "      <td>10.10</td>\n",
       "      <td>98.360000</td>\n",
       "      <td>...</td>\n",
       "      <td>85.000000</td>\n",
       "      <td>65.7</td>\n",
       "      <td>144.5</td>\n",
       "      <td>10.000000</td>\n",
       "      <td>5790.990963</td>\n",
       "      <td>1.006250</td>\n",
       "      <td>0.882803</td>\n",
       "      <td>0.580526</td>\n",
       "      <td>0.673494</td>\n",
       "      <td>4.203557</td>\n",
       "    </tr>\n",
       "    <tr>\n",
       "      <th>...</th>\n",
       "      <td>...</td>\n",
       "      <td>...</td>\n",
       "      <td>...</td>\n",
       "      <td>...</td>\n",
       "      <td>...</td>\n",
       "      <td>...</td>\n",
       "      <td>...</td>\n",
       "      <td>...</td>\n",
       "      <td>...</td>\n",
       "      <td>...</td>\n",
       "      <td>...</td>\n",
       "      <td>...</td>\n",
       "      <td>...</td>\n",
       "      <td>...</td>\n",
       "      <td>...</td>\n",
       "      <td>...</td>\n",
       "      <td>...</td>\n",
       "      <td>...</td>\n",
       "      <td>...</td>\n",
       "      <td>...</td>\n",
       "      <td>...</td>\n",
       "    </tr>\n",
       "    <tr>\n",
       "      <th>76517</th>\n",
       "      <td>39999301</td>\n",
       "      <td>59.884615</td>\n",
       "      <td>120.000000</td>\n",
       "      <td>50.000000</td>\n",
       "      <td>135.571429</td>\n",
       "      <td>87.714286</td>\n",
       "      <td>99.250000</td>\n",
       "      <td>15.807692</td>\n",
       "      <td>11.40</td>\n",
       "      <td>94.200000</td>\n",
       "      <td>...</td>\n",
       "      <td>85.000000</td>\n",
       "      <td>0.0</td>\n",
       "      <td>0.0</td>\n",
       "      <td>13.500000</td>\n",
       "      <td>7262.859234</td>\n",
       "      <td>1.471319</td>\n",
       "      <td>0.809738</td>\n",
       "      <td>0.083336</td>\n",
       "      <td>0.998970</td>\n",
       "      <td>6.020910</td>\n",
       "    </tr>\n",
       "    <tr>\n",
       "      <th>76518</th>\n",
       "      <td>39999384</td>\n",
       "      <td>70.840000</td>\n",
       "      <td>125.000000</td>\n",
       "      <td>70.000000</td>\n",
       "      <td>137.600000</td>\n",
       "      <td>51.200000</td>\n",
       "      <td>72.700000</td>\n",
       "      <td>18.040000</td>\n",
       "      <td>7.85</td>\n",
       "      <td>98.160000</td>\n",
       "      <td>...</td>\n",
       "      <td>88.000000</td>\n",
       "      <td>0.0</td>\n",
       "      <td>147.4</td>\n",
       "      <td>16.000000</td>\n",
       "      <td>7977.073769</td>\n",
       "      <td>1.164077</td>\n",
       "      <td>1.108124</td>\n",
       "      <td>0.439481</td>\n",
       "      <td>0.998985</td>\n",
       "      <td>5.683207</td>\n",
       "    </tr>\n",
       "    <tr>\n",
       "      <th>76519</th>\n",
       "      <td>39999552</td>\n",
       "      <td>85.125000</td>\n",
       "      <td>116.666667</td>\n",
       "      <td>60.000000</td>\n",
       "      <td>128.000000</td>\n",
       "      <td>66.000000</td>\n",
       "      <td>81.800000</td>\n",
       "      <td>16.571429</td>\n",
       "      <td>9.78</td>\n",
       "      <td>98.142857</td>\n",
       "      <td>...</td>\n",
       "      <td>85.000000</td>\n",
       "      <td>0.0</td>\n",
       "      <td>0.0</td>\n",
       "      <td>11.500000</td>\n",
       "      <td>2707.986901</td>\n",
       "      <td>1.012405</td>\n",
       "      <td>0.955783</td>\n",
       "      <td>0.131583</td>\n",
       "      <td>0.703469</td>\n",
       "      <td>3.365533</td>\n",
       "    </tr>\n",
       "    <tr>\n",
       "      <th>76520</th>\n",
       "      <td>39999562</td>\n",
       "      <td>101.440000</td>\n",
       "      <td>100.000000</td>\n",
       "      <td>51.428571</td>\n",
       "      <td>136.384615</td>\n",
       "      <td>79.461538</td>\n",
       "      <td>95.615385</td>\n",
       "      <td>0.000000</td>\n",
       "      <td>0.00</td>\n",
       "      <td>93.800000</td>\n",
       "      <td>...</td>\n",
       "      <td>88.000000</td>\n",
       "      <td>0.0</td>\n",
       "      <td>0.0</td>\n",
       "      <td>0.000000</td>\n",
       "      <td>5045.561537</td>\n",
       "      <td>1.762048</td>\n",
       "      <td>0.403767</td>\n",
       "      <td>0.616934</td>\n",
       "      <td>0.993433</td>\n",
       "      <td>5.675654</td>\n",
       "    </tr>\n",
       "    <tr>\n",
       "      <th>76521</th>\n",
       "      <td>39999810</td>\n",
       "      <td>67.210526</td>\n",
       "      <td>130.000000</td>\n",
       "      <td>50.000000</td>\n",
       "      <td>138.500000</td>\n",
       "      <td>82.863636</td>\n",
       "      <td>99.772727</td>\n",
       "      <td>17.105263</td>\n",
       "      <td>13.70</td>\n",
       "      <td>96.315789</td>\n",
       "      <td>...</td>\n",
       "      <td>87.571429</td>\n",
       "      <td>0.0</td>\n",
       "      <td>158.4</td>\n",
       "      <td>18.000000</td>\n",
       "      <td>3586.754365</td>\n",
       "      <td>1.051359</td>\n",
       "      <td>0.882501</td>\n",
       "      <td>0.132132</td>\n",
       "      <td>0.977274</td>\n",
       "      <td>4.212132</td>\n",
       "    </tr>\n",
       "  </tbody>\n",
       "</table>\n",
       "<p>76522 rows × 37 columns</p>\n",
       "</div>"
      ],
      "text/plain": [
       "        stay_id  heart_rate  heart_rate_alarm_high  heart_rate_alarm_low  \\\n",
       "0      30000153  106.840000             127.500000             60.000000   \n",
       "1      30000213   81.680000             130.000000             45.000000   \n",
       "2      30000484   89.958333             120.000000             50.000000   \n",
       "3      30000646   86.423729             120.000000             60.000000   \n",
       "4      30001148   75.520000             100.000000             60.000000   \n",
       "...         ...         ...                    ...                   ...   \n",
       "76517  39999301   59.884615             120.000000             50.000000   \n",
       "76518  39999384   70.840000             125.000000             70.000000   \n",
       "76519  39999552   85.125000             116.666667             60.000000   \n",
       "76520  39999562  101.440000             100.000000             51.428571   \n",
       "76521  39999810   67.210526             130.000000             50.000000   \n",
       "\n",
       "       non_invasive_blood_pressure_systolic  \\\n",
       "0                                137.111111   \n",
       "1                                134.920000   \n",
       "2                                105.750000   \n",
       "3                                 92.703704   \n",
       "4                                106.333333   \n",
       "...                                     ...   \n",
       "76517                            135.571429   \n",
       "76518                            137.600000   \n",
       "76519                            128.000000   \n",
       "76520                            136.384615   \n",
       "76521                            138.500000   \n",
       "\n",
       "       non_invasive_blood_pressure_diastolic  \\\n",
       "0                                  72.000000   \n",
       "1                                  56.160000   \n",
       "2                                  55.625000   \n",
       "3                                  56.481481   \n",
       "4                                  56.666667   \n",
       "...                                      ...   \n",
       "76517                              87.714286   \n",
       "76518                              51.200000   \n",
       "76519                              66.000000   \n",
       "76520                              79.461538   \n",
       "76521                              82.863636   \n",
       "\n",
       "       non_invasive_blood_pressure_mean  respiratory_rate  hemoglobin  \\\n",
       "0                             86.333333         15.076923       10.30   \n",
       "1                             79.120000         19.080000        7.40   \n",
       "2                             65.083333         14.708333        8.10   \n",
       "3                             64.666667         25.627119       13.00   \n",
       "4                             68.500000         14.740741       10.10   \n",
       "...                                 ...               ...         ...   \n",
       "76517                         99.250000         15.807692       11.40   \n",
       "76518                         72.700000         18.040000        7.85   \n",
       "76519                         81.800000         16.571429        9.78   \n",
       "76520                         95.615385          0.000000        0.00   \n",
       "76521                         99.772727         17.105263       13.70   \n",
       "\n",
       "       o_saturation_pulseoxymetry  ...  spo_desat_limit  admission_weight_kg_  \\\n",
       "0                       96.640000  ...        85.000000                   0.0   \n",
       "1                       98.960000  ...        86.500000                   0.0   \n",
       "2                       99.791667  ...        85.000000                   0.0   \n",
       "3                       95.610169  ...        85.000000                   0.0   \n",
       "4                       98.360000  ...        85.000000                  65.7   \n",
       "...                           ...  ...              ...                   ...   \n",
       "76517                   94.200000  ...        85.000000                   0.0   \n",
       "76518                   98.160000  ...        88.000000                   0.0   \n",
       "76519                   98.142857  ...        85.000000                   0.0   \n",
       "76520                   93.800000  ...        88.000000                   0.0   \n",
       "76521                   96.315789  ...        87.571429                   0.0   \n",
       "\n",
       "       admission_weight_lbs_  anion_gap    y_knn_agg     y_lof   y_inflo  \\\n",
       "0                        0.0  12.000000  3634.987255  1.093453  0.890150   \n",
       "1                        0.0  15.666667  4528.195886  1.083567  0.860502   \n",
       "2                      150.7  10.000000  3890.845865  1.035211  0.972753   \n",
       "3                      168.1  12.333333  4162.207521  0.979509  0.963948   \n",
       "4                      144.5  10.000000  5790.990963  1.006250  0.882803   \n",
       "...                      ...        ...          ...       ...       ...   \n",
       "76517                    0.0  13.500000  7262.859234  1.471319  0.809738   \n",
       "76518                  147.4  16.000000  7977.073769  1.164077  1.108124   \n",
       "76519                    0.0  11.500000  2707.986901  1.012405  0.955783   \n",
       "76520                    0.0   0.000000  5045.561537  1.762048  0.403767   \n",
       "76521                  158.4  18.000000  3586.754365  1.051359  0.882501   \n",
       "\n",
       "        y_kdeos     y_ldf  ensemble_scores  \n",
       "0      0.279920  0.935516         4.311311  \n",
       "1      0.821136  0.935722         4.526844  \n",
       "2      0.626656  0.820872         4.061090  \n",
       "3      0.433535  0.461619         3.552068  \n",
       "4      0.580526  0.673494         4.203557  \n",
       "...         ...       ...              ...  \n",
       "76517  0.083336  0.998970         6.020910  \n",
       "76518  0.439481  0.998985         5.683207  \n",
       "76519  0.131583  0.703469         3.365533  \n",
       "76520  0.616934  0.993433         5.675654  \n",
       "76521  0.132132  0.977274         4.212132  \n",
       "\n",
       "[76522 rows x 37 columns]"
      ]
     },
     "execution_count": 72,
     "metadata": {},
     "output_type": "execute_result"
    }
   ],
   "source": [
    "anomalies_df"
   ]
  },
  {
   "cell_type": "code",
   "execution_count": 73,
   "id": "67c91b14",
   "metadata": {},
   "outputs": [],
   "source": [
    "attributes = ['heart_rate', 'heart_rate_alarm_high', 'heart_rate_alarm_low', 'non_invasive_blood_pressure_systolic', 'non_invasive_blood_pressure_diastolic', 'non_invasive_blood_pressure_mean', 'respiratory_rate', 'hemoglobin', 'o_saturation_pulseoxymetry', 'hematocrit_serum_', 'wbc', 'chloride_serum_', 'creatinine_serum_', 'glucose_serum_', 'magnesium', 'sodium_serum_', 'non_invasive_blood_pressure_alarm_high', 'non_invasive_blood_pressure_alarm_low', 'temperature_fahrenheit', 'o_saturation_pulseoxymetry_alarm_high', 'o_saturation_pulseoxymetry_alarm_low', 'resp_alarm_high', 'resp_alarm_low', 'bun', 'calcium_non_ionized', 'phosphorous', 'spo_desat_limit', 'admission_weight_kg_', 'admission_weight_lbs_', 'anion_gap']"
   ]
  },
  {
   "cell_type": "markdown",
   "id": "17e2af55",
   "metadata": {},
   "source": [
    "# PCA without scaling"
   ]
  },
  {
   "cell_type": "code",
   "execution_count": 77,
   "id": "4d70f285",
   "metadata": {},
   "outputs": [
    {
     "data": {
      "text/plain": [
       "PCA(n_components=2)"
      ]
     },
     "execution_count": 77,
     "metadata": {},
     "output_type": "execute_result"
    }
   ],
   "source": [
    "pca = PCA(n_components=2)\n",
    "pca.fit(anomalies_df[attributes])"
   ]
  },
  {
   "cell_type": "code",
   "execution_count": 79,
   "id": "0e1550ae",
   "metadata": {},
   "outputs": [
    {
     "data": {
      "text/plain": [
       "array([0.58144629, 0.18194877])"
      ]
     },
     "execution_count": 79,
     "metadata": {},
     "output_type": "execute_result"
    }
   ],
   "source": [
    "pca.explained_variance_ratio_"
   ]
  },
  {
   "cell_type": "code",
   "execution_count": 80,
   "id": "89de80ac",
   "metadata": {},
   "outputs": [
    {
     "data": {
      "text/plain": [
       "array([5431972.24892773, 3038626.41869387])"
      ]
     },
     "execution_count": 80,
     "metadata": {},
     "output_type": "execute_result"
    }
   ],
   "source": [
    "pca.singular_values_"
   ]
  },
  {
   "cell_type": "code",
   "execution_count": 81,
   "id": "52015088",
   "metadata": {},
   "outputs": [
    {
     "data": {
      "text/plain": [
       "30"
      ]
     },
     "execution_count": 81,
     "metadata": {},
     "output_type": "execute_result"
    }
   ],
   "source": [
    "pca.n_features_in_"
   ]
  },
  {
   "cell_type": "code",
   "execution_count": 82,
   "id": "1316fa6a",
   "metadata": {},
   "outputs": [
    {
     "data": {
      "text/plain": [
       "array(['heart_rate', 'heart_rate_alarm_high', 'heart_rate_alarm_low',\n",
       "       'non_invasive_blood_pressure_systolic',\n",
       "       'non_invasive_blood_pressure_diastolic',\n",
       "       'non_invasive_blood_pressure_mean', 'respiratory_rate',\n",
       "       'hemoglobin', 'o_saturation_pulseoxymetry', 'hematocrit_serum_',\n",
       "       'wbc', 'chloride_serum_', 'creatinine_serum_', 'glucose_serum_',\n",
       "       'magnesium', 'sodium_serum_',\n",
       "       'non_invasive_blood_pressure_alarm_high',\n",
       "       'non_invasive_blood_pressure_alarm_low', 'temperature_fahrenheit',\n",
       "       'o_saturation_pulseoxymetry_alarm_high',\n",
       "       'o_saturation_pulseoxymetry_alarm_low', 'resp_alarm_high',\n",
       "       'resp_alarm_low', 'bun', 'calcium_non_ionized', 'phosphorous',\n",
       "       'spo_desat_limit', 'admission_weight_kg_', 'admission_weight_lbs_',\n",
       "       'anion_gap'], dtype=object)"
      ]
     },
     "execution_count": 82,
     "metadata": {},
     "output_type": "execute_result"
    }
   ],
   "source": [
    "pca.feature_names_in_"
   ]
  },
  {
   "cell_type": "code",
   "execution_count": 83,
   "id": "68923688",
   "metadata": {},
   "outputs": [],
   "source": [
    "anomalies_pca = pca.transform(anomalies_df[attributes])"
   ]
  },
  {
   "cell_type": "code",
   "execution_count": 85,
   "id": "53a63d63",
   "metadata": {},
   "outputs": [],
   "source": [
    "anomalies_pca1 = [row[0] for row in anomalies_pca]"
   ]
  },
  {
   "cell_type": "code",
   "execution_count": 86,
   "id": "3ef8b24a",
   "metadata": {},
   "outputs": [],
   "source": [
    "anomalies_pca2 = [row[1] for row in anomalies_pca]"
   ]
  },
  {
   "cell_type": "code",
   "execution_count": 87,
   "id": "18f1e95c",
   "metadata": {},
   "outputs": [],
   "source": [
    "anomalies_df['pca1'] = anomalies_pca1"
   ]
  },
  {
   "cell_type": "code",
   "execution_count": 88,
   "id": "2c666159",
   "metadata": {},
   "outputs": [],
   "source": [
    "anomalies_df['pca2'] = anomalies_pca2"
   ]
  },
  {
   "cell_type": "code",
   "execution_count": 89,
   "id": "2cd127aa",
   "metadata": {},
   "outputs": [
    {
     "data": {
      "text/html": [
       "<div>\n",
       "<style scoped>\n",
       "    .dataframe tbody tr th:only-of-type {\n",
       "        vertical-align: middle;\n",
       "    }\n",
       "\n",
       "    .dataframe tbody tr th {\n",
       "        vertical-align: top;\n",
       "    }\n",
       "\n",
       "    .dataframe thead th {\n",
       "        text-align: right;\n",
       "    }\n",
       "</style>\n",
       "<table border=\"1\" class=\"dataframe\">\n",
       "  <thead>\n",
       "    <tr style=\"text-align: right;\">\n",
       "      <th></th>\n",
       "      <th>stay_id</th>\n",
       "      <th>heart_rate</th>\n",
       "      <th>heart_rate_alarm_high</th>\n",
       "      <th>heart_rate_alarm_low</th>\n",
       "      <th>non_invasive_blood_pressure_systolic</th>\n",
       "      <th>non_invasive_blood_pressure_diastolic</th>\n",
       "      <th>non_invasive_blood_pressure_mean</th>\n",
       "      <th>respiratory_rate</th>\n",
       "      <th>hemoglobin</th>\n",
       "      <th>o_saturation_pulseoxymetry</th>\n",
       "      <th>...</th>\n",
       "      <th>admission_weight_lbs_</th>\n",
       "      <th>anion_gap</th>\n",
       "      <th>y_knn_agg</th>\n",
       "      <th>y_lof</th>\n",
       "      <th>y_inflo</th>\n",
       "      <th>y_kdeos</th>\n",
       "      <th>y_ldf</th>\n",
       "      <th>ensemble_scores</th>\n",
       "      <th>pca1</th>\n",
       "      <th>pca2</th>\n",
       "    </tr>\n",
       "  </thead>\n",
       "  <tbody>\n",
       "    <tr>\n",
       "      <th>0</th>\n",
       "      <td>30000153</td>\n",
       "      <td>106.840000</td>\n",
       "      <td>127.5</td>\n",
       "      <td>60.0</td>\n",
       "      <td>137.111111</td>\n",
       "      <td>72.000000</td>\n",
       "      <td>86.333333</td>\n",
       "      <td>15.076923</td>\n",
       "      <td>10.3</td>\n",
       "      <td>96.640000</td>\n",
       "      <td>...</td>\n",
       "      <td>0.0</td>\n",
       "      <td>12.000000</td>\n",
       "      <td>3634.987255</td>\n",
       "      <td>1.093453</td>\n",
       "      <td>0.890150</td>\n",
       "      <td>0.279920</td>\n",
       "      <td>0.935516</td>\n",
       "      <td>4.311311</td>\n",
       "      <td>-116.110875</td>\n",
       "      <td>-194.933993</td>\n",
       "    </tr>\n",
       "    <tr>\n",
       "      <th>1</th>\n",
       "      <td>30000213</td>\n",
       "      <td>81.680000</td>\n",
       "      <td>130.0</td>\n",
       "      <td>45.0</td>\n",
       "      <td>134.920000</td>\n",
       "      <td>56.160000</td>\n",
       "      <td>79.120000</td>\n",
       "      <td>19.080000</td>\n",
       "      <td>7.4</td>\n",
       "      <td>98.960000</td>\n",
       "      <td>...</td>\n",
       "      <td>0.0</td>\n",
       "      <td>15.666667</td>\n",
       "      <td>4528.195886</td>\n",
       "      <td>1.083567</td>\n",
       "      <td>0.860502</td>\n",
       "      <td>0.821136</td>\n",
       "      <td>0.935722</td>\n",
       "      <td>4.526844</td>\n",
       "      <td>-118.113504</td>\n",
       "      <td>-174.531413</td>\n",
       "    </tr>\n",
       "    <tr>\n",
       "      <th>2</th>\n",
       "      <td>30000484</td>\n",
       "      <td>89.958333</td>\n",
       "      <td>120.0</td>\n",
       "      <td>50.0</td>\n",
       "      <td>105.750000</td>\n",
       "      <td>55.625000</td>\n",
       "      <td>65.083333</td>\n",
       "      <td>14.708333</td>\n",
       "      <td>8.1</td>\n",
       "      <td>99.791667</td>\n",
       "      <td>...</td>\n",
       "      <td>150.7</td>\n",
       "      <td>10.000000</td>\n",
       "      <td>3890.845865</td>\n",
       "      <td>1.035211</td>\n",
       "      <td>0.972753</td>\n",
       "      <td>0.626656</td>\n",
       "      <td>0.820872</td>\n",
       "      <td>4.061090</td>\n",
       "      <td>-118.103387</td>\n",
       "      <td>-221.631842</td>\n",
       "    </tr>\n",
       "    <tr>\n",
       "      <th>3</th>\n",
       "      <td>30000646</td>\n",
       "      <td>86.423729</td>\n",
       "      <td>120.0</td>\n",
       "      <td>60.0</td>\n",
       "      <td>92.703704</td>\n",
       "      <td>56.481481</td>\n",
       "      <td>64.666667</td>\n",
       "      <td>25.627119</td>\n",
       "      <td>13.0</td>\n",
       "      <td>95.610169</td>\n",
       "      <td>...</td>\n",
       "      <td>168.1</td>\n",
       "      <td>12.333333</td>\n",
       "      <td>4162.207521</td>\n",
       "      <td>0.979509</td>\n",
       "      <td>0.963948</td>\n",
       "      <td>0.433535</td>\n",
       "      <td>0.461619</td>\n",
       "      <td>3.552068</td>\n",
       "      <td>-118.103352</td>\n",
       "      <td>-220.301322</td>\n",
       "    </tr>\n",
       "    <tr>\n",
       "      <th>4</th>\n",
       "      <td>30001148</td>\n",
       "      <td>75.520000</td>\n",
       "      <td>100.0</td>\n",
       "      <td>60.0</td>\n",
       "      <td>106.333333</td>\n",
       "      <td>56.666667</td>\n",
       "      <td>68.500000</td>\n",
       "      <td>14.740741</td>\n",
       "      <td>10.1</td>\n",
       "      <td>98.360000</td>\n",
       "      <td>...</td>\n",
       "      <td>144.5</td>\n",
       "      <td>10.000000</td>\n",
       "      <td>5790.990963</td>\n",
       "      <td>1.006250</td>\n",
       "      <td>0.882803</td>\n",
       "      <td>0.580526</td>\n",
       "      <td>0.673494</td>\n",
       "      <td>4.203557</td>\n",
       "      <td>-118.104270</td>\n",
       "      <td>-227.202850</td>\n",
       "    </tr>\n",
       "  </tbody>\n",
       "</table>\n",
       "<p>5 rows × 39 columns</p>\n",
       "</div>"
      ],
      "text/plain": [
       "    stay_id  heart_rate  heart_rate_alarm_high  heart_rate_alarm_low  \\\n",
       "0  30000153  106.840000                  127.5                  60.0   \n",
       "1  30000213   81.680000                  130.0                  45.0   \n",
       "2  30000484   89.958333                  120.0                  50.0   \n",
       "3  30000646   86.423729                  120.0                  60.0   \n",
       "4  30001148   75.520000                  100.0                  60.0   \n",
       "\n",
       "   non_invasive_blood_pressure_systolic  \\\n",
       "0                            137.111111   \n",
       "1                            134.920000   \n",
       "2                            105.750000   \n",
       "3                             92.703704   \n",
       "4                            106.333333   \n",
       "\n",
       "   non_invasive_blood_pressure_diastolic  non_invasive_blood_pressure_mean  \\\n",
       "0                              72.000000                         86.333333   \n",
       "1                              56.160000                         79.120000   \n",
       "2                              55.625000                         65.083333   \n",
       "3                              56.481481                         64.666667   \n",
       "4                              56.666667                         68.500000   \n",
       "\n",
       "   respiratory_rate  hemoglobin  o_saturation_pulseoxymetry  ...  \\\n",
       "0         15.076923        10.3                   96.640000  ...   \n",
       "1         19.080000         7.4                   98.960000  ...   \n",
       "2         14.708333         8.1                   99.791667  ...   \n",
       "3         25.627119        13.0                   95.610169  ...   \n",
       "4         14.740741        10.1                   98.360000  ...   \n",
       "\n",
       "   admission_weight_lbs_  anion_gap    y_knn_agg     y_lof   y_inflo  \\\n",
       "0                    0.0  12.000000  3634.987255  1.093453  0.890150   \n",
       "1                    0.0  15.666667  4528.195886  1.083567  0.860502   \n",
       "2                  150.7  10.000000  3890.845865  1.035211  0.972753   \n",
       "3                  168.1  12.333333  4162.207521  0.979509  0.963948   \n",
       "4                  144.5  10.000000  5790.990963  1.006250  0.882803   \n",
       "\n",
       "    y_kdeos     y_ldf  ensemble_scores        pca1        pca2  \n",
       "0  0.279920  0.935516         4.311311 -116.110875 -194.933993  \n",
       "1  0.821136  0.935722         4.526844 -118.113504 -174.531413  \n",
       "2  0.626656  0.820872         4.061090 -118.103387 -221.631842  \n",
       "3  0.433535  0.461619         3.552068 -118.103352 -220.301322  \n",
       "4  0.580526  0.673494         4.203557 -118.104270 -227.202850  \n",
       "\n",
       "[5 rows x 39 columns]"
      ]
     },
     "execution_count": 89,
     "metadata": {},
     "output_type": "execute_result"
    }
   ],
   "source": [
    "anomalies_df.head()"
   ]
  },
  {
   "cell_type": "code",
   "execution_count": 90,
   "id": "4153e56d",
   "metadata": {},
   "outputs": [
    {
     "data": {
      "text/plain": [
       "<AxesSubplot:xlabel='pca1', ylabel='pca2'>"
      ]
     },
     "execution_count": 90,
     "metadata": {},
     "output_type": "execute_result"
    },
    {
     "data": {
      "image/png": "[encoded data removed]",
      "text/plain": [
       "<Figure size 1080x576 with 1 Axes>"
      ]
     },
     "metadata": {
      "needs_background": "light"
     },
     "output_type": "display_data"
    }
   ],
   "source": [
    "plt.figure(figsize=(15,8))\n",
    "sns.scatterplot(\n",
    "    data = anomalies_df,\n",
    "    x = 'pca1', \n",
    "    y = 'pca2', \n",
    "    hue = \"ensemble_scores\",\n",
    ")"
   ]
  },
  {
   "cell_type": "code",
   "execution_count": 94,
   "id": "ecf26ea5",
   "metadata": {},
   "outputs": [
    {
     "data": {
      "text/plain": [
       "<AxesSubplot:xlabel='pca1', ylabel='pca2'>"
      ]
     },
     "execution_count": 94,
     "metadata": {},
     "output_type": "execute_result"
    },
    {
     "data": {
      "image/png": "[encoded data removed]",
      "text/plain": [
       "<Figure size 1080x576 with 1 Axes>"
      ]
     },
     "metadata": {
      "needs_background": "light"
     },
     "output_type": "display_data"
    }
   ],
   "source": [
    "plt.figure(figsize=(15,8))\n",
    "sns.scatterplot(\n",
    "    data = anomalies_df[\n",
    "        (anomalies_df.pca2 < 100) & \n",
    "        (anomalies_df.pca1 < 100) &\n",
    "        (anomalies_df.pca1 > -100)\n",
    "    ],\n",
    "    x = 'pca1', \n",
    "    y = 'pca2', \n",
    "    hue = \"ensemble_scores\",\n",
    ")"
   ]
  },
  {
   "cell_type": "markdown",
   "id": "584c8eef",
   "metadata": {},
   "source": [
    "# PCA - with scaling"
   ]
  },
  {
   "cell_type": "code",
   "execution_count": 95,
   "id": "482558c8",
   "metadata": {},
   "outputs": [],
   "source": [
    "for attribute in attributes:\n",
    "    anomalies_df[attribute + '_norm'] = (anomalies_df[attribute] - anomalies_df[attribute].mean())/anomalies_df[attribute].std()"
   ]
  },
  {
   "cell_type": "code",
   "execution_count": 96,
   "id": "f2d81378",
   "metadata": {},
   "outputs": [
    {
     "data": {
      "text/plain": [
       "PCA(n_components=2)"
      ]
     },
     "execution_count": 96,
     "metadata": {},
     "output_type": "execute_result"
    }
   ],
   "source": [
    "n_pca = PCA(n_components=2)\n",
    "n_pca.fit(anomalies_df[[attribute + '_norm' for attribute in attributes]])"
   ]
  },
  {
   "cell_type": "code",
   "execution_count": 97,
   "id": "d4479cb7",
   "metadata": {},
   "outputs": [
    {
     "data": {
      "text/plain": [
       "array([0.21684787, 0.06842761])"
      ]
     },
     "execution_count": 97,
     "metadata": {},
     "output_type": "execute_result"
    }
   ],
   "source": [
    "n_pca.explained_variance_ratio_"
   ]
  },
  {
   "cell_type": "code",
   "execution_count": 98,
   "id": "ff8f209b",
   "metadata": {},
   "outputs": [
    {
     "data": {
      "text/plain": [
       "array([705.5511871 , 396.33884234])"
      ]
     },
     "execution_count": 98,
     "metadata": {},
     "output_type": "execute_result"
    }
   ],
   "source": [
    "n_pca.singular_values_"
   ]
  },
  {
   "cell_type": "code",
   "execution_count": 99,
   "id": "a4736afb",
   "metadata": {},
   "outputs": [
    {
     "data": {
      "text/plain": [
       "30"
      ]
     },
     "execution_count": 99,
     "metadata": {},
     "output_type": "execute_result"
    }
   ],
   "source": [
    "n_pca.n_features_in_"
   ]
  },
  {
   "cell_type": "code",
   "execution_count": 100,
   "id": "1fd111f2",
   "metadata": {},
   "outputs": [
    {
     "data": {
      "text/plain": [
       "array(['heart_rate_norm', 'heart_rate_alarm_high_norm',\n",
       "       'heart_rate_alarm_low_norm',\n",
       "       'non_invasive_blood_pressure_systolic_norm',\n",
       "       'non_invasive_blood_pressure_diastolic_norm',\n",
       "       'non_invasive_blood_pressure_mean_norm', 'respiratory_rate_norm',\n",
       "       'hemoglobin_norm', 'o_saturation_pulseoxymetry_norm',\n",
       "       'hematocrit_serum__norm', 'wbc_norm', 'chloride_serum__norm',\n",
       "       'creatinine_serum__norm', 'glucose_serum__norm', 'magnesium_norm',\n",
       "       'sodium_serum__norm',\n",
       "       'non_invasive_blood_pressure_alarm_high_norm',\n",
       "       'non_invasive_blood_pressure_alarm_low_norm',\n",
       "       'temperature_fahrenheit_norm',\n",
       "       'o_saturation_pulseoxymetry_alarm_high_norm',\n",
       "       'o_saturation_pulseoxymetry_alarm_low_norm',\n",
       "       'resp_alarm_high_norm', 'resp_alarm_low_norm', 'bun_norm',\n",
       "       'calcium_non_ionized_norm', 'phosphorous_norm',\n",
       "       'spo_desat_limit_norm', 'admission_weight_kg__norm',\n",
       "       'admission_weight_lbs__norm', 'anion_gap_norm'], dtype=object)"
      ]
     },
     "execution_count": 100,
     "metadata": {},
     "output_type": "execute_result"
    }
   ],
   "source": [
    "n_pca.feature_names_in_"
   ]
  },
  {
   "cell_type": "code",
   "execution_count": 101,
   "id": "991a1292",
   "metadata": {},
   "outputs": [],
   "source": [
    "anomalies_n_pca = n_pca.transform(anomalies_df[[attribute + '_norm' for attribute in attributes]])"
   ]
  },
  {
   "cell_type": "code",
   "execution_count": 102,
   "id": "46f1c4b1",
   "metadata": {},
   "outputs": [],
   "source": [
    "anomalies_n_pca1 = [row[0] for row in anomalies_n_pca]"
   ]
  },
  {
   "cell_type": "code",
   "execution_count": 103,
   "id": "c25b9c92",
   "metadata": {},
   "outputs": [],
   "source": [
    "anomalies_n_pca2 = [row[1] for row in anomalies_n_pca]"
   ]
  },
  {
   "cell_type": "code",
   "execution_count": 104,
   "id": "7588eea0",
   "metadata": {},
   "outputs": [],
   "source": [
    "anomalies_df['n_pca1'] = anomalies_n_pca1"
   ]
  },
  {
   "cell_type": "code",
   "execution_count": 105,
   "id": "0163c97e",
   "metadata": {},
   "outputs": [],
   "source": [
    "anomalies_df['n_pca2'] = anomalies_n_pca2"
   ]
  },
  {
   "cell_type": "code",
   "execution_count": 106,
   "id": "574296f7",
   "metadata": {},
   "outputs": [
    {
     "data": {
      "text/html": [
       "<div>\n",
       "<style scoped>\n",
       "    .dataframe tbody tr th:only-of-type {\n",
       "        vertical-align: middle;\n",
       "    }\n",
       "\n",
       "    .dataframe tbody tr th {\n",
       "        vertical-align: top;\n",
       "    }\n",
       "\n",
       "    .dataframe thead th {\n",
       "        text-align: right;\n",
       "    }\n",
       "</style>\n",
       "<table border=\"1\" class=\"dataframe\">\n",
       "  <thead>\n",
       "    <tr style=\"text-align: right;\">\n",
       "      <th></th>\n",
       "      <th>stay_id</th>\n",
       "      <th>heart_rate</th>\n",
       "      <th>heart_rate_alarm_high</th>\n",
       "      <th>heart_rate_alarm_low</th>\n",
       "      <th>non_invasive_blood_pressure_systolic</th>\n",
       "      <th>non_invasive_blood_pressure_diastolic</th>\n",
       "      <th>non_invasive_blood_pressure_mean</th>\n",
       "      <th>respiratory_rate</th>\n",
       "      <th>hemoglobin</th>\n",
       "      <th>o_saturation_pulseoxymetry</th>\n",
       "      <th>...</th>\n",
       "      <th>resp_alarm_low_norm</th>\n",
       "      <th>bun_norm</th>\n",
       "      <th>calcium_non_ionized_norm</th>\n",
       "      <th>phosphorous_norm</th>\n",
       "      <th>spo_desat_limit_norm</th>\n",
       "      <th>admission_weight_kg__norm</th>\n",
       "      <th>admission_weight_lbs__norm</th>\n",
       "      <th>anion_gap_norm</th>\n",
       "      <th>n_pca1</th>\n",
       "      <th>n_pca2</th>\n",
       "    </tr>\n",
       "  </thead>\n",
       "  <tbody>\n",
       "    <tr>\n",
       "      <th>0</th>\n",
       "      <td>30000153</td>\n",
       "      <td>106.840000</td>\n",
       "      <td>127.5</td>\n",
       "      <td>60.0</td>\n",
       "      <td>137.111111</td>\n",
       "      <td>72.000000</td>\n",
       "      <td>86.333333</td>\n",
       "      <td>15.076923</td>\n",
       "      <td>10.3</td>\n",
       "      <td>96.640000</td>\n",
       "      <td>...</td>\n",
       "      <td>-0.005914</td>\n",
       "      <td>-0.016697</td>\n",
       "      <td>-0.007628</td>\n",
       "      <td>-0.007595</td>\n",
       "      <td>0.032054</td>\n",
       "      <td>-0.158572</td>\n",
       "      <td>-0.708905</td>\n",
       "      <td>-0.004526</td>\n",
       "      <td>-0.030348</td>\n",
       "      <td>-0.010134</td>\n",
       "    </tr>\n",
       "    <tr>\n",
       "      <th>1</th>\n",
       "      <td>30000213</td>\n",
       "      <td>81.680000</td>\n",
       "      <td>130.0</td>\n",
       "      <td>45.0</td>\n",
       "      <td>134.920000</td>\n",
       "      <td>56.160000</td>\n",
       "      <td>79.120000</td>\n",
       "      <td>19.080000</td>\n",
       "      <td>7.4</td>\n",
       "      <td>98.960000</td>\n",
       "      <td>...</td>\n",
       "      <td>-0.006016</td>\n",
       "      <td>-0.009383</td>\n",
       "      <td>-0.007424</td>\n",
       "      <td>-0.006923</td>\n",
       "      <td>0.108665</td>\n",
       "      <td>-0.158572</td>\n",
       "      <td>-0.708905</td>\n",
       "      <td>-0.002498</td>\n",
       "      <td>-0.029643</td>\n",
       "      <td>-0.014774</td>\n",
       "    </tr>\n",
       "    <tr>\n",
       "      <th>2</th>\n",
       "      <td>30000484</td>\n",
       "      <td>89.958333</td>\n",
       "      <td>120.0</td>\n",
       "      <td>50.0</td>\n",
       "      <td>105.750000</td>\n",
       "      <td>55.625000</td>\n",
       "      <td>65.083333</td>\n",
       "      <td>14.708333</td>\n",
       "      <td>8.1</td>\n",
       "      <td>99.791667</td>\n",
       "      <td>...</td>\n",
       "      <td>-0.006016</td>\n",
       "      <td>-0.011968</td>\n",
       "      <td>-0.007596</td>\n",
       "      <td>-0.008159</td>\n",
       "      <td>0.032054</td>\n",
       "      <td>-0.158572</td>\n",
       "      <td>0.151075</td>\n",
       "      <td>-0.005633</td>\n",
       "      <td>-0.034811</td>\n",
       "      <td>-0.015271</td>\n",
       "    </tr>\n",
       "    <tr>\n",
       "      <th>3</th>\n",
       "      <td>30000646</td>\n",
       "      <td>86.423729</td>\n",
       "      <td>120.0</td>\n",
       "      <td>60.0</td>\n",
       "      <td>92.703704</td>\n",
       "      <td>56.481481</td>\n",
       "      <td>64.666667</td>\n",
       "      <td>25.627119</td>\n",
       "      <td>13.0</td>\n",
       "      <td>95.610169</td>\n",
       "      <td>...</td>\n",
       "      <td>-0.006016</td>\n",
       "      <td>-0.018777</td>\n",
       "      <td>-0.007725</td>\n",
       "      <td>-0.007772</td>\n",
       "      <td>0.032054</td>\n",
       "      <td>-0.158572</td>\n",
       "      <td>0.250370</td>\n",
       "      <td>-0.004342</td>\n",
       "      <td>-0.034818</td>\n",
       "      <td>-0.015066</td>\n",
       "    </tr>\n",
       "    <tr>\n",
       "      <th>4</th>\n",
       "      <td>30001148</td>\n",
       "      <td>75.520000</td>\n",
       "      <td>100.0</td>\n",
       "      <td>60.0</td>\n",
       "      <td>106.333333</td>\n",
       "      <td>56.666667</td>\n",
       "      <td>68.500000</td>\n",
       "      <td>14.740741</td>\n",
       "      <td>10.1</td>\n",
       "      <td>98.360000</td>\n",
       "      <td>...</td>\n",
       "      <td>-0.006016</td>\n",
       "      <td>-0.018872</td>\n",
       "      <td>-0.010111</td>\n",
       "      <td>-0.008771</td>\n",
       "      <td>0.032054</td>\n",
       "      <td>4.607967</td>\n",
       "      <td>0.115695</td>\n",
       "      <td>-0.005633</td>\n",
       "      <td>-0.025606</td>\n",
       "      <td>-0.005334</td>\n",
       "    </tr>\n",
       "  </tbody>\n",
       "</table>\n",
       "<p>5 rows × 71 columns</p>\n",
       "</div>"
      ],
      "text/plain": [
       "    stay_id  heart_rate  heart_rate_alarm_high  heart_rate_alarm_low  \\\n",
       "0  30000153  106.840000                  127.5                  60.0   \n",
       "1  30000213   81.680000                  130.0                  45.0   \n",
       "2  30000484   89.958333                  120.0                  50.0   \n",
       "3  30000646   86.423729                  120.0                  60.0   \n",
       "4  30001148   75.520000                  100.0                  60.0   \n",
       "\n",
       "   non_invasive_blood_pressure_systolic  \\\n",
       "0                            137.111111   \n",
       "1                            134.920000   \n",
       "2                            105.750000   \n",
       "3                             92.703704   \n",
       "4                            106.333333   \n",
       "\n",
       "   non_invasive_blood_pressure_diastolic  non_invasive_blood_pressure_mean  \\\n",
       "0                              72.000000                         86.333333   \n",
       "1                              56.160000                         79.120000   \n",
       "2                              55.625000                         65.083333   \n",
       "3                              56.481481                         64.666667   \n",
       "4                              56.666667                         68.500000   \n",
       "\n",
       "   respiratory_rate  hemoglobin  o_saturation_pulseoxymetry  ...  \\\n",
       "0         15.076923        10.3                   96.640000  ...   \n",
       "1         19.080000         7.4                   98.960000  ...   \n",
       "2         14.708333         8.1                   99.791667  ...   \n",
       "3         25.627119        13.0                   95.610169  ...   \n",
       "4         14.740741        10.1                   98.360000  ...   \n",
       "\n",
       "   resp_alarm_low_norm  bun_norm  calcium_non_ionized_norm  phosphorous_norm  \\\n",
       "0            -0.005914 -0.016697                 -0.007628         -0.007595   \n",
       "1            -0.006016 -0.009383                 -0.007424         -0.006923   \n",
       "2            -0.006016 -0.011968                 -0.007596         -0.008159   \n",
       "3            -0.006016 -0.018777                 -0.007725         -0.007772   \n",
       "4            -0.006016 -0.018872                 -0.010111         -0.008771   \n",
       "\n",
       "   spo_desat_limit_norm  admission_weight_kg__norm  \\\n",
       "0              0.032054                  -0.158572   \n",
       "1              0.108665                  -0.158572   \n",
       "2              0.032054                  -0.158572   \n",
       "3              0.032054                  -0.158572   \n",
       "4              0.032054                   4.607967   \n",
       "\n",
       "   admission_weight_lbs__norm  anion_gap_norm    n_pca1    n_pca2  \n",
       "0                   -0.708905       -0.004526 -0.030348 -0.010134  \n",
       "1                   -0.708905       -0.002498 -0.029643 -0.014774  \n",
       "2                    0.151075       -0.005633 -0.034811 -0.015271  \n",
       "3                    0.250370       -0.004342 -0.034818 -0.015066  \n",
       "4                    0.115695       -0.005633 -0.025606 -0.005334  \n",
       "\n",
       "[5 rows x 71 columns]"
      ]
     },
     "execution_count": 106,
     "metadata": {},
     "output_type": "execute_result"
    }
   ],
   "source": [
    "anomalies_df.head()"
   ]
  },
  {
   "cell_type": "code",
   "execution_count": 107,
   "id": "92273876",
   "metadata": {},
   "outputs": [
    {
     "data": {
      "text/plain": [
       "<AxesSubplot:xlabel='n_pca1', ylabel='n_pca2'>"
      ]
     },
     "execution_count": 107,
     "metadata": {},
     "output_type": "execute_result"
    },
    {
     "data": {
      "image/png": "[encoded data removed]",
      "text/plain": [
       "<Figure size 1080x576 with 1 Axes>"
      ]
     },
     "metadata": {
      "needs_background": "light"
     },
     "output_type": "display_data"
    }
   ],
   "source": [
    "plt.figure(figsize=(15,8))\n",
    "sns.scatterplot(\n",
    "    data = anomalies_df,\n",
    "    x = 'n_pca1', \n",
    "    y = 'n_pca2', \n",
    "    hue = \"ensemble_scores\",\n",
    ")"
   ]
  },
  {
   "cell_type": "code",
   "execution_count": 109,
   "id": "6b406470",
   "metadata": {},
   "outputs": [
    {
     "data": {
      "text/plain": [
       "<AxesSubplot:xlabel='n_pca1', ylabel='n_pca2'>"
      ]
     },
     "execution_count": 109,
     "metadata": {},
     "output_type": "execute_result"
    },
    {
     "data": {
      "image/png": "[encoded data removed]",
      "text/plain": [
       "<Figure size 1080x576 with 1 Axes>"
      ]
     },
     "metadata": {
      "needs_background": "light"
     },
     "output_type": "display_data"
    }
   ],
   "source": [
    "plt.figure(figsize=(15,8))\n",
    "sns.scatterplot(\n",
    "    data = anomalies_df[\n",
    "        (anomalies_df.n_pca2 < 0.5) & \n",
    "        (anomalies_df.n_pca1 < 0.5) &\n",
    "        (anomalies_df.n_pca1 > -0.5)\n",
    "    ],\n",
    "    x = 'n_pca1', \n",
    "    y = 'n_pca2', \n",
    "    hue = 'ensemble_scores',\n",
    ")"
   ]
  },
  {
   "cell_type": "markdown",
   "id": "dd69c5ba",
   "metadata": {},
   "source": [
    "# Missing values"
   ]
  },
  {
   "cell_type": "code",
   "execution_count": 110,
   "id": "37655f4d",
   "metadata": {},
   "outputs": [],
   "source": [
    "anomalies_df['is_missing'] = [False] * anomalies_df.shape[0]"
   ]
  },
  {
   "cell_type": "code",
   "execution_count": 111,
   "id": "ca0af1c7",
   "metadata": {},
   "outputs": [],
   "source": [
    "for attribute in attributes:\n",
    "    anomalies_df['is_missing'] = (anomalies_df['is_missing']) | (anomalies_df[attribute] == 0)"
   ]
  },
  {
   "cell_type": "code",
   "execution_count": 112,
   "id": "be353e08",
   "metadata": {},
   "outputs": [
    {
     "data": {
      "text/plain": [
       "is_missing\n",
       "False    4.906542\n",
       "True     4.418146\n",
       "Name: ensemble_scores, dtype: float64"
      ]
     },
     "execution_count": 112,
     "metadata": {},
     "output_type": "execute_result"
    }
   ],
   "source": [
    "anomalies_df.groupby('is_missing')['ensemble_scores'].mean()"
   ]
  },
  {
   "cell_type": "code",
   "execution_count": 114,
   "id": "58588286",
   "metadata": {},
   "outputs": [
    {
     "data": {
      "image/png": "[encoded data removed]",
      "text/plain": [
       "<Figure size 432x288 with 1 Axes>"
      ]
     },
     "metadata": {
      "needs_background": "light"
     },
     "output_type": "display_data"
    }
   ],
   "source": [
    "fig, ax = plt.subplots()\n",
    "\n",
    "for key, grp in anomalies_df.groupby('is_missing')['ensemble_scores']:\n",
    "    ax = grp.plot(ax=ax, kind='density', x='ensemble_scores', label=key)\n",
    "\n",
    "plt.legend(loc='best')\n",
    "plt.show()"
   ]
  },
  {
   "cell_type": "code",
   "execution_count": 115,
   "id": "1a738ac0",
   "metadata": {},
   "outputs": [
    {
     "data": {
      "image/png": "[encoded data removed]",
      "text/plain": [
       "<Figure size 432x288 with 1 Axes>"
      ]
     },
     "metadata": {
      "needs_background": "light"
     },
     "output_type": "display_data"
    }
   ],
   "source": [
    "fpr, tpr, threshold = metrics.roc_curve(\n",
    "    anomalies_df['is_missing'],\n",
    "    anomalies_df['ensemble_scores'], \n",
    ")\n",
    "roc_auc = metrics.auc(fpr, tpr)\n",
    "\n",
    "# method I: plt\n",
    "import matplotlib.pyplot as plt\n",
    "plt.title('Receiver Operating Characteristic')\n",
    "plt.plot(fpr, tpr, 'b', label = 'AUC = %0.2f' % roc_auc)\n",
    "plt.legend(loc = 'lower right')\n",
    "plt.plot([0, 1], [0, 1],'r--')\n",
    "plt.xlim([0, 1])\n",
    "plt.ylim([0, 1])\n",
    "plt.ylabel('True Positive Rate')\n",
    "plt.xlabel('False Positive Rate')\n",
    "plt.show()"
   ]
  },
  {
   "cell_type": "code",
   "execution_count": 116,
   "id": "d42ebb33",
   "metadata": {},
   "outputs": [
    {
     "data": {
      "text/plain": [
       "[<matplotlib.lines.Line2D at 0x7f235ba78a30>]"
      ]
     },
     "execution_count": 116,
     "metadata": {},
     "output_type": "execute_result"
    },
    {
     "data": {
      "image/png": "[encoded data removed]",
      "text/plain": [
       "<Figure size 720x504 with 1 Axes>"
      ]
     },
     "metadata": {
      "needs_background": "light"
     },
     "output_type": "display_data"
    }
   ],
   "source": [
    "x = []\n",
    "y = []\n",
    "for i in np.arange(0, 25, 0.5):\n",
    "    x.append(i)\n",
    "    y.append(metrics.accuracy_score(\n",
    "        anomalies_df['is_missing'], \n",
    "        (anomalies_df['ensemble_scores'] > i)\n",
    "    ))\n",
    "\n",
    "plt.figure(figsize=(10,7))\n",
    "plt.plot(x, y)"
   ]
  },
  {
   "cell_type": "code",
   "execution_count": 117,
   "id": "4faa082d",
   "metadata": {},
   "outputs": [
    {
     "data": {
      "text/plain": [
       "[<matplotlib.lines.Line2D at 0x7f235948e6d0>]"
      ]
     },
     "execution_count": 117,
     "metadata": {},
     "output_type": "execute_result"
    },
    {
     "data": {
      "image/png": "[encoded data removed]",
      "text/plain": [
       "<Figure size 720x504 with 1 Axes>"
      ]
     },
     "metadata": {
      "needs_background": "light"
     },
     "output_type": "display_data"
    }
   ],
   "source": [
    "x = []\n",
    "y = []\n",
    "for i in np.arange(0, 25, 0.5):\n",
    "    x.append(i)\n",
    "    y.append(metrics.f1_score(\n",
    "        anomalies_df['is_missing'], \n",
    "        (anomalies_df['ensemble_scores'] > i)\n",
    "    ))\n",
    "\n",
    "plt.figure(figsize=(10,7))\n",
    "plt.plot(x, y)"
   ]
  },
  {
   "cell_type": "code",
   "execution_count": 119,
   "id": "54925887",
   "metadata": {},
   "outputs": [
    {
     "data": {
      "text/plain": [
       "0.1082275716951418"
      ]
     },
     "execution_count": 119,
     "metadata": {},
     "output_type": "execute_result"
    }
   ],
   "source": [
    "sum(anomalies_df[anomalies_df['ensemble_scores'] > 5.5]['is_missing'])/sum(anomalies_df['is_missing'])"
   ]
  },
  {
   "cell_type": "markdown",
   "id": "465cf898",
   "metadata": {},
   "source": [
    "# Outliers"
   ]
  },
  {
   "cell_type": "code",
   "execution_count": 120,
   "id": "4e8e5adf",
   "metadata": {},
   "outputs": [],
   "source": [
    "anomalies_df['is_outlier'] = [False] * anomalies_df.shape[0]"
   ]
  },
  {
   "cell_type": "code",
   "execution_count": 121,
   "id": "4460c789",
   "metadata": {},
   "outputs": [],
   "source": [
    "for attribute in attributes:\n",
    "    q1 = anomalies_df[attribute].quantile(0.25)\n",
    "    q3 = anomalies_df[attribute].quantile(0.75)\n",
    "    iqr = q3-q1 #Interquartile range\n",
    "    fence_low  = q1-1.5*iqr\n",
    "    fence_high = q3+1.5*iqr\n",
    "    anomalies_df['is_outlier'] = (anomalies_df['is_outlier']) | (anomalies_df[attribute] < fence_low) | (anomalies_df[attribute] > fence_high)"
   ]
  },
  {
   "cell_type": "code",
   "execution_count": 122,
   "id": "ed13cd15",
   "metadata": {},
   "outputs": [
    {
     "data": {
      "text/plain": [
       "is_outlier\n",
       "False    3.880059\n",
       "True     4.716013\n",
       "Name: ensemble_scores, dtype: float64"
      ]
     },
     "execution_count": 122,
     "metadata": {},
     "output_type": "execute_result"
    }
   ],
   "source": [
    "anomalies_df.groupby('is_outlier')['ensemble_scores'].mean()"
   ]
  },
  {
   "cell_type": "code",
   "execution_count": 126,
   "id": "7c9f8186",
   "metadata": {},
   "outputs": [
    {
     "data": {
      "image/png": "[encoded data removed]",
      "text/plain": [
       "<Figure size 432x288 with 1 Axes>"
      ]
     },
     "metadata": {
      "needs_background": "light"
     },
     "output_type": "display_data"
    }
   ],
   "source": [
    "fig, ax = plt.subplots()\n",
    "\n",
    "for key, grp in anomalies_df.groupby('is_outlier')['ensemble_scores']:\n",
    "    ax = grp.plot(ax=ax, kind='density', x='ensemble_scores', label=key)\n",
    "\n",
    "plt.legend(loc='best')\n",
    "plt.show()"
   ]
  },
  {
   "cell_type": "code",
   "execution_count": 127,
   "id": "e587817b",
   "metadata": {},
   "outputs": [
    {
     "data": {
      "image/png": "[encoded data removed]",
      "text/plain": [
       "<Figure size 432x288 with 1 Axes>"
      ]
     },
     "metadata": {
      "needs_background": "light"
     },
     "output_type": "display_data"
    }
   ],
   "source": [
    "fpr, tpr, threshold = metrics.roc_curve(\n",
    "    anomalies_df['is_outlier'],\n",
    "    anomalies_df['ensemble_scores'], \n",
    ")\n",
    "roc_auc = metrics.auc(fpr, tpr)\n",
    "\n",
    "# method I: plt\n",
    "import matplotlib.pyplot as plt\n",
    "plt.title('Receiver Operating Characteristic')\n",
    "plt.plot(fpr, tpr, 'b', label = 'AUC = %0.2f' % roc_auc)\n",
    "plt.legend(loc = 'lower right')\n",
    "plt.plot([0, 1], [0, 1],'r--')\n",
    "plt.xlim([0, 1])\n",
    "plt.ylim([0, 1])\n",
    "plt.ylabel('True Positive Rate')\n",
    "plt.xlabel('False Positive Rate')\n",
    "plt.show()"
   ]
  },
  {
   "cell_type": "code",
   "execution_count": 128,
   "id": "9345403f",
   "metadata": {},
   "outputs": [
    {
     "data": {
      "text/plain": [
       "[<matplotlib.lines.Line2D at 0x7f240b374790>]"
      ]
     },
     "execution_count": 128,
     "metadata": {},
     "output_type": "execute_result"
    },
    {
     "data": {
      "image/png": "[encoded data removed]",
      "text/plain": [
       "<Figure size 720x504 with 1 Axes>"
      ]
     },
     "metadata": {
      "needs_background": "light"
     },
     "output_type": "display_data"
    }
   ],
   "source": [
    "x = []\n",
    "y = []\n",
    "for i in np.arange(0, 25, 0.5):\n",
    "    x.append(i)\n",
    "    y.append(metrics.accuracy_score(\n",
    "        anomalies_df['is_outlier'], \n",
    "        (anomalies_df['ensemble_scores'] > i)\n",
    "    ))\n",
    "\n",
    "plt.figure(figsize=(10,7))\n",
    "plt.plot(x, y)"
   ]
  },
  {
   "cell_type": "code",
   "execution_count": 130,
   "id": "bd5b5b52",
   "metadata": {},
   "outputs": [
    {
     "data": {
      "text/plain": [
       "[<matplotlib.lines.Line2D at 0x7f2407c3c730>]"
      ]
     },
     "execution_count": 130,
     "metadata": {},
     "output_type": "execute_result"
    },
    {
     "data": {
      "image/png": "[encoded data removed]",
      "text/plain": [
       "<Figure size 720x504 with 1 Axes>"
      ]
     },
     "metadata": {
      "needs_background": "light"
     },
     "output_type": "display_data"
    }
   ],
   "source": [
    "x = []\n",
    "y = []\n",
    "for i in np.arange(0, 25, 0.5):\n",
    "    x.append(i)\n",
    "    y.append(metrics.f1_score(\n",
    "        anomalies_df['is_outlier'], \n",
    "        (anomalies_df['ensemble_scores'] > i)\n",
    "    ))\n",
    "\n",
    "plt.figure(figsize=(10,7))\n",
    "plt.plot(x, y)"
   ]
  },
  {
   "cell_type": "code",
   "execution_count": 132,
   "id": "572c6626",
   "metadata": {},
   "outputs": [
    {
     "data": {
      "text/plain": [
       "0.5441625180664846"
      ]
     },
     "execution_count": 132,
     "metadata": {},
     "output_type": "execute_result"
    }
   ],
   "source": [
    "sum(anomalies_df[anomalies_df['ensemble_scores'] > 4.5]['is_outlier'])/sum(anomalies_df['is_outlier'])"
   ]
  },
  {
   "cell_type": "code",
   "execution_count": 133,
   "id": "143120cb",
   "metadata": {},
   "outputs": [
    {
     "data": {
      "text/plain": [
       "27108"
      ]
     },
     "execution_count": 133,
     "metadata": {},
     "output_type": "execute_result"
    }
   ],
   "source": [
    "sum(anomalies_df[anomalies_df['ensemble_scores'] > 4.5]['is_outlier'])"
   ]
  },
  {
   "cell_type": "code",
   "execution_count": 134,
   "id": "8cc5bee5",
   "metadata": {},
   "outputs": [
    {
     "data": {
      "text/plain": [
       "49816"
      ]
     },
     "execution_count": 134,
     "metadata": {},
     "output_type": "execute_result"
    }
   ],
   "source": [
    "sum(anomalies_df['is_outlier'])"
   ]
  },
  {
   "cell_type": "code",
   "execution_count": 136,
   "id": "f4fee23b",
   "metadata": {},
   "outputs": [
    {
     "data": {
      "text/plain": [
       "30592"
      ]
     },
     "execution_count": 136,
     "metadata": {},
     "output_type": "execute_result"
    }
   ],
   "source": [
    "sum(anomalies_df['ensemble_scores'] > 4.5)"
   ]
  },
  {
   "cell_type": "code",
   "execution_count": 137,
   "id": "a73f8f33",
   "metadata": {},
   "outputs": [
    {
     "data": {
      "text/plain": [
       "<AxesSubplot:>"
      ]
     },
     "execution_count": 137,
     "metadata": {},
     "output_type": "execute_result"
    },
    {
     "data": {
      "image/png": "[encoded data removed]",
      "text/plain": [
       "<Figure size 432x288 with 1 Axes>"
      ]
     },
     "metadata": {
      "needs_background": "light"
     },
     "output_type": "display_data"
    }
   ],
   "source": [
    "anomalies_df['ensemble_scores'].hist()"
   ]
  }
 ],
 "metadata": {
  "kernelspec": {
   "display_name": "Python 3 (ipykernel)",
   "language": "python",
   "name": "python3"
  },
  "language_info": {
   "codemirror_mode": {
    "name": "ipython",
    "version": 3
   },
   "file_extension": ".py",
   "mimetype": "text/x-python",
   "name": "python",
   "nbconvert_exporter": "python",
   "pygments_lexer": "ipython3",
   "version": "3.9.1"
  }
 },
 "nbformat": 4,
 "nbformat_minor": 5
}
