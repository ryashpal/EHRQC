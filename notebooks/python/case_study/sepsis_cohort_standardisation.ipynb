{
 "cells": [
  {
   "cell_type": "markdown",
   "metadata": {},
   "source": [
    "# Standardise Sepsis ICD Cohort data"
   ]
  },
  {
   "cell_type": "markdown",
   "metadata": {},
   "source": [
    "## Verify EHR-QC Docker Installation"
   ]
  },
  {
   "cell_type": "code",
   "execution_count": 1,
   "metadata": {},
   "outputs": [
    {
     "name": "stdout",
     "output_type": "stream",
     "text": [
      "EHRQC 1.0\n"
     ]
    },
    {
     "data": {
      "text/plain": [
       "0"
      ]
     },
     "execution_count": 1,
     "metadata": {},
     "output_type": "execute_result"
    }
   ],
   "source": [
    "import os\n",
    "\n",
    "os.system(\n",
    "    '''cd /superbugai-data/yash/chapter_1/workspace/EHRQC;'''\n",
    "    +\n",
    "    '''python -m EHRQC -v'''\n",
    "    )"
   ]
  },
  {
   "cell_type": "markdown",
   "metadata": {},
   "source": [
    "## Utility Functions"
   ]
  },
  {
   "cell_type": "code",
   "execution_count": 2,
   "metadata": {},
   "outputs": [],
   "source": [
    "def getConnection():\n",
    "\n",
    "    import psycopg2\n",
    "    # Connect to postgres with a copy of the MIMIC-III database\n",
    "    con = psycopg2.connect(\n",
    "        dbname='mimic4',\n",
    "        user='postgres',\n",
    "        host='localhost',\n",
    "        port=5434,\n",
    "        password='mysecretpassword'\n",
    "        )\n",
    "\n",
    "    return con"
   ]
  },
  {
   "cell_type": "code",
   "execution_count": 3,
   "metadata": {},
   "outputs": [],
   "source": [
    "import os\n",
    "\n",
    "def generateCsv(query, filePath):\n",
    "    os.system(\n",
    "        '''export PGPASSWORD=\"mysecretpassword\";'''\n",
    "        +\n",
    "        '''psql -h localhost -p 5434 -d mimic4 -U postgres -c \"\\copy (''' + query + ''') To STDOUT With CSV HEADER DELIMITER ',';\" > ''' + filePath\n",
    "        )"
   ]
  },
  {
   "cell_type": "code",
   "execution_count": 4,
   "metadata": {},
   "outputs": [],
   "source": [
    "con = getConnection()"
   ]
  },
  {
   "cell_type": "markdown",
   "metadata": {},
   "source": [
    "## Create Sepsis ICD Cohort csv files"
   ]
  },
  {
   "cell_type": "markdown",
   "metadata": {},
   "source": [
    "### Create Cohort"
   ]
  },
  {
   "cell_type": "code",
   "execution_count": 5,
   "metadata": {},
   "outputs": [],
   "source": [
    "dropCohortQuery = \"\"\"drop table if exists omop_migration_source_20230809.cohort cascade\"\"\"\n",
    "createCohortQuery = \"\"\"create table omop_migration_source_20230809.cohort as\n",
    "(\n",
    "\tselect\n",
    "\tdistinct subject_id, hadm_id\n",
    "\tfrom\n",
    "\tmimiciv.diagnoses_icd\n",
    "\twhere\n",
    "\t(icd_code in ('99591', '99592', '78552') and icd_version = 9)\n",
    "\tor\n",
    "\t(icd_code in ('A419', 'R6520', 'R6521') and icd_version = 10)\n",
    ")\n",
    ";\n",
    "\"\"\"\n",
    "\n",
    "with con:\n",
    "    with con.cursor() as cursor:\n",
    "        cursor.execute(dropCohortQuery)\n",
    "        cursor.execute(createCohortQuery)\n"
   ]
  },
  {
   "cell_type": "markdown",
   "metadata": {},
   "source": [
    "### Save Cohort"
   ]
  },
  {
   "cell_type": "code",
   "execution_count": 8,
   "metadata": {},
   "outputs": [],
   "source": [
    "query = '''select * from omop_migration_source_20230809.cohort'''\n",
    "filePath='/superbugai-data/mimiciv/sepsis_icd/cohort.csv'\n",
    "\n",
    "generateCsv(query=query, filePath=filePath)"
   ]
  },
  {
   "cell_type": "markdown",
   "metadata": {},
   "source": [
    "### Save Patients"
   ]
  },
  {
   "cell_type": "code",
   "execution_count": 10,
   "metadata": {},
   "outputs": [],
   "source": [
    "query = '''select * from\n",
    "\tmimiciv.patients\n",
    "\twhere subject_id in (\n",
    "\t\tselect subject_id from omop_migration_source_20230809.cohort\n",
    "\t)\n",
    "'''\n",
    "filePath='/superbugai-data/mimiciv/sepsis_icd/patients.csv'\n",
    "\n",
    "generateCsv(query=query, filePath=filePath)"
   ]
  },
  {
   "cell_type": "markdown",
   "metadata": {},
   "source": [
    "### Save Admissions"
   ]
  },
  {
   "cell_type": "code",
   "execution_count": 11,
   "metadata": {},
   "outputs": [],
   "source": [
    "query = '''select * from\n",
    "    mimiciv.admissions\n",
    "    where (subject_id, hadm_id) in (\n",
    "        select subject_id, hadm_id from omop_migration_source_20230809.cohort\n",
    "    )\n",
    "'''\n",
    "filePath='/superbugai-data/mimiciv/sepsis_icd/admissions.csv'\n",
    "\n",
    "generateCsv(query=query, filePath=filePath)"
   ]
  },
  {
   "cell_type": "markdown",
   "metadata": {},
   "source": [
    "### Save Transfers"
   ]
  },
  {
   "cell_type": "code",
   "execution_count": 12,
   "metadata": {},
   "outputs": [],
   "source": [
    "query = '''select * from\n",
    "    mimiciv.transfers\n",
    "    where (subject_id, hadm_id) in (\n",
    "        select subject_id, hadm_id from omop_migration_source_20230809.cohort\n",
    "    )\n",
    "'''\n",
    "filePath='/superbugai-data/mimiciv/sepsis_icd/transfers.csv'\n",
    "\n",
    "generateCsv(query=query, filePath=filePath)"
   ]
  },
  {
   "cell_type": "markdown",
   "metadata": {},
   "source": [
    "### Diagnoses ICD"
   ]
  },
  {
   "cell_type": "code",
   "execution_count": 13,
   "metadata": {},
   "outputs": [],
   "source": [
    "query = '''select * from\n",
    "    mimiciv.diagnoses_icd\n",
    "    where (subject_id, hadm_id) in (\n",
    "        select subject_id, hadm_id from omop_migration_source_20230809.cohort\n",
    "    )\n",
    "'''\n",
    "filePath='/superbugai-data/mimiciv/sepsis_icd/diagnoses_icd.csv'\n",
    "\n",
    "generateCsv(query=query, filePath=filePath)"
   ]
  },
  {
   "cell_type": "markdown",
   "metadata": {},
   "source": [
    "### Services"
   ]
  },
  {
   "cell_type": "code",
   "execution_count": 14,
   "metadata": {},
   "outputs": [],
   "source": [
    "query = '''select * from\n",
    "    mimiciv.services\n",
    "    where (subject_id, hadm_id) in (\n",
    "        select subject_id, hadm_id from omop_migration_source_20230809.cohort\n",
    "    )\n",
    "'''\n",
    "filePath='/superbugai-data/mimiciv/sepsis_icd/services.csv'\n",
    "\n",
    "generateCsv(query=query, filePath=filePath)"
   ]
  },
  {
   "cell_type": "markdown",
   "metadata": {},
   "source": [
    "### Labevents"
   ]
  },
  {
   "cell_type": "code",
   "execution_count": 15,
   "metadata": {},
   "outputs": [],
   "source": [
    "query = '''select * from\n",
    "    mimiciv.labevents\n",
    "    where (subject_id, hadm_id) in (\n",
    "        select subject_id, hadm_id from omop_migration_source_20230809.cohort\n",
    "    )\n",
    "'''\n",
    "filePath='/superbugai-data/mimiciv/sepsis_icd/labevents.csv'\n",
    "\n",
    "generateCsv(query=query, filePath=filePath)"
   ]
  },
  {
   "cell_type": "markdown",
   "metadata": {},
   "source": [
    "### Procedures ICD"
   ]
  },
  {
   "cell_type": "code",
   "execution_count": 16,
   "metadata": {},
   "outputs": [],
   "source": [
    "query = '''select * from\n",
    "    mimiciv.procedures_icd\n",
    "    where (subject_id, hadm_id) in (\n",
    "        select subject_id, hadm_id from omop_migration_source_20230809.cohort\n",
    "    )\n",
    "'''\n",
    "filePath='/superbugai-data/mimiciv/sepsis_icd/procedures_icd.csv'\n",
    "\n",
    "generateCsv(query=query, filePath=filePath)"
   ]
  },
  {
   "cell_type": "markdown",
   "metadata": {},
   "source": [
    "### Prescriptions"
   ]
  },
  {
   "cell_type": "code",
   "execution_count": 17,
   "metadata": {},
   "outputs": [],
   "source": [
    "query = '''select * from\n",
    "    mimiciv.prescriptions\n",
    "    where (subject_id, hadm_id) in (\n",
    "        select subject_id, hadm_id from omop_migration_source_20230809.cohort\n",
    "    )\n",
    "'''\n",
    "filePath='/superbugai-data/mimiciv/sepsis_icd/prescriptions.csv'\n",
    "\n",
    "generateCsv(query=query, filePath=filePath)"
   ]
  },
  {
   "cell_type": "markdown",
   "metadata": {},
   "source": [
    "### Procedureevents"
   ]
  },
  {
   "cell_type": "code",
   "execution_count": 18,
   "metadata": {},
   "outputs": [],
   "source": [
    "query = '''select * from\n",
    "    mimiciv.procedureevents\n",
    "    where (subject_id, hadm_id) in (\n",
    "        select subject_id, hadm_id from omop_migration_source_20230809.cohort\n",
    "    )\n",
    "'''\n",
    "filePath='/superbugai-data/mimiciv/sepsis_icd/procedureevents.csv'\n",
    "\n",
    "generateCsv(query=query, filePath=filePath)"
   ]
  },
  {
   "cell_type": "markdown",
   "metadata": {},
   "source": [
    "### Date Time Events"
   ]
  },
  {
   "cell_type": "code",
   "execution_count": 19,
   "metadata": {},
   "outputs": [],
   "source": [
    "query = '''\n",
    "    select * from\n",
    "    mimiciv.datetimeevents\n",
    "    where (subject_id, hadm_id) in (\n",
    "        select subject_id, hadm_id from omop_migration_source_20230809.cohort\n",
    "    )\n",
    "'''\n",
    "filePath='/superbugai-data/mimiciv/sepsis_icd/datetimeevents.csv'\n",
    "\n",
    "generateCsv(query=query, filePath=filePath)"
   ]
  },
  {
   "cell_type": "markdown",
   "metadata": {},
   "source": [
    "### HCPCS Events"
   ]
  },
  {
   "cell_type": "code",
   "execution_count": 20,
   "metadata": {},
   "outputs": [],
   "source": [
    "query = '''select * from\n",
    "mimiciv.hcpcsevents\n",
    "where (subject_id, hadm_id) in (\n",
    "\tselect subject_id, hadm_id from omop_migration_source_20230809.cohort\n",
    ")\n",
    "'''\n",
    "filePath='/superbugai-data/mimiciv/sepsis_icd/hcpcsevents.csv'\n",
    "\n",
    "generateCsv(query=query, filePath=filePath)"
   ]
  },
  {
   "cell_type": "markdown",
   "metadata": {},
   "source": [
    "### Drgcodes"
   ]
  },
  {
   "cell_type": "code",
   "execution_count": 21,
   "metadata": {},
   "outputs": [],
   "source": [
    "query = '''select * from\n",
    "    mimiciv.drgcodes\n",
    "    where (subject_id, hadm_id) in (\n",
    "        select subject_id, hadm_id from omop_migration_source_20230809.cohort\n",
    "    )\n",
    "'''\n",
    "filePath='/superbugai-data/mimiciv/sepsis_icd/drgcodes.csv'\n",
    "\n",
    "generateCsv(query=query, filePath=filePath)"
   ]
  },
  {
   "cell_type": "markdown",
   "metadata": {},
   "source": [
    "### Microbiologyevents"
   ]
  },
  {
   "cell_type": "code",
   "execution_count": 22,
   "metadata": {},
   "outputs": [],
   "source": [
    "query = '''select * from\n",
    "    mimiciv.microbiologyevents\n",
    "    where (subject_id, hadm_id) in (\n",
    "        select subject_id, hadm_id from omop_migration_source_20230809.cohort\n",
    "    )\n",
    "'''\n",
    "filePath='/superbugai-data/mimiciv/sepsis_icd/microbiologyevents.csv'\n",
    "\n",
    "generateCsv(query=query, filePath=filePath)"
   ]
  },
  {
   "cell_type": "markdown",
   "metadata": {},
   "source": [
    "### Pharmacy"
   ]
  },
  {
   "cell_type": "code",
   "execution_count": 23,
   "metadata": {},
   "outputs": [],
   "source": [
    "query = '''select * from\n",
    "    mimiciv.pharmacy\n",
    "    where (subject_id, hadm_id) in (\n",
    "        select subject_id, hadm_id from omop_migration_source_20230809.cohort\n",
    "    )\n",
    "'''\n",
    "filePath='/superbugai-data/mimiciv/sepsis_icd/pharmacy.csv'\n",
    "\n",
    "generateCsv(query=query, filePath=filePath)"
   ]
  },
  {
   "cell_type": "markdown",
   "metadata": {},
   "source": [
    "### Chartevents"
   ]
  },
  {
   "cell_type": "code",
   "execution_count": 24,
   "metadata": {},
   "outputs": [],
   "source": [
    "query = '''select * from\n",
    "    mimiciv.chartevents\n",
    "    where (subject_id, hadm_id) in (\n",
    "        select subject_id, hadm_id from omop_migration_source_20230809.cohort\n",
    "    )\n",
    "'''\n",
    "filePath='/superbugai-data/mimiciv/sepsis_icd/chartevents.csv'\n",
    "\n",
    "generateCsv(query=query, filePath=filePath)"
   ]
  },
  {
   "cell_type": "markdown",
   "metadata": {},
   "source": [
    "## Standardise"
   ]
  },
  {
   "cell_type": "markdown",
   "metadata": {},
   "source": [
    "### Get help menu"
   ]
  },
  {
   "cell_type": "code",
   "execution_count": 25,
   "metadata": {},
   "outputs": [
    {
     "name": "stdout",
     "output_type": "stream",
     "text": [
      "2023-08-10 10:25:00,815 - Standardise - INFO - Parsing command line arguments\n",
      "usage: Run.py [-h] [-l] [-f] [-s] [-m] [-c] [-e] [-u]\n",
      "\n",
      "Migrate EHR to OMOP-CDM\n",
      "\n",
      "optional arguments:\n",
      "  -h, --help            show this help message and exit\n",
      "  -l, --create_lookup   Create lookup by importing Athena vocabulary and\n",
      "                        custom mapping\n",
      "  -f, --import_file     Import EHR from a csv files\n",
      "  -s, --stage           Stage the data on the ETL schema\n",
      "  -m, --generate_mapping\n",
      "                        Generate custom mapping of concepts from the data\n",
      "  -c, --import_custom_mapping\n",
      "                        Import custom mapping file\n",
      "  -e, --perform_etl     Perform migration Extract-Transform-Load (ETL)\n",
      "                        operations\n",
      "  -u, --unload          Unload data to CDM schema\n"
     ]
    },
    {
     "data": {
      "text/plain": [
       "0"
      ]
     },
     "execution_count": 25,
     "metadata": {},
     "output_type": "execute_result"
    }
   ],
   "source": [
    "import os\n",
    "\n",
    "os.system(\n",
    "    '''cd /superbugai-data/yash/chapter_1/workspace/EHRQC;'''\n",
    "    +\n",
    "    '''.venv/bin/python -m ehrqc.standardise.migrate_omop.Run -h'''\n",
    "    )"
   ]
  },
  {
   "cell_type": "markdown",
   "metadata": {},
   "source": [
    "### Create lookup by importing Athena vocabulary and custom mapping"
   ]
  },
  {
   "cell_type": "code",
   "execution_count": 26,
   "metadata": {},
   "outputs": [
    {
     "name": "stdout",
     "output_type": "stream",
     "text": [
      "2023-08-10 10:27:18,270 - Standardise - INFO - Parsing command line arguments\n",
      "2023-08-10 10:27:18,272 - Standardise - INFO - Start!!\n",
      "2023-08-10 10:27:18,299 - Standardise - INFO - Creating schema: vocabulary_test_20230809\n",
      "2023-08-10 10:27:18,336 - Standardise - INFO - Creating schema: omop_migration_etl_20230809\n",
      "2023-08-10 10:27:18,337 - Standardise - INFO - Creating Lookups\n",
      "2023-08-10 10:27:18,338 - Standardise - INFO - Creating table: omop_migration_etl_20230809.voc_concept\n"
     ]
    },
    {
     "name": "stderr",
     "output_type": "stream",
     "text": [
      "/superbugai-data/yash/chapter_1/workspace/EHRQC/ehrqc/standardise/migrate_omop/Lookup.py:55: DtypeWarning: Columns (5,6,9) have mixed types. Specify dtype option on import or set low_memory=False.\n",
      "  df = pd.read_csv(filePath, sep='\\t')\n"
     ]
    },
    {
     "name": "stdout",
     "output_type": "stream",
     "text": [
      "2023-08-10 10:28:00,069 - Standardise - INFO - Importing data to table: omop_migration_etl_20230809.voc_concept\n",
      "2023-08-10 10:36:36,028 - Standardise - INFO - Creating table: omop_migration_etl_20230809.voc_vocabulary\n",
      "2023-08-10 10:36:36,262 - Standardise - INFO - Importing data to table: omop_migration_etl_20230809.voc_vocabulary\n",
      "2023-08-10 10:36:36,297 - Standardise - INFO - Creating table: omop_migration_etl_20230809.voc_domain\n",
      "2023-08-10 10:36:36,348 - Standardise - INFO - Importing data to table: omop_migration_etl_20230809.voc_domain\n",
      "2023-08-10 10:36:36,351 - Standardise - INFO - Creating table: omop_migration_etl_20230809.voc_concept_class\n",
      "2023-08-10 10:36:36,371 - Standardise - INFO - Importing data to table: omop_migration_etl_20230809.voc_concept_class\n",
      "2023-08-10 10:36:36,382 - Standardise - INFO - Creating table: omop_migration_etl_20230809.voc_concept_relationship\n",
      "2023-08-10 10:37:58,691 - Standardise - INFO - Importing data to table: omop_migration_etl_20230809.voc_concept_relationship\n",
      "2023-08-10 11:20:29,792 - Standardise - INFO - Creating table: omop_migration_etl_20230809.voc_relationship\n",
      "2023-08-10 11:20:29,833 - Standardise - INFO - Importing data to table: omop_migration_etl_20230809.voc_relationship\n",
      "2023-08-10 11:20:29,868 - Standardise - INFO - Creating table: omop_migration_etl_20230809.voc_concept_synonym\n",
      "2023-08-10 11:20:37,016 - Standardise - INFO - Importing data to table: omop_migration_etl_20230809.voc_concept_synonym\n",
      "2023-08-10 11:21:41,505 - Standardise - INFO - Creating table: omop_migration_etl_20230809.voc_concept_ancestor\n",
      "2023-08-10 11:22:22,810 - Standardise - INFO - Importing data to table: omop_migration_etl_20230809.voc_concept_ancestor\n"
     ]
    }
   ],
   "source": [
    "import os\n",
    "\n",
    "os.system(\n",
    "    '''cd /superbugai-data/yash/chapter_1/workspace/EHRQC;'''\n",
    "    +\n",
    "    '''.venv/bin/python -m ehrqc.standardise.migrate_omop.Run -l'''\n",
    "    )"
   ]
  },
  {
   "cell_type": "markdown",
   "metadata": {},
   "source": [
    "### Import EHR from a csv files"
   ]
  },
  {
   "cell_type": "code",
   "execution_count": 2,
   "metadata": {},
   "outputs": [
    {
     "name": "stdout",
     "output_type": "stream",
     "text": [
      "2023-08-10 12:28:51,357 - Standardise - INFO - Parsing command line arguments\n",
      "2023-08-10 12:28:51,358 - Standardise - INFO - Start!!\n",
      "2023-08-10 12:28:51,376 - Standardise - INFO - Creating schema: omop_migration_source_20230809\n",
      "2023-08-10 12:28:51,377 - Standardise - INFO - Creating schema: omop_migration_etl_20230809\n",
      "2023-08-10 12:28:51,378 - Standardise - INFO - Importing EHR data from CSV files\n",
      "2023-08-10 12:28:51,378 - Standardise - INFO - Creating table: omop_migration_source_20230809.D_LABITEMS\n",
      "2023-08-10 12:28:51,497 - Standardise - INFO - Importing data to table: omop_migration_source_20230809.D_LABITEMS\n",
      "2023-08-10 12:28:51,562 - Standardise - INFO - Creating table: omop_migration_source_20230809.PROCEDURES_ICD\n",
      "2023-08-10 12:28:51,677 - Standardise - INFO - Importing data to table: omop_migration_source_20230809.PROCEDURES_ICD\n",
      "2023-08-10 12:28:53,475 - Standardise - INFO - Creating table: omop_migration_source_20230809.HCPCSEVENTS\n",
      "2023-08-10 12:28:53,481 - Standardise - INFO - Importing data to table: omop_migration_source_20230809.HCPCSEVENTS\n",
      "2023-08-10 12:28:53,485 - Standardise - INFO - Creating table: omop_migration_source_20230809.DRGCODES\n",
      "2023-08-10 12:28:53,591 - Standardise - INFO - Importing data to table: omop_migration_source_20230809.DRGCODES\n",
      "2023-08-10 12:28:54,617 - Standardise - INFO - Creating table: omop_migration_source_20230809.PRESCRIPTIONS\n"
     ]
    },
    {
     "name": "stderr",
     "output_type": "stream",
     "text": [
      "/superbugai-data/yash/chapter_1/workspace/EHRQC/ehrqc/standardise/migrate_omop/Import.py:535: DtypeWarning: Columns (7) have mixed types. Specify dtype option on import or set low_memory=False.\n",
      "  df = pd.read_csv(filePath, sep=fileSeparator)\n"
     ]
    },
    {
     "name": "stdout",
     "output_type": "stream",
     "text": [
      "2023-08-10 12:29:00,723 - Standardise - INFO - Importing data to table: omop_migration_source_20230809.PRESCRIPTIONS\n",
      "2023-08-10 12:31:16,711 - Standardise - INFO - Creating table: omop_migration_source_20230809.MICROBIOLOGYEVENTS\n",
      "2023-08-10 12:31:18,493 - Standardise - INFO - Importing data to table: omop_migration_source_20230809.MICROBIOLOGYEVENTS\n",
      "2023-08-10 12:31:49,696 - Standardise - INFO - Creating table: omop_migration_source_20230809.PHARMACY\n"
     ]
    },
    {
     "name": "stderr",
     "output_type": "stream",
     "text": [
      "/superbugai-data/yash/chapter_1/workspace/EHRQC/ehrqc/standardise/migrate_omop/Import.py:691: DtypeWarning: Columns (16,24,26) have mixed types. Specify dtype option on import or set low_memory=False.\n",
      "  df = pd.read_csv(filePath, sep=fileSeparator)\n"
     ]
    },
    {
     "name": "stdout",
     "output_type": "stream",
     "text": [
      "2023-08-10 12:32:00,251 - Standardise - INFO - Importing data to table: omop_migration_source_20230809.PHARMACY\n",
      "2023-08-10 12:34:55,628 - Standardise - INFO - Creating table: omop_migration_source_20230809.PROCEDUREEVENTS\n",
      "2023-08-10 12:34:56,807 - Standardise - INFO - Importing data to table: omop_migration_source_20230809.PROCEDUREEVENTS\n",
      "2023-08-10 12:35:14,815 - Standardise - INFO - Creating table: omop_migration_source_20230809.D_ITEMS\n",
      "2023-08-10 12:35:14,867 - Standardise - INFO - Importing data to table: omop_migration_source_20230809.D_ITEMS\n",
      "2023-08-10 12:35:15,086 - Standardise - INFO - Creating table: omop_migration_source_20230809.DATETIMEEVENTS\n",
      "2023-08-10 12:35:19,949 - Standardise - INFO - Importing data to table: omop_migration_source_20230809.DATETIMEEVENTS\n",
      "2023-08-10 12:36:54,870 - Standardise - INFO - Creating table: omop_migration_source_20230809.CHARTEVENTS\n",
      "2023-08-10 12:36:54,887 - Standardise - INFO - Creating child table: omop_migration_source_20230809.CHARTEVENTS_1\n",
      "2023-08-10 12:36:54,998 - Standardise - INFO - Creating child table: omop_migration_source_20230809.CHARTEVENTS_2\n",
      "2023-08-10 12:36:55,005 - Standardise - INFO - Creating child table: omop_migration_source_20230809.CHARTEVENTS_3\n",
      "2023-08-10 12:36:55,006 - Standardise - INFO - Creating child table: omop_migration_source_20230809.CHARTEVENTS_4\n",
      "2023-08-10 12:36:55,007 - Standardise - INFO - Creating child table: omop_migration_source_20230809.CHARTEVENTS_5\n",
      "2023-08-10 12:36:55,008 - Standardise - INFO - Creating child table: omop_migration_source_20230809.CHARTEVENTS_6\n",
      "2023-08-10 12:36:55,008 - Standardise - INFO - Creating child table: omop_migration_source_20230809.CHARTEVENTS_7\n",
      "2023-08-10 12:36:55,032 - Standardise - INFO - Creating child table: omop_migration_source_20230809.CHARTEVENTS_8\n",
      "2023-08-10 12:36:55,043 - Standardise - INFO - Creating child table: omop_migration_source_20230809.CHARTEVENTS_9\n",
      "2023-08-10 12:36:55,043 - Standardise - INFO - Creating child table: omop_migration_source_20230809.CHARTEVENTS_10\n",
      "2023-08-10 12:36:55,044 - Standardise - INFO - Creating function: omop_migration_source_20230809.CHARTEVENTS.chartevents_insert_trigger()\n",
      "2023-08-10 12:36:55,169 - Standardise - INFO - Dropping trigger: omop_migration_source_20230809.CHARTEVENTS.insert_chartevents_trigger\n",
      "2023-08-10 12:36:55,180 - Standardise - INFO - Creating trigger: omop_migration_source_20230809.CHARTEVENTS.insert_chartevents_trigger\n",
      "2023-08-10 12:36:55,301 - Standardise - INFO - Reading file: /superbugai-data/mimiciv/sepsis_icd/chartevents.csv\n"
     ]
    },
    {
     "name": "stderr",
     "output_type": "stream",
     "text": [
      "/superbugai-data/yash/chapter_1/workspace/EHRQC/ehrqc/standardise/migrate_omop/Import.py:999: DtypeWarning: Columns (8) have mixed types. Specify dtype option on import or set low_memory=False.\n",
      "  df = pd.read_csv(filePath, sep=fileSeparator)\n"
     ]
    },
    {
     "name": "stdout",
     "output_type": "stream",
     "text": [
      "2023-08-10 12:41:41,095 - Standardise - INFO - Importing data to table: omop_migration_source_20230809.CHARTEVENTS\n",
      "2023-08-10 14:19:34,848 - Standardise - INFO - End!!\n"
     ]
    },
    {
     "data": {
      "text/plain": [
       "0"
      ]
     },
     "execution_count": 2,
     "metadata": {},
     "output_type": "execute_result"
    }
   ],
   "source": [
    "import os\n",
    "\n",
    "os.system(\n",
    "    '''cd /superbugai-data/yash/chapter_1/workspace/EHRQC;'''\n",
    "    +\n",
    "    '''.venv/bin/python -m ehrqc.standardise.migrate_omop.Run -f'''\n",
    "    )"
   ]
  },
  {
   "cell_type": "markdown",
   "metadata": {},
   "source": [
    "### Stage the data on the ETL schema"
   ]
  },
  {
   "cell_type": "code",
   "execution_count": 3,
   "metadata": {},
   "outputs": [
    {
     "name": "stdout",
     "output_type": "stream",
     "text": [
      "2023-08-10 14:24:14,077 - Standardise - INFO - Parsing command line arguments\n",
      "2023-08-10 14:24:14,078 - Standardise - INFO - Start!!\n",
      "2023-08-10 14:24:14,156 - Standardise - INFO - Creating schema: omop_migration_etl_20230809\n",
      "2023-08-10 14:24:14,164 - Standardise - INFO - Staging EHR data\n",
      "2023-08-10 14:24:14,164 - Standardise - INFO - Creating staging table: omop_migration_etl_20230809.src_patients\n",
      "2023-08-10 14:24:14,865 - Standardise - INFO - Creating staging table: omop_migration_etl_20230809.src_admissions\n",
      "2023-08-10 14:24:15,084 - Standardise - INFO - Creating staging table: omop_migration_etl_20230809.src_transfers\n",
      "2023-08-10 14:24:15,715 - Standardise - INFO - Creating staging table: omop_migration_etl_20230809.src_diagnoses_icd\n",
      "2023-08-10 14:24:17,887 - Standardise - INFO - Creating staging table: omop_migration_etl_20230809.src_services\n",
      "2023-08-10 14:24:18,155 - Standardise - INFO - Creating staging table: omop_migration_etl_20230809.src_labevents\n",
      "2023-08-10 14:25:27,470 - Standardise - INFO - Creating staging table: omop_migration_etl_20230809.src_d_labitems\n",
      "2023-08-10 14:25:27,560 - Standardise - INFO - Creating staging table: omop_migration_etl_20230809.src_procedures_icd\n",
      "2023-08-10 14:25:28,087 - Standardise - INFO - Creating staging table: omop_migration_etl_20230809.src_hcpcsevents\n",
      "2023-08-10 14:25:28,110 - Standardise - INFO - Creating staging table: omop_migration_etl_20230809.src_drgcodes\n",
      "2023-08-10 14:25:28,399 - Standardise - INFO - Creating staging table: omop_migration_etl_20230809.src_prescriptions\n",
      "2023-08-10 14:25:51,645 - Standardise - INFO - Creating staging table: omop_migration_etl_20230809.src_microbiologyevents\n",
      "2023-08-10 14:25:56,128 - Standardise - INFO - Creating staging table: omop_migration_etl_20230809.src_d_micro\n",
      "2023-08-10 14:25:56,600 - Standardise - INFO - Creating staging table: omop_migration_etl_20230809.src_pharmacy\n",
      "2023-08-10 14:26:10,245 - Standardise - INFO - Creating staging table: omop_migration_etl_20230809.src_procedureevents\n",
      "2023-08-10 14:26:12,404 - Standardise - INFO - Creating staging table: omop_migration_etl_20230809.src_d_items\n",
      "2023-08-10 14:26:12,436 - Standardise - INFO - Creating staging table: omop_migration_etl_20230809.src_datetimeevents\n",
      "2023-08-10 14:26:35,230 - Standardise - INFO - Creating staging table: omop_migration_etl_20230809.src_chartevents\n",
      "2023-08-10 14:40:14,049 - Standardise - INFO - End!!\n"
     ]
    },
    {
     "data": {
      "text/plain": [
       "0"
      ]
     },
     "execution_count": 3,
     "metadata": {},
     "output_type": "execute_result"
    }
   ],
   "source": [
    "import os\n",
    "\n",
    "os.system(\n",
    "    '''cd /superbugai-data/yash/chapter_1/workspace/EHRQC;'''\n",
    "    +\n",
    "    '''.venv/bin/python -m ehrqc.standardise.migrate_omop.Run -s'''\n",
    "    )"
   ]
  },
  {
   "cell_type": "markdown",
   "metadata": {},
   "source": [
    "### Import custom mapping file"
   ]
  },
  {
   "cell_type": "code",
   "execution_count": 4,
   "metadata": {},
   "outputs": [
    {
     "name": "stdout",
     "output_type": "stream",
     "text": [
      "2023-08-10 15:03:36,337 - Standardise - INFO - Parsing command line arguments\n",
      "2023-08-10 15:03:36,338 - Standardise - INFO - Start!!\n",
      "2023-08-10 15:03:36,356 - Standardise - INFO - Creating schema: omop_migration_etl_20230809\n",
      "2023-08-10 15:03:36,356 - Standardise - INFO - Import Custom Lookups\n",
      "2023-08-10 15:03:36,356 - Standardise - INFO - Creating table: omop_migration_etl_20230809.tmp_custom_mapping\n",
      "2023-08-10 15:03:36,416 - Standardise - INFO - Loading table: omop_migration_etl_20230809.tmp_custom_mapping\n",
      "2023-08-10 15:03:36,533 - Standardise - INFO - Importing data to table: omop_migration_etl_20230809.tmp_custom_mapping\n",
      "2023-08-10 15:03:36,838 - Standardise - INFO - Process Custom Lookups\n",
      "2023-08-10 15:03:36,839 - Standardise - INFO - Creating table: vocabulary_test_20230809.tmp_custom_concept\n",
      "2023-08-10 15:03:36,899 - Standardise - INFO - Creating table: vocabulary_test_20230809.tmp_custom_concept_relationship\n",
      "2023-08-10 15:03:36,923 - Standardise - INFO - Creating table: vocabulary_test_20230809.tmp_custom_vocabulary_dist\n",
      "2023-08-10 15:03:36,931 - Standardise - INFO - Creating table: vocabulary_test_20230809.tmp_custom_vocabulary\n",
      "2023-08-10 15:03:36,986 - Standardise - INFO - Dropping table: vocabulary_test_20230809.tmp_custom_vocabulary_dist\n",
      "2023-08-10 15:03:37,035 - Standardise - INFO - Creating table: vocabulary_test_20230809.tmp_voc_concept\n",
      "2023-08-10 15:10:12,665 - Standardise - INFO - Creating table: vocabulary_test_20230809.concept\n",
      "2023-08-10 15:10:45,424 - Standardise - INFO - Creating table: vocabulary_test_20230809.concept_relationship\n",
      "2023-08-10 15:13:06,809 - Standardise - INFO - Creating table: vocabulary_test_20230809.tmp_voc_vocabulary\n",
      "2023-08-10 15:13:07,074 - Standardise - INFO - Creating table: vocabulary_test_20230809.vocabulary\n",
      "2023-08-10 15:13:08,172 - Standardise - INFO - Dropping temporary tables\n",
      "2023-08-10 15:13:10,965 - Standardise - INFO - End!!\n"
     ]
    },
    {
     "data": {
      "text/plain": [
       "0"
      ]
     },
     "execution_count": 4,
     "metadata": {},
     "output_type": "execute_result"
    }
   ],
   "source": [
    "import os\n",
    "\n",
    "os.system(\n",
    "    '''cd /superbugai-data/yash/chapter_1/workspace/EHRQC;'''\n",
    "    +\n",
    "    '''.venv/bin/python -m ehrqc.standardise.migrate_omop.Run -c'''\n",
    "    )"
   ]
  },
  {
   "cell_type": "markdown",
   "metadata": {},
   "source": [
    "### Perform migration Extract-Transform-Load (ETL) operations"
   ]
  },
  {
   "cell_type": "code",
   "execution_count": 5,
   "metadata": {},
   "outputs": [
    {
     "name": "stdout",
     "output_type": "stream",
     "text": [
      "2023-08-10 15:13:34,646 - Standardise - INFO - Parsing command line arguments\n",
      "2023-08-10 15:13:34,647 - Standardise - INFO - Start!!\n",
      "2023-08-10 15:13:34,664 - Standardise - INFO - Creating schema: omop_migration_etl_20230809\n",
      "2023-08-10 15:13:34,665 - Standardise - INFO - Performing ETL\n",
      "2023-08-10 15:13:34,665 - Standardise - INFO - Creating table: omop_migration_etl_20230809.cdm_location\n",
      "2023-08-10 15:13:34,673 - Standardise - INFO - Creating table: omop_migration_etl_20230809.tmp_subject_ethnicity\n",
      "2023-08-10 15:13:34,877 - Standardise - INFO - Creating table: omop_migration_etl_20230809.lk_pat_ethnicity_concept\n",
      "2023-08-10 15:14:37,181 - Standardise - INFO - Creating table: omop_migration_etl_20230809.tmp_subject_ethnicity\n",
      "2023-08-10 15:14:37,186 - Standardise - INFO - Creating table: omop_migration_etl_20230809.lk_death_adm_mapped\n",
      "2023-08-10 15:14:37,284 - Standardise - INFO - Creating table: omop_migration_etl_20230809.cdm_death\n",
      "2023-08-10 15:14:37,387 - Standardise - INFO - Creating table: omop_migration_etl_20230809.lk_trans_careunit_clean\n",
      "2023-08-10 15:14:37,742 - Standardise - INFO - Creating table: omop_migration_etl_20230809.cdm_care_site\n",
      "2023-08-10 15:14:45,753 - Standardise - INFO - Creating table: omop_migration_etl_20230809.lk_admissions_clean\n",
      "2023-08-10 15:14:45,823 - Standardise - INFO - Creating table: omop_migration_etl_20230809.lk_transfers_clean\n",
      "2023-08-10 15:14:46,193 - Standardise - INFO - Creating table: omop_migration_etl_20230809.lk_services_duplicated\n",
      "2023-08-10 15:14:46,294 - Standardise - INFO - Creating table: omop_migration_etl_20230809.lk_services_clean\n",
      "2023-08-10 15:14:46,416 - Standardise - INFO - Creating table: omop_migration_etl_20230809.lk_meas_operator_concept\n",
      "2023-08-10 15:14:46,790 - Standardise - INFO - Creating table: omop_migration_etl_20230809.tmp_meas_unit\n",
      "2023-08-10 15:14:47,209 - Standardise - INFO - Creating table: omop_migration_etl_20230809.lk_meas_unit_concept\n",
      "2023-08-10 15:14:53,046 - Standardise - INFO - Creating table: omop_migration_etl_20230809.tmp_meas_unit\n",
      "2023-08-10 15:14:53,049 - Standardise - INFO - Creating table: omop_migration_etl_20230809.lk_chartevents_clean\n",
      "2023-08-10 15:26:10,175 - Standardise - INFO - Creating table: omop_migration_etl_20230809.tmp_chartevents_code_dist\n",
      "2023-08-10 15:29:01,446 - Standardise - INFO - Creating table: omop_migration_etl_20230809.lk_chartevents_concept\n",
      "2023-08-10 15:29:12,972 - Standardise - INFO - Creating table: omop_migration_etl_20230809.tmp_chartevents_code_dist\n",
      "2023-08-10 15:29:12,980 - Standardise - INFO - Creating table: omop_migration_etl_20230809.lk_chartevents_mapped\n",
      "2023-08-10 15:41:06,359 - Standardise - INFO - Creating table: omop_migration_etl_20230809.lk_chartevents_condition_mapped\n",
      "2023-08-10 15:41:25,202 - Standardise - INFO - Creating table: omop_migration_etl_20230809.lk_meas_d_labitems_clean\n",
      "2023-08-10 15:41:25,295 - Standardise - INFO - Creating table: omop_migration_etl_20230809.lk_meas_labevents_clean\n",
      "2023-08-10 15:43:27,146 - Standardise - INFO - Creating table: omop_migration_etl_20230809.lk_meas_d_labitems_concept\n",
      "2023-08-10 15:43:40,770 - Standardise - INFO - Creating table: omop_migration_etl_20230809.lk_meas_labevents_hadm_id\n",
      "2023-08-10 15:43:42,242 - Standardise - INFO - Creating table: omop_migration_etl_20230809.lk_meas_labevents_mapped\n",
      "2023-08-10 15:44:41,813 - Standardise - INFO - Creating table: omop_migration_etl_20230809.lk_micro_cross_ref\n",
      "2023-08-10 15:44:47,582 - Standardise - INFO - Creating table: omop_migration_etl_20230809.lk_micro_hadm_id\n",
      "2023-08-10 15:44:47,686 - Standardise - INFO - Creating table: omop_migration_etl_20230809.lk_meas_organism_clean\n",
      "2023-08-10 15:44:49,662 - Standardise - INFO - Creating table: omop_migration_etl_20230809.lk_specimen_clean\n",
      "2023-08-10 15:44:50,970 - Standardise - INFO - Creating table: omop_migration_etl_20230809.lk_meas_ab_clean\n",
      "2023-08-10 15:44:52,020 - Standardise - INFO - Creating table: omop_migration_etl_20230809.lk_d_micro_clean\n",
      "2023-08-10 15:44:52,173 - Standardise - INFO - Creating table: omop_migration_etl_20230809.lk_d_micro_concept\n",
      "2023-08-10 15:45:04,486 - Standardise - INFO - Creating table: omop_migration_etl_20230809.lk_specimen_mapped\n",
      "2023-08-10 15:45:05,397 - Standardise - INFO - Creating table: omop_migration_etl_20230809.lk_meas_organism_mapped\n",
      "2023-08-10 15:45:05,569 - Standardise - INFO - Creating table: omop_migration_etl_20230809.lk_meas_ab_mapped\n",
      "2023-08-10 15:45:06,272 - Standardise - INFO - Creating table: omop_migration_etl_20230809.lk_visit_no_hadm_all\n",
      "2023-08-10 15:45:08,090 - Standardise - INFO - Creating table: omop_migration_etl_20230809.lk_visit_no_hadm_dist\n",
      "2023-08-10 15:45:08,153 - Standardise - INFO - Creating table: omop_migration_etl_20230809.lk_visit_clean\n",
      "2023-08-10 15:45:08,714 - Standardise - INFO - Creating table: omop_migration_etl_20230809.lk_visit_detail_clean\n",
      "2023-08-10 15:45:10,004 - Standardise - INFO - Creating table: omop_migration_etl_20230809.lk_visit_detail_prev_next\n",
      "2023-08-10 15:45:10,653 - Standardise - INFO - Creating table: omop_migration_etl_20230809.lk_visit_concept\n",
      "2023-08-10 15:45:14,341 - Standardise - INFO - Creating table: omop_migration_etl_20230809.cdm_visit_occurrence\n",
      "2023-08-10 15:45:15,717 - Standardise - INFO - Creating table: omop_migration_etl_20230809.cdm_visit_detail\n",
      "2023-08-10 15:45:17,616 - Standardise - INFO - Creating table: omop_migration_etl_20230809.lk_diagnoses_icd_clean\n",
      "2023-08-10 15:45:21,055 - Standardise - INFO - Creating table: omop_migration_etl_20230809.lk_diagnoses_icd_mapped\n",
      "2023-08-10 15:46:09,595 - Standardise - INFO - Dropping table: omop_migration_etl_20230809.tmp_seq_num_to_concept\n",
      "2023-08-10 15:46:09,597 - Standardise - INFO - Dropping table: omop_migration_etl_20230809.lk_datetimeevents_concept\n",
      "2023-08-10 15:46:09,597 - Standardise - INFO - Dropping table: omop_migration_etl_20230809.lk_proc_event_clean\n",
      "2023-08-10 15:46:09,598 - Standardise - INFO - Dropping table: omop_migration_etl_20230809.lk_datetimeevents_clean\n",
      "2023-08-10 15:46:09,598 - Standardise - INFO - Creating table: omop_migration_etl_20230809.lk_hcpcsevents_clean\n",
      "2023-08-10 15:46:09,710 - Standardise - INFO - Creating table: omop_migration_etl_20230809.lk_procedures_icd_clean\n",
      "2023-08-10 15:46:10,697 - Standardise - INFO - Creating table: omop_migration_etl_20230809.lk_proc_d_items_clean\n",
      "2023-08-10 15:46:32,687 - Standardise - INFO - Creating table: omop_migration_etl_20230809.lk_hcpcs_concept\n",
      "2023-08-10 15:46:40,027 - Standardise - INFO - Creating table: omop_migration_etl_20230809.lk_icd_proc_concept\n",
      "2023-08-10 15:46:47,102 - Standardise - INFO - Creating table: omop_migration_etl_20230809.lk_itemid_concept\n",
      "2023-08-10 15:46:51,007 - Standardise - INFO - Creating table: omop_migration_etl_20230809.lk_procedure_mapped\n",
      "2023-08-10 15:47:11,819 - Standardise - INFO - Creating table: omop_migration_etl_20230809.lk_observation_clean\n",
      "2023-08-10 15:47:12,737 - Standardise - INFO - Creating table: omop_migration_etl_20230809.lk_obs_admissions_concept\n",
      "2023-08-10 15:47:22,504 - Standardise - INFO - Creating table: omop_migration_etl_20230809.lk_observation_mapped\n",
      "2023-08-10 15:47:22,768 - Standardise - INFO - Creating table: omop_migration_etl_20230809.cdm_condition_occurrence\n",
      "2023-08-10 15:54:20,044 - Standardise - INFO - Creating table: omop_migration_etl_20230809.cdm_procedure_occurrence\n",
      "2023-08-10 15:59:27,406 - Standardise - INFO - Creating table: omop_migration_etl_20230809.cdm_specimen\n",
      "2023-08-10 15:59:28,438 - Standardise - INFO - Creating table: omop_migration_etl_20230809.cdm_measurement\n",
      "2023-08-10 16:04:44,590 - Standardise - INFO - Creating table: omop_migration_etl_20230809.lk_prescriptions_clean\n",
      "2023-08-10 16:05:19,517 - Standardise - INFO - Creating table: omop_migration_etl_20230809.lk_pr_ndc_concept\n",
      "2023-08-10 16:06:12,309 - Standardise - INFO - Creating table: omop_migration_etl_20230809.lk_pr_gcpt_concept\n",
      "2023-08-10 16:06:23,013 - Standardise - INFO - Creating table: omop_migration_etl_20230809.lk_pr_route_concept\n",
      "2023-08-10 16:06:34,564 - Standardise - INFO - Creating table: omop_migration_etl_20230809.lk_drug_mapped\n",
      "2023-08-10 16:06:48,090 - Standardise - INFO - Creating table: omop_migration_etl_20230809.cdm_drug_exposure\n",
      "2023-08-10 16:07:08,747 - Standardise - INFO - Creating table: omop_migration_etl_20230809.cdm_device_exposure\n",
      "2023-08-10 16:07:36,791 - Standardise - INFO - Creating table: omop_migration_etl_20230809.cdm_observation\n",
      "2023-08-10 16:08:36,485 - Standardise - INFO - Creating table: omop_migration_etl_20230809.tmp_observation_period_clean\n",
      "2023-08-10 16:09:17,764 - Standardise - INFO - Creating table: omop_migration_etl_20230809.tmp_observation_period\n",
      "2023-08-10 16:09:19,892 - Standardise - INFO - Creating table: omop_migration_etl_20230809.cdm_observation_period\n",
      "2023-08-10 16:09:20,839 - Standardise - INFO - Creating table: omop_migration_etl_20230809.tmp_person\n",
      "2023-08-10 16:09:21,683 - Standardise - INFO - Truncating table: omop_migration_etl_20230809.cdm_person\n",
      "2023-08-10 16:09:22,326 - Standardise - INFO - Creating table: omop_migration_etl_20230809.tmp_person\n",
      "2023-08-10 16:09:22,670 - Standardise - INFO - Creating table: omop_migration_etl_20230809.cdm_fact_relationship\n",
      "2023-08-10 16:09:23,202 - Standardise - INFO - Creating table: omop_migration_etl_20230809.tmp_target_condition\n",
      "2023-08-10 16:09:28,225 - Standardise - INFO - Creating table: omop_migration_etl_20230809.tmp_dates_un_condition\n",
      "2023-08-10 16:09:42,004 - Standardise - INFO - Creating table: omop_migration_etl_20230809.tmp_dates_rows_condition\n",
      "2023-08-10 16:09:56,071 - Standardise - INFO - Creating table: omop_migration_etl_20230809.tmp_enddates_condition\n",
      "2023-08-10 16:09:56,957 - Standardise - INFO - Creating table: omop_migration_etl_20230809.tmp_conditionends\n",
      "2023-08-10 16:10:05,099 - Standardise - INFO - Creating table: omop_migration_etl_20230809.cdm_condition_era\n",
      "2023-08-10 16:10:07,566 - Standardise - INFO - Dropping temp tables\n",
      "2023-08-10 16:10:07,661 - Standardise - INFO - Creating table: omop_migration_etl_20230809.lk_join_voc_drug\n",
      "2023-08-10 16:11:09,575 - Standardise - INFO - Creating table: omop_migration_etl_20230809.tmp_pretarget_drug\n",
      "2023-08-10 16:11:12,122 - Standardise - INFO - Creating table: omop_migration_etl_20230809.tmp_subenddates_un_drug\n",
      "2023-08-10 16:11:13,139 - Standardise - INFO - Creating table: omop_migration_etl_20230809.tmp_subenddates_rows_drug\n",
      "2023-08-10 16:11:15,043 - Standardise - INFO - Creating table: omop_migration_etl_20230809.tmp_subenddates_drug\n",
      "2023-08-10 16:11:15,227 - Standardise - INFO - Creating table: omop_migration_etl_20230809.temp_ends_drug\n",
      "2023-08-10 16:11:16,287 - Standardise - INFO - Creating table: omop_migration_etl_20230809.tmp_sub_drug\n",
      "2023-08-10 16:11:16,757 - Standardise - INFO - Creating table: omop_migration_etl_20230809.tmp_finaltarget_drug\n",
      "2023-08-10 16:11:16,932 - Standardise - INFO - Creating table: omop_migration_etl_20230809.tmp_enddates_un_drug\n",
      "2023-08-10 16:11:17,380 - Standardise - INFO - Creating table: omop_migration_etl_20230809.tmp_enddates_rows_drug\n",
      "2023-08-10 16:11:18,073 - Standardise - INFO - Creating table: omop_migration_etl_20230809.tmp_enddates_drug\n",
      "2023-08-10 16:11:18,202 - Standardise - INFO - Creating table: omop_migration_etl_20230809.tmp_drugera_ends_drug\n",
      "2023-08-10 16:11:18,690 - Standardise - INFO - Creating table: omop_migration_etl_20230809.cdm_drug_era\n",
      "2023-08-10 16:11:19,164 - Standardise - INFO - Dropping temporary tables\n",
      "2023-08-10 16:11:19,257 - Standardise - INFO - Creating table: omop_migration_etl_20230809.cdm_dose_era\n",
      "2023-08-10 16:11:19,269 - Standardise - INFO - Creating table: omop_migration_etl_20230809.tmp_drugIngredientExp\n",
      "2023-08-10 16:11:40,017 - Standardise - INFO - Creating table: omop_migration_etl_20230809.tmp_drugWithDose\n",
      "2023-08-10 16:11:40,604 - Standardise - INFO - Creating table: omop_migration_etl_20230809.tmp_cteDoseTarget\n",
      "2023-08-10 16:11:40,650 - Standardise - INFO - Creating table: omop_migration_etl_20230809.tmp_cteDoseEndDates_rawdata\n",
      "2023-08-10 16:11:40,656 - Standardise - INFO - Creating table: omop_migration_etl_20230809.tmp_cteDoseEndDates_e\n",
      "2023-08-10 16:11:40,659 - Standardise - INFO - Creating table: omop_migration_etl_20230809.tmp_cteDoseEndDates\n",
      "2023-08-10 16:11:40,686 - Standardise - INFO - Creating table: omop_migration_etl_20230809.tmp_cteDoseFinalEnds\n",
      "2023-08-10 16:11:40,705 - Standardise - INFO - Inserting table: omop_migration_etl_20230809.cdm_dose_era\n",
      "2023-08-10 16:11:40,717 - Standardise - INFO - Dropping temporary tables\n",
      "2023-08-10 16:11:40,742 - Standardise - INFO - Creating table: omop_migration_etl_20230809.cdm_cdm_source\n",
      "2023-08-10 16:11:40,948 - Standardise - INFO - End!!\n"
     ]
    },
    {
     "data": {
      "text/plain": [
       "0"
      ]
     },
     "execution_count": 5,
     "metadata": {},
     "output_type": "execute_result"
    }
   ],
   "source": [
    "import os\n",
    "\n",
    "os.system(\n",
    "    '''cd /superbugai-data/yash/chapter_1/workspace/EHRQC;'''\n",
    "    +\n",
    "    '''.venv/bin/python -m ehrqc.standardise.migrate_omop.Run -e'''\n",
    "    )"
   ]
  },
  {
   "cell_type": "markdown",
   "metadata": {},
   "source": [
    "### Unload data to CDM schema"
   ]
  },
  {
   "cell_type": "code",
   "execution_count": 6,
   "metadata": {},
   "outputs": [
    {
     "name": "stdout",
     "output_type": "stream",
     "text": [
      "2023-08-10 18:38:30,638 - Standardise - INFO - Parsing command line arguments\n",
      "2023-08-10 18:38:30,639 - Standardise - INFO - Start!!\n",
      "2023-08-10 18:38:30,742 - Standardise - INFO - Creating schema: omop_test_20230809\n",
      "2023-08-10 18:38:30,801 - Standardise - INFO - Unloading migrated data to CDM schema\n",
      "2023-08-10 18:38:30,801 - Standardise - INFO - Unloading table: vocabulary_test_20230809.concept\n",
      "2023-08-10 18:39:22,753 - Standardise - INFO - Unloading table: vocabulary_test_20230809.vocabulary\n",
      "2023-08-10 18:39:22,843 - Standardise - INFO - Unloading table: vocabulary_test_20230809.domain\n",
      "2023-08-10 18:39:22,927 - Standardise - INFO - Unloading table: vocabulary_test_20230809.concept_class\n",
      "2023-08-10 18:39:22,961 - Standardise - INFO - Unloading table: vocabulary_test_20230809.concept_relationship\n",
      "2023-08-10 18:42:18,246 - Standardise - INFO - Unloading table: vocabulary_test_20230809.relationship\n",
      "2023-08-10 18:42:18,483 - Standardise - INFO - Unloading table: vocabulary_test_20230809.concept_synonym\n",
      "2023-08-10 18:42:30,944 - Standardise - INFO - Unloading table: vocabulary_test_20230809.concept_ancestor\n",
      "2023-08-10 18:45:19,129 - Standardise - INFO - Unloading table: omop_test_20230809.cdm_source\n",
      "2023-08-10 18:45:19,173 - Standardise - INFO - Unloading table: omop_test_20230809.person\n",
      "2023-08-10 18:45:19,245 - Standardise - INFO - Unloading table: omop_test_20230809.observation_period\n",
      "2023-08-10 18:45:19,654 - Standardise - INFO - Unloading table: omop_test_20230809.specimen\n",
      "2023-08-10 18:45:20,211 - Standardise - INFO - Unloading table: omop_test_20230809.death\n",
      "2023-08-10 18:45:20,296 - Standardise - INFO - Unloading table: omop_test_20230809.visit_occurrence\n",
      "2023-08-10 18:45:20,379 - Standardise - INFO - Unloading table: omop_test_20230809.visit_detail\n",
      "2023-08-10 18:45:21,149 - Standardise - INFO - Unloading table: omop_test_20230809.procedure_occurrence\n",
      "2023-08-10 18:45:27,546 - Standardise - INFO - Unloading table: omop_test_20230809.drug_exposure\n",
      "2023-08-10 18:45:33,714 - Standardise - INFO - Unloading table: omop_test_20230809.device_exposure\n",
      "2023-08-10 18:45:35,206 - Standardise - INFO - Unloading table: omop_test_20230809.condition_occurrence\n",
      "2023-08-10 18:45:44,568 - Standardise - INFO - Unloading table: omop_test_20230809.measurement\n",
      "2023-08-10 18:47:26,010 - Standardise - INFO - Unloading table: omop_test_20230809.observation\n",
      "2023-08-10 18:47:37,124 - Standardise - INFO - Unloading table: omop_test_20230809.fact_relationship\n",
      "2023-08-10 18:47:37,139 - Standardise - INFO - Unloading table: omop_test_20230809.fact_relationship\n",
      "2023-08-10 18:47:37,183 - Standardise - INFO - Unloading table: omop_test_20230809.care_site\n",
      "2023-08-10 18:47:37,227 - Standardise - INFO - Unloading table: omop_test_20230809.drug_era\n",
      "2023-08-10 18:47:37,346 - Standardise - INFO - Unloading table: omop_test_20230809.dose_era\n",
      "2023-08-10 18:47:37,360 - Standardise - INFO - End!!\n"
     ]
    },
    {
     "data": {
      "text/plain": [
       "0"
      ]
     },
     "execution_count": 6,
     "metadata": {},
     "output_type": "execute_result"
    }
   ],
   "source": [
    "import os\n",
    "\n",
    "os.system(\n",
    "    '''cd /superbugai-data/yash/chapter_1/workspace/EHRQC;'''\n",
    "    +\n",
    "    '''.venv/bin/python -m ehrqc.standardise.migrate_omop.Run -u'''\n",
    "    )"
   ]
  }
 ],
 "metadata": {
  "kernelspec": {
   "display_name": ".venv",
   "language": "python",
   "name": "python3"
  },
  "language_info": {
   "codemirror_mode": {
    "name": "ipython",
    "version": 3
   },
   "file_extension": ".py",
   "mimetype": "text/x-python",
   "name": "python",
   "nbconvert_exporter": "python",
   "pygments_lexer": "ipython3",
   "version": "3.9.5"
  },
  "orig_nbformat": 4
 },
 "nbformat": 4,
 "nbformat_minor": 2
}
