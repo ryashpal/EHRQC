{
 "cells": [
  {
   "cell_type": "markdown",
   "metadata": {},
   "source": [
    "# Pre-process Sepsis ICD Cohort data"
   ]
  },
  {
   "cell_type": "markdown",
   "metadata": {},
   "source": [
    "## Verify EHR-QC Docker Installation"
   ]
  },
  {
   "cell_type": "code",
   "execution_count": 1,
   "metadata": {},
   "outputs": [
    {
     "name": "stdout",
     "output_type": "stream",
     "text": [
      "EHRQC 1.0\n"
     ]
    },
    {
     "data": {
      "text/plain": [
       "0"
      ]
     },
     "execution_count": 1,
     "metadata": {},
     "output_type": "execute_result"
    }
   ],
   "source": [
    "import os\n",
    "\n",
    "os.system(\n",
    "    '''cd /superbugai-data/yash/chapter_1/workspace/EHRQC;'''\n",
    "    +\n",
    "    '''python -m EHRQC -v'''\n",
    "    )"
   ]
  },
  {
   "cell_type": "markdown",
   "metadata": {},
   "source": [
    "## Extract"
   ]
  },
  {
   "cell_type": "markdown",
   "metadata": {},
   "source": [
    "### Demographics"
   ]
  },
  {
   "cell_type": "code",
   "execution_count": 2,
   "metadata": {},
   "outputs": [
    {
     "name": "stdout",
     "output_type": "stream",
     "text": [
      "2023-08-11 13:14:03,342 - EHRQC - INFO - Parsing command line arguments\n",
      "2023-08-11 13:14:03,343 - EHRQC - INFO - args.save_path: /superbugai-data/mimiciv/sepsis_icd/case_study/pre-processing/demographics.csv\n",
      "2023-08-11 13:14:03,343 - EHRQC - INFO - args.source_db: omop\n",
      "2023-08-11 13:14:03,343 - EHRQC - INFO - args.data_type: demographics\n",
      "2023-08-11 13:14:03,343 - EHRQC - INFO - args.schema_name: omop_test_20230809\n",
      "2023-08-11 13:14:04,363 - EHRQC - INFO - extracting data\n"
     ]
    },
    {
     "name": "stderr",
     "output_type": "stream",
     "text": [
      "/home/yram0006/phd/chapter_1/workspace/EHRQC/.venv/lib/python3.9/site-packages/pandas/io/sql.py:761: UserWarning: pandas only support SQLAlchemy connectable(engine/connection) ordatabase string URI or sqlite3 DBAPI2 connectionother DBAPI2 objects are not tested, please consider using SQLAlchemy\n",
      "  warnings.warn(\n"
     ]
    },
    {
     "name": "stdout",
     "output_type": "stream",
     "text": [
      "2023-08-11 13:19:57,981 - EHRQC - INFO - Saving raw data to file\n"
     ]
    },
    {
     "data": {
      "text/plain": [
       "0"
      ]
     },
     "execution_count": 2,
     "metadata": {},
     "output_type": "execute_result"
    }
   ],
   "source": [
    "import os\n",
    "\n",
    "os.system(\n",
    "    '''cd /superbugai-data/yash/chapter_1/workspace/EHRQC;'''\n",
    "    +\n",
    "    '''python -m ehrqc.extract.Extract /superbugai-data/mimiciv/sepsis_icd/case_study/pre-processing/demographics.csv omop demographics omop_test_20230809'''\n",
    "    )"
   ]
  },
  {
   "cell_type": "markdown",
   "metadata": {},
   "source": [
    "### Vitals"
   ]
  },
  {
   "cell_type": "code",
   "execution_count": 3,
   "metadata": {},
   "outputs": [
    {
     "name": "stdout",
     "output_type": "stream",
     "text": [
      "2023-08-11 13:19:59,053 - EHRQC - INFO - Parsing command line arguments\n",
      "2023-08-11 13:19:59,054 - EHRQC - INFO - args.save_path: /superbugai-data/mimiciv/sepsis_icd/case_study/pre-processing/vitals.csv\n",
      "2023-08-11 13:19:59,054 - EHRQC - INFO - args.source_db: omop\n",
      "2023-08-11 13:19:59,054 - EHRQC - INFO - args.data_type: vitals\n",
      "2023-08-11 13:19:59,054 - EHRQC - INFO - args.schema_name: omop_test_20230809\n",
      "2023-08-11 13:20:00,074 - EHRQC - INFO - extracting data\n"
     ]
    },
    {
     "name": "stderr",
     "output_type": "stream",
     "text": [
      "/home/yram0006/phd/chapter_1/workspace/EHRQC/.venv/lib/python3.9/site-packages/pandas/io/sql.py:761: UserWarning: pandas only support SQLAlchemy connectable(engine/connection) ordatabase string URI or sqlite3 DBAPI2 connectionother DBAPI2 objects are not tested, please consider using SQLAlchemy\n",
      "  warnings.warn(\n"
     ]
    },
    {
     "name": "stdout",
     "output_type": "stream",
     "text": [
      "2023-08-11 13:20:58,463 - EHRQC - INFO - Saving raw data to file\n"
     ]
    },
    {
     "data": {
      "text/plain": [
       "0"
      ]
     },
     "execution_count": 3,
     "metadata": {},
     "output_type": "execute_result"
    }
   ],
   "source": [
    "import os\n",
    "\n",
    "os.system(\n",
    "    '''cd /superbugai-data/yash/chapter_1/workspace/EHRQC;'''\n",
    "    +\n",
    "    '''python -m ehrqc.extract.Extract /superbugai-data/mimiciv/sepsis_icd/case_study/pre-processing/vitals.csv omop vitals omop_test_20230809'''\n",
    "    )"
   ]
  },
  {
   "cell_type": "markdown",
   "metadata": {},
   "source": [
    "### Lab measurements"
   ]
  },
  {
   "cell_type": "code",
   "execution_count": 4,
   "metadata": {},
   "outputs": [
    {
     "name": "stdout",
     "output_type": "stream",
     "text": [
      "2023-08-11 13:20:59,229 - EHRQC - INFO - Parsing command line arguments\n",
      "2023-08-11 13:20:59,230 - EHRQC - INFO - args.save_path: /superbugai-data/mimiciv/sepsis_icd/case_study/pre-processing/lab_measurements.csv\n",
      "2023-08-11 13:20:59,230 - EHRQC - INFO - args.source_db: omop\n",
      "2023-08-11 13:20:59,230 - EHRQC - INFO - args.data_type: lab_measurements\n",
      "2023-08-11 13:20:59,230 - EHRQC - INFO - args.schema_name: omop_test_20230809\n",
      "2023-08-11 13:21:00,245 - EHRQC - INFO - extracting data\n"
     ]
    },
    {
     "name": "stderr",
     "output_type": "stream",
     "text": [
      "/home/yram0006/phd/chapter_1/workspace/EHRQC/.venv/lib/python3.9/site-packages/pandas/io/sql.py:761: UserWarning: pandas only support SQLAlchemy connectable(engine/connection) ordatabase string URI or sqlite3 DBAPI2 connectionother DBAPI2 objects are not tested, please consider using SQLAlchemy\n",
      "  warnings.warn(\n"
     ]
    },
    {
     "name": "stdout",
     "output_type": "stream",
     "text": [
      "2023-08-11 13:21:40,089 - EHRQC - INFO - Saving raw data to file\n"
     ]
    },
    {
     "data": {
      "text/plain": [
       "0"
      ]
     },
     "execution_count": 4,
     "metadata": {},
     "output_type": "execute_result"
    }
   ],
   "source": [
    "import os\n",
    "\n",
    "os.system(\n",
    "    '''cd /superbugai-data/yash/chapter_1/workspace/EHRQC;'''\n",
    "    +\n",
    "    '''python -m ehrqc.extract.Extract /superbugai-data/mimiciv/sepsis_icd/case_study/pre-processing/lab_measurements.csv omop lab_measurements omop_test_20230809'''\n",
    "    )"
   ]
  },
  {
   "cell_type": "markdown",
   "metadata": {},
   "source": [
    "## Plot"
   ]
  },
  {
   "cell_type": "markdown",
   "metadata": {},
   "source": [
    "### Demographics"
   ]
  },
  {
   "cell_type": "code",
   "execution_count": 5,
   "metadata": {},
   "outputs": [
    {
     "name": "stdout",
     "output_type": "stream",
     "text": [
      "2023-08-11 13:26:44,652 - EHRQC - INFO - Parsing command line arguments\n",
      "2023-08-11 13:26:44,653 - EHRQC - INFO - args.plot_type: demographics_explore\n",
      "2023-08-11 13:26:44,653 - EHRQC - INFO - args.source_path: /superbugai-data/mimiciv/sepsis_icd/case_study/pre-processing/demographics.csv\n",
      "2023-08-11 13:26:44,653 - EHRQC - INFO - args.save_path: /superbugai-data/mimiciv/sepsis_icd/case_study/pre-processing/demographics_explore.html\n",
      "2023-08-11 13:26:44,653 - EHRQC - INFO - args.column_mapping: {}\n",
      "2023-08-11 13:26:44,696 - EHRQC - INFO - generating graphs\n"
     ]
    },
    {
     "name": "stderr",
     "output_type": "stream",
     "text": [
      "/home/yram0006/phd/chapter_1/workspace/EHRQC/.venv/lib/python3.9/site-packages/missingno/missingno.py:61: UserWarning: Plotting a sparkline on an existing axis is not currently supported. To remove this warning, set sparkline=False.\n",
      "  warnings.warn(\n"
     ]
    },
    {
     "name": "stdout",
     "output_type": "stream",
     "text": [
      "2023-08-11 13:26:45,827 - EHRQC - INFO - Done!!\n"
     ]
    },
    {
     "data": {
      "text/plain": [
       "0"
      ]
     },
     "execution_count": 5,
     "metadata": {},
     "output_type": "execute_result"
    }
   ],
   "source": [
    "import os\n",
    "\n",
    "os.system(\n",
    "    '''cd /superbugai-data/yash/chapter_1/workspace/EHRQC;'''\n",
    "    +\n",
    "    '''python -m ehrqc.qc.Plot demographics_explore /superbugai-data/mimiciv/sepsis_icd/case_study/pre-processing/demographics.csv /superbugai-data/mimiciv/sepsis_icd/case_study/pre-processing/demographics_explore.html'''\n",
    "    )"
   ]
  },
  {
   "cell_type": "markdown",
   "metadata": {},
   "source": [
    "### Vitals"
   ]
  },
  {
   "cell_type": "code",
   "execution_count": 6,
   "metadata": {},
   "outputs": [
    {
     "name": "stdout",
     "output_type": "stream",
     "text": [
      "2023-08-11 13:29:44,784 - EHRQC - INFO - Parsing command line arguments\n",
      "2023-08-11 13:29:44,785 - EHRQC - INFO - args.plot_type: vitals_explore\n",
      "2023-08-11 13:29:44,785 - EHRQC - INFO - args.source_path: /superbugai-data/mimiciv/sepsis_icd/case_study/pre-processing/vitals.csv\n",
      "2023-08-11 13:29:44,785 - EHRQC - INFO - args.save_path: /superbugai-data/mimiciv/sepsis_icd/case_study/pre-processing/vitals_explore.html\n",
      "2023-08-11 13:29:44,785 - EHRQC - INFO - args.column_mapping: {}\n",
      "2023-08-11 13:29:44,799 - EHRQC - INFO - generating graphs\n"
     ]
    },
    {
     "name": "stderr",
     "output_type": "stream",
     "text": [
      "/home/yram0006/phd/chapter_1/workspace/EHRQC/.venv/lib/python3.9/site-packages/missingno/missingno.py:61: UserWarning: Plotting a sparkline on an existing axis is not currently supported. To remove this warning, set sparkline=False.\n",
      "  warnings.warn(\n"
     ]
    },
    {
     "name": "stdout",
     "output_type": "stream",
     "text": [
      "2023-08-11 13:29:46,568 - EHRQC - INFO - Done!!\n"
     ]
    },
    {
     "data": {
      "text/plain": [
       "0"
      ]
     },
     "execution_count": 6,
     "metadata": {},
     "output_type": "execute_result"
    }
   ],
   "source": [
    "import os\n",
    "\n",
    "os.system(\n",
    "    '''cd /superbugai-data/yash/chapter_1/workspace/EHRQC;'''\n",
    "    +\n",
    "    '''python -m ehrqc.qc.Plot vitals_explore /superbugai-data/mimiciv/sepsis_icd/case_study/pre-processing/vitals.csv /superbugai-data/mimiciv/sepsis_icd/case_study/pre-processing/vitals_explore.html'''\n",
    "    )"
   ]
  },
  {
   "cell_type": "markdown",
   "metadata": {},
   "source": [
    "### Lab Measurements"
   ]
  },
  {
   "cell_type": "code",
   "execution_count": 7,
   "metadata": {},
   "outputs": [
    {
     "name": "stdout",
     "output_type": "stream",
     "text": [
      "2023-08-11 13:30:45,761 - EHRQC - INFO - Parsing command line arguments\n",
      "2023-08-11 13:30:45,762 - EHRQC - INFO - args.plot_type: lab_measurements_explore\n",
      "2023-08-11 13:30:45,762 - EHRQC - INFO - args.source_path: /superbugai-data/mimiciv/sepsis_icd/case_study/pre-processing/lab_measurements.csv\n",
      "2023-08-11 13:30:45,762 - EHRQC - INFO - args.save_path: /superbugai-data/mimiciv/sepsis_icd/case_study/pre-processing/lab_measurements_explore.html\n",
      "2023-08-11 13:30:45,762 - EHRQC - INFO - args.column_mapping: {}\n",
      "2023-08-11 13:30:45,799 - EHRQC - INFO - Too manu variables!! Please select only the ones to be plotted.\n",
      "2023-08-11 13:30:45,799 - EHRQC - INFO - generating graphs\n"
     ]
    },
    {
     "name": "stderr",
     "output_type": "stream",
     "text": [
      "/home/yram0006/phd/chapter_1/workspace/EHRQC/.venv/lib/python3.9/site-packages/missingno/missingno.py:61: UserWarning: Plotting a sparkline on an existing axis is not currently supported. To remove this warning, set sparkline=False.\n",
      "  warnings.warn(\n"
     ]
    },
    {
     "name": "stdout",
     "output_type": "stream",
     "text": [
      "2023-08-11 13:30:47,272 - EHRQC - INFO - Done!!\n"
     ]
    },
    {
     "data": {
      "text/plain": [
       "0"
      ]
     },
     "execution_count": 7,
     "metadata": {},
     "output_type": "execute_result"
    }
   ],
   "source": [
    "import os\n",
    "\n",
    "os.system(\n",
    "    '''cd /superbugai-data/yash/chapter_1/workspace/EHRQC;'''\n",
    "    +\n",
    "    '''python -m ehrqc.qc.Plot lab_measurements_explore /superbugai-data/mimiciv/sepsis_icd/case_study/pre-processing/lab_measurements.csv /superbugai-data/mimiciv/sepsis_icd/case_study/pre-processing/lab_measurements_explore.html'''\n",
    "    )"
   ]
  },
  {
   "cell_type": "code",
   "execution_count": null,
   "metadata": {},
   "outputs": [],
   "source": []
  }
 ],
 "metadata": {
  "kernelspec": {
   "display_name": ".venv",
   "language": "python",
   "name": "python3"
  },
  "language_info": {
   "codemirror_mode": {
    "name": "ipython",
    "version": 3
   },
   "file_extension": ".py",
   "mimetype": "text/x-python",
   "name": "python",
   "nbconvert_exporter": "python",
   "pygments_lexer": "ipython3",
   "version": "3.9.5"
  },
  "orig_nbformat": 4
 },
 "nbformat": 4,
 "nbformat_minor": 2
}
