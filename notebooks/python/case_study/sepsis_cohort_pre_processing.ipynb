{
 "cells": [
  {
   "cell_type": "markdown",
   "metadata": {},
   "source": [
    "# Pre-process Sepsis ICD Cohort data"
   ]
  },
  {
   "cell_type": "markdown",
   "metadata": {},
   "source": [
    "## Verify EHR-QC Docker Installation"
   ]
  },
  {
   "cell_type": "code",
   "execution_count": 1,
   "metadata": {},
   "outputs": [
    {
     "name": "stdout",
     "output_type": "stream",
     "text": [
      "EHRQC 1.0\n"
     ]
    },
    {
     "data": {
      "text/plain": [
       "0"
      ]
     },
     "execution_count": 1,
     "metadata": {},
     "output_type": "execute_result"
    }
   ],
   "source": [
    "import os\n",
    "\n",
    "os.system(\n",
    "    '''cd /superbugai-data/yash/chapter_1/workspace/EHRQC;'''\n",
    "    +\n",
    "    '''python -m EHRQC -v'''\n",
    "    )"
   ]
  },
  {
   "cell_type": "markdown",
   "metadata": {},
   "source": [
    "## Extract"
   ]
  },
  {
   "cell_type": "markdown",
   "metadata": {},
   "source": [
    "### Demographics"
   ]
  },
  {
   "cell_type": "code",
   "execution_count": 10,
   "metadata": {},
   "outputs": [
    {
     "name": "stdout",
     "output_type": "stream",
     "text": [
      "2023-08-11 16:01:36,932 - EHRQC - INFO - Parsing command line arguments\n",
      "2023-08-11 16:01:36,933 - EHRQC - INFO - args.save_path: /superbugai-data/mimiciv/sepsis_icd/case_study/pre-processing/demographics.csv\n",
      "2023-08-11 16:01:36,933 - EHRQC - INFO - args.source_db: omop\n",
      "2023-08-11 16:01:36,933 - EHRQC - INFO - args.data_type: demographics\n",
      "2023-08-11 16:01:36,933 - EHRQC - INFO - args.schema_name: omop_test_20230809\n",
      "2023-08-11 16:01:37,965 - EHRQC - INFO - extracting data\n"
     ]
    },
    {
     "name": "stderr",
     "output_type": "stream",
     "text": [
      "/home/yram0006/phd/chapter_1/workspace/EHRQC/.venv/lib/python3.9/site-packages/pandas/io/sql.py:761: UserWarning: pandas only support SQLAlchemy connectable(engine/connection) ordatabase string URI or sqlite3 DBAPI2 connectionother DBAPI2 objects are not tested, please consider using SQLAlchemy\n",
      "  warnings.warn(\n"
     ]
    },
    {
     "name": "stdout",
     "output_type": "stream",
     "text": [
      "2023-08-11 16:07:29,860 - EHRQC - INFO - Saving raw data to file\n"
     ]
    },
    {
     "data": {
      "text/plain": [
       "0"
      ]
     },
     "execution_count": 10,
     "metadata": {},
     "output_type": "execute_result"
    }
   ],
   "source": [
    "import os\n",
    "\n",
    "os.system(\n",
    "    '''cd /superbugai-data/yash/chapter_1/workspace/EHRQC;'''\n",
    "    +\n",
    "    '''python -m ehrqc.extract.Extract /superbugai-data/mimiciv/sepsis_icd/case_study/pre-processing/demographics.csv omop demographics omop_test_20230809'''\n",
    "    )"
   ]
  },
  {
   "cell_type": "markdown",
   "metadata": {},
   "source": [
    "### Vitals"
   ]
  },
  {
   "cell_type": "code",
   "execution_count": 11,
   "metadata": {},
   "outputs": [
    {
     "name": "stdout",
     "output_type": "stream",
     "text": [
      "2023-08-11 16:07:30,670 - EHRQC - INFO - Parsing command line arguments\n",
      "2023-08-11 16:07:30,671 - EHRQC - INFO - args.save_path: /superbugai-data/mimiciv/sepsis_icd/case_study/pre-processing/vitals.csv\n",
      "2023-08-11 16:07:30,671 - EHRQC - INFO - args.source_db: omop\n",
      "2023-08-11 16:07:30,671 - EHRQC - INFO - args.data_type: vitals\n",
      "2023-08-11 16:07:30,671 - EHRQC - INFO - args.schema_name: omop_test_20230809\n",
      "2023-08-11 16:07:31,757 - EHRQC - INFO - extracting data\n"
     ]
    },
    {
     "name": "stderr",
     "output_type": "stream",
     "text": [
      "/home/yram0006/phd/chapter_1/workspace/EHRQC/.venv/lib/python3.9/site-packages/pandas/io/sql.py:761: UserWarning: pandas only support SQLAlchemy connectable(engine/connection) ordatabase string URI or sqlite3 DBAPI2 connectionother DBAPI2 objects are not tested, please consider using SQLAlchemy\n",
      "  warnings.warn(\n"
     ]
    },
    {
     "name": "stdout",
     "output_type": "stream",
     "text": [
      "2023-08-11 16:07:41,176 - EHRQC - INFO - Saving raw data to file\n"
     ]
    },
    {
     "data": {
      "text/plain": [
       "0"
      ]
     },
     "execution_count": 11,
     "metadata": {},
     "output_type": "execute_result"
    }
   ],
   "source": [
    "import os\n",
    "\n",
    "os.system(\n",
    "    '''cd /superbugai-data/yash/chapter_1/workspace/EHRQC;'''\n",
    "    +\n",
    "    '''python -m ehrqc.extract.Extract /superbugai-data/mimiciv/sepsis_icd/case_study/pre-processing/vitals.csv omop vitals omop_test_20230809'''\n",
    "    )"
   ]
  },
  {
   "cell_type": "markdown",
   "metadata": {},
   "source": [
    "### Lab measurements"
   ]
  },
  {
   "cell_type": "code",
   "execution_count": 12,
   "metadata": {},
   "outputs": [
    {
     "name": "stdout",
     "output_type": "stream",
     "text": [
      "2023-08-11 16:07:41,952 - EHRQC - INFO - Parsing command line arguments\n",
      "2023-08-11 16:07:41,953 - EHRQC - INFO - args.save_path: /superbugai-data/mimiciv/sepsis_icd/case_study/pre-processing/lab_measurements.csv\n",
      "2023-08-11 16:07:41,953 - EHRQC - INFO - args.source_db: omop\n",
      "2023-08-11 16:07:41,953 - EHRQC - INFO - args.data_type: lab_measurements\n",
      "2023-08-11 16:07:41,953 - EHRQC - INFO - args.schema_name: omop_test_20230809\n",
      "2023-08-11 16:07:42,972 - EHRQC - INFO - extracting data\n"
     ]
    },
    {
     "name": "stderr",
     "output_type": "stream",
     "text": [
      "/home/yram0006/phd/chapter_1/workspace/EHRQC/.venv/lib/python3.9/site-packages/pandas/io/sql.py:761: UserWarning: pandas only support SQLAlchemy connectable(engine/connection) ordatabase string URI or sqlite3 DBAPI2 connectionother DBAPI2 objects are not tested, please consider using SQLAlchemy\n",
      "  warnings.warn(\n"
     ]
    },
    {
     "name": "stdout",
     "output_type": "stream",
     "text": [
      "2023-08-11 16:07:57,179 - EHRQC - INFO - Saving raw data to file\n"
     ]
    },
    {
     "data": {
      "text/plain": [
       "0"
      ]
     },
     "execution_count": 12,
     "metadata": {},
     "output_type": "execute_result"
    }
   ],
   "source": [
    "import os\n",
    "\n",
    "os.system(\n",
    "    '''cd /superbugai-data/yash/chapter_1/workspace/EHRQC;'''\n",
    "    +\n",
    "    '''python -m ehrqc.extract.Extract /superbugai-data/mimiciv/sepsis_icd/case_study/pre-processing/lab_measurements.csv omop lab_measurements omop_test_20230809'''\n",
    "    )"
   ]
  },
  {
   "cell_type": "markdown",
   "metadata": {},
   "source": [
    "## Plot - Before"
   ]
  },
  {
   "cell_type": "markdown",
   "metadata": {},
   "source": [
    "### Demographics"
   ]
  },
  {
   "cell_type": "code",
   "execution_count": 13,
   "metadata": {},
   "outputs": [
    {
     "name": "stdout",
     "output_type": "stream",
     "text": [
      "2023-08-11 16:07:59,220 - EHRQC - INFO - Parsing command line arguments\n",
      "2023-08-11 16:07:59,222 - EHRQC - INFO - args.plot_type: demographics_explore\n",
      "2023-08-11 16:07:59,222 - EHRQC - INFO - args.source_path: /superbugai-data/mimiciv/sepsis_icd/case_study/pre-processing/demographics.csv\n",
      "2023-08-11 16:07:59,222 - EHRQC - INFO - args.save_path: /superbugai-data/mimiciv/sepsis_icd/case_study/pre-processing/before_demographics_explore.html\n",
      "2023-08-11 16:07:59,222 - EHRQC - INFO - args.column_mapping: {}\n",
      "2023-08-11 16:07:59,240 - EHRQC - INFO - generating graphs\n"
     ]
    },
    {
     "name": "stderr",
     "output_type": "stream",
     "text": [
      "/home/yram0006/phd/chapter_1/workspace/EHRQC/.venv/lib/python3.9/site-packages/missingno/missingno.py:61: UserWarning: Plotting a sparkline on an existing axis is not currently supported. To remove this warning, set sparkline=False.\n",
      "  warnings.warn(\n"
     ]
    },
    {
     "name": "stdout",
     "output_type": "stream",
     "text": [
      "2023-08-11 16:07:59,689 - EHRQC - INFO - Done!!\n"
     ]
    },
    {
     "data": {
      "text/plain": [
       "0"
      ]
     },
     "execution_count": 13,
     "metadata": {},
     "output_type": "execute_result"
    }
   ],
   "source": [
    "import os\n",
    "\n",
    "os.system(\n",
    "    '''cd /superbugai-data/yash/chapter_1/workspace/EHRQC;'''\n",
    "    +\n",
    "    '''python -m ehrqc.qc.Plot demographics_explore /superbugai-data/mimiciv/sepsis_icd/case_study/pre-processing/demographics.csv /superbugai-data/mimiciv/sepsis_icd/case_study/pre-processing/before_demographics_explore.html'''\n",
    "    )"
   ]
  },
  {
   "cell_type": "markdown",
   "metadata": {},
   "source": [
    "### Vitals"
   ]
  },
  {
   "cell_type": "code",
   "execution_count": 14,
   "metadata": {},
   "outputs": [
    {
     "name": "stdout",
     "output_type": "stream",
     "text": [
      "2023-08-11 16:08:01,395 - EHRQC - INFO - Parsing command line arguments\n",
      "2023-08-11 16:08:01,395 - EHRQC - INFO - args.plot_type: vitals_explore\n",
      "2023-08-11 16:08:01,396 - EHRQC - INFO - args.source_path: /superbugai-data/mimiciv/sepsis_icd/case_study/pre-processing/vitals.csv\n",
      "2023-08-11 16:08:01,396 - EHRQC - INFO - args.save_path: /superbugai-data/mimiciv/sepsis_icd/case_study/pre-processing/before_vitals_explore.html\n",
      "2023-08-11 16:08:01,396 - EHRQC - INFO - args.column_mapping: {}\n",
      "2023-08-11 16:08:01,409 - EHRQC - INFO - generating graphs\n"
     ]
    },
    {
     "name": "stderr",
     "output_type": "stream",
     "text": [
      "/home/yram0006/phd/chapter_1/workspace/EHRQC/.venv/lib/python3.9/site-packages/missingno/missingno.py:61: UserWarning: Plotting a sparkline on an existing axis is not currently supported. To remove this warning, set sparkline=False.\n",
      "  warnings.warn(\n"
     ]
    },
    {
     "name": "stdout",
     "output_type": "stream",
     "text": [
      "2023-08-11 16:08:02,955 - EHRQC - INFO - Done!!\n"
     ]
    },
    {
     "data": {
      "text/plain": [
       "0"
      ]
     },
     "execution_count": 14,
     "metadata": {},
     "output_type": "execute_result"
    }
   ],
   "source": [
    "import os\n",
    "\n",
    "os.system(\n",
    "    '''cd /superbugai-data/yash/chapter_1/workspace/EHRQC;'''\n",
    "    +\n",
    "    '''python -m ehrqc.qc.Plot vitals_explore /superbugai-data/mimiciv/sepsis_icd/case_study/pre-processing/vitals.csv /superbugai-data/mimiciv/sepsis_icd/case_study/pre-processing/before_vitals_explore.html'''\n",
    "    )"
   ]
  },
  {
   "cell_type": "markdown",
   "metadata": {},
   "source": [
    "### Lab Measurements"
   ]
  },
  {
   "cell_type": "code",
   "execution_count": 15,
   "metadata": {},
   "outputs": [
    {
     "name": "stdout",
     "output_type": "stream",
     "text": [
      "2023-08-11 16:08:04,721 - EHRQC - INFO - Parsing command line arguments\n",
      "2023-08-11 16:08:04,722 - EHRQC - INFO - args.plot_type: lab_measurements_explore\n",
      "2023-08-11 16:08:04,722 - EHRQC - INFO - args.source_path: /superbugai-data/mimiciv/sepsis_icd/case_study/pre-processing/lab_measurements.csv\n",
      "2023-08-11 16:08:04,722 - EHRQC - INFO - args.save_path: /superbugai-data/mimiciv/sepsis_icd/case_study/pre-processing/before_lab_measurements_explore.html\n",
      "2023-08-11 16:08:04,722 - EHRQC - INFO - args.column_mapping: {}\n",
      "2023-08-11 16:08:04,760 - EHRQC - INFO - Too manu variables!! Please select only the ones to be plotted.\n",
      "2023-08-11 16:08:04,760 - EHRQC - INFO - generating graphs\n"
     ]
    },
    {
     "name": "stderr",
     "output_type": "stream",
     "text": [
      "/home/yram0006/phd/chapter_1/workspace/EHRQC/.venv/lib/python3.9/site-packages/missingno/missingno.py:61: UserWarning: Plotting a sparkline on an existing axis is not currently supported. To remove this warning, set sparkline=False.\n",
      "  warnings.warn(\n"
     ]
    },
    {
     "name": "stdout",
     "output_type": "stream",
     "text": [
      "2023-08-11 16:08:06,203 - EHRQC - INFO - Done!!\n"
     ]
    },
    {
     "data": {
      "text/plain": [
       "0"
      ]
     },
     "execution_count": 15,
     "metadata": {},
     "output_type": "execute_result"
    }
   ],
   "source": [
    "import os\n",
    "\n",
    "os.system(\n",
    "    '''cd /superbugai-data/yash/chapter_1/workspace/EHRQC;'''\n",
    "    +\n",
    "    '''python -m ehrqc.qc.Plot lab_measurements_explore /superbugai-data/mimiciv/sepsis_icd/case_study/pre-processing/lab_measurements.csv /superbugai-data/mimiciv/sepsis_icd/case_study/pre-processing/before_lab_measurements_explore.html'''\n",
    "    )"
   ]
  },
  {
   "cell_type": "markdown",
   "metadata": {},
   "source": [
    "## Coverage analysis\n",
    "\n",
    "Some of the lab measurements have very low coverage that needs to be removed from further analysis"
   ]
  },
  {
   "cell_type": "markdown",
   "metadata": {},
   "source": [
    "### Remove sparse attrubutes"
   ]
  },
  {
   "cell_type": "code",
   "execution_count": null,
   "metadata": {},
   "outputs": [],
   "source": [
    "import pandas as pd\n",
    "df = pd.read_csv('lab_measurements.csv')\n",
    "\n",
    "df.drop('lactate', axis=1, inplace=True)\n",
    "df.drop('carbondioxide_blood', axis=1, inplace=True)\n",
    "df.drop('albumin', axis=1, inplace=True)\n",
    "df.drop('glucose_urine', axis=1, inplace=True)\n",
    "df.drop('band_form_neutrophils', axis=1, inplace=True)\n",
    "df.drop('base_excess_in_blood', axis=1, inplace=True)\n",
    "df.drop('potassium_blood', axis=1, inplace=True)\n",
    "df.drop('ph_blood', axis=1, inplace=True)\n",
    "df.drop('carbondioxide_serum', axis=1, inplace=True)\n",
    "df.drop('bilirubin', axis=1, inplace=True)\n",
    "df.drop('leukocytes_blood_auto', axis=1, inplace=True)\n",
    "df.drop('inr', axis=1, inplace=True)\n",
    "df.drop('sodium_blood', axis=1, inplace=True)\n",
    "df.drop('ph_bodyfluid', axis=1, inplace=True)\n",
    "df.drop('chloride_blood', axis=1, inplace=True)\n",
    "df.drop('oxygen', axis=1, inplace=True)\n",
    "df.drop('aptt', axis=1, inplace=True)\n",
    "\n",
    "df.to_csv('lab_measurements_dense.csv', index=False)"
   ]
  },
  {
   "cell_type": "markdown",
   "metadata": {},
   "source": [
    "## Anomalies"
   ]
  },
  {
   "cell_type": "markdown",
   "metadata": {},
   "source": [
    "### Plot Anomalies - Before"
   ]
  },
  {
   "cell_type": "markdown",
   "metadata": {},
   "source": [
    "#### Vitals"
   ]
  },
  {
   "cell_type": "code",
   "execution_count": 16,
   "metadata": {},
   "outputs": [
    {
     "name": "stdout",
     "output_type": "stream",
     "text": [
      "2023-08-11 16:08:07,940 - Anomalies - INFO - Parsing command line arguments\n",
      "2023-08-11 16:08:07,941 - Anomalies - INFO - Start!!\n",
      "2023-08-11 16:08:07,941 - Anomalies - INFO - args.source_path: /superbugai-data/mimiciv/sepsis_icd/case_study/pre-processing/vitals.csv\n",
      "2023-08-11 16:08:07,941 - Anomalies - INFO - args.save_path: /superbugai-data/mimiciv/sepsis_icd/case_study/pre-processing/\n",
      "2023-08-11 16:08:07,941 - Anomalies - INFO - args.save_prefix: before_vitals\n",
      "2023-08-11 16:08:07,941 - Anomalies - INFO - args.detect_missing: True\n",
      "2023-08-11 16:08:07,941 - Anomalies - INFO - args.detect_outliers: True\n",
      "2023-08-11 16:08:07,941 - Anomalies - INFO - args.detect_errors: True\n",
      "2023-08-11 16:08:07,941 - Anomalies - INFO - args.detect_inconsistencies: True\n",
      "2023-08-11 16:08:07,941 - Anomalies - INFO - args.correct_missing: False\n",
      "2023-08-11 16:08:07,941 - Anomalies - INFO - args.correct_outliers: False\n",
      "2023-08-11 16:08:12,773 - Anomalies - INFO - Done!!\n"
     ]
    },
    {
     "data": {
      "text/plain": [
       "0"
      ]
     },
     "execution_count": 16,
     "metadata": {},
     "output_type": "execute_result"
    }
   ],
   "source": [
    "import os\n",
    "\n",
    "os.system(\n",
    "    '''cd /superbugai-data/yash/chapter_1/workspace/EHRQC;'''\n",
    "    +\n",
    "    '''python -m ehrqc.qc.Anomalies /superbugai-data/mimiciv/sepsis_icd/case_study/pre-processing/vitals.csv /superbugai-data/mimiciv/sepsis_icd/case_study/pre-processing/ before_vitals -dm -do -de -di'''\n",
    "    )"
   ]
  },
  {
   "cell_type": "markdown",
   "metadata": {},
   "source": [
    "#### Lab Measurements"
   ]
  },
  {
   "cell_type": "code",
   "execution_count": 2,
   "metadata": {},
   "outputs": [
    {
     "name": "stdout",
     "output_type": "stream",
     "text": [
      "2023-08-12 07:26:21,496 - Anomalies - INFO - Parsing command line arguments\n",
      "2023-08-12 07:26:21,497 - Anomalies - INFO - Start!!\n",
      "2023-08-12 07:26:21,497 - Anomalies - INFO - args.source_path: /superbugai-data/mimiciv/sepsis_icd/case_study/pre-processing/lab_measurements.csv\n",
      "2023-08-12 07:26:21,497 - Anomalies - INFO - args.save_path: /superbugai-data/mimiciv/sepsis_icd/case_study/pre-processing/\n",
      "2023-08-12 07:26:21,497 - Anomalies - INFO - args.save_prefix: before_lab_measurements\n",
      "2023-08-12 07:26:21,497 - Anomalies - INFO - args.detect_missing: True\n",
      "2023-08-12 07:26:21,497 - Anomalies - INFO - args.detect_outliers: True\n",
      "2023-08-12 07:26:21,497 - Anomalies - INFO - args.detect_errors: True\n",
      "2023-08-12 07:26:21,497 - Anomalies - INFO - args.detect_inconsistencies: True\n",
      "2023-08-12 07:26:21,497 - Anomalies - INFO - args.correct_missing: False\n",
      "2023-08-12 07:26:21,497 - Anomalies - INFO - args.correct_outliers: False\n",
      "2023-08-12 07:28:14,092 - Anomalies - INFO - Done!!\n"
     ]
    },
    {
     "data": {
      "text/plain": [
       "0"
      ]
     },
     "execution_count": 2,
     "metadata": {},
     "output_type": "execute_result"
    }
   ],
   "source": [
    "import os\n",
    "\n",
    "os.system(\n",
    "    '''cd /superbugai-data/yash/chapter_1/workspace/EHRQC;'''\n",
    "    +\n",
    "    '''python -m ehrqc.qc.Anomalies /superbugai-data/mimiciv/sepsis_icd/case_study/pre-processing/lab_measurements.csv /superbugai-data/mimiciv/sepsis_icd/case_study/pre-processing/ before_lab_measurements -dm -do -de -di'''\n",
    "    )"
   ]
  },
  {
   "cell_type": "markdown",
   "metadata": {},
   "source": [
    "### Correct Anomalies"
   ]
  },
  {
   "cell_type": "markdown",
   "metadata": {},
   "source": [
    "#### Vitals"
   ]
  },
  {
   "cell_type": "code",
   "execution_count": 9,
   "metadata": {},
   "outputs": [
    {
     "name": "stdout",
     "output_type": "stream",
     "text": [
      "2023-08-11 15:49:23,675 - Anomalies - INFO - Parsing command line arguments\n",
      "2023-08-11 15:49:23,677 - Anomalies - INFO - Start!!\n",
      "2023-08-11 15:49:23,677 - Anomalies - INFO - args.source_path: /superbugai-data/mimiciv/sepsis_icd/case_study/pre-processing/vitals.csv\n",
      "2023-08-11 15:49:23,677 - Anomalies - INFO - args.save_path: /superbugai-data/mimiciv/sepsis_icd/case_study/pre-processing/\n",
      "2023-08-11 15:49:23,677 - Anomalies - INFO - args.save_prefix: vitals\n",
      "2023-08-11 15:49:23,677 - Anomalies - INFO - args.detect_missing: False\n",
      "2023-08-11 15:49:23,677 - Anomalies - INFO - args.detect_outliers: False\n",
      "2023-08-11 15:49:23,677 - Anomalies - INFO - args.detect_errors: False\n",
      "2023-08-11 15:49:23,677 - Anomalies - INFO - args.detect_inconsistencies: False\n",
      "2023-08-11 15:49:23,677 - Anomalies - INFO - args.correct_missing: True\n",
      "2023-08-11 15:49:23,677 - Anomalies - INFO - args.correct_outliers: True\n",
      "2023-08-11 15:49:23,692 - Anomalies - INFO - Creating missingness with proportion p = (0.004676925729557308)\n",
      "2023-08-11 15:49:23,696 - Anomalies - INFO - Running mean imputation\n",
      "2023-08-11 15:49:23,704 - Anomalies - INFO - Mean imputation R2 score: 0.9964259163322445\n",
      "2023-08-11 15:49:23,704 - Anomalies - INFO - Running median imputation\n",
      "2023-08-11 15:49:23,717 - Anomalies - INFO - Median imputation R2 score: 0.9959601795023498\n",
      "2023-08-11 15:49:23,717 - Anomalies - INFO - Running KNN imputation\n",
      "2023-08-11 15:49:23,923 - Anomalies - INFO - KNN imputation R2 score: 0.9963672068813334\n",
      "2023-08-11 15:49:23,923 - Anomalies - INFO - Running MissForest imputation\n",
      "Iteration: 0\n",
      "Iteration: 1\n",
      "Iteration: 2\n",
      "Iteration: 3\n",
      "Iteration: 4\n",
      "Iteration: 5\n",
      "Iteration: 6\n",
      "2023-08-11 15:50:06,297 - Anomalies - INFO - MissForest imputation R2 score: 0.9984265924678474\n",
      "2023-08-11 15:50:06,297 - Anomalies - INFO - Running EM imputation\n",
      "2023-08-11 15:50:06,297 - Anomalies - ERROR - EM imputation failed!!\n",
      "Traceback (most recent call last):\n",
      "  File \"/superbugai-data/yash/chapter_1/workspace/EHRQC/ehrqc/qc/Impute.py\", line 83, in compare\n",
      "    emImputedData = impy.em(missingDf.to_numpy())\n",
      "  File \"/home/yram0006/phd/chapter_1/workspace/EHRQC/.venv/lib/python3.9/site-packages/impyute/util/preprocess.py\", line 55, in wrapper\n",
      "    return fn(*args, **kwargs)\n",
      "  File \"/home/yram0006/phd/chapter_1/workspace/EHRQC/.venv/lib/python3.9/site-packages/impyute/util/checks.py\", line 32, in wrapper\n",
      "    elif not _dtype_float(data):\n",
      "  File \"/home/yram0006/phd/chapter_1/workspace/EHRQC/.venv/lib/python3.9/site-packages/impyute/util/checks.py\", line 53, in _dtype_float\n",
      "    return data.dtype == np.float\n",
      "  File \"/home/yram0006/phd/chapter_1/workspace/EHRQC/.venv/lib/python3.9/site-packages/numpy/__init__.py\", line 305, in __getattr__\n",
      "    raise AttributeError(__former_attrs__[attr])\n",
      "AttributeError: module 'numpy' has no attribute 'float'.\n",
      "`np.float` was a deprecated alias for the builtin `float`. To avoid this error in existing code, use `float` by itself. Doing this will not modify any behavior and is safe. If you specifically wanted the numpy scalar type, use `np.float64` here.\n",
      "The aliases was originally deprecated in NumPy 1.20; for more details and guidance see the original release note at:\n",
      "    https://numpy.org/devdocs/release/1.20.0-notes.html#deprecations\n",
      "2023-08-11 15:50:06,303 - Anomalies - INFO - Running MI imputation\n",
      "2023-08-11 15:50:29,138 - Anomalies - INFO - MI imputation R2 score: 0.9970692398126065\n",
      "2023-08-11 15:50:29,146 - Anomalies - INFO - meanR2, medianR2, knnR2, mfR2, emR2, miR2: [0.9964259163322445, 0.9959601795023498, 0.9963672068813334, 0.9984265924678474, 0, 0.9970692398126065]\n",
      "2023-08-11 15:50:29,146 - Anomalies - INFO - Choosing MissForest imputation\n"
     ]
    },
    {
     "name": "stderr",
     "output_type": "stream",
     "text": [
      "Warning message:\n",
      "In sqrt(diag(solve(Hess))) : NaNs produced\n"
     ]
    },
    {
     "name": "stdout",
     "output_type": "stream",
     "text": [
      "2023-08-11 15:50:45,009 - Anomalies - INFO - Done!!\n"
     ]
    },
    {
     "data": {
      "text/plain": [
       "0"
      ]
     },
     "execution_count": 9,
     "metadata": {},
     "output_type": "execute_result"
    }
   ],
   "source": [
    "import os\n",
    "\n",
    "os.system(\n",
    "    '''cd /superbugai-data/yash/chapter_1/workspace/EHRQC;'''\n",
    "    +\n",
    "    '''python -m ehrqc.qc.Anomalies /superbugai-data/mimiciv/sepsis_icd/case_study/pre-processing/vitals.csv /superbugai-data/mimiciv/sepsis_icd/case_study/pre-processing/ vitals -cm -co'''\n",
    "    )"
   ]
  },
  {
   "cell_type": "markdown",
   "metadata": {},
   "source": [
    "#### Lab Measurements"
   ]
  },
  {
   "cell_type": "code",
   "execution_count": 3,
   "metadata": {},
   "outputs": [
    {
     "name": "stdout",
     "output_type": "stream",
     "text": [
      "2023-08-12 07:32:36,340 - Anomalies - INFO - Parsing command line arguments\n",
      "2023-08-12 07:32:36,341 - Anomalies - INFO - Start!!\n",
      "2023-08-12 07:32:36,341 - Anomalies - INFO - args.source_path: /superbugai-data/mimiciv/sepsis_icd/case_study/pre-processing/lab_measurements_dense.csv\n",
      "2023-08-12 07:32:36,341 - Anomalies - INFO - args.save_path: /superbugai-data/mimiciv/sepsis_icd/case_study/pre-processing/\n",
      "2023-08-12 07:32:36,341 - Anomalies - INFO - args.save_prefix: lab_measurements\n",
      "2023-08-12 07:32:36,341 - Anomalies - INFO - args.detect_missing: False\n",
      "2023-08-12 07:32:36,341 - Anomalies - INFO - args.detect_outliers: False\n",
      "2023-08-12 07:32:36,341 - Anomalies - INFO - args.detect_errors: False\n",
      "2023-08-12 07:32:36,341 - Anomalies - INFO - args.detect_inconsistencies: False\n",
      "2023-08-12 07:32:36,341 - Anomalies - INFO - args.correct_missing: True\n",
      "2023-08-12 07:32:36,341 - Anomalies - INFO - args.correct_outliers: True\n",
      "2023-08-12 07:32:36,376 - Anomalies - INFO - Creating missingness with proportion p = (0.0021681827089009274)\n",
      "2023-08-12 07:32:36,382 - Anomalies - INFO - Running mean imputation\n",
      "2023-08-12 07:32:36,390 - Anomalies - INFO - Mean imputation R2 score: 0.9985805411057499\n",
      "2023-08-12 07:32:36,391 - Anomalies - INFO - Running median imputation\n",
      "2023-08-12 07:32:36,416 - Anomalies - INFO - Median imputation R2 score: 0.9984947157050115\n",
      "2023-08-12 07:32:36,416 - Anomalies - INFO - Running KNN imputation\n",
      "2023-08-12 07:32:36,652 - Anomalies - INFO - KNN imputation R2 score: 0.9984937460591078\n",
      "2023-08-12 07:32:36,653 - Anomalies - INFO - Running MissForest imputation\n",
      "Iteration: 0\n",
      "Iteration: 1\n",
      "Iteration: 2\n",
      "Iteration: 3\n",
      "2023-08-12 07:33:33,489 - Anomalies - INFO - MissForest imputation R2 score: 0.9991862184191656\n",
      "2023-08-12 07:33:33,489 - Anomalies - INFO - Running EM imputation\n",
      "2023-08-12 07:33:33,489 - Anomalies - ERROR - EM imputation failed!!\n",
      "Traceback (most recent call last):\n",
      "  File \"/superbugai-data/yash/chapter_1/workspace/EHRQC/ehrqc/qc/Impute.py\", line 83, in compare\n",
      "    emImputedData = impy.em(missingDf.to_numpy())\n",
      "  File \"/home/yram0006/phd/chapter_1/workspace/EHRQC/.venv/lib/python3.9/site-packages/impyute/util/preprocess.py\", line 55, in wrapper\n",
      "    return fn(*args, **kwargs)\n",
      "  File \"/home/yram0006/phd/chapter_1/workspace/EHRQC/.venv/lib/python3.9/site-packages/impyute/util/checks.py\", line 32, in wrapper\n",
      "    elif not _dtype_float(data):\n",
      "  File \"/home/yram0006/phd/chapter_1/workspace/EHRQC/.venv/lib/python3.9/site-packages/impyute/util/checks.py\", line 53, in _dtype_float\n",
      "    return data.dtype == np.float\n",
      "  File \"/home/yram0006/phd/chapter_1/workspace/EHRQC/.venv/lib/python3.9/site-packages/numpy/__init__.py\", line 305, in __getattr__\n",
      "    raise AttributeError(__former_attrs__[attr])\n",
      "AttributeError: module 'numpy' has no attribute 'float'.\n",
      "`np.float` was a deprecated alias for the builtin `float`. To avoid this error in existing code, use `float` by itself. Doing this will not modify any behavior and is safe. If you specifically wanted the numpy scalar type, use `np.float64` here.\n",
      "The aliases was originally deprecated in NumPy 1.20; for more details and guidance see the original release note at:\n",
      "    https://numpy.org/devdocs/release/1.20.0-notes.html#deprecations\n",
      "2023-08-12 07:33:33,490 - Anomalies - INFO - Running MI imputation\n",
      "2023-08-12 07:33:59,369 - Anomalies - INFO - MI imputation R2 score: 0.9984549447447398\n",
      "2023-08-12 07:33:59,379 - Anomalies - INFO - meanR2, medianR2, knnR2, mfR2, emR2, miR2: [0.9985805411057499, 0.9984947157050115, 0.9984937460591078, 0.9991862184191656, 0, 0.9984549447447398]\n",
      "2023-08-12 07:33:59,379 - Anomalies - INFO - Choosing MissForest imputation\n"
     ]
    },
    {
     "name": "stderr",
     "output_type": "stream",
     "text": [
      "Warning message:\n",
      "In sqrt(diag(solve(Hess))) : NaNs produced\n"
     ]
    },
    {
     "name": "stdout",
     "output_type": "stream",
     "text": [
      "2023-08-12 07:34:20,114 - Anomalies - INFO - Done!!\n"
     ]
    },
    {
     "data": {
      "text/plain": [
       "0"
      ]
     },
     "execution_count": 3,
     "metadata": {},
     "output_type": "execute_result"
    }
   ],
   "source": [
    "import os\n",
    "\n",
    "os.system(\n",
    "    '''cd /superbugai-data/yash/chapter_1/workspace/EHRQC;'''\n",
    "    +\n",
    "    '''python -m ehrqc.qc.Anomalies /superbugai-data/mimiciv/sepsis_icd/case_study/pre-processing/lab_measurements_dense.csv /superbugai-data/mimiciv/sepsis_icd/case_study/pre-processing/ lab_measurements -cm -co'''\n",
    "    )"
   ]
  },
  {
   "cell_type": "markdown",
   "metadata": {},
   "source": [
    "### Plot Anomalies - After"
   ]
  },
  {
   "cell_type": "markdown",
   "metadata": {},
   "source": [
    "#### Vitals"
   ]
  },
  {
   "cell_type": "code",
   "execution_count": 1,
   "metadata": {},
   "outputs": [
    {
     "name": "stdout",
     "output_type": "stream",
     "text": [
      "2023-08-11 16:33:55,337 - Anomalies - INFO - Parsing command line arguments\n",
      "2023-08-11 16:33:55,338 - Anomalies - INFO - Start!!\n",
      "2023-08-11 16:33:55,338 - Anomalies - INFO - args.source_path: /superbugai-data/mimiciv/sepsis_icd/case_study/pre-processing/vitals_corrected.csv\n",
      "2023-08-11 16:33:55,338 - Anomalies - INFO - args.save_path: /superbugai-data/mimiciv/sepsis_icd/case_study/pre-processing/\n",
      "2023-08-11 16:33:55,338 - Anomalies - INFO - args.save_prefix: after_vitals\n",
      "2023-08-11 16:33:55,338 - Anomalies - INFO - args.detect_missing: True\n",
      "2023-08-11 16:33:55,338 - Anomalies - INFO - args.detect_outliers: True\n",
      "2023-08-11 16:33:55,338 - Anomalies - INFO - args.detect_errors: True\n",
      "2023-08-11 16:33:55,338 - Anomalies - INFO - args.detect_inconsistencies: True\n",
      "2023-08-11 16:33:55,338 - Anomalies - INFO - args.correct_missing: False\n",
      "2023-08-11 16:33:55,338 - Anomalies - INFO - args.correct_outliers: False\n",
      "2023-08-11 16:35:10,696 - Anomalies - INFO - Done!!\n"
     ]
    },
    {
     "data": {
      "text/plain": [
       "0"
      ]
     },
     "execution_count": 1,
     "metadata": {},
     "output_type": "execute_result"
    }
   ],
   "source": [
    "import os\n",
    "\n",
    "os.system(\n",
    "    '''cd /superbugai-data/yash/chapter_1/workspace/EHRQC;'''\n",
    "    +\n",
    "    '''python -m ehrqc.qc.Anomalies /superbugai-data/mimiciv/sepsis_icd/case_study/pre-processing/vitals_corrected.csv /superbugai-data/mimiciv/sepsis_icd/case_study/pre-processing/ after_vitals  -dm -do -de -di'''\n",
    "    )"
   ]
  },
  {
   "cell_type": "markdown",
   "metadata": {},
   "source": [
    "#### Lab Measurements"
   ]
  },
  {
   "cell_type": "code",
   "execution_count": 4,
   "metadata": {},
   "outputs": [
    {
     "name": "stdout",
     "output_type": "stream",
     "text": [
      "2023-08-12 07:34:21,876 - Anomalies - INFO - Parsing command line arguments\n",
      "2023-08-12 07:34:21,877 - Anomalies - INFO - Start!!\n",
      "2023-08-12 07:34:21,877 - Anomalies - INFO - args.source_path: /superbugai-data/mimiciv/sepsis_icd/case_study/pre-processing/lab_measurements_corrected.csv\n",
      "2023-08-12 07:34:21,877 - Anomalies - INFO - args.save_path: /superbugai-data/mimiciv/sepsis_icd/case_study/pre-processing/\n",
      "2023-08-12 07:34:21,878 - Anomalies - INFO - args.save_prefix: after_lab_measurements\n",
      "2023-08-12 07:34:21,878 - Anomalies - INFO - args.detect_missing: True\n",
      "2023-08-12 07:34:21,878 - Anomalies - INFO - args.detect_outliers: True\n",
      "2023-08-12 07:34:21,878 - Anomalies - INFO - args.detect_errors: True\n",
      "2023-08-12 07:34:21,878 - Anomalies - INFO - args.detect_inconsistencies: True\n",
      "2023-08-12 07:34:21,878 - Anomalies - INFO - args.correct_missing: False\n",
      "2023-08-12 07:34:21,878 - Anomalies - INFO - args.correct_outliers: False\n",
      "2023-08-12 07:35:18,077 - Anomalies - INFO - Done!!\n"
     ]
    },
    {
     "data": {
      "text/plain": [
       "0"
      ]
     },
     "execution_count": 4,
     "metadata": {},
     "output_type": "execute_result"
    }
   ],
   "source": [
    "import os\n",
    "\n",
    "os.system(\n",
    "    '''cd /superbugai-data/yash/chapter_1/workspace/EHRQC;'''\n",
    "    +\n",
    "    '''python -m ehrqc.qc.Anomalies /superbugai-data/mimiciv/sepsis_icd/case_study/pre-processing/lab_measurements_corrected.csv /superbugai-data/mimiciv/sepsis_icd/case_study/pre-processing/ after_lab_measurements -dm -do -de -di'''\n",
    "    )"
   ]
  },
  {
   "cell_type": "markdown",
   "metadata": {},
   "source": [
    "## Exploration Plots - After"
   ]
  },
  {
   "cell_type": "markdown",
   "metadata": {},
   "source": [
    "### Demographics"
   ]
  },
  {
   "cell_type": "code",
   "execution_count": 21,
   "metadata": {},
   "outputs": [
    {
     "name": "stdout",
     "output_type": "stream",
     "text": [
      "2023-08-11 16:28:15,419 - EHRQC - INFO - Parsing command line arguments\n",
      "2023-08-11 16:28:15,420 - EHRQC - INFO - args.plot_type: demographics_explore\n",
      "2023-08-11 16:28:15,420 - EHRQC - INFO - args.source_path: /superbugai-data/mimiciv/sepsis_icd/case_study/pre-processing/demographics.csv\n",
      "2023-08-11 16:28:15,420 - EHRQC - INFO - args.save_path: /superbugai-data/mimiciv/sepsis_icd/case_study/pre-processing/after_demographics_explore.html\n",
      "2023-08-11 16:28:15,420 - EHRQC - INFO - args.column_mapping: {}\n",
      "2023-08-11 16:28:15,438 - EHRQC - INFO - generating graphs\n"
     ]
    },
    {
     "name": "stderr",
     "output_type": "stream",
     "text": [
      "/home/yram0006/phd/chapter_1/workspace/EHRQC/.venv/lib/python3.9/site-packages/missingno/missingno.py:61: UserWarning: Plotting a sparkline on an existing axis is not currently supported. To remove this warning, set sparkline=False.\n",
      "  warnings.warn(\n"
     ]
    },
    {
     "name": "stdout",
     "output_type": "stream",
     "text": [
      "2023-08-11 16:28:15,885 - EHRQC - INFO - Done!!\n"
     ]
    },
    {
     "data": {
      "text/plain": [
       "0"
      ]
     },
     "execution_count": 21,
     "metadata": {},
     "output_type": "execute_result"
    }
   ],
   "source": [
    "import os\n",
    "\n",
    "os.system(\n",
    "    '''cd /superbugai-data/yash/chapter_1/workspace/EHRQC;'''\n",
    "    +\n",
    "    '''python -m ehrqc.qc.Plot demographics_explore /superbugai-data/mimiciv/sepsis_icd/case_study/pre-processing/demographics.csv /superbugai-data/mimiciv/sepsis_icd/case_study/pre-processing/after_demographics_explore.html'''\n",
    "    )"
   ]
  },
  {
   "cell_type": "markdown",
   "metadata": {},
   "source": [
    "### Vitals"
   ]
  },
  {
   "cell_type": "code",
   "execution_count": 22,
   "metadata": {},
   "outputs": [
    {
     "name": "stdout",
     "output_type": "stream",
     "text": [
      "2023-08-11 16:28:19,189 - EHRQC - INFO - Parsing command line arguments\n",
      "2023-08-11 16:28:19,190 - EHRQC - INFO - args.plot_type: vitals_explore\n",
      "2023-08-11 16:28:19,190 - EHRQC - INFO - args.source_path: /superbugai-data/mimiciv/sepsis_icd/case_study/pre-processing/vitals.csv\n",
      "2023-08-11 16:28:19,190 - EHRQC - INFO - args.save_path: /superbugai-data/mimiciv/sepsis_icd/case_study/pre-processing/after_vitals_explore.html\n",
      "2023-08-11 16:28:19,190 - EHRQC - INFO - args.column_mapping: {}\n",
      "2023-08-11 16:28:19,204 - EHRQC - INFO - generating graphs\n"
     ]
    },
    {
     "name": "stderr",
     "output_type": "stream",
     "text": [
      "/home/yram0006/phd/chapter_1/workspace/EHRQC/.venv/lib/python3.9/site-packages/missingno/missingno.py:61: UserWarning: Plotting a sparkline on an existing axis is not currently supported. To remove this warning, set sparkline=False.\n",
      "  warnings.warn(\n"
     ]
    },
    {
     "name": "stdout",
     "output_type": "stream",
     "text": [
      "2023-08-11 16:28:20,726 - EHRQC - INFO - Done!!\n"
     ]
    },
    {
     "data": {
      "text/plain": [
       "0"
      ]
     },
     "execution_count": 22,
     "metadata": {},
     "output_type": "execute_result"
    }
   ],
   "source": [
    "import os\n",
    "\n",
    "os.system(\n",
    "    '''cd /superbugai-data/yash/chapter_1/workspace/EHRQC;'''\n",
    "    +\n",
    "    '''python -m ehrqc.qc.Plot vitals_explore /superbugai-data/mimiciv/sepsis_icd/case_study/pre-processing/vitals.csv /superbugai-data/mimiciv/sepsis_icd/case_study/pre-processing/after_vitals_explore.html'''\n",
    "    )"
   ]
  },
  {
   "cell_type": "markdown",
   "metadata": {},
   "source": [
    "### Lab Measurements"
   ]
  },
  {
   "cell_type": "code",
   "execution_count": 5,
   "metadata": {},
   "outputs": [
    {
     "name": "stdout",
     "output_type": "stream",
     "text": [
      "2023-08-12 07:35:19,785 - EHRQC - INFO - Parsing command line arguments\n",
      "2023-08-12 07:35:19,785 - EHRQC - INFO - args.plot_type: lab_measurements_explore\n",
      "2023-08-12 07:35:19,785 - EHRQC - INFO - args.source_path: /superbugai-data/mimiciv/sepsis_icd/case_study/pre-processing/lab_measurements_corrected.csv\n",
      "2023-08-12 07:35:19,786 - EHRQC - INFO - args.save_path: /superbugai-data/mimiciv/sepsis_icd/case_study/pre-processing/after_lab_measurements_explore.html\n",
      "2023-08-12 07:35:19,786 - EHRQC - INFO - args.column_mapping: {}\n",
      "2023-08-12 07:35:19,811 - EHRQC - INFO - generating graphs\n"
     ]
    },
    {
     "name": "stderr",
     "output_type": "stream",
     "text": [
      "/home/yram0006/phd/chapter_1/workspace/EHRQC/.venv/lib/python3.9/site-packages/missingno/missingno.py:61: UserWarning: Plotting a sparkline on an existing axis is not currently supported. To remove this warning, set sparkline=False.\n",
      "  warnings.warn(\n"
     ]
    },
    {
     "name": "stdout",
     "output_type": "stream",
     "text": [
      "2023-08-12 07:35:21,073 - EHRQC - INFO - Done!!\n"
     ]
    },
    {
     "data": {
      "text/plain": [
       "0"
      ]
     },
     "execution_count": 5,
     "metadata": {},
     "output_type": "execute_result"
    }
   ],
   "source": [
    "import os\n",
    "\n",
    "os.system(\n",
    "    '''cd /superbugai-data/yash/chapter_1/workspace/EHRQC;'''\n",
    "    +\n",
    "    '''python -m ehrqc.qc.Plot lab_measurements_explore /superbugai-data/mimiciv/sepsis_icd/case_study/pre-processing/lab_measurements_corrected.csv /superbugai-data/mimiciv/sepsis_icd/case_study/pre-processing/after_lab_measurements_explore.html'''\n",
    "    )"
   ]
  }
 ],
 "metadata": {
  "kernelspec": {
   "display_name": ".venv",
   "language": "python",
   "name": "python3"
  },
  "language_info": {
   "codemirror_mode": {
    "name": "ipython",
    "version": 3
   },
   "file_extension": ".py",
   "mimetype": "text/x-python",
   "name": "python",
   "nbconvert_exporter": "python",
   "pygments_lexer": "ipython3",
   "version": "3.9.5"
  },
  "orig_nbformat": 4
 },
 "nbformat": 4,
 "nbformat_minor": 2
}
