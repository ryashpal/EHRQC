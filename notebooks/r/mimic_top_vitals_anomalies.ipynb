{
 "cells": [
  {
   "cell_type": "markdown",
   "id": "592feb0f-fbbf-4deb-a098-48b6d849485e",
   "metadata": {},
   "source": [
    "# Install necessary libraries"
   ]
  },
  {
   "cell_type": "code",
   "execution_count": 3,
   "id": "66ed535e-35c9-444e-a346-9f11652a86a4",
   "metadata": {},
   "outputs": [
    {
     "name": "stderr",
     "output_type": "stream",
     "text": [
      "Installing package into ‘/home/yram0006/R/x86_64-pc-linux-gnu-library/4.0’\n",
      "(as ‘lib’ is unspecified)\n",
      "\n",
      "also installing the dependencies ‘permute’, ‘png’, ‘jpeg’, ‘checkmate’, ‘rstudioapi’, ‘GPArotation’, ‘vegan’, ‘Deriv’, ‘dcurver’, ‘Formula’, ‘latticeExtra’, ‘htmlTable’, ‘tmvnsim’, ‘pracma’, ‘mirt’, ‘Hmisc’, ‘mnormt’, ‘airt’, ‘EstCRM’, ‘psych’, ‘apcluster’\n",
      "\n",
      "\n"
     ]
    }
   ],
   "source": [
    "install.packages(\"outlierensembles\")"
   ]
  },
  {
   "cell_type": "code",
   "execution_count": 6,
   "id": "41e74294-14e9-440b-80d9-48cf6088b8e2",
   "metadata": {},
   "outputs": [
    {
     "name": "stderr",
     "output_type": "stream",
     "text": [
      "Installing package into ‘/home/yram0006/R/x86_64-pc-linux-gnu-library/4.0’\n",
      "(as ‘lib’ is unspecified)\n",
      "\n",
      "also installing the dependencies ‘curl’, ‘rio’, ‘car’, ‘rstatix’, ‘FactoMineR’, ‘ggpubr’\n",
      "\n",
      "\n",
      "Warning message in install.packages(\"factoextra\"):\n",
      "“installation of package ‘curl’ had non-zero exit status”\n",
      "Warning message in install.packages(\"factoextra\"):\n",
      "“installation of package ‘rio’ had non-zero exit status”\n",
      "Warning message in install.packages(\"factoextra\"):\n",
      "“installation of package ‘car’ had non-zero exit status”\n",
      "Warning message in install.packages(\"factoextra\"):\n",
      "“installation of package ‘rstatix’ had non-zero exit status”\n",
      "Warning message in install.packages(\"factoextra\"):\n",
      "“installation of package ‘FactoMineR’ had non-zero exit status”\n",
      "Warning message in install.packages(\"factoextra\"):\n",
      "“installation of package ‘ggpubr’ had non-zero exit status”\n",
      "Warning message in install.packages(\"factoextra\"):\n",
      "“installation of package ‘factoextra’ had non-zero exit status”\n"
     ]
    }
   ],
   "source": [
    "install.packages(\"factoextra\")"
   ]
  },
  {
   "cell_type": "code",
   "execution_count": 1,
   "id": "97507526",
   "metadata": {},
   "outputs": [
    {
     "name": "stderr",
     "output_type": "stream",
     "text": [
      "Installing package into ‘/home/yram0006/R/x86_64-pc-linux-gnu-library/4.0’\n",
      "(as ‘lib’ is unspecified)\n",
      "\n",
      "also installing the dependencies ‘credentials’, ‘gert’, ‘gh’, ‘openssl’, ‘xml2’, ‘usethis’, ‘httr’, ‘roxygen2’, ‘rversions’\n",
      "\n",
      "\n",
      "Downloading GitHub repo jhmadsen/DDoutlier@HEAD\n",
      "\n"
     ]
    },
    {
     "name": "stdout",
     "output_type": "stream",
     "text": [
      "proxy  (NA -> 0.4-26) [CRAN]\n",
      "dbscan (NA -> 1.1-8 ) [CRAN]\n"
     ]
    },
    {
     "name": "stderr",
     "output_type": "stream",
     "text": [
      "Installing 2 packages: proxy, dbscan\n",
      "\n",
      "Installing packages into ‘/home/yram0006/R/x86_64-pc-linux-gnu-library/4.0’\n",
      "(as ‘lib’ is unspecified)\n",
      "\n"
     ]
    },
    {
     "name": "stdout",
     "output_type": "stream",
     "text": [
      "\u001b[32m✔\u001b[39m  \u001b[90mchecking for file ‘/tmp/Rtmp5i5kjI/remotes2cd01b68f3fa43/jhmadsen-DDoutlier-6408950/DESCRIPTION’\u001b[39m\u001b[36m\u001b[39m\n",
      "\u001b[90m─\u001b[39m\u001b[90m  \u001b[39m\u001b[90mpreparing ‘DDoutlier’:\u001b[39m\u001b[36m\u001b[39m\n",
      "\u001b[32m✔\u001b[39m  \u001b[90mchecking DESCRIPTION meta-information\u001b[39m\u001b[36m\u001b[39m\n",
      "\u001b[90m─\u001b[39m\u001b[90m  \u001b[39m\u001b[90mchecking for LF line-endings in source and make files and shell scripts\u001b[39m\u001b[36m\u001b[39m\n",
      "\u001b[90m─\u001b[39m\u001b[90m  \u001b[39m\u001b[90mchecking for empty or unneeded directories\u001b[39m\u001b[36m\u001b[39m\n",
      "\u001b[90m─\u001b[39m\u001b[90m  \u001b[39m\u001b[90mbuilding ‘DDoutlier_0.1.0.tar.gz’\u001b[39m\u001b[36m\u001b[39m\n",
      "   \n",
      "\r"
     ]
    },
    {
     "name": "stderr",
     "output_type": "stream",
     "text": [
      "Installing package into ‘/home/yram0006/R/x86_64-pc-linux-gnu-library/4.0’\n",
      "(as ‘lib’ is unspecified)\n",
      "\n"
     ]
    }
   ],
   "source": [
    "install.packages('devtools')\n",
    "devtools::install_github('jhmadsen/DDoutlier')"
   ]
  },
  {
   "cell_type": "code",
   "execution_count": 46,
   "id": "82e562e9",
   "metadata": {},
   "outputs": [
    {
     "name": "stderr",
     "output_type": "stream",
     "text": [
      "Downloading GitHub repo vqv/ggbiplot@HEAD\n",
      "\n"
     ]
    },
    {
     "name": "stdout",
     "output_type": "stream",
     "text": [
      "\n",
      "\u001b[32m✔\u001b[39m  \u001b[90mchecking for file ‘/tmp/Rtmp5i5kjI/remotes2cd01b646b9608/vqv-ggbiplot-7325e88/DESCRIPTION’\u001b[39m\u001b[36m\u001b[39m\n",
      "\u001b[90m─\u001b[39m\u001b[90m  \u001b[39m\u001b[90mpreparing ‘ggbiplot’:\u001b[39m\u001b[36m\u001b[39m\n",
      "\u001b[32m✔\u001b[39m  \u001b[90mchecking DESCRIPTION meta-information\u001b[39m\u001b[36m\u001b[39m\n",
      "\u001b[90m─\u001b[39m\u001b[90m  \u001b[39m\u001b[90mchecking for LF line-endings in source and make files and shell scripts\u001b[39m\u001b[36m\u001b[39m\n",
      "\u001b[90m─\u001b[39m\u001b[90m  \u001b[39m\u001b[90mchecking for empty or unneeded directories\u001b[39m\u001b[36m\u001b[39m\n",
      "\u001b[90m─\u001b[39m\u001b[90m  \u001b[39m\u001b[90mlooking to see if a ‘data/datalist’ file should be added\u001b[39m\u001b[36m\u001b[39m\n",
      "\u001b[90m─\u001b[39m\u001b[90m  \u001b[39m\u001b[90mbuilding ‘ggbiplot_0.55.tar.gz’\u001b[39m\u001b[36m\u001b[39m\n",
      "   \n",
      "\r"
     ]
    },
    {
     "name": "stderr",
     "output_type": "stream",
     "text": [
      "Installing package into ‘/home/yram0006/R/x86_64-pc-linux-gnu-library/4.0’\n",
      "(as ‘lib’ is unspecified)\n",
      "\n"
     ]
    }
   ],
   "source": [
    "devtools::install_github(\"vqv/ggbiplot\")"
   ]
  },
  {
   "cell_type": "code",
   "execution_count": 61,
   "id": "25314269",
   "metadata": {},
   "outputs": [
    {
     "name": "stderr",
     "output_type": "stream",
     "text": [
      "Installing package into ‘/home/yram0006/R/x86_64-pc-linux-gnu-library/4.0’\n",
      "(as ‘lib’ is unspecified)\n",
      "\n",
      "also installing the dependencies ‘elliptic’, ‘contfrac’, ‘deSolve’, ‘coda’, ‘pbapply’, ‘mvtnorm’, ‘gtools’, ‘hypergeo’, ‘multcompView’, ‘gmp’, ‘Rmpfr’, ‘SuppDists’, ‘kSamples’, ‘BWStest’, ‘reshape’, ‘mc2d’, ‘zeallot’, ‘BayesFactor’, ‘PMCMRplus’, ‘WRS2’, ‘prismatic’, ‘bayestestR’, ‘datawizard’, ‘correlation’, ‘effectsize’, ‘insight’, ‘ipmisc’, ‘pairwiseComparisons’, ‘paletteer’, ‘parameters’, ‘patchwork’, ‘performance’, ‘statsExpressions’\n",
      "\n",
      "\n",
      "Warning message in install.packages(\"ggstatsplot\"):\n",
      "“installation of package ‘gmp’ had non-zero exit status”\n",
      "Warning message in install.packages(\"ggstatsplot\"):\n",
      "“installation of package ‘Rmpfr’ had non-zero exit status”\n",
      "Warning message in install.packages(\"ggstatsplot\"):\n",
      "“installation of package ‘PMCMRplus’ had non-zero exit status”\n",
      "Warning message in install.packages(\"ggstatsplot\"):\n",
      "“installation of package ‘pairwiseComparisons’ had non-zero exit status”\n",
      "Warning message in install.packages(\"ggstatsplot\"):\n",
      "“installation of package ‘ggstatsplot’ had non-zero exit status”\n"
     ]
    }
   ],
   "source": [
    "install.packages(\"ggstatsplot\")"
   ]
  },
  {
   "cell_type": "markdown",
   "id": "ce51643b-5ce5-4223-bff7-7a625f8094d3",
   "metadata": {},
   "source": [
    "# Use libraries"
   ]
  },
  {
   "cell_type": "code",
   "execution_count": 1,
   "id": "ef236d99-699d-412f-8a6b-70f2f8ba3cda",
   "metadata": {},
   "outputs": [],
   "source": [
    "library(DDoutlier)"
   ]
  },
  {
   "cell_type": "code",
   "execution_count": 2,
   "id": "1ac03b6e-b571-4433-9af7-f2855d0b0c41",
   "metadata": {},
   "outputs": [
    {
     "name": "stderr",
     "output_type": "stream",
     "text": [
      "Loading required package: ggplot2\n",
      "\n",
      "Welcome! Want to learn more? See two factoextra-related books at https://goo.gl/ve3WBa\n",
      "\n"
     ]
    }
   ],
   "source": [
    "library(factoextra)"
   ]
  },
  {
   "cell_type": "code",
   "execution_count": 3,
   "id": "99728f18",
   "metadata": {},
   "outputs": [
    {
     "name": "stderr",
     "output_type": "stream",
     "text": [
      "Loading required package: plyr\n",
      "\n",
      "Loading required package: scales\n",
      "\n",
      "Loading required package: grid\n",
      "\n"
     ]
    }
   ],
   "source": [
    "library(ggbiplot)"
   ]
  },
  {
   "cell_type": "markdown",
   "id": "7ee58b20",
   "metadata": {},
   "source": [
    "# Load data"
   ]
  },
  {
   "cell_type": "code",
   "execution_count": 4,
   "id": "88aca41b-27f8-4b4d-ab65-2338d998a4e2",
   "metadata": {},
   "outputs": [],
   "source": [
    "data.dir <- paste(getwd(), \"..\", \"..\", \"data\", sep=\"/\")\n",
    "vitals <- paste(data.dir, \"mimic_top_numeric_vitals.csv\", sep=\"/\")"
   ]
  },
  {
   "cell_type": "code",
   "execution_count": 5,
   "id": "77f5a335-e063-4abe-b520-3c85385ebb1a",
   "metadata": {},
   "outputs": [
    {
     "data": {
      "text/html": [
       "<table class=\"dataframe\">\n",
       "<caption>A data.frame: 6 × 30</caption>\n",
       "<thead>\n",
       "\t<tr><th></th><th scope=col>heart_rate</th><th scope=col>heart_rate_alarm_high</th><th scope=col>heart_rate_alarm_low</th><th scope=col>non_invasive_blood_pressure_systolic</th><th scope=col>non_invasive_blood_pressure_diastolic</th><th scope=col>non_invasive_blood_pressure_mean</th><th scope=col>respiratory_rate</th><th scope=col>hemoglobin</th><th scope=col>o_saturation_pulseoxymetry</th><th scope=col>hematocrit_serum_</th><th scope=col>⋯</th><th scope=col>o_saturation_pulseoxymetry_alarm_low</th><th scope=col>resp_alarm_high</th><th scope=col>resp_alarm_low</th><th scope=col>bun</th><th scope=col>calcium_non_ionized</th><th scope=col>phosphorous</th><th scope=col>spo_desat_limit</th><th scope=col>admission_weight_kg_</th><th scope=col>admission_weight_lbs_</th><th scope=col>anion_gap</th></tr>\n",
       "\t<tr><th></th><th scope=col>&lt;dbl&gt;</th><th scope=col>&lt;dbl&gt;</th><th scope=col>&lt;dbl&gt;</th><th scope=col>&lt;dbl&gt;</th><th scope=col>&lt;dbl&gt;</th><th scope=col>&lt;dbl&gt;</th><th scope=col>&lt;dbl&gt;</th><th scope=col>&lt;dbl&gt;</th><th scope=col>&lt;dbl&gt;</th><th scope=col>&lt;dbl&gt;</th><th scope=col>⋯</th><th scope=col>&lt;dbl&gt;</th><th scope=col>&lt;dbl&gt;</th><th scope=col>&lt;dbl&gt;</th><th scope=col>&lt;dbl&gt;</th><th scope=col>&lt;dbl&gt;</th><th scope=col>&lt;dbl&gt;</th><th scope=col>&lt;dbl&gt;</th><th scope=col>&lt;dbl&gt;</th><th scope=col>&lt;dbl&gt;</th><th scope=col>&lt;dbl&gt;</th></tr>\n",
       "</thead>\n",
       "<tbody>\n",
       "\t<tr><th scope=row>30000153</th><td>106.84000</td><td>127.5</td><td>60</td><td>137.1111</td><td>72.00000</td><td>86.33333</td><td>15.07692</td><td>10.30</td><td>96.64000</td><td>31.60000</td><td>⋯</td><td>90.00000</td><td>32.50000</td><td>10</td><td>22.00000</td><td>7.700000</td><td>3.650000</td><td>85.0</td><td> 0.0</td><td>  0.0</td><td>12.00000</td></tr>\n",
       "\t<tr><th scope=row>30000213</th><td> 81.68000</td><td>130.0</td><td>45</td><td>134.9200</td><td>56.16000</td><td>79.12000</td><td>19.08000</td><td> 7.40</td><td>98.96000</td><td>23.90000</td><td>⋯</td><td>92.00000</td><td>35.00000</td><td> 8</td><td>60.66667</td><td>8.333333</td><td>5.733333</td><td>86.5</td><td> 0.0</td><td>  0.0</td><td>15.66667</td></tr>\n",
       "\t<tr><th scope=row>30000484</th><td> 89.95833</td><td>120.0</td><td>50</td><td>105.7500</td><td>55.62500</td><td>65.08333</td><td>14.70833</td><td> 8.10</td><td>99.79167</td><td>24.60000</td><td>⋯</td><td>90.00000</td><td>30.00000</td><td> 8</td><td>47.00000</td><td>7.800000</td><td>1.900000</td><td>85.0</td><td> 0.0</td><td>150.7</td><td>10.00000</td></tr>\n",
       "\t<tr><th scope=row>30000646</th><td> 86.42373</td><td>120.0</td><td>60</td><td> 92.7037</td><td>56.48148</td><td>64.66667</td><td>25.62712</td><td>13.00</td><td>95.61017</td><td>38.46667</td><td>⋯</td><td>91.60000</td><td>39.00000</td><td> 8</td><td>11.00000</td><td>7.400000</td><td>3.100000</td><td>85.0</td><td> 0.0</td><td>168.1</td><td>12.33333</td></tr>\n",
       "\t<tr><th scope=row>30001148</th><td> 75.52000</td><td>100.0</td><td>60</td><td>106.3333</td><td>56.66667</td><td>68.50000</td><td>14.74074</td><td>10.10</td><td>98.36000</td><td>29.97500</td><td>⋯</td><td>92.00000</td><td>31.66667</td><td> 8</td><td>10.50000</td><td>0.000000</td><td>0.000000</td><td>85.0</td><td>65.7</td><td>144.5</td><td>10.00000</td></tr>\n",
       "\t<tr><th scope=row>30001336</th><td> 63.04000</td><td>130.0</td><td>50</td><td>110.6250</td><td>57.37500</td><td>69.20833</td><td>26.03846</td><td> 8.55</td><td>96.46154</td><td>25.35000</td><td>⋯</td><td>91.33333</td><td>33.33333</td><td> 8</td><td>17.66667</td><td>8.533333</td><td>4.233333</td><td>85.0</td><td> 0.0</td><td>169.4</td><td>16.00000</td></tr>\n",
       "</tbody>\n",
       "</table>\n"
      ],
      "text/latex": [
       "A data.frame: 6 × 30\n",
       "\\begin{tabular}{r|lllllllllllllllllllll}\n",
       "  & heart\\_rate & heart\\_rate\\_alarm\\_high & heart\\_rate\\_alarm\\_low & non\\_invasive\\_blood\\_pressure\\_systolic & non\\_invasive\\_blood\\_pressure\\_diastolic & non\\_invasive\\_blood\\_pressure\\_mean & respiratory\\_rate & hemoglobin & o\\_saturation\\_pulseoxymetry & hematocrit\\_serum\\_ & ⋯ & o\\_saturation\\_pulseoxymetry\\_alarm\\_low & resp\\_alarm\\_high & resp\\_alarm\\_low & bun & calcium\\_non\\_ionized & phosphorous & spo\\_desat\\_limit & admission\\_weight\\_kg\\_ & admission\\_weight\\_lbs\\_ & anion\\_gap\\\\\n",
       "  & <dbl> & <dbl> & <dbl> & <dbl> & <dbl> & <dbl> & <dbl> & <dbl> & <dbl> & <dbl> & ⋯ & <dbl> & <dbl> & <dbl> & <dbl> & <dbl> & <dbl> & <dbl> & <dbl> & <dbl> & <dbl>\\\\\n",
       "\\hline\n",
       "\t30000153 & 106.84000 & 127.5 & 60 & 137.1111 & 72.00000 & 86.33333 & 15.07692 & 10.30 & 96.64000 & 31.60000 & ⋯ & 90.00000 & 32.50000 & 10 & 22.00000 & 7.700000 & 3.650000 & 85.0 &  0.0 &   0.0 & 12.00000\\\\\n",
       "\t30000213 &  81.68000 & 130.0 & 45 & 134.9200 & 56.16000 & 79.12000 & 19.08000 &  7.40 & 98.96000 & 23.90000 & ⋯ & 92.00000 & 35.00000 &  8 & 60.66667 & 8.333333 & 5.733333 & 86.5 &  0.0 &   0.0 & 15.66667\\\\\n",
       "\t30000484 &  89.95833 & 120.0 & 50 & 105.7500 & 55.62500 & 65.08333 & 14.70833 &  8.10 & 99.79167 & 24.60000 & ⋯ & 90.00000 & 30.00000 &  8 & 47.00000 & 7.800000 & 1.900000 & 85.0 &  0.0 & 150.7 & 10.00000\\\\\n",
       "\t30000646 &  86.42373 & 120.0 & 60 &  92.7037 & 56.48148 & 64.66667 & 25.62712 & 13.00 & 95.61017 & 38.46667 & ⋯ & 91.60000 & 39.00000 &  8 & 11.00000 & 7.400000 & 3.100000 & 85.0 &  0.0 & 168.1 & 12.33333\\\\\n",
       "\t30001148 &  75.52000 & 100.0 & 60 & 106.3333 & 56.66667 & 68.50000 & 14.74074 & 10.10 & 98.36000 & 29.97500 & ⋯ & 92.00000 & 31.66667 &  8 & 10.50000 & 0.000000 & 0.000000 & 85.0 & 65.7 & 144.5 & 10.00000\\\\\n",
       "\t30001336 &  63.04000 & 130.0 & 50 & 110.6250 & 57.37500 & 69.20833 & 26.03846 &  8.55 & 96.46154 & 25.35000 & ⋯ & 91.33333 & 33.33333 &  8 & 17.66667 & 8.533333 & 4.233333 & 85.0 &  0.0 & 169.4 & 16.00000\\\\\n",
       "\\end{tabular}\n"
      ],
      "text/markdown": [
       "\n",
       "A data.frame: 6 × 30\n",
       "\n",
       "| <!--/--> | heart_rate &lt;dbl&gt; | heart_rate_alarm_high &lt;dbl&gt; | heart_rate_alarm_low &lt;dbl&gt; | non_invasive_blood_pressure_systolic &lt;dbl&gt; | non_invasive_blood_pressure_diastolic &lt;dbl&gt; | non_invasive_blood_pressure_mean &lt;dbl&gt; | respiratory_rate &lt;dbl&gt; | hemoglobin &lt;dbl&gt; | o_saturation_pulseoxymetry &lt;dbl&gt; | hematocrit_serum_ &lt;dbl&gt; | ⋯ ⋯ | o_saturation_pulseoxymetry_alarm_low &lt;dbl&gt; | resp_alarm_high &lt;dbl&gt; | resp_alarm_low &lt;dbl&gt; | bun &lt;dbl&gt; | calcium_non_ionized &lt;dbl&gt; | phosphorous &lt;dbl&gt; | spo_desat_limit &lt;dbl&gt; | admission_weight_kg_ &lt;dbl&gt; | admission_weight_lbs_ &lt;dbl&gt; | anion_gap &lt;dbl&gt; |\n",
       "|---|---|---|---|---|---|---|---|---|---|---|---|---|---|---|---|---|---|---|---|---|---|\n",
       "| 30000153 | 106.84000 | 127.5 | 60 | 137.1111 | 72.00000 | 86.33333 | 15.07692 | 10.30 | 96.64000 | 31.60000 | ⋯ | 90.00000 | 32.50000 | 10 | 22.00000 | 7.700000 | 3.650000 | 85.0 |  0.0 |   0.0 | 12.00000 |\n",
       "| 30000213 |  81.68000 | 130.0 | 45 | 134.9200 | 56.16000 | 79.12000 | 19.08000 |  7.40 | 98.96000 | 23.90000 | ⋯ | 92.00000 | 35.00000 |  8 | 60.66667 | 8.333333 | 5.733333 | 86.5 |  0.0 |   0.0 | 15.66667 |\n",
       "| 30000484 |  89.95833 | 120.0 | 50 | 105.7500 | 55.62500 | 65.08333 | 14.70833 |  8.10 | 99.79167 | 24.60000 | ⋯ | 90.00000 | 30.00000 |  8 | 47.00000 | 7.800000 | 1.900000 | 85.0 |  0.0 | 150.7 | 10.00000 |\n",
       "| 30000646 |  86.42373 | 120.0 | 60 |  92.7037 | 56.48148 | 64.66667 | 25.62712 | 13.00 | 95.61017 | 38.46667 | ⋯ | 91.60000 | 39.00000 |  8 | 11.00000 | 7.400000 | 3.100000 | 85.0 |  0.0 | 168.1 | 12.33333 |\n",
       "| 30001148 |  75.52000 | 100.0 | 60 | 106.3333 | 56.66667 | 68.50000 | 14.74074 | 10.10 | 98.36000 | 29.97500 | ⋯ | 92.00000 | 31.66667 |  8 | 10.50000 | 0.000000 | 0.000000 | 85.0 | 65.7 | 144.5 | 10.00000 |\n",
       "| 30001336 |  63.04000 | 130.0 | 50 | 110.6250 | 57.37500 | 69.20833 | 26.03846 |  8.55 | 96.46154 | 25.35000 | ⋯ | 91.33333 | 33.33333 |  8 | 17.66667 | 8.533333 | 4.233333 | 85.0 |  0.0 | 169.4 | 16.00000 |\n",
       "\n"
      ],
      "text/plain": [
       "         heart_rate heart_rate_alarm_high heart_rate_alarm_low\n",
       "30000153 106.84000  127.5                 60                  \n",
       "30000213  81.68000  130.0                 45                  \n",
       "30000484  89.95833  120.0                 50                  \n",
       "30000646  86.42373  120.0                 60                  \n",
       "30001148  75.52000  100.0                 60                  \n",
       "30001336  63.04000  130.0                 50                  \n",
       "         non_invasive_blood_pressure_systolic\n",
       "30000153 137.1111                            \n",
       "30000213 134.9200                            \n",
       "30000484 105.7500                            \n",
       "30000646  92.7037                            \n",
       "30001148 106.3333                            \n",
       "30001336 110.6250                            \n",
       "         non_invasive_blood_pressure_diastolic non_invasive_blood_pressure_mean\n",
       "30000153 72.00000                              86.33333                        \n",
       "30000213 56.16000                              79.12000                        \n",
       "30000484 55.62500                              65.08333                        \n",
       "30000646 56.48148                              64.66667                        \n",
       "30001148 56.66667                              68.50000                        \n",
       "30001336 57.37500                              69.20833                        \n",
       "         respiratory_rate hemoglobin o_saturation_pulseoxymetry\n",
       "30000153 15.07692         10.30      96.64000                  \n",
       "30000213 19.08000          7.40      98.96000                  \n",
       "30000484 14.70833          8.10      99.79167                  \n",
       "30000646 25.62712         13.00      95.61017                  \n",
       "30001148 14.74074         10.10      98.36000                  \n",
       "30001336 26.03846          8.55      96.46154                  \n",
       "         hematocrit_serum_ ⋯ o_saturation_pulseoxymetry_alarm_low\n",
       "30000153 31.60000          ⋯ 90.00000                            \n",
       "30000213 23.90000          ⋯ 92.00000                            \n",
       "30000484 24.60000          ⋯ 90.00000                            \n",
       "30000646 38.46667          ⋯ 91.60000                            \n",
       "30001148 29.97500          ⋯ 92.00000                            \n",
       "30001336 25.35000          ⋯ 91.33333                            \n",
       "         resp_alarm_high resp_alarm_low bun      calcium_non_ionized\n",
       "30000153 32.50000        10             22.00000 7.700000           \n",
       "30000213 35.00000         8             60.66667 8.333333           \n",
       "30000484 30.00000         8             47.00000 7.800000           \n",
       "30000646 39.00000         8             11.00000 7.400000           \n",
       "30001148 31.66667         8             10.50000 0.000000           \n",
       "30001336 33.33333         8             17.66667 8.533333           \n",
       "         phosphorous spo_desat_limit admission_weight_kg_ admission_weight_lbs_\n",
       "30000153 3.650000    85.0             0.0                   0.0                \n",
       "30000213 5.733333    86.5             0.0                   0.0                \n",
       "30000484 1.900000    85.0             0.0                 150.7                \n",
       "30000646 3.100000    85.0             0.0                 168.1                \n",
       "30001148 0.000000    85.0            65.7                 144.5                \n",
       "30001336 4.233333    85.0             0.0                 169.4                \n",
       "         anion_gap\n",
       "30000153 12.00000 \n",
       "30000213 15.66667 \n",
       "30000484 10.00000 \n",
       "30000646 12.33333 \n",
       "30001148 10.00000 \n",
       "30001336 16.00000 "
      ]
     },
     "metadata": {},
     "output_type": "display_data"
    }
   ],
   "source": [
    "data <- read.csv(vitals)\n",
    "rownames(data) <- data$stay_id\n",
    "data <- subset(data, select = -c(X, stay_id))\n",
    "data[is.na(data)] <- 0\n",
    "head(data)"
   ]
  },
  {
   "cell_type": "markdown",
   "id": "bba1682f",
   "metadata": {},
   "source": [
    "# Univariate Outlier detection"
   ]
  },
  {
   "cell_type": "code",
   "execution_count": 6,
   "id": "9c64f400",
   "metadata": {},
   "outputs": [
    {
     "data": {
      "image/png": "[encoded data removed]",
      "text/plain": [
       "plot without title"
      ]
     },
     "metadata": {
      "image/png": {
       "height": 480,
       "width": 840
      }
     },
     "output_type": "display_data"
    }
   ],
   "source": [
    "options(repr.plot.width = 14, repr.plot.height = 8)\n",
    "boxplot(data)"
   ]
  },
  {
   "cell_type": "markdown",
   "id": "515fe0fa",
   "metadata": {},
   "source": [
    "# Unsupervized Outlier detection algorithms"
   ]
  },
  {
   "cell_type": "code",
   "execution_count": 7,
   "id": "350e1a1e-7d42-49f5-9e03-abaa1408ffc8",
   "metadata": {},
   "outputs": [],
   "source": [
    "y1 <- DDoutlier::KNN_AGG(data,  k_min=10, k_max=20)"
   ]
  },
  {
   "cell_type": "code",
   "execution_count": 8,
   "id": "775cf6f8-a000-4f2a-afa6-5a11d3274858",
   "metadata": {},
   "outputs": [],
   "source": [
    "y2 <- DDoutlier::LOF(data, k=10)"
   ]
  },
  {
   "cell_type": "code",
   "execution_count": 9,
   "id": "133ae8cb-1936-4d56-a87a-2efc459a5d3e",
   "metadata": {},
   "outputs": [],
   "source": [
    "# y3 <- DDoutlier::COF(data, k=10)"
   ]
  },
  {
   "cell_type": "code",
   "execution_count": 10,
   "id": "7addc992-1760-413c-9d16-9ddf35bcf381",
   "metadata": {},
   "outputs": [],
   "source": [
    "y4 <- DDoutlier::INFLO(data, k=10)"
   ]
  },
  {
   "cell_type": "code",
   "execution_count": 11,
   "id": "569fb40b-e69e-48b4-8abc-a031842a158b",
   "metadata": {},
   "outputs": [],
   "source": [
    "y5 <- DDoutlier::KDEOS(data, k_min=10, k_max=20)"
   ]
  },
  {
   "cell_type": "code",
   "execution_count": 12,
   "id": "0e0e8948-c1a2-4f13-9867-882cc611f168",
   "metadata": {},
   "outputs": [],
   "source": [
    "y6 <- DDoutlier::LDF(data, k=10)"
   ]
  },
  {
   "cell_type": "code",
   "execution_count": 13,
   "id": "1e6431a6-7c9d-4ee4-802a-1d80f852154a",
   "metadata": {},
   "outputs": [],
   "source": [
    "# y7 <- DDoutlier::LDOF(data, k=10)"
   ]
  },
  {
   "cell_type": "code",
   "execution_count": 14,
   "id": "9b56c768-a088-4fe5-8488-a3bb0c2e2f03",
   "metadata": {},
   "outputs": [],
   "source": [
    "# Y <- cbind.data.frame(y1, y2, y3, y4, y5, y6$LDF, y7)\n",
    "Y <- cbind.data.frame(y1, y2, y4, y5, y6$LDF)"
   ]
  },
  {
   "cell_type": "markdown",
   "id": "c5c560c1",
   "metadata": {},
   "source": [
    "# Item Response Theory (IRT) emsemble"
   ]
  },
  {
   "cell_type": "code",
   "execution_count": 15,
   "id": "49735c0f-be23-4e2b-80a1-7697e4bf8e75",
   "metadata": {},
   "outputs": [
    {
     "name": "stderr",
     "output_type": "stream",
     "text": [
      "Warning message in sqrt(diag(solve(Hess))):\n",
      "“NaNs produced”\n"
     ]
    }
   ],
   "source": [
    "ens1 <- outlierensembles::irt_ensemble(Y)"
   ]
  },
  {
   "cell_type": "markdown",
   "id": "2be2a6f2",
   "metadata": {},
   "source": [
    "# IRT emsemble scores"
   ]
  },
  {
   "cell_type": "code",
   "execution_count": 16,
   "id": "5e11d480-9cd1-41dd-94e4-7d1b69706339",
   "metadata": {},
   "outputs": [
    {
     "data": {
      "image/png": "[encoded data removed]",
      "text/plain": [
       "Plot with title “Histogram of ens1$scores”"
      ]
     },
     "metadata": {
      "image/png": {
       "height": 480,
       "width": 840
      }
     },
     "output_type": "display_data"
    }
   ],
   "source": [
    "hist(ens1$scores)"
   ]
  },
  {
   "cell_type": "code",
   "execution_count": 17,
   "id": "132055af-ed10-4f75-91d8-40d8f7626d20",
   "metadata": {},
   "outputs": [
    {
     "data": {
      "text/plain": [
       "   Min. 1st Qu.  Median    Mean 3rd Qu.    Max. \n",
       "  0.000   3.784   4.291   4.424   4.884  23.933 "
      ]
     },
     "metadata": {},
     "output_type": "display_data"
    }
   ],
   "source": [
    "summary(ens1$scores)"
   ]
  },
  {
   "cell_type": "code",
   "execution_count": 18,
   "id": "0ba0e07e",
   "metadata": {},
   "outputs": [
    {
     "data": {
      "text/html": [
       "147"
      ],
      "text/latex": [
       "147"
      ],
      "text/markdown": [
       "147"
      ],
      "text/plain": [
       "[1] 147"
      ]
     },
     "metadata": {},
     "output_type": "display_data"
    }
   ],
   "source": [
    "sum(ens1$scores > 10)"
   ]
  },
  {
   "cell_type": "markdown",
   "id": "906474a9",
   "metadata": {},
   "source": [
    "# Export"
   ]
  },
  {
   "cell_type": "code",
   "execution_count": 19,
   "id": "56b713b8",
   "metadata": {},
   "outputs": [],
   "source": [
    "df <- cbind.data.frame(data, y1, y2, y4, y5, y6$LDF, ens1$scores)"
   ]
  },
  {
   "cell_type": "code",
   "execution_count": 22,
   "id": "30f31bbf",
   "metadata": {},
   "outputs": [],
   "source": [
    "colnames(df) <- list('heart_rate', 'heart_rate_alarm_high', 'heart_rate_alarm_low', 'non_invasive_blood_pressure_systolic', 'non_invasive_blood_pressure_diastolic', 'non_invasive_blood_pressure_mean', 'respiratory_rate', 'hemoglobin', 'o_saturation_pulseoxymetry', 'hematocrit_serum_', 'wbc', 'chloride_serum_', 'creatinine_serum_', 'glucose_serum_', 'magnesium', 'sodium_serum_', 'non_invasive_blood_pressure_alarm_high', 'non_invasive_blood_pressure_alarm_low', 'temperature_fahrenheit', 'o_saturation_pulseoxymetry_alarm_high', 'o_saturation_pulseoxymetry_alarm_low', 'resp_alarm_high', 'resp_alarm_low', 'bun', 'calcium_non_ionized', 'phosphorous', 'spo_desat_limit', 'admission_weight_kg_', 'admission_weight_lbs_', 'anion_gap', 'y_knn_agg', 'y_lof', 'y_inflo', 'y_kdeos', 'y_ldf', 'ensemble_scores')"
   ]
  },
  {
   "cell_type": "code",
   "execution_count": 23,
   "id": "96671f7d",
   "metadata": {},
   "outputs": [
    {
     "data": {
      "text/html": [
       "<table class=\"dataframe\">\n",
       "<caption>A data.frame: 6 × 36</caption>\n",
       "<thead>\n",
       "\t<tr><th></th><th scope=col>heart_rate</th><th scope=col>heart_rate_alarm_high</th><th scope=col>heart_rate_alarm_low</th><th scope=col>non_invasive_blood_pressure_systolic</th><th scope=col>non_invasive_blood_pressure_diastolic</th><th scope=col>non_invasive_blood_pressure_mean</th><th scope=col>respiratory_rate</th><th scope=col>hemoglobin</th><th scope=col>o_saturation_pulseoxymetry</th><th scope=col>hematocrit_serum_</th><th scope=col>⋯</th><th scope=col>spo_desat_limit</th><th scope=col>admission_weight_kg_</th><th scope=col>admission_weight_lbs_</th><th scope=col>anion_gap</th><th scope=col>y_knn_agg</th><th scope=col>y_lof</th><th scope=col>y_inflo</th><th scope=col>y_kdeos</th><th scope=col>y_ldf</th><th scope=col>ensemble_scores</th></tr>\n",
       "\t<tr><th></th><th scope=col>&lt;dbl&gt;</th><th scope=col>&lt;dbl&gt;</th><th scope=col>&lt;dbl&gt;</th><th scope=col>&lt;dbl&gt;</th><th scope=col>&lt;dbl&gt;</th><th scope=col>&lt;dbl&gt;</th><th scope=col>&lt;dbl&gt;</th><th scope=col>&lt;dbl&gt;</th><th scope=col>&lt;dbl&gt;</th><th scope=col>&lt;dbl&gt;</th><th scope=col>⋯</th><th scope=col>&lt;dbl&gt;</th><th scope=col>&lt;dbl&gt;</th><th scope=col>&lt;dbl&gt;</th><th scope=col>&lt;dbl&gt;</th><th scope=col>&lt;dbl&gt;</th><th scope=col>&lt;dbl&gt;</th><th scope=col>&lt;dbl&gt;</th><th scope=col>&lt;dbl&gt;</th><th scope=col>&lt;dbl&gt;</th><th scope=col>&lt;dbl&gt;</th></tr>\n",
       "</thead>\n",
       "<tbody>\n",
       "\t<tr><th scope=row>30000153</th><td>106.84000</td><td>127.5</td><td>60</td><td>137.1111</td><td>72.00000</td><td>86.33333</td><td>15.07692</td><td>10.30</td><td>96.64000</td><td>31.60000</td><td>⋯</td><td>85.0</td><td> 0.0</td><td>  0.0</td><td>12.00000</td><td>3634.987</td><td>1.0934532</td><td>0.8901503</td><td>0.2799195</td><td>0.9355163</td><td>4.311311</td></tr>\n",
       "\t<tr><th scope=row>30000213</th><td> 81.68000</td><td>130.0</td><td>45</td><td>134.9200</td><td>56.16000</td><td>79.12000</td><td>19.08000</td><td> 7.40</td><td>98.96000</td><td>23.90000</td><td>⋯</td><td>86.5</td><td> 0.0</td><td>  0.0</td><td>15.66667</td><td>4528.196</td><td>1.0835666</td><td>0.8605023</td><td>0.8211364</td><td>0.9357223</td><td>4.526844</td></tr>\n",
       "\t<tr><th scope=row>30000484</th><td> 89.95833</td><td>120.0</td><td>50</td><td>105.7500</td><td>55.62500</td><td>65.08333</td><td>14.70833</td><td> 8.10</td><td>99.79167</td><td>24.60000</td><td>⋯</td><td>85.0</td><td> 0.0</td><td>150.7</td><td>10.00000</td><td>3890.846</td><td>1.0352109</td><td>0.9727535</td><td>0.6266564</td><td>0.8208722</td><td>4.061090</td></tr>\n",
       "\t<tr><th scope=row>30000646</th><td> 86.42373</td><td>120.0</td><td>60</td><td> 92.7037</td><td>56.48148</td><td>64.66667</td><td>25.62712</td><td>13.00</td><td>95.61017</td><td>38.46667</td><td>⋯</td><td>85.0</td><td> 0.0</td><td>168.1</td><td>12.33333</td><td>4162.208</td><td>0.9795088</td><td>0.9639477</td><td>0.4335355</td><td>0.4616192</td><td>3.552068</td></tr>\n",
       "\t<tr><th scope=row>30001148</th><td> 75.52000</td><td>100.0</td><td>60</td><td>106.3333</td><td>56.66667</td><td>68.50000</td><td>14.74074</td><td>10.10</td><td>98.36000</td><td>29.97500</td><td>⋯</td><td>85.0</td><td>65.7</td><td>144.5</td><td>10.00000</td><td>5790.991</td><td>1.0062498</td><td>0.8828025</td><td>0.5805259</td><td>0.6734941</td><td>4.203557</td></tr>\n",
       "\t<tr><th scope=row>30001336</th><td> 63.04000</td><td>130.0</td><td>50</td><td>110.6250</td><td>57.37500</td><td>69.20833</td><td>26.03846</td><td> 8.55</td><td>96.46154</td><td>25.35000</td><td>⋯</td><td>85.0</td><td> 0.0</td><td>169.4</td><td>16.00000</td><td>3333.931</td><td>1.0385613</td><td>0.9633558</td><td>0.6074593</td><td>0.9486567</td><td>4.007284</td></tr>\n",
       "</tbody>\n",
       "</table>\n"
      ],
      "text/latex": [
       "A data.frame: 6 × 36\n",
       "\\begin{tabular}{r|lllllllllllllllllllll}\n",
       "  & heart\\_rate & heart\\_rate\\_alarm\\_high & heart\\_rate\\_alarm\\_low & non\\_invasive\\_blood\\_pressure\\_systolic & non\\_invasive\\_blood\\_pressure\\_diastolic & non\\_invasive\\_blood\\_pressure\\_mean & respiratory\\_rate & hemoglobin & o\\_saturation\\_pulseoxymetry & hematocrit\\_serum\\_ & ⋯ & spo\\_desat\\_limit & admission\\_weight\\_kg\\_ & admission\\_weight\\_lbs\\_ & anion\\_gap & y\\_knn\\_agg & y\\_lof & y\\_inflo & y\\_kdeos & y\\_ldf & ensemble\\_scores\\\\\n",
       "  & <dbl> & <dbl> & <dbl> & <dbl> & <dbl> & <dbl> & <dbl> & <dbl> & <dbl> & <dbl> & ⋯ & <dbl> & <dbl> & <dbl> & <dbl> & <dbl> & <dbl> & <dbl> & <dbl> & <dbl> & <dbl>\\\\\n",
       "\\hline\n",
       "\t30000153 & 106.84000 & 127.5 & 60 & 137.1111 & 72.00000 & 86.33333 & 15.07692 & 10.30 & 96.64000 & 31.60000 & ⋯ & 85.0 &  0.0 &   0.0 & 12.00000 & 3634.987 & 1.0934532 & 0.8901503 & 0.2799195 & 0.9355163 & 4.311311\\\\\n",
       "\t30000213 &  81.68000 & 130.0 & 45 & 134.9200 & 56.16000 & 79.12000 & 19.08000 &  7.40 & 98.96000 & 23.90000 & ⋯ & 86.5 &  0.0 &   0.0 & 15.66667 & 4528.196 & 1.0835666 & 0.8605023 & 0.8211364 & 0.9357223 & 4.526844\\\\\n",
       "\t30000484 &  89.95833 & 120.0 & 50 & 105.7500 & 55.62500 & 65.08333 & 14.70833 &  8.10 & 99.79167 & 24.60000 & ⋯ & 85.0 &  0.0 & 150.7 & 10.00000 & 3890.846 & 1.0352109 & 0.9727535 & 0.6266564 & 0.8208722 & 4.061090\\\\\n",
       "\t30000646 &  86.42373 & 120.0 & 60 &  92.7037 & 56.48148 & 64.66667 & 25.62712 & 13.00 & 95.61017 & 38.46667 & ⋯ & 85.0 &  0.0 & 168.1 & 12.33333 & 4162.208 & 0.9795088 & 0.9639477 & 0.4335355 & 0.4616192 & 3.552068\\\\\n",
       "\t30001148 &  75.52000 & 100.0 & 60 & 106.3333 & 56.66667 & 68.50000 & 14.74074 & 10.10 & 98.36000 & 29.97500 & ⋯ & 85.0 & 65.7 & 144.5 & 10.00000 & 5790.991 & 1.0062498 & 0.8828025 & 0.5805259 & 0.6734941 & 4.203557\\\\\n",
       "\t30001336 &  63.04000 & 130.0 & 50 & 110.6250 & 57.37500 & 69.20833 & 26.03846 &  8.55 & 96.46154 & 25.35000 & ⋯ & 85.0 &  0.0 & 169.4 & 16.00000 & 3333.931 & 1.0385613 & 0.9633558 & 0.6074593 & 0.9486567 & 4.007284\\\\\n",
       "\\end{tabular}\n"
      ],
      "text/markdown": [
       "\n",
       "A data.frame: 6 × 36\n",
       "\n",
       "| <!--/--> | heart_rate &lt;dbl&gt; | heart_rate_alarm_high &lt;dbl&gt; | heart_rate_alarm_low &lt;dbl&gt; | non_invasive_blood_pressure_systolic &lt;dbl&gt; | non_invasive_blood_pressure_diastolic &lt;dbl&gt; | non_invasive_blood_pressure_mean &lt;dbl&gt; | respiratory_rate &lt;dbl&gt; | hemoglobin &lt;dbl&gt; | o_saturation_pulseoxymetry &lt;dbl&gt; | hematocrit_serum_ &lt;dbl&gt; | ⋯ ⋯ | spo_desat_limit &lt;dbl&gt; | admission_weight_kg_ &lt;dbl&gt; | admission_weight_lbs_ &lt;dbl&gt; | anion_gap &lt;dbl&gt; | y_knn_agg &lt;dbl&gt; | y_lof &lt;dbl&gt; | y_inflo &lt;dbl&gt; | y_kdeos &lt;dbl&gt; | y_ldf &lt;dbl&gt; | ensemble_scores &lt;dbl&gt; |\n",
       "|---|---|---|---|---|---|---|---|---|---|---|---|---|---|---|---|---|---|---|---|---|---|\n",
       "| 30000153 | 106.84000 | 127.5 | 60 | 137.1111 | 72.00000 | 86.33333 | 15.07692 | 10.30 | 96.64000 | 31.60000 | ⋯ | 85.0 |  0.0 |   0.0 | 12.00000 | 3634.987 | 1.0934532 | 0.8901503 | 0.2799195 | 0.9355163 | 4.311311 |\n",
       "| 30000213 |  81.68000 | 130.0 | 45 | 134.9200 | 56.16000 | 79.12000 | 19.08000 |  7.40 | 98.96000 | 23.90000 | ⋯ | 86.5 |  0.0 |   0.0 | 15.66667 | 4528.196 | 1.0835666 | 0.8605023 | 0.8211364 | 0.9357223 | 4.526844 |\n",
       "| 30000484 |  89.95833 | 120.0 | 50 | 105.7500 | 55.62500 | 65.08333 | 14.70833 |  8.10 | 99.79167 | 24.60000 | ⋯ | 85.0 |  0.0 | 150.7 | 10.00000 | 3890.846 | 1.0352109 | 0.9727535 | 0.6266564 | 0.8208722 | 4.061090 |\n",
       "| 30000646 |  86.42373 | 120.0 | 60 |  92.7037 | 56.48148 | 64.66667 | 25.62712 | 13.00 | 95.61017 | 38.46667 | ⋯ | 85.0 |  0.0 | 168.1 | 12.33333 | 4162.208 | 0.9795088 | 0.9639477 | 0.4335355 | 0.4616192 | 3.552068 |\n",
       "| 30001148 |  75.52000 | 100.0 | 60 | 106.3333 | 56.66667 | 68.50000 | 14.74074 | 10.10 | 98.36000 | 29.97500 | ⋯ | 85.0 | 65.7 | 144.5 | 10.00000 | 5790.991 | 1.0062498 | 0.8828025 | 0.5805259 | 0.6734941 | 4.203557 |\n",
       "| 30001336 |  63.04000 | 130.0 | 50 | 110.6250 | 57.37500 | 69.20833 | 26.03846 |  8.55 | 96.46154 | 25.35000 | ⋯ | 85.0 |  0.0 | 169.4 | 16.00000 | 3333.931 | 1.0385613 | 0.9633558 | 0.6074593 | 0.9486567 | 4.007284 |\n",
       "\n"
      ],
      "text/plain": [
       "         heart_rate heart_rate_alarm_high heart_rate_alarm_low\n",
       "30000153 106.84000  127.5                 60                  \n",
       "30000213  81.68000  130.0                 45                  \n",
       "30000484  89.95833  120.0                 50                  \n",
       "30000646  86.42373  120.0                 60                  \n",
       "30001148  75.52000  100.0                 60                  \n",
       "30001336  63.04000  130.0                 50                  \n",
       "         non_invasive_blood_pressure_systolic\n",
       "30000153 137.1111                            \n",
       "30000213 134.9200                            \n",
       "30000484 105.7500                            \n",
       "30000646  92.7037                            \n",
       "30001148 106.3333                            \n",
       "30001336 110.6250                            \n",
       "         non_invasive_blood_pressure_diastolic non_invasive_blood_pressure_mean\n",
       "30000153 72.00000                              86.33333                        \n",
       "30000213 56.16000                              79.12000                        \n",
       "30000484 55.62500                              65.08333                        \n",
       "30000646 56.48148                              64.66667                        \n",
       "30001148 56.66667                              68.50000                        \n",
       "30001336 57.37500                              69.20833                        \n",
       "         respiratory_rate hemoglobin o_saturation_pulseoxymetry\n",
       "30000153 15.07692         10.30      96.64000                  \n",
       "30000213 19.08000          7.40      98.96000                  \n",
       "30000484 14.70833          8.10      99.79167                  \n",
       "30000646 25.62712         13.00      95.61017                  \n",
       "30001148 14.74074         10.10      98.36000                  \n",
       "30001336 26.03846          8.55      96.46154                  \n",
       "         hematocrit_serum_ ⋯ spo_desat_limit admission_weight_kg_\n",
       "30000153 31.60000          ⋯ 85.0             0.0                \n",
       "30000213 23.90000          ⋯ 86.5             0.0                \n",
       "30000484 24.60000          ⋯ 85.0             0.0                \n",
       "30000646 38.46667          ⋯ 85.0             0.0                \n",
       "30001148 29.97500          ⋯ 85.0            65.7                \n",
       "30001336 25.35000          ⋯ 85.0             0.0                \n",
       "         admission_weight_lbs_ anion_gap y_knn_agg y_lof     y_inflo  \n",
       "30000153   0.0                 12.00000  3634.987  1.0934532 0.8901503\n",
       "30000213   0.0                 15.66667  4528.196  1.0835666 0.8605023\n",
       "30000484 150.7                 10.00000  3890.846  1.0352109 0.9727535\n",
       "30000646 168.1                 12.33333  4162.208  0.9795088 0.9639477\n",
       "30001148 144.5                 10.00000  5790.991  1.0062498 0.8828025\n",
       "30001336 169.4                 16.00000  3333.931  1.0385613 0.9633558\n",
       "         y_kdeos   y_ldf     ensemble_scores\n",
       "30000153 0.2799195 0.9355163 4.311311       \n",
       "30000213 0.8211364 0.9357223 4.526844       \n",
       "30000484 0.6266564 0.8208722 4.061090       \n",
       "30000646 0.4335355 0.4616192 3.552068       \n",
       "30001148 0.5805259 0.6734941 4.203557       \n",
       "30001336 0.6074593 0.9486567 4.007284       "
      ]
     },
     "metadata": {},
     "output_type": "display_data"
    }
   ],
   "source": [
    "head(df)"
   ]
  },
  {
   "cell_type": "code",
   "execution_count": 24,
   "id": "2b9a58c7",
   "metadata": {},
   "outputs": [],
   "source": [
    "data.dir <- paste(getwd(), \"..\", \"..\", \"data\", sep=\"/\")\n",
    "mimic.selected.vitals.anomalies <- paste(data.dir, \"mimic_top_numeric_vitals_anomalies.csv\", sep=\"/\")\n",
    "write.csv(data.frame(\"stay_id\"=rownames(df), df), mimic.selected.vitals.anomalies, row.names = FALSE)"
   ]
  },
  {
   "cell_type": "markdown",
   "id": "0ddc2ae0",
   "metadata": {},
   "source": [
    "# PCA"
   ]
  },
  {
   "cell_type": "code",
   "execution_count": 25,
   "id": "390a94dc",
   "metadata": {},
   "outputs": [],
   "source": [
    "pc <- prcomp(data)"
   ]
  },
  {
   "cell_type": "code",
   "execution_count": 26,
   "id": "39cb06e1",
   "metadata": {
    "scrolled": true
   },
   "outputs": [
    {
     "data": {
      "text/plain": [
       "Importance of components:\n",
       "                             PC1       PC2       PC3       PC4       PC5\n",
       "Standard deviation     1.964e+04 1.098e+04 8.043e+03 5.898e+03 3.904e+03\n",
       "Proportion of Variance 5.815e-01 1.820e-01 9.754e-02 5.246e-02 2.298e-02\n",
       "Cumulative Proportion  5.815e-01 7.634e-01 8.609e-01 9.134e-01 9.364e-01\n",
       "                             PC6       PC7       PC8       PC9      PC10\n",
       "Standard deviation     3.267e+03 3.159e+03 3.110e+03 1.506e+03 1.468e+03\n",
       "Proportion of Variance 1.609e-02 1.505e-02 1.459e-02 3.420e-03 3.250e-03\n",
       "Cumulative Proportion  9.525e-01 9.675e-01 9.821e-01 9.855e-01 9.888e-01\n",
       "                            PC11      PC12      PC13      PC14      PC15\n",
       "Standard deviation     1.426e+03 1.277e+03 1.017e+03 863.22984 823.15825\n",
       "Proportion of Variance 3.070e-03 2.460e-03 1.560e-03   0.00112   0.00102\n",
       "Cumulative Proportion  9.918e-01 9.943e-01 9.959e-01   0.99698   0.99800\n",
       "                            PC16      PC17     PC18      PC19      PC20\n",
       "Standard deviation     808.05753 493.82642 365.9769 327.54692 295.64723\n",
       "Proportion of Variance   0.00098   0.00037   0.0002   0.00016   0.00013\n",
       "Cumulative Proportion    0.99899   0.99936   0.9996   0.99972   0.99985\n",
       "                            PC21      PC22      PC23     PC24     PC25     PC26\n",
       "Standard deviation     175.38964 171.02963 137.53935 94.52263 78.81030 63.44104\n",
       "Proportion of Variance   0.00005   0.00004   0.00003  0.00001  0.00001  0.00001\n",
       "Cumulative Proportion    0.99990   0.99994   0.99997  0.99998  0.99999  1.00000\n",
       "                        PC27 PC28  PC29  PC30\n",
       "Standard deviation     19.54 16.5 13.78 1.618\n",
       "Proportion of Variance  0.00  0.0  0.00 0.000\n",
       "Cumulative Proportion   1.00  1.0  1.00 1.000"
      ]
     },
     "metadata": {},
     "output_type": "display_data"
    }
   ],
   "source": [
    "summary(pc)"
   ]
  },
  {
   "cell_type": "markdown",
   "id": "f6f702a6",
   "metadata": {},
   "source": [
    "# Plot"
   ]
  },
  {
   "cell_type": "code",
   "execution_count": 27,
   "id": "75141607",
   "metadata": {},
   "outputs": [
    {
     "data": {
      "image/png": "[encoded data removed]",
      "text/plain": [
       "plot without title"
      ]
     },
     "metadata": {
      "image/png": {
       "height": 480,
       "width": 840
      }
     },
     "output_type": "display_data"
    }
   ],
   "source": [
    "options(repr.plot.width = 14, repr.plot.height = 8)\n",
    "g <- ggbiplot(pc)\n",
    "g <- g + scale_color_discrete(name = '')\n",
    "g <- g + theme(legend.direction = 'horizontal',\n",
    "               legend.position = 'top')\n",
    "print(g)"
   ]
  }
 ],
 "metadata": {
  "kernelspec": {
   "display_name": "R",
   "language": "R",
   "name": "ir"
  },
  "language_info": {
   "codemirror_mode": "r",
   "file_extension": ".r",
   "mimetype": "text/x-r-source",
   "name": "R",
   "pygments_lexer": "r",
   "version": "4.0.2"
  }
 },
 "nbformat": 4,
 "nbformat_minor": 5
}
