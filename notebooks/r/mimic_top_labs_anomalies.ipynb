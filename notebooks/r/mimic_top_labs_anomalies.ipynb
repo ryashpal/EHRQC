{
 "cells": [
  {
   "cell_type": "code",
   "execution_count": 1,
   "id": "25312e0c",
   "metadata": {},
   "outputs": [],
   "source": [
    "library(DDoutlier)"
   ]
  },
  {
   "cell_type": "code",
   "execution_count": 2,
   "id": "011573e8",
   "metadata": {},
   "outputs": [
    {
     "name": "stderr",
     "output_type": "stream",
     "text": [
      "Loading required package: ggplot2\n",
      "\n",
      "Welcome! Want to learn more? See two factoextra-related books at https://goo.gl/ve3WBa\n",
      "\n"
     ]
    }
   ],
   "source": [
    "library(factoextra)"
   ]
  },
  {
   "cell_type": "code",
   "execution_count": 3,
   "id": "1f5999df",
   "metadata": {},
   "outputs": [
    {
     "name": "stderr",
     "output_type": "stream",
     "text": [
      "Loading required package: plyr\n",
      "\n",
      "Loading required package: scales\n",
      "\n",
      "Loading required package: grid\n",
      "\n"
     ]
    }
   ],
   "source": [
    "library(ggbiplot)"
   ]
  },
  {
   "cell_type": "markdown",
   "id": "c862598c",
   "metadata": {},
   "source": [
    "# Load data"
   ]
  },
  {
   "cell_type": "code",
   "execution_count": 5,
   "id": "9aaf1d75",
   "metadata": {},
   "outputs": [],
   "source": [
    "data.dir <- paste(getwd(), \"..\", \"..\", \"data\", sep=\"/\")\n",
    "labs <- paste(data.dir, \"mimic_top_labs.csv\", sep=\"/\")"
   ]
  },
  {
   "cell_type": "code",
   "execution_count": 6,
   "id": "c63bdc39",
   "metadata": {},
   "outputs": [
    {
     "data": {
      "text/html": [
       "<table class=\"dataframe\">\n",
       "<caption>A data.frame: 6 × 20</caption>\n",
       "<thead>\n",
       "\t<tr><th></th><th scope=col>glucose</th><th scope=col>hemoglobin</th><th scope=col>anion_gap</th><th scope=col>bicarbonate</th><th scope=col>calcium_total</th><th scope=col>chloride</th><th scope=col>creatinine</th><th scope=col>magnesium</th><th scope=col>phosphate</th><th scope=col>potassium</th><th scope=col>sodium</th><th scope=col>urea_nitrogen</th><th scope=col>hematocrit</th><th scope=col>mch</th><th scope=col>mchc</th><th scope=col>mcv</th><th scope=col>platelet_count</th><th scope=col>rdw</th><th scope=col>red_blood_cells</th><th scope=col>white_blood_cells</th></tr>\n",
       "\t<tr><th></th><th scope=col>&lt;dbl&gt;</th><th scope=col>&lt;dbl&gt;</th><th scope=col>&lt;dbl&gt;</th><th scope=col>&lt;dbl&gt;</th><th scope=col>&lt;dbl&gt;</th><th scope=col>&lt;dbl&gt;</th><th scope=col>&lt;dbl&gt;</th><th scope=col>&lt;dbl&gt;</th><th scope=col>&lt;dbl&gt;</th><th scope=col>&lt;dbl&gt;</th><th scope=col>&lt;dbl&gt;</th><th scope=col>&lt;dbl&gt;</th><th scope=col>&lt;dbl&gt;</th><th scope=col>&lt;dbl&gt;</th><th scope=col>&lt;dbl&gt;</th><th scope=col>&lt;dbl&gt;</th><th scope=col>&lt;dbl&gt;</th><th scope=col>&lt;dbl&gt;</th><th scope=col>&lt;dbl&gt;</th><th scope=col>&lt;dbl&gt;</th></tr>\n",
       "</thead>\n",
       "<tbody>\n",
       "\t<tr><th scope=row>1</th><td> 286.5</td><td>13.05</td><td>27.0</td><td>23.50000</td><td> 8.55</td><td> 84.0000</td><td>3.85</td><td>2.1</td><td>6.65</td><td>4.45</td><td>130.0</td><td>99.00</td><td>41.10000</td><td>27.75</td><td>31.75</td><td>87.50000</td><td>104.5000</td><td>20.45</td><td>4.705000</td><td>12.40000</td></tr>\n",
       "\t<tr><th scope=row>2</th><td> 180.6</td><td>11.24</td><td>16.0</td><td>22.33333</td><td> 0.00</td><td>100.3333</td><td>0.70</td><td>2.3</td><td>3.50</td><td>4.30</td><td>132.5</td><td>14.25</td><td>32.56667</td><td>30.94</td><td>33.94</td><td>91.40000</td><td>244.0000</td><td>12.38</td><td>3.660000</td><td> 9.08000</td></tr>\n",
       "\t<tr><th scope=row>3</th><td>1000.0</td><td> 0.00</td><td> 0.0</td><td> 0.00000</td><td> 0.00</td><td>  0.0000</td><td>0.00</td><td>0.0</td><td>0.00</td><td>0.00</td><td>  0.0</td><td> 0.00</td><td> 0.00000</td><td> 0.00</td><td> 0.00</td><td> 0.00000</td><td>  0.0000</td><td> 0.00</td><td>0.000000</td><td> 0.00000</td></tr>\n",
       "\t<tr><th scope=row>4</th><td>   0.0</td><td> 0.00</td><td> 0.0</td><td> 0.00000</td><td> 0.00</td><td>  0.0000</td><td>0.95</td><td>2.1</td><td>0.00</td><td>4.45</td><td>138.5</td><td>16.00</td><td>48.10000</td><td> 0.00</td><td> 0.00</td><td> 0.00000</td><td>185.0000</td><td> 0.00</td><td>0.000000</td><td> 5.20000</td></tr>\n",
       "\t<tr><th scope=row>5</th><td> 138.5</td><td>12.70</td><td>14.5</td><td>23.00000</td><td> 9.50</td><td>104.5000</td><td>0.70</td><td>1.9</td><td>3.70</td><td>4.55</td><td>137.5</td><td>14.00</td><td>36.80000</td><td>30.30</td><td>34.60</td><td>87.50000</td><td>321.0000</td><td>13.20</td><td>4.200000</td><td> 9.90000</td></tr>\n",
       "\t<tr><th scope=row>6</th><td> 125.8</td><td> 9.70</td><td>14.2</td><td>22.80000</td><td>10.92</td><td>108.2000</td><td>0.94</td><td>2.2</td><td>4.28</td><td>4.34</td><td>141.0</td><td>51.40</td><td>33.10000</td><td>24.40</td><td>29.30</td><td>83.33333</td><td>150.3333</td><td>18.40</td><td>3.973333</td><td>15.23333</td></tr>\n",
       "</tbody>\n",
       "</table>\n"
      ],
      "text/latex": [
       "A data.frame: 6 × 20\n",
       "\\begin{tabular}{r|llllllllllllllllllll}\n",
       "  & glucose & hemoglobin & anion\\_gap & bicarbonate & calcium\\_total & chloride & creatinine & magnesium & phosphate & potassium & sodium & urea\\_nitrogen & hematocrit & mch & mchc & mcv & platelet\\_count & rdw & red\\_blood\\_cells & white\\_blood\\_cells\\\\\n",
       "  & <dbl> & <dbl> & <dbl> & <dbl> & <dbl> & <dbl> & <dbl> & <dbl> & <dbl> & <dbl> & <dbl> & <dbl> & <dbl> & <dbl> & <dbl> & <dbl> & <dbl> & <dbl> & <dbl> & <dbl>\\\\\n",
       "\\hline\n",
       "\t1 &  286.5 & 13.05 & 27.0 & 23.50000 &  8.55 &  84.0000 & 3.85 & 2.1 & 6.65 & 4.45 & 130.0 & 99.00 & 41.10000 & 27.75 & 31.75 & 87.50000 & 104.5000 & 20.45 & 4.705000 & 12.40000\\\\\n",
       "\t2 &  180.6 & 11.24 & 16.0 & 22.33333 &  0.00 & 100.3333 & 0.70 & 2.3 & 3.50 & 4.30 & 132.5 & 14.25 & 32.56667 & 30.94 & 33.94 & 91.40000 & 244.0000 & 12.38 & 3.660000 &  9.08000\\\\\n",
       "\t3 & 1000.0 &  0.00 &  0.0 &  0.00000 &  0.00 &   0.0000 & 0.00 & 0.0 & 0.00 & 0.00 &   0.0 &  0.00 &  0.00000 &  0.00 &  0.00 &  0.00000 &   0.0000 &  0.00 & 0.000000 &  0.00000\\\\\n",
       "\t4 &    0.0 &  0.00 &  0.0 &  0.00000 &  0.00 &   0.0000 & 0.95 & 2.1 & 0.00 & 4.45 & 138.5 & 16.00 & 48.10000 &  0.00 &  0.00 &  0.00000 & 185.0000 &  0.00 & 0.000000 &  5.20000\\\\\n",
       "\t5 &  138.5 & 12.70 & 14.5 & 23.00000 &  9.50 & 104.5000 & 0.70 & 1.9 & 3.70 & 4.55 & 137.5 & 14.00 & 36.80000 & 30.30 & 34.60 & 87.50000 & 321.0000 & 13.20 & 4.200000 &  9.90000\\\\\n",
       "\t6 &  125.8 &  9.70 & 14.2 & 22.80000 & 10.92 & 108.2000 & 0.94 & 2.2 & 4.28 & 4.34 & 141.0 & 51.40 & 33.10000 & 24.40 & 29.30 & 83.33333 & 150.3333 & 18.40 & 3.973333 & 15.23333\\\\\n",
       "\\end{tabular}\n"
      ],
      "text/markdown": [
       "\n",
       "A data.frame: 6 × 20\n",
       "\n",
       "| <!--/--> | glucose &lt;dbl&gt; | hemoglobin &lt;dbl&gt; | anion_gap &lt;dbl&gt; | bicarbonate &lt;dbl&gt; | calcium_total &lt;dbl&gt; | chloride &lt;dbl&gt; | creatinine &lt;dbl&gt; | magnesium &lt;dbl&gt; | phosphate &lt;dbl&gt; | potassium &lt;dbl&gt; | sodium &lt;dbl&gt; | urea_nitrogen &lt;dbl&gt; | hematocrit &lt;dbl&gt; | mch &lt;dbl&gt; | mchc &lt;dbl&gt; | mcv &lt;dbl&gt; | platelet_count &lt;dbl&gt; | rdw &lt;dbl&gt; | red_blood_cells &lt;dbl&gt; | white_blood_cells &lt;dbl&gt; |\n",
       "|---|---|---|---|---|---|---|---|---|---|---|---|---|---|---|---|---|---|---|---|---|\n",
       "| 1 |  286.5 | 13.05 | 27.0 | 23.50000 |  8.55 |  84.0000 | 3.85 | 2.1 | 6.65 | 4.45 | 130.0 | 99.00 | 41.10000 | 27.75 | 31.75 | 87.50000 | 104.5000 | 20.45 | 4.705000 | 12.40000 |\n",
       "| 2 |  180.6 | 11.24 | 16.0 | 22.33333 |  0.00 | 100.3333 | 0.70 | 2.3 | 3.50 | 4.30 | 132.5 | 14.25 | 32.56667 | 30.94 | 33.94 | 91.40000 | 244.0000 | 12.38 | 3.660000 |  9.08000 |\n",
       "| 3 | 1000.0 |  0.00 |  0.0 |  0.00000 |  0.00 |   0.0000 | 0.00 | 0.0 | 0.00 | 0.00 |   0.0 |  0.00 |  0.00000 |  0.00 |  0.00 |  0.00000 |   0.0000 |  0.00 | 0.000000 |  0.00000 |\n",
       "| 4 |    0.0 |  0.00 |  0.0 |  0.00000 |  0.00 |   0.0000 | 0.95 | 2.1 | 0.00 | 4.45 | 138.5 | 16.00 | 48.10000 |  0.00 |  0.00 |  0.00000 | 185.0000 |  0.00 | 0.000000 |  5.20000 |\n",
       "| 5 |  138.5 | 12.70 | 14.5 | 23.00000 |  9.50 | 104.5000 | 0.70 | 1.9 | 3.70 | 4.55 | 137.5 | 14.00 | 36.80000 | 30.30 | 34.60 | 87.50000 | 321.0000 | 13.20 | 4.200000 |  9.90000 |\n",
       "| 6 |  125.8 |  9.70 | 14.2 | 22.80000 | 10.92 | 108.2000 | 0.94 | 2.2 | 4.28 | 4.34 | 141.0 | 51.40 | 33.10000 | 24.40 | 29.30 | 83.33333 | 150.3333 | 18.40 | 3.973333 | 15.23333 |\n",
       "\n"
      ],
      "text/plain": [
       "  glucose hemoglobin anion_gap bicarbonate calcium_total chloride creatinine\n",
       "1  286.5  13.05      27.0      23.50000     8.55          84.0000 3.85      \n",
       "2  180.6  11.24      16.0      22.33333     0.00         100.3333 0.70      \n",
       "3 1000.0   0.00       0.0       0.00000     0.00           0.0000 0.00      \n",
       "4    0.0   0.00       0.0       0.00000     0.00           0.0000 0.95      \n",
       "5  138.5  12.70      14.5      23.00000     9.50         104.5000 0.70      \n",
       "6  125.8   9.70      14.2      22.80000    10.92         108.2000 0.94      \n",
       "  magnesium phosphate potassium sodium urea_nitrogen hematocrit mch   mchc \n",
       "1 2.1       6.65      4.45      130.0  99.00         41.10000   27.75 31.75\n",
       "2 2.3       3.50      4.30      132.5  14.25         32.56667   30.94 33.94\n",
       "3 0.0       0.00      0.00        0.0   0.00          0.00000    0.00  0.00\n",
       "4 2.1       0.00      4.45      138.5  16.00         48.10000    0.00  0.00\n",
       "5 1.9       3.70      4.55      137.5  14.00         36.80000   30.30 34.60\n",
       "6 2.2       4.28      4.34      141.0  51.40         33.10000   24.40 29.30\n",
       "  mcv      platelet_count rdw   red_blood_cells white_blood_cells\n",
       "1 87.50000 104.5000       20.45 4.705000        12.40000         \n",
       "2 91.40000 244.0000       12.38 3.660000         9.08000         \n",
       "3  0.00000   0.0000        0.00 0.000000         0.00000         \n",
       "4  0.00000 185.0000        0.00 0.000000         5.20000         \n",
       "5 87.50000 321.0000       13.20 4.200000         9.90000         \n",
       "6 83.33333 150.3333       18.40 3.973333        15.23333         "
      ]
     },
     "metadata": {},
     "output_type": "display_data"
    }
   ],
   "source": [
    "data <- read.csv(labs)\n",
    "rownames(data) <- data$stay_id\n",
    "data <- subset(data, select = -c(X, hadm_id))\n",
    "data[is.na(data)] <- 0\n",
    "head(data)"
   ]
  },
  {
   "cell_type": "markdown",
   "id": "8dbba816",
   "metadata": {},
   "source": [
    "# Univariate outlier detection"
   ]
  },
  {
   "cell_type": "code",
   "execution_count": 7,
   "id": "9db9bf0b",
   "metadata": {},
   "outputs": [
    {
     "data": {
      "image/png": "[encoded data removed]",
      "text/plain": [
       "plot without title"
      ]
     },
     "metadata": {
      "image/png": {
       "height": 480,
       "width": 840
      }
     },
     "output_type": "display_data"
    }
   ],
   "source": [
    "options(repr.plot.width = 14, repr.plot.height = 8)\n",
    "boxplot(data)"
   ]
  },
  {
   "cell_type": "markdown",
   "id": "f8f7edb9",
   "metadata": {},
   "source": [
    "# Unsupervized outlier detection algorithms"
   ]
  },
  {
   "cell_type": "code",
   "execution_count": 8,
   "id": "431bd7a1",
   "metadata": {},
   "outputs": [],
   "source": [
    "y1 <- DDoutlier::KNN_AGG(data,  k_min=10, k_max=20)"
   ]
  },
  {
   "cell_type": "code",
   "execution_count": 9,
   "id": "d7cc029e",
   "metadata": {},
   "outputs": [],
   "source": [
    "y2 <- DDoutlier::LOF(data, k=10)"
   ]
  },
  {
   "cell_type": "code",
   "execution_count": 10,
   "id": "4dbf17c3",
   "metadata": {},
   "outputs": [],
   "source": [
    "# y3 <- DDoutlier::COF(data, k=10)"
   ]
  },
  {
   "cell_type": "code",
   "execution_count": 11,
   "id": "6d868ad5",
   "metadata": {},
   "outputs": [],
   "source": [
    "y4 <- DDoutlier::INFLO(data, k=10)"
   ]
  },
  {
   "cell_type": "code",
   "execution_count": 12,
   "id": "4c28525f",
   "metadata": {},
   "outputs": [],
   "source": [
    "y5 <- DDoutlier::KDEOS(data, k_min=10, k_max=20)"
   ]
  },
  {
   "cell_type": "code",
   "execution_count": 13,
   "id": "13d314ce",
   "metadata": {},
   "outputs": [],
   "source": [
    "y6 <- DDoutlier::LDF(data, k=10)"
   ]
  },
  {
   "cell_type": "code",
   "execution_count": 14,
   "id": "0282ffd4",
   "metadata": {},
   "outputs": [],
   "source": [
    "# y7 <- DDoutlier::LDOF(data, k=10)"
   ]
  },
  {
   "cell_type": "code",
   "execution_count": 15,
   "id": "29a3849e",
   "metadata": {},
   "outputs": [],
   "source": [
    "# Y <- cbind.data.frame(y1, y2, y3, y4, y5, y6$LDF, y7)\n",
    "Y <- cbind.data.frame(y1, y2, y4, y5, y6$LDF)"
   ]
  },
  {
   "cell_type": "markdown",
   "id": "99e47239",
   "metadata": {},
   "source": [
    "# Item Response Theory (IRT) emsemble"
   ]
  },
  {
   "cell_type": "code",
   "execution_count": 16,
   "id": "154e147c",
   "metadata": {},
   "outputs": [
    {
     "name": "stderr",
     "output_type": "stream",
     "text": [
      "Warning message in sqrt(diag(solve(Hess))):\n",
      "“NaNs produced”\n"
     ]
    }
   ],
   "source": [
    "ens1 <- outlierensembles::irt_ensemble(Y)"
   ]
  },
  {
   "cell_type": "markdown",
   "id": "ad217c04",
   "metadata": {},
   "source": [
    "# IRT ensemble scores"
   ]
  },
  {
   "cell_type": "code",
   "execution_count": 17,
   "id": "c1d7b705",
   "metadata": {},
   "outputs": [
    {
     "data": {
      "image/png": "[encoded data removed]",
      "text/plain": [
       "Plot with title “Histogram of ens1$scores”"
      ]
     },
     "metadata": {
      "image/png": {
       "height": 480,
       "width": 840
      }
     },
     "output_type": "display_data"
    }
   ],
   "source": [
    "hist(ens1$scores)"
   ]
  },
  {
   "cell_type": "code",
   "execution_count": 18,
   "id": "710a9262",
   "metadata": {},
   "outputs": [
    {
     "data": {
      "text/plain": [
       "   Min. 1st Qu.  Median    Mean 3rd Qu.    Max. \n",
       "  0.000   7.528   8.119   8.230   8.801  34.759 "
      ]
     },
     "metadata": {},
     "output_type": "display_data"
    }
   ],
   "source": [
    "summary(ens1$scores)"
   ]
  },
  {
   "cell_type": "code",
   "execution_count": 19,
   "id": "46431730",
   "metadata": {},
   "outputs": [],
   "source": [
    "df <- cbind.data.frame(data, y1, y2, y4, y5, y6$LDF, ens1$scores)"
   ]
  },
  {
   "cell_type": "code",
   "execution_count": 22,
   "id": "d7674b20",
   "metadata": {},
   "outputs": [],
   "source": [
    "colnames(df) <- list('glucose', 'hemoglobin', 'anion_gap', 'bicarbonate', 'calcium_total', 'chloride', 'creatinine', 'magnesium', 'phosphate', 'potassium', 'sodium', 'urea_nitrogen', 'hematocrit', 'mch', 'mchc', 'mcv', 'platelet_count', 'rdw', 'red_blood_cells', 'white_blood_cells', 'y_knn_agg', 'y_lof', 'y_inflo', 'y_kdeos', 'y_ldf', 'ensemble_scores')"
   ]
  },
  {
   "cell_type": "code",
   "execution_count": 23,
   "id": "67835f26",
   "metadata": {},
   "outputs": [
    {
     "data": {
      "text/html": [
       "<table class=\"dataframe\">\n",
       "<caption>A data.frame: 6 × 26</caption>\n",
       "<thead>\n",
       "\t<tr><th></th><th scope=col>glucose</th><th scope=col>hemoglobin</th><th scope=col>anion_gap</th><th scope=col>bicarbonate</th><th scope=col>calcium_total</th><th scope=col>chloride</th><th scope=col>creatinine</th><th scope=col>magnesium</th><th scope=col>phosphate</th><th scope=col>potassium</th><th scope=col>⋯</th><th scope=col>platelet_count</th><th scope=col>rdw</th><th scope=col>red_blood_cells</th><th scope=col>white_blood_cells</th><th scope=col>y_knn_agg</th><th scope=col>y_lof</th><th scope=col>y_inflo</th><th scope=col>y_kdeos</th><th scope=col>y_ldf</th><th scope=col>ensemble_scores</th></tr>\n",
       "\t<tr><th></th><th scope=col>&lt;dbl&gt;</th><th scope=col>&lt;dbl&gt;</th><th scope=col>&lt;dbl&gt;</th><th scope=col>&lt;dbl&gt;</th><th scope=col>&lt;dbl&gt;</th><th scope=col>&lt;dbl&gt;</th><th scope=col>&lt;dbl&gt;</th><th scope=col>&lt;dbl&gt;</th><th scope=col>&lt;dbl&gt;</th><th scope=col>&lt;dbl&gt;</th><th scope=col>⋯</th><th scope=col>&lt;dbl&gt;</th><th scope=col>&lt;dbl&gt;</th><th scope=col>&lt;dbl&gt;</th><th scope=col>&lt;dbl&gt;</th><th scope=col>&lt;dbl&gt;</th><th scope=col>&lt;dbl&gt;</th><th scope=col>&lt;dbl&gt;</th><th scope=col>&lt;dbl&gt;</th><th scope=col>&lt;dbl&gt;</th><th scope=col>&lt;dbl&gt;</th></tr>\n",
       "</thead>\n",
       "<tbody>\n",
       "\t<tr><th scope=row>1</th><td> 286.5</td><td>13.05</td><td>27.0</td><td>23.50000</td><td> 8.55</td><td> 84.0000</td><td>3.85</td><td>2.1</td><td>6.65</td><td>4.45</td><td>⋯</td><td>104.5000</td><td>20.45</td><td>4.705000</td><td>12.40000</td><td> 6095.649</td><td>1.0682865</td><td>0.9608475</td><td>0.22948057</td><td>0.9760647</td><td> 9.314799</td></tr>\n",
       "\t<tr><th scope=row>2</th><td> 180.6</td><td>11.24</td><td>16.0</td><td>22.33333</td><td> 0.00</td><td>100.3333</td><td>0.70</td><td>2.3</td><td>3.50</td><td>4.30</td><td>⋯</td><td>244.0000</td><td>12.38</td><td>3.660000</td><td> 9.08000</td><td> 2371.490</td><td>1.1419119</td><td>0.7944264</td><td>0.94478806</td><td>0.6537241</td><td> 8.445129</td></tr>\n",
       "\t<tr><th scope=row>3</th><td>1000.0</td><td> 0.00</td><td> 0.0</td><td> 0.00000</td><td> 0.00</td><td>  0.0000</td><td>0.00</td><td>0.0</td><td>0.00</td><td>0.00</td><td>⋯</td><td>  0.0000</td><td> 0.00</td><td>0.000000</td><td> 0.00000</td><td>52103.960</td><td>2.5020854</td><td>0.7882700</td><td>0.18886674</td><td>1.0000000</td><td>16.671456</td></tr>\n",
       "\t<tr><th scope=row>4</th><td>   0.0</td><td> 0.00</td><td> 0.0</td><td> 0.00000</td><td> 0.00</td><td>  0.0000</td><td>0.95</td><td>2.1</td><td>0.00</td><td>4.45</td><td>⋯</td><td>185.0000</td><td> 0.00</td><td>0.000000</td><td> 5.20000</td><td>19248.887</td><td>1.3041505</td><td>1.2220766</td><td>0.12553497</td><td>0.9999885</td><td>12.659565</td></tr>\n",
       "\t<tr><th scope=row>5</th><td> 138.5</td><td>12.70</td><td>14.5</td><td>23.00000</td><td> 9.50</td><td>104.5000</td><td>0.70</td><td>1.9</td><td>3.70</td><td>4.55</td><td>⋯</td><td>321.0000</td><td>13.20</td><td>4.200000</td><td> 9.90000</td><td> 1646.888</td><td>0.9714934</td><td>0.8854066</td><td>0.02787712</td><td>0.4496357</td><td> 6.605067</td></tr>\n",
       "\t<tr><th scope=row>6</th><td> 125.8</td><td> 9.70</td><td>14.2</td><td>22.80000</td><td>10.92</td><td>108.2000</td><td>0.94</td><td>2.2</td><td>4.28</td><td>4.34</td><td>⋯</td><td>150.3333</td><td>18.40</td><td>3.973333</td><td>15.23333</td><td> 2562.537</td><td>1.1173364</td><td>0.8825462</td><td>0.91484435</td><td>0.8462421</td><td> 8.704559</td></tr>\n",
       "</tbody>\n",
       "</table>\n"
      ],
      "text/latex": [
       "A data.frame: 6 × 26\n",
       "\\begin{tabular}{r|lllllllllllllllllllll}\n",
       "  & glucose & hemoglobin & anion\\_gap & bicarbonate & calcium\\_total & chloride & creatinine & magnesium & phosphate & potassium & ⋯ & platelet\\_count & rdw & red\\_blood\\_cells & white\\_blood\\_cells & y\\_knn\\_agg & y\\_lof & y\\_inflo & y\\_kdeos & y\\_ldf & ensemble\\_scores\\\\\n",
       "  & <dbl> & <dbl> & <dbl> & <dbl> & <dbl> & <dbl> & <dbl> & <dbl> & <dbl> & <dbl> & ⋯ & <dbl> & <dbl> & <dbl> & <dbl> & <dbl> & <dbl> & <dbl> & <dbl> & <dbl> & <dbl>\\\\\n",
       "\\hline\n",
       "\t1 &  286.5 & 13.05 & 27.0 & 23.50000 &  8.55 &  84.0000 & 3.85 & 2.1 & 6.65 & 4.45 & ⋯ & 104.5000 & 20.45 & 4.705000 & 12.40000 &  6095.649 & 1.0682865 & 0.9608475 & 0.22948057 & 0.9760647 &  9.314799\\\\\n",
       "\t2 &  180.6 & 11.24 & 16.0 & 22.33333 &  0.00 & 100.3333 & 0.70 & 2.3 & 3.50 & 4.30 & ⋯ & 244.0000 & 12.38 & 3.660000 &  9.08000 &  2371.490 & 1.1419119 & 0.7944264 & 0.94478806 & 0.6537241 &  8.445129\\\\\n",
       "\t3 & 1000.0 &  0.00 &  0.0 &  0.00000 &  0.00 &   0.0000 & 0.00 & 0.0 & 0.00 & 0.00 & ⋯ &   0.0000 &  0.00 & 0.000000 &  0.00000 & 52103.960 & 2.5020854 & 0.7882700 & 0.18886674 & 1.0000000 & 16.671456\\\\\n",
       "\t4 &    0.0 &  0.00 &  0.0 &  0.00000 &  0.00 &   0.0000 & 0.95 & 2.1 & 0.00 & 4.45 & ⋯ & 185.0000 &  0.00 & 0.000000 &  5.20000 & 19248.887 & 1.3041505 & 1.2220766 & 0.12553497 & 0.9999885 & 12.659565\\\\\n",
       "\t5 &  138.5 & 12.70 & 14.5 & 23.00000 &  9.50 & 104.5000 & 0.70 & 1.9 & 3.70 & 4.55 & ⋯ & 321.0000 & 13.20 & 4.200000 &  9.90000 &  1646.888 & 0.9714934 & 0.8854066 & 0.02787712 & 0.4496357 &  6.605067\\\\\n",
       "\t6 &  125.8 &  9.70 & 14.2 & 22.80000 & 10.92 & 108.2000 & 0.94 & 2.2 & 4.28 & 4.34 & ⋯ & 150.3333 & 18.40 & 3.973333 & 15.23333 &  2562.537 & 1.1173364 & 0.8825462 & 0.91484435 & 0.8462421 &  8.704559\\\\\n",
       "\\end{tabular}\n"
      ],
      "text/markdown": [
       "\n",
       "A data.frame: 6 × 26\n",
       "\n",
       "| <!--/--> | glucose &lt;dbl&gt; | hemoglobin &lt;dbl&gt; | anion_gap &lt;dbl&gt; | bicarbonate &lt;dbl&gt; | calcium_total &lt;dbl&gt; | chloride &lt;dbl&gt; | creatinine &lt;dbl&gt; | magnesium &lt;dbl&gt; | phosphate &lt;dbl&gt; | potassium &lt;dbl&gt; | ⋯ ⋯ | platelet_count &lt;dbl&gt; | rdw &lt;dbl&gt; | red_blood_cells &lt;dbl&gt; | white_blood_cells &lt;dbl&gt; | y_knn_agg &lt;dbl&gt; | y_lof &lt;dbl&gt; | y_inflo &lt;dbl&gt; | y_kdeos &lt;dbl&gt; | y_ldf &lt;dbl&gt; | ensemble_scores &lt;dbl&gt; |\n",
       "|---|---|---|---|---|---|---|---|---|---|---|---|---|---|---|---|---|---|---|---|---|---|\n",
       "| 1 |  286.5 | 13.05 | 27.0 | 23.50000 |  8.55 |  84.0000 | 3.85 | 2.1 | 6.65 | 4.45 | ⋯ | 104.5000 | 20.45 | 4.705000 | 12.40000 |  6095.649 | 1.0682865 | 0.9608475 | 0.22948057 | 0.9760647 |  9.314799 |\n",
       "| 2 |  180.6 | 11.24 | 16.0 | 22.33333 |  0.00 | 100.3333 | 0.70 | 2.3 | 3.50 | 4.30 | ⋯ | 244.0000 | 12.38 | 3.660000 |  9.08000 |  2371.490 | 1.1419119 | 0.7944264 | 0.94478806 | 0.6537241 |  8.445129 |\n",
       "| 3 | 1000.0 |  0.00 |  0.0 |  0.00000 |  0.00 |   0.0000 | 0.00 | 0.0 | 0.00 | 0.00 | ⋯ |   0.0000 |  0.00 | 0.000000 |  0.00000 | 52103.960 | 2.5020854 | 0.7882700 | 0.18886674 | 1.0000000 | 16.671456 |\n",
       "| 4 |    0.0 |  0.00 |  0.0 |  0.00000 |  0.00 |   0.0000 | 0.95 | 2.1 | 0.00 | 4.45 | ⋯ | 185.0000 |  0.00 | 0.000000 |  5.20000 | 19248.887 | 1.3041505 | 1.2220766 | 0.12553497 | 0.9999885 | 12.659565 |\n",
       "| 5 |  138.5 | 12.70 | 14.5 | 23.00000 |  9.50 | 104.5000 | 0.70 | 1.9 | 3.70 | 4.55 | ⋯ | 321.0000 | 13.20 | 4.200000 |  9.90000 |  1646.888 | 0.9714934 | 0.8854066 | 0.02787712 | 0.4496357 |  6.605067 |\n",
       "| 6 |  125.8 |  9.70 | 14.2 | 22.80000 | 10.92 | 108.2000 | 0.94 | 2.2 | 4.28 | 4.34 | ⋯ | 150.3333 | 18.40 | 3.973333 | 15.23333 |  2562.537 | 1.1173364 | 0.8825462 | 0.91484435 | 0.8462421 |  8.704559 |\n",
       "\n"
      ],
      "text/plain": [
       "  glucose hemoglobin anion_gap bicarbonate calcium_total chloride creatinine\n",
       "1  286.5  13.05      27.0      23.50000     8.55          84.0000 3.85      \n",
       "2  180.6  11.24      16.0      22.33333     0.00         100.3333 0.70      \n",
       "3 1000.0   0.00       0.0       0.00000     0.00           0.0000 0.00      \n",
       "4    0.0   0.00       0.0       0.00000     0.00           0.0000 0.95      \n",
       "5  138.5  12.70      14.5      23.00000     9.50         104.5000 0.70      \n",
       "6  125.8   9.70      14.2      22.80000    10.92         108.2000 0.94      \n",
       "  magnesium phosphate potassium ⋯ platelet_count rdw   red_blood_cells\n",
       "1 2.1       6.65      4.45      ⋯ 104.5000       20.45 4.705000       \n",
       "2 2.3       3.50      4.30      ⋯ 244.0000       12.38 3.660000       \n",
       "3 0.0       0.00      0.00      ⋯   0.0000        0.00 0.000000       \n",
       "4 2.1       0.00      4.45      ⋯ 185.0000        0.00 0.000000       \n",
       "5 1.9       3.70      4.55      ⋯ 321.0000       13.20 4.200000       \n",
       "6 2.2       4.28      4.34      ⋯ 150.3333       18.40 3.973333       \n",
       "  white_blood_cells y_knn_agg y_lof     y_inflo   y_kdeos    y_ldf    \n",
       "1 12.40000           6095.649 1.0682865 0.9608475 0.22948057 0.9760647\n",
       "2  9.08000           2371.490 1.1419119 0.7944264 0.94478806 0.6537241\n",
       "3  0.00000          52103.960 2.5020854 0.7882700 0.18886674 1.0000000\n",
       "4  5.20000          19248.887 1.3041505 1.2220766 0.12553497 0.9999885\n",
       "5  9.90000           1646.888 0.9714934 0.8854066 0.02787712 0.4496357\n",
       "6 15.23333           2562.537 1.1173364 0.8825462 0.91484435 0.8462421\n",
       "  ensemble_scores\n",
       "1  9.314799      \n",
       "2  8.445129      \n",
       "3 16.671456      \n",
       "4 12.659565      \n",
       "5  6.605067      \n",
       "6  8.704559      "
      ]
     },
     "metadata": {},
     "output_type": "display_data"
    }
   ],
   "source": [
    "head(df)"
   ]
  },
  {
   "cell_type": "code",
   "execution_count": 25,
   "id": "33cbe9cf",
   "metadata": {},
   "outputs": [],
   "source": [
    "data.dir <- paste(getwd(), \"..\", \"..\", \"data\", sep=\"/\")\n",
    "mimic.selected.vitals.anomalies <- paste(data.dir, \"mimic_top_labs_anomalies.csv\", sep=\"/\")\n",
    "write.csv(data.frame(\"hadm_id\"=rownames(df), df), mimic.selected.vitals.anomalies, row.names = FALSE)"
   ]
  }
 ],
 "metadata": {
  "kernelspec": {
   "display_name": "R",
   "language": "R",
   "name": "ir"
  },
  "language_info": {
   "codemirror_mode": "r",
   "file_extension": ".r",
   "mimetype": "text/x-r-source",
   "name": "R",
   "pygments_lexer": "r",
   "version": "4.0.2"
  }
 },
 "nbformat": 4,
 "nbformat_minor": 5
}
