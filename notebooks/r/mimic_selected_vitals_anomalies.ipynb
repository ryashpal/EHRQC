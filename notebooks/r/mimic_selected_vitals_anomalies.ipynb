{
 "cells": [
  {
   "cell_type": "markdown",
   "id": "592feb0f-fbbf-4deb-a098-48b6d849485e",
   "metadata": {},
   "source": [
    "# Install necessary libraries"
   ]
  },
  {
   "cell_type": "code",
   "execution_count": 3,
   "id": "66ed535e-35c9-444e-a346-9f11652a86a4",
   "metadata": {},
   "outputs": [
    {
     "name": "stderr",
     "output_type": "stream",
     "text": [
      "Installing package into ‘/home/yram0006/R/x86_64-pc-linux-gnu-library/4.0’\n",
      "(as ‘lib’ is unspecified)\n",
      "\n",
      "also installing the dependencies ‘permute’, ‘png’, ‘jpeg’, ‘checkmate’, ‘rstudioapi’, ‘GPArotation’, ‘vegan’, ‘Deriv’, ‘dcurver’, ‘Formula’, ‘latticeExtra’, ‘htmlTable’, ‘tmvnsim’, ‘pracma’, ‘mirt’, ‘Hmisc’, ‘mnormt’, ‘airt’, ‘EstCRM’, ‘psych’, ‘apcluster’\n",
      "\n",
      "\n"
     ]
    }
   ],
   "source": [
    "install.packages(\"outlierensembles\")"
   ]
  },
  {
   "cell_type": "code",
   "execution_count": 6,
   "id": "41e74294-14e9-440b-80d9-48cf6088b8e2",
   "metadata": {},
   "outputs": [
    {
     "name": "stderr",
     "output_type": "stream",
     "text": [
      "Installing package into ‘/home/yram0006/R/x86_64-pc-linux-gnu-library/4.0’\n",
      "(as ‘lib’ is unspecified)\n",
      "\n",
      "also installing the dependencies ‘curl’, ‘rio’, ‘car’, ‘rstatix’, ‘FactoMineR’, ‘ggpubr’\n",
      "\n",
      "\n",
      "Warning message in install.packages(\"factoextra\"):\n",
      "“installation of package ‘curl’ had non-zero exit status”\n",
      "Warning message in install.packages(\"factoextra\"):\n",
      "“installation of package ‘rio’ had non-zero exit status”\n",
      "Warning message in install.packages(\"factoextra\"):\n",
      "“installation of package ‘car’ had non-zero exit status”\n",
      "Warning message in install.packages(\"factoextra\"):\n",
      "“installation of package ‘rstatix’ had non-zero exit status”\n",
      "Warning message in install.packages(\"factoextra\"):\n",
      "“installation of package ‘FactoMineR’ had non-zero exit status”\n",
      "Warning message in install.packages(\"factoextra\"):\n",
      "“installation of package ‘ggpubr’ had non-zero exit status”\n",
      "Warning message in install.packages(\"factoextra\"):\n",
      "“installation of package ‘factoextra’ had non-zero exit status”\n"
     ]
    }
   ],
   "source": [
    "install.packages(\"factoextra\")"
   ]
  },
  {
   "cell_type": "code",
   "execution_count": 1,
   "id": "97507526",
   "metadata": {},
   "outputs": [
    {
     "name": "stderr",
     "output_type": "stream",
     "text": [
      "Installing package into ‘/home/yram0006/R/x86_64-pc-linux-gnu-library/4.0’\n",
      "(as ‘lib’ is unspecified)\n",
      "\n",
      "also installing the dependencies ‘credentials’, ‘gert’, ‘gh’, ‘openssl’, ‘xml2’, ‘usethis’, ‘httr’, ‘roxygen2’, ‘rversions’\n",
      "\n",
      "\n",
      "Downloading GitHub repo jhmadsen/DDoutlier@HEAD\n",
      "\n"
     ]
    },
    {
     "name": "stdout",
     "output_type": "stream",
     "text": [
      "proxy  (NA -> 0.4-26) [CRAN]\n",
      "dbscan (NA -> 1.1-8 ) [CRAN]\n"
     ]
    },
    {
     "name": "stderr",
     "output_type": "stream",
     "text": [
      "Installing 2 packages: proxy, dbscan\n",
      "\n",
      "Installing packages into ‘/home/yram0006/R/x86_64-pc-linux-gnu-library/4.0’\n",
      "(as ‘lib’ is unspecified)\n",
      "\n"
     ]
    },
    {
     "name": "stdout",
     "output_type": "stream",
     "text": [
      "\u001b[32m✔\u001b[39m  \u001b[90mchecking for file ‘/tmp/Rtmp5i5kjI/remotes2cd01b68f3fa43/jhmadsen-DDoutlier-6408950/DESCRIPTION’\u001b[39m\u001b[36m\u001b[39m\n",
      "\u001b[90m─\u001b[39m\u001b[90m  \u001b[39m\u001b[90mpreparing ‘DDoutlier’:\u001b[39m\u001b[36m\u001b[39m\n",
      "\u001b[32m✔\u001b[39m  \u001b[90mchecking DESCRIPTION meta-information\u001b[39m\u001b[36m\u001b[39m\n",
      "\u001b[90m─\u001b[39m\u001b[90m  \u001b[39m\u001b[90mchecking for LF line-endings in source and make files and shell scripts\u001b[39m\u001b[36m\u001b[39m\n",
      "\u001b[90m─\u001b[39m\u001b[90m  \u001b[39m\u001b[90mchecking for empty or unneeded directories\u001b[39m\u001b[36m\u001b[39m\n",
      "\u001b[90m─\u001b[39m\u001b[90m  \u001b[39m\u001b[90mbuilding ‘DDoutlier_0.1.0.tar.gz’\u001b[39m\u001b[36m\u001b[39m\n",
      "   \n",
      "\r"
     ]
    },
    {
     "name": "stderr",
     "output_type": "stream",
     "text": [
      "Installing package into ‘/home/yram0006/R/x86_64-pc-linux-gnu-library/4.0’\n",
      "(as ‘lib’ is unspecified)\n",
      "\n"
     ]
    }
   ],
   "source": [
    "install.packages('devtools')\n",
    "devtools::install_github('jhmadsen/DDoutlier')"
   ]
  },
  {
   "cell_type": "code",
   "execution_count": 46,
   "id": "82e562e9",
   "metadata": {},
   "outputs": [
    {
     "name": "stderr",
     "output_type": "stream",
     "text": [
      "Downloading GitHub repo vqv/ggbiplot@HEAD\n",
      "\n"
     ]
    },
    {
     "name": "stdout",
     "output_type": "stream",
     "text": [
      "\n",
      "\u001b[32m✔\u001b[39m  \u001b[90mchecking for file ‘/tmp/Rtmp5i5kjI/remotes2cd01b646b9608/vqv-ggbiplot-7325e88/DESCRIPTION’\u001b[39m\u001b[36m\u001b[39m\n",
      "\u001b[90m─\u001b[39m\u001b[90m  \u001b[39m\u001b[90mpreparing ‘ggbiplot’:\u001b[39m\u001b[36m\u001b[39m\n",
      "\u001b[32m✔\u001b[39m  \u001b[90mchecking DESCRIPTION meta-information\u001b[39m\u001b[36m\u001b[39m\n",
      "\u001b[90m─\u001b[39m\u001b[90m  \u001b[39m\u001b[90mchecking for LF line-endings in source and make files and shell scripts\u001b[39m\u001b[36m\u001b[39m\n",
      "\u001b[90m─\u001b[39m\u001b[90m  \u001b[39m\u001b[90mchecking for empty or unneeded directories\u001b[39m\u001b[36m\u001b[39m\n",
      "\u001b[90m─\u001b[39m\u001b[90m  \u001b[39m\u001b[90mlooking to see if a ‘data/datalist’ file should be added\u001b[39m\u001b[36m\u001b[39m\n",
      "\u001b[90m─\u001b[39m\u001b[90m  \u001b[39m\u001b[90mbuilding ‘ggbiplot_0.55.tar.gz’\u001b[39m\u001b[36m\u001b[39m\n",
      "   \n",
      "\r"
     ]
    },
    {
     "name": "stderr",
     "output_type": "stream",
     "text": [
      "Installing package into ‘/home/yram0006/R/x86_64-pc-linux-gnu-library/4.0’\n",
      "(as ‘lib’ is unspecified)\n",
      "\n"
     ]
    }
   ],
   "source": [
    "devtools::install_github(\"vqv/ggbiplot\")"
   ]
  },
  {
   "cell_type": "code",
   "execution_count": 61,
   "id": "25314269",
   "metadata": {},
   "outputs": [
    {
     "name": "stderr",
     "output_type": "stream",
     "text": [
      "Installing package into ‘/home/yram0006/R/x86_64-pc-linux-gnu-library/4.0’\n",
      "(as ‘lib’ is unspecified)\n",
      "\n",
      "also installing the dependencies ‘elliptic’, ‘contfrac’, ‘deSolve’, ‘coda’, ‘pbapply’, ‘mvtnorm’, ‘gtools’, ‘hypergeo’, ‘multcompView’, ‘gmp’, ‘Rmpfr’, ‘SuppDists’, ‘kSamples’, ‘BWStest’, ‘reshape’, ‘mc2d’, ‘zeallot’, ‘BayesFactor’, ‘PMCMRplus’, ‘WRS2’, ‘prismatic’, ‘bayestestR’, ‘datawizard’, ‘correlation’, ‘effectsize’, ‘insight’, ‘ipmisc’, ‘pairwiseComparisons’, ‘paletteer’, ‘parameters’, ‘patchwork’, ‘performance’, ‘statsExpressions’\n",
      "\n",
      "\n",
      "Warning message in install.packages(\"ggstatsplot\"):\n",
      "“installation of package ‘gmp’ had non-zero exit status”\n",
      "Warning message in install.packages(\"ggstatsplot\"):\n",
      "“installation of package ‘Rmpfr’ had non-zero exit status”\n",
      "Warning message in install.packages(\"ggstatsplot\"):\n",
      "“installation of package ‘PMCMRplus’ had non-zero exit status”\n",
      "Warning message in install.packages(\"ggstatsplot\"):\n",
      "“installation of package ‘pairwiseComparisons’ had non-zero exit status”\n",
      "Warning message in install.packages(\"ggstatsplot\"):\n",
      "“installation of package ‘ggstatsplot’ had non-zero exit status”\n"
     ]
    }
   ],
   "source": [
    "install.packages(\"ggstatsplot\")"
   ]
  },
  {
   "cell_type": "markdown",
   "id": "ce51643b-5ce5-4223-bff7-7a625f8094d3",
   "metadata": {},
   "source": [
    "# Use libraries"
   ]
  },
  {
   "cell_type": "code",
   "execution_count": 2,
   "id": "ef236d99-699d-412f-8a6b-70f2f8ba3cda",
   "metadata": {},
   "outputs": [],
   "source": [
    "library(DDoutlier)"
   ]
  },
  {
   "cell_type": "code",
   "execution_count": 3,
   "id": "1ac03b6e-b571-4433-9af7-f2855d0b0c41",
   "metadata": {},
   "outputs": [
    {
     "name": "stderr",
     "output_type": "stream",
     "text": [
      "Loading required package: ggplot2\n",
      "\n",
      "Welcome! Want to learn more? See two factoextra-related books at https://goo.gl/ve3WBa\n",
      "\n"
     ]
    }
   ],
   "source": [
    "library(factoextra)"
   ]
  },
  {
   "cell_type": "code",
   "execution_count": 4,
   "id": "99728f18",
   "metadata": {},
   "outputs": [
    {
     "name": "stderr",
     "output_type": "stream",
     "text": [
      "Loading required package: plyr\n",
      "\n",
      "Loading required package: scales\n",
      "\n",
      "Loading required package: grid\n",
      "\n"
     ]
    }
   ],
   "source": [
    "library(ggbiplot)"
   ]
  },
  {
   "cell_type": "markdown",
   "id": "7ee58b20",
   "metadata": {},
   "source": [
    "# Load data"
   ]
  },
  {
   "cell_type": "code",
   "execution_count": 5,
   "id": "88aca41b-27f8-4b4d-ab65-2338d998a4e2",
   "metadata": {},
   "outputs": [],
   "source": [
    "data.dir <- paste(getwd(), \"..\", \"..\", \"data\", sep=\"/\")\n",
    "mimic.selected.vitals <- paste(data.dir, \"mimic_selected_vitals.csv\", sep=\"/\")"
   ]
  },
  {
   "cell_type": "code",
   "execution_count": 6,
   "id": "77f5a335-e063-4abe-b520-3c85385ebb1a",
   "metadata": {},
   "outputs": [
    {
     "data": {
      "text/html": [
       "<table class=\"dataframe\">\n",
       "<caption>A data.frame: 6 × 10</caption>\n",
       "<thead>\n",
       "\t<tr><th></th><th scope=col>heartrate</th><th scope=col>sysbp</th><th scope=col>diabp</th><th scope=col>meanbp</th><th scope=col>resprate</th><th scope=col>tempc</th><th scope=col>spo2</th><th scope=col>gcseye</th><th scope=col>gcsverbal</th><th scope=col>gcsmotor</th></tr>\n",
       "\t<tr><th></th><th scope=col>&lt;dbl&gt;</th><th scope=col>&lt;dbl&gt;</th><th scope=col>&lt;dbl&gt;</th><th scope=col>&lt;dbl&gt;</th><th scope=col>&lt;dbl&gt;</th><th scope=col>&lt;dbl&gt;</th><th scope=col>&lt;dbl&gt;</th><th scope=col>&lt;dbl&gt;</th><th scope=col>&lt;dbl&gt;</th><th scope=col>&lt;dbl&gt;</th></tr>\n",
       "</thead>\n",
       "<tbody>\n",
       "\t<tr><th scope=row>30000153</th><td>106.84000</td><td>136.0882</td><td>67.79412</td><td>87.06061</td><td>14.16667</td><td>37.50000</td><td>96.64000</td><td>3.312500</td><td>3.187500</td><td>5.812500</td></tr>\n",
       "\t<tr><th scope=row>30000213</th><td> 81.68000</td><td>134.9200</td><td>56.16000</td><td>79.12000</td><td>19.59574</td><td>37.00694</td><td>98.96000</td><td>3.714286</td><td>3.571429</td><td>5.714286</td></tr>\n",
       "\t<tr><th scope=row>30000484</th><td> 89.95833</td><td>105.7500</td><td>55.62500</td><td>65.08333</td><td>14.70833</td><td>35.91270</td><td>99.79167</td><td>3.600000</td><td>1.000000</td><td>3.000000</td></tr>\n",
       "\t<tr><th scope=row>30000646</th><td> 86.42373</td><td> 92.7037</td><td>56.48148</td><td>64.66667</td><td>25.62712</td><td>37.37500</td><td>95.61017</td><td>4.000000</td><td>5.000000</td><td>6.000000</td></tr>\n",
       "\t<tr><th scope=row>30001148</th><td> 75.52000</td><td>107.9000</td><td>58.40000</td><td>72.53333</td><td>13.87500</td><td>36.38889</td><td>98.36000</td><td>3.166667</td><td>3.666667</td><td>5.166667</td></tr>\n",
       "\t<tr><th scope=row>30001336</th><td> 63.04000</td><td>110.6250</td><td>57.37500</td><td>69.20833</td><td>26.03846</td><td>36.85714</td><td>96.46154</td><td>4.000000</td><td>5.000000</td><td>6.000000</td></tr>\n",
       "</tbody>\n",
       "</table>\n"
      ],
      "text/latex": [
       "A data.frame: 6 × 10\n",
       "\\begin{tabular}{r|llllllllll}\n",
       "  & heartrate & sysbp & diabp & meanbp & resprate & tempc & spo2 & gcseye & gcsverbal & gcsmotor\\\\\n",
       "  & <dbl> & <dbl> & <dbl> & <dbl> & <dbl> & <dbl> & <dbl> & <dbl> & <dbl> & <dbl>\\\\\n",
       "\\hline\n",
       "\t30000153 & 106.84000 & 136.0882 & 67.79412 & 87.06061 & 14.16667 & 37.50000 & 96.64000 & 3.312500 & 3.187500 & 5.812500\\\\\n",
       "\t30000213 &  81.68000 & 134.9200 & 56.16000 & 79.12000 & 19.59574 & 37.00694 & 98.96000 & 3.714286 & 3.571429 & 5.714286\\\\\n",
       "\t30000484 &  89.95833 & 105.7500 & 55.62500 & 65.08333 & 14.70833 & 35.91270 & 99.79167 & 3.600000 & 1.000000 & 3.000000\\\\\n",
       "\t30000646 &  86.42373 &  92.7037 & 56.48148 & 64.66667 & 25.62712 & 37.37500 & 95.61017 & 4.000000 & 5.000000 & 6.000000\\\\\n",
       "\t30001148 &  75.52000 & 107.9000 & 58.40000 & 72.53333 & 13.87500 & 36.38889 & 98.36000 & 3.166667 & 3.666667 & 5.166667\\\\\n",
       "\t30001336 &  63.04000 & 110.6250 & 57.37500 & 69.20833 & 26.03846 & 36.85714 & 96.46154 & 4.000000 & 5.000000 & 6.000000\\\\\n",
       "\\end{tabular}\n"
      ],
      "text/markdown": [
       "\n",
       "A data.frame: 6 × 10\n",
       "\n",
       "| <!--/--> | heartrate &lt;dbl&gt; | sysbp &lt;dbl&gt; | diabp &lt;dbl&gt; | meanbp &lt;dbl&gt; | resprate &lt;dbl&gt; | tempc &lt;dbl&gt; | spo2 &lt;dbl&gt; | gcseye &lt;dbl&gt; | gcsverbal &lt;dbl&gt; | gcsmotor &lt;dbl&gt; |\n",
       "|---|---|---|---|---|---|---|---|---|---|---|\n",
       "| 30000153 | 106.84000 | 136.0882 | 67.79412 | 87.06061 | 14.16667 | 37.50000 | 96.64000 | 3.312500 | 3.187500 | 5.812500 |\n",
       "| 30000213 |  81.68000 | 134.9200 | 56.16000 | 79.12000 | 19.59574 | 37.00694 | 98.96000 | 3.714286 | 3.571429 | 5.714286 |\n",
       "| 30000484 |  89.95833 | 105.7500 | 55.62500 | 65.08333 | 14.70833 | 35.91270 | 99.79167 | 3.600000 | 1.000000 | 3.000000 |\n",
       "| 30000646 |  86.42373 |  92.7037 | 56.48148 | 64.66667 | 25.62712 | 37.37500 | 95.61017 | 4.000000 | 5.000000 | 6.000000 |\n",
       "| 30001148 |  75.52000 | 107.9000 | 58.40000 | 72.53333 | 13.87500 | 36.38889 | 98.36000 | 3.166667 | 3.666667 | 5.166667 |\n",
       "| 30001336 |  63.04000 | 110.6250 | 57.37500 | 69.20833 | 26.03846 | 36.85714 | 96.46154 | 4.000000 | 5.000000 | 6.000000 |\n",
       "\n"
      ],
      "text/plain": [
       "         heartrate sysbp    diabp    meanbp   resprate tempc    spo2    \n",
       "30000153 106.84000 136.0882 67.79412 87.06061 14.16667 37.50000 96.64000\n",
       "30000213  81.68000 134.9200 56.16000 79.12000 19.59574 37.00694 98.96000\n",
       "30000484  89.95833 105.7500 55.62500 65.08333 14.70833 35.91270 99.79167\n",
       "30000646  86.42373  92.7037 56.48148 64.66667 25.62712 37.37500 95.61017\n",
       "30001148  75.52000 107.9000 58.40000 72.53333 13.87500 36.38889 98.36000\n",
       "30001336  63.04000 110.6250 57.37500 69.20833 26.03846 36.85714 96.46154\n",
       "         gcseye   gcsverbal gcsmotor\n",
       "30000153 3.312500 3.187500  5.812500\n",
       "30000213 3.714286 3.571429  5.714286\n",
       "30000484 3.600000 1.000000  3.000000\n",
       "30000646 4.000000 5.000000  6.000000\n",
       "30001148 3.166667 3.666667  5.166667\n",
       "30001336 4.000000 5.000000  6.000000"
      ]
     },
     "metadata": {},
     "output_type": "display_data"
    }
   ],
   "source": [
    "data <- read.csv(mimic.selected.vitals)\n",
    "rownames(data) <- data$stay_id\n",
    "data <- subset(data, select = -c(X, stay_id))\n",
    "data[is.na(data)] <- 0\n",
    "head(data)"
   ]
  },
  {
   "cell_type": "markdown",
   "id": "bba1682f",
   "metadata": {},
   "source": [
    "# Univariate Outlier detection"
   ]
  },
  {
   "cell_type": "code",
   "execution_count": 8,
   "id": "9c64f400",
   "metadata": {},
   "outputs": [
    {
     "data": {
      "image/png": "[encoded data removed]",
      "text/plain": [
       "plot without title"
      ]
     },
     "metadata": {
      "image/png": {
       "height": 480,
       "width": 840
      }
     },
     "output_type": "display_data"
    }
   ],
   "source": [
    "options(repr.plot.width = 14, repr.plot.height = 8)\n",
    "boxplot(data)"
   ]
  },
  {
   "cell_type": "markdown",
   "id": "515fe0fa",
   "metadata": {},
   "source": [
    "# Unsupervized Outlier detection algorithms"
   ]
  },
  {
   "cell_type": "code",
   "execution_count": 9,
   "id": "350e1a1e-7d42-49f5-9e03-abaa1408ffc8",
   "metadata": {},
   "outputs": [],
   "source": [
    "y1 <- DDoutlier::KNN_AGG(data,  k_min=10, k_max=20)"
   ]
  },
  {
   "cell_type": "code",
   "execution_count": 10,
   "id": "775cf6f8-a000-4f2a-afa6-5a11d3274858",
   "metadata": {},
   "outputs": [],
   "source": [
    "y2 <- DDoutlier::LOF(data, k=10)"
   ]
  },
  {
   "cell_type": "code",
   "execution_count": 11,
   "id": "133ae8cb-1936-4d56-a87a-2efc459a5d3e",
   "metadata": {},
   "outputs": [],
   "source": [
    "# y3 <- DDoutlier::COF(data, k=10)"
   ]
  },
  {
   "cell_type": "code",
   "execution_count": 12,
   "id": "7addc992-1760-413c-9d16-9ddf35bcf381",
   "metadata": {},
   "outputs": [],
   "source": [
    "y4 <- DDoutlier::INFLO(data, k=10)"
   ]
  },
  {
   "cell_type": "code",
   "execution_count": 13,
   "id": "569fb40b-e69e-48b4-8abc-a031842a158b",
   "metadata": {},
   "outputs": [],
   "source": [
    "y5 <- DDoutlier::KDEOS(data, k_min=10, k_max=20)"
   ]
  },
  {
   "cell_type": "code",
   "execution_count": 14,
   "id": "0e0e8948-c1a2-4f13-9867-882cc611f168",
   "metadata": {},
   "outputs": [],
   "source": [
    "y6 <- DDoutlier::LDF(data, k=10)"
   ]
  },
  {
   "cell_type": "code",
   "execution_count": 15,
   "id": "1e6431a6-7c9d-4ee4-802a-1d80f852154a",
   "metadata": {},
   "outputs": [],
   "source": [
    "# y7 <- DDoutlier::LDOF(data, k=10)"
   ]
  },
  {
   "cell_type": "code",
   "execution_count": 16,
   "id": "9b56c768-a088-4fe5-8488-a3bb0c2e2f03",
   "metadata": {},
   "outputs": [],
   "source": [
    "# Y <- cbind.data.frame(y1, y2, y3, y4, y5, y6$LDF, y7)\n",
    "Y <- cbind.data.frame(y1, y2, y4, y5, y6$LDF)"
   ]
  },
  {
   "cell_type": "markdown",
   "id": "c5c560c1",
   "metadata": {},
   "source": [
    "# Item Response Theory (IRT) emsemble"
   ]
  },
  {
   "cell_type": "code",
   "execution_count": 17,
   "id": "49735c0f-be23-4e2b-80a1-7697e4bf8e75",
   "metadata": {},
   "outputs": [],
   "source": [
    "ens1 <- outlierensembles::irt_ensemble(Y)"
   ]
  },
  {
   "cell_type": "markdown",
   "id": "2be2a6f2",
   "metadata": {},
   "source": [
    "# IRT emsemble scores"
   ]
  },
  {
   "cell_type": "code",
   "execution_count": 18,
   "id": "5e11d480-9cd1-41dd-94e4-7d1b69706339",
   "metadata": {},
   "outputs": [
    {
     "data": {
      "image/png": "[encoded data removed]",
      "text/plain": [
       "Plot with title “Histogram of ens1$scores”"
      ]
     },
     "metadata": {
      "image/png": {
       "height": 480,
       "width": 840
      }
     },
     "output_type": "display_data"
    }
   ],
   "source": [
    "hist(ens1$scores)"
   ]
  },
  {
   "cell_type": "code",
   "execution_count": 19,
   "id": "132055af-ed10-4f75-91d8-40d8f7626d20",
   "metadata": {},
   "outputs": [
    {
     "data": {
      "text/plain": [
       "   Min. 1st Qu.  Median    Mean 3rd Qu.    Max. \n",
       "  0.000   2.192   2.736   2.885   3.403  25.955 "
      ]
     },
     "metadata": {},
     "output_type": "display_data"
    }
   ],
   "source": [
    "summary(ens1$scores)"
   ]
  },
  {
   "cell_type": "code",
   "execution_count": 20,
   "id": "0ba0e07e",
   "metadata": {},
   "outputs": [
    {
     "data": {
      "text/html": [
       "42"
      ],
      "text/latex": [
       "42"
      ],
      "text/markdown": [
       "42"
      ],
      "text/plain": [
       "[1] 42"
      ]
     },
     "metadata": {},
     "output_type": "display_data"
    }
   ],
   "source": [
    "sum(ens1$scores > 10)"
   ]
  },
  {
   "cell_type": "markdown",
   "id": "906474a9",
   "metadata": {},
   "source": [
    "# Export"
   ]
  },
  {
   "cell_type": "code",
   "execution_count": 29,
   "id": "56b713b8",
   "metadata": {},
   "outputs": [],
   "source": [
    "df <- cbind.data.frame(data, y1, y2, y4, y5, y6$LDF, ens1$scores)"
   ]
  },
  {
   "cell_type": "code",
   "execution_count": 47,
   "id": "6ef944f7",
   "metadata": {},
   "outputs": [],
   "source": [
    "colnames(df) <- list('heartrate', 'sysbp', 'diabp', 'meanbp', 'resprate', 'tempc', 'spo2', 'gcseye', 'gcsverbal', 'gcsmotor', 'y_knn_agg', 'y_lof', 'y_inflo', 'y_kdeos', 'y_ldf', 'ensemble_scores')"
   ]
  },
  {
   "cell_type": "code",
   "execution_count": 48,
   "id": "96671f7d",
   "metadata": {},
   "outputs": [
    {
     "data": {
      "text/html": [
       "<table class=\"dataframe\">\n",
       "<caption>A data.frame: 6 × 16</caption>\n",
       "<thead>\n",
       "\t<tr><th></th><th scope=col>heartrate</th><th scope=col>sysbp</th><th scope=col>diabp</th><th scope=col>meanbp</th><th scope=col>resprate</th><th scope=col>tempc</th><th scope=col>spo2</th><th scope=col>gcseye</th><th scope=col>gcsverbal</th><th scope=col>gcsmotor</th><th scope=col>y_knn_agg</th><th scope=col>y_lof</th><th scope=col>y_inflo</th><th scope=col>y_kdeos</th><th scope=col>y_ldf</th><th scope=col>ensemble_scores</th></tr>\n",
       "\t<tr><th></th><th scope=col>&lt;dbl&gt;</th><th scope=col>&lt;dbl&gt;</th><th scope=col>&lt;dbl&gt;</th><th scope=col>&lt;dbl&gt;</th><th scope=col>&lt;dbl&gt;</th><th scope=col>&lt;dbl&gt;</th><th scope=col>&lt;dbl&gt;</th><th scope=col>&lt;dbl&gt;</th><th scope=col>&lt;dbl&gt;</th><th scope=col>&lt;dbl&gt;</th><th scope=col>&lt;dbl&gt;</th><th scope=col>&lt;dbl&gt;</th><th scope=col>&lt;dbl&gt;</th><th scope=col>&lt;dbl&gt;</th><th scope=col>&lt;dbl&gt;</th><th scope=col>&lt;dbl&gt;</th></tr>\n",
       "</thead>\n",
       "<tbody>\n",
       "\t<tr><th scope=row>30000153</th><td>106.84000</td><td>136.0882</td><td>67.79412</td><td>87.06061</td><td>14.16667</td><td>37.50000</td><td>96.64000</td><td>3.312500</td><td>3.187500</td><td>5.812500</td><td>834.1698</td><td>1.013877</td><td>0.9507459</td><td>0.20297457</td><td>0.6596242</td><td>2.604505</td></tr>\n",
       "\t<tr><th scope=row>30000213</th><td> 81.68000</td><td>134.9200</td><td>56.16000</td><td>79.12000</td><td>19.59574</td><td>37.00694</td><td>98.96000</td><td>3.714286</td><td>3.571429</td><td>5.714286</td><td>730.2787</td><td>1.023900</td><td>1.0118594</td><td>0.55588112</td><td>0.5320861</td><td>2.517474</td></tr>\n",
       "\t<tr><th scope=row>30000484</th><td> 89.95833</td><td>105.7500</td><td>55.62500</td><td>65.08333</td><td>14.70833</td><td>35.91270</td><td>99.79167</td><td>3.600000</td><td>1.000000</td><td>3.000000</td><td>865.1646</td><td>1.268335</td><td>1.1735916</td><td>0.98910370</td><td>0.6593099</td><td>4.272058</td></tr>\n",
       "\t<tr><th scope=row>30000646</th><td> 86.42373</td><td> 92.7037</td><td>56.48148</td><td>64.66667</td><td>25.62712</td><td>37.37500</td><td>95.61017</td><td>4.000000</td><td>5.000000</td><td>6.000000</td><td>694.0017</td><td>1.017573</td><td>0.9023576</td><td>0.29841199</td><td>0.5960370</td><td>2.495786</td></tr>\n",
       "\t<tr><th scope=row>30001148</th><td> 75.52000</td><td>107.9000</td><td>58.40000</td><td>72.53333</td><td>13.87500</td><td>36.38889</td><td>98.36000</td><td>3.166667</td><td>3.666667</td><td>5.166667</td><td>458.2489</td><td>1.009164</td><td>0.8986986</td><td>0.03291126</td><td>0.5479032</td><td>2.020581</td></tr>\n",
       "\t<tr><th scope=row>30001336</th><td> 63.04000</td><td>110.6250</td><td>57.37500</td><td>69.20833</td><td>26.03846</td><td>36.85714</td><td>96.46154</td><td>4.000000</td><td>5.000000</td><td>6.000000</td><td>965.4640</td><td>1.201888</td><td>0.9250687</td><td>0.48247175</td><td>0.8896260</td><td>4.287033</td></tr>\n",
       "</tbody>\n",
       "</table>\n"
      ],
      "text/latex": [
       "A data.frame: 6 × 16\n",
       "\\begin{tabular}{r|llllllllllllllll}\n",
       "  & heartrate & sysbp & diabp & meanbp & resprate & tempc & spo2 & gcseye & gcsverbal & gcsmotor & y\\_knn\\_agg & y\\_lof & y\\_inflo & y\\_kdeos & y\\_ldf & ensemble\\_scores\\\\\n",
       "  & <dbl> & <dbl> & <dbl> & <dbl> & <dbl> & <dbl> & <dbl> & <dbl> & <dbl> & <dbl> & <dbl> & <dbl> & <dbl> & <dbl> & <dbl> & <dbl>\\\\\n",
       "\\hline\n",
       "\t30000153 & 106.84000 & 136.0882 & 67.79412 & 87.06061 & 14.16667 & 37.50000 & 96.64000 & 3.312500 & 3.187500 & 5.812500 & 834.1698 & 1.013877 & 0.9507459 & 0.20297457 & 0.6596242 & 2.604505\\\\\n",
       "\t30000213 &  81.68000 & 134.9200 & 56.16000 & 79.12000 & 19.59574 & 37.00694 & 98.96000 & 3.714286 & 3.571429 & 5.714286 & 730.2787 & 1.023900 & 1.0118594 & 0.55588112 & 0.5320861 & 2.517474\\\\\n",
       "\t30000484 &  89.95833 & 105.7500 & 55.62500 & 65.08333 & 14.70833 & 35.91270 & 99.79167 & 3.600000 & 1.000000 & 3.000000 & 865.1646 & 1.268335 & 1.1735916 & 0.98910370 & 0.6593099 & 4.272058\\\\\n",
       "\t30000646 &  86.42373 &  92.7037 & 56.48148 & 64.66667 & 25.62712 & 37.37500 & 95.61017 & 4.000000 & 5.000000 & 6.000000 & 694.0017 & 1.017573 & 0.9023576 & 0.29841199 & 0.5960370 & 2.495786\\\\\n",
       "\t30001148 &  75.52000 & 107.9000 & 58.40000 & 72.53333 & 13.87500 & 36.38889 & 98.36000 & 3.166667 & 3.666667 & 5.166667 & 458.2489 & 1.009164 & 0.8986986 & 0.03291126 & 0.5479032 & 2.020581\\\\\n",
       "\t30001336 &  63.04000 & 110.6250 & 57.37500 & 69.20833 & 26.03846 & 36.85714 & 96.46154 & 4.000000 & 5.000000 & 6.000000 & 965.4640 & 1.201888 & 0.9250687 & 0.48247175 & 0.8896260 & 4.287033\\\\\n",
       "\\end{tabular}\n"
      ],
      "text/markdown": [
       "\n",
       "A data.frame: 6 × 16\n",
       "\n",
       "| <!--/--> | heartrate &lt;dbl&gt; | sysbp &lt;dbl&gt; | diabp &lt;dbl&gt; | meanbp &lt;dbl&gt; | resprate &lt;dbl&gt; | tempc &lt;dbl&gt; | spo2 &lt;dbl&gt; | gcseye &lt;dbl&gt; | gcsverbal &lt;dbl&gt; | gcsmotor &lt;dbl&gt; | y_knn_agg &lt;dbl&gt; | y_lof &lt;dbl&gt; | y_inflo &lt;dbl&gt; | y_kdeos &lt;dbl&gt; | y_ldf &lt;dbl&gt; | ensemble_scores &lt;dbl&gt; |\n",
       "|---|---|---|---|---|---|---|---|---|---|---|---|---|---|---|---|---|\n",
       "| 30000153 | 106.84000 | 136.0882 | 67.79412 | 87.06061 | 14.16667 | 37.50000 | 96.64000 | 3.312500 | 3.187500 | 5.812500 | 834.1698 | 1.013877 | 0.9507459 | 0.20297457 | 0.6596242 | 2.604505 |\n",
       "| 30000213 |  81.68000 | 134.9200 | 56.16000 | 79.12000 | 19.59574 | 37.00694 | 98.96000 | 3.714286 | 3.571429 | 5.714286 | 730.2787 | 1.023900 | 1.0118594 | 0.55588112 | 0.5320861 | 2.517474 |\n",
       "| 30000484 |  89.95833 | 105.7500 | 55.62500 | 65.08333 | 14.70833 | 35.91270 | 99.79167 | 3.600000 | 1.000000 | 3.000000 | 865.1646 | 1.268335 | 1.1735916 | 0.98910370 | 0.6593099 | 4.272058 |\n",
       "| 30000646 |  86.42373 |  92.7037 | 56.48148 | 64.66667 | 25.62712 | 37.37500 | 95.61017 | 4.000000 | 5.000000 | 6.000000 | 694.0017 | 1.017573 | 0.9023576 | 0.29841199 | 0.5960370 | 2.495786 |\n",
       "| 30001148 |  75.52000 | 107.9000 | 58.40000 | 72.53333 | 13.87500 | 36.38889 | 98.36000 | 3.166667 | 3.666667 | 5.166667 | 458.2489 | 1.009164 | 0.8986986 | 0.03291126 | 0.5479032 | 2.020581 |\n",
       "| 30001336 |  63.04000 | 110.6250 | 57.37500 | 69.20833 | 26.03846 | 36.85714 | 96.46154 | 4.000000 | 5.000000 | 6.000000 | 965.4640 | 1.201888 | 0.9250687 | 0.48247175 | 0.8896260 | 4.287033 |\n",
       "\n"
      ],
      "text/plain": [
       "         heartrate sysbp    diabp    meanbp   resprate tempc    spo2    \n",
       "30000153 106.84000 136.0882 67.79412 87.06061 14.16667 37.50000 96.64000\n",
       "30000213  81.68000 134.9200 56.16000 79.12000 19.59574 37.00694 98.96000\n",
       "30000484  89.95833 105.7500 55.62500 65.08333 14.70833 35.91270 99.79167\n",
       "30000646  86.42373  92.7037 56.48148 64.66667 25.62712 37.37500 95.61017\n",
       "30001148  75.52000 107.9000 58.40000 72.53333 13.87500 36.38889 98.36000\n",
       "30001336  63.04000 110.6250 57.37500 69.20833 26.03846 36.85714 96.46154\n",
       "         gcseye   gcsverbal gcsmotor y_knn_agg y_lof    y_inflo   y_kdeos   \n",
       "30000153 3.312500 3.187500  5.812500 834.1698  1.013877 0.9507459 0.20297457\n",
       "30000213 3.714286 3.571429  5.714286 730.2787  1.023900 1.0118594 0.55588112\n",
       "30000484 3.600000 1.000000  3.000000 865.1646  1.268335 1.1735916 0.98910370\n",
       "30000646 4.000000 5.000000  6.000000 694.0017  1.017573 0.9023576 0.29841199\n",
       "30001148 3.166667 3.666667  5.166667 458.2489  1.009164 0.8986986 0.03291126\n",
       "30001336 4.000000 5.000000  6.000000 965.4640  1.201888 0.9250687 0.48247175\n",
       "         y_ldf     ensemble_scores\n",
       "30000153 0.6596242 2.604505       \n",
       "30000213 0.5320861 2.517474       \n",
       "30000484 0.6593099 4.272058       \n",
       "30000646 0.5960370 2.495786       \n",
       "30001148 0.5479032 2.020581       \n",
       "30001336 0.8896260 4.287033       "
      ]
     },
     "metadata": {},
     "output_type": "display_data"
    }
   ],
   "source": [
    "head(df)"
   ]
  },
  {
   "cell_type": "code",
   "execution_count": 55,
   "id": "2b9a58c7",
   "metadata": {},
   "outputs": [],
   "source": [
    "data.dir <- paste(getwd(), \"..\", \"..\", \"data\", sep=\"/\")\n",
    "mimic.selected.vitals.anomalies <- paste(data.dir, \"mimic_selected_vitals_anomalies.csv\", sep=\"/\")\n",
    "write.csv(data.frame(\"stay_id\"=rownames(df), df), mimic.selected.vitals.anomalies, row.names = FALSE)"
   ]
  },
  {
   "cell_type": "markdown",
   "id": "0ddc2ae0",
   "metadata": {},
   "source": [
    "# PCA"
   ]
  },
  {
   "cell_type": "code",
   "execution_count": 57,
   "id": "390a94dc",
   "metadata": {},
   "outputs": [],
   "source": [
    "pc <- prcomp(data)"
   ]
  },
  {
   "cell_type": "code",
   "execution_count": 58,
   "id": "39cb06e1",
   "metadata": {
    "scrolled": true
   },
   "outputs": [
    {
     "data": {
      "text/plain": [
       "Importance of components:\n",
       "                             PC1       PC2       PC3      PC4      PC5     PC6\n",
       "Standard deviation     1427.1176 185.25609 169.91999 94.35121 61.23004 50.3663\n",
       "Proportion of Variance    0.9628   0.01622   0.01365  0.00421  0.00177  0.0012\n",
       "Cumulative Proportion     0.9628   0.97904   0.99269  0.99690  0.99867  0.9999\n",
       "                            PC7   PC8    PC9   PC10\n",
       "Standard deviation     16.29788 2.024 0.7386 0.3566\n",
       "Proportion of Variance  0.00013 0.000 0.0000 0.0000\n",
       "Cumulative Proportion   1.00000 1.000 1.0000 1.0000"
      ]
     },
     "metadata": {},
     "output_type": "display_data"
    }
   ],
   "source": [
    "summary(pc)"
   ]
  },
  {
   "cell_type": "markdown",
   "id": "f6f702a6",
   "metadata": {},
   "source": [
    "# Plot"
   ]
  },
  {
   "cell_type": "code",
   "execution_count": 59,
   "id": "75141607",
   "metadata": {},
   "outputs": [
    {
     "data": {
      "image/png": "[encoded data removed]",
      "text/plain": [
       "plot without title"
      ]
     },
     "metadata": {
      "image/png": {
       "height": 480,
       "width": 840
      }
     },
     "output_type": "display_data"
    }
   ],
   "source": [
    "options(repr.plot.width = 14, repr.plot.height = 8)\n",
    "g <- ggbiplot(pc)\n",
    "g <- g + scale_color_discrete(name = '')\n",
    "g <- g + theme(legend.direction = 'horizontal',\n",
    "               legend.position = 'top')\n",
    "print(g)"
   ]
  }
 ],
 "metadata": {
  "kernelspec": {
   "display_name": "R",
   "language": "R",
   "name": "ir"
  },
  "language_info": {
   "codemirror_mode": "r",
   "file_extension": ".r",
   "mimetype": "text/x-r-source",
   "name": "R",
   "pygments_lexer": "r",
   "version": "4.0.2"
  }
 },
 "nbformat": 4,
 "nbformat_minor": 5
}
