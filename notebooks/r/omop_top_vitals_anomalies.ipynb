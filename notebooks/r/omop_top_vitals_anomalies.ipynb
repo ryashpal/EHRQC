{
 "cells": [
  {
   "cell_type": "markdown",
   "id": "592feb0f-fbbf-4deb-a098-48b6d849485e",
   "metadata": {},
   "source": [
    "# Install necessary libraries (if not already installed)"
   ]
  },
  {
   "cell_type": "code",
   "execution_count": 3,
   "id": "66ed535e-35c9-444e-a346-9f11652a86a4",
   "metadata": {},
   "outputs": [
    {
     "name": "stderr",
     "output_type": "stream",
     "text": [
      "Installing package into ‘/home/yram0006/R/x86_64-pc-linux-gnu-library/4.0’\n",
      "(as ‘lib’ is unspecified)\n",
      "\n",
      "also installing the dependencies ‘permute’, ‘png’, ‘jpeg’, ‘checkmate’, ‘rstudioapi’, ‘GPArotation’, ‘vegan’, ‘Deriv’, ‘dcurver’, ‘Formula’, ‘latticeExtra’, ‘htmlTable’, ‘tmvnsim’, ‘pracma’, ‘mirt’, ‘Hmisc’, ‘mnormt’, ‘airt’, ‘EstCRM’, ‘psych’, ‘apcluster’\n",
      "\n",
      "\n"
     ]
    }
   ],
   "source": [
    "install.packages(\"outlierensembles\")"
   ]
  },
  {
   "cell_type": "code",
   "execution_count": 6,
   "id": "41e74294-14e9-440b-80d9-48cf6088b8e2",
   "metadata": {},
   "outputs": [
    {
     "name": "stderr",
     "output_type": "stream",
     "text": [
      "Installing package into ‘/home/yram0006/R/x86_64-pc-linux-gnu-library/4.0’\n",
      "(as ‘lib’ is unspecified)\n",
      "\n",
      "also installing the dependencies ‘curl’, ‘rio’, ‘car’, ‘rstatix’, ‘FactoMineR’, ‘ggpubr’\n",
      "\n",
      "\n",
      "Warning message in install.packages(\"factoextra\"):\n",
      "“installation of package ‘curl’ had non-zero exit status”\n",
      "Warning message in install.packages(\"factoextra\"):\n",
      "“installation of package ‘rio’ had non-zero exit status”\n",
      "Warning message in install.packages(\"factoextra\"):\n",
      "“installation of package ‘car’ had non-zero exit status”\n",
      "Warning message in install.packages(\"factoextra\"):\n",
      "“installation of package ‘rstatix’ had non-zero exit status”\n",
      "Warning message in install.packages(\"factoextra\"):\n",
      "“installation of package ‘FactoMineR’ had non-zero exit status”\n",
      "Warning message in install.packages(\"factoextra\"):\n",
      "“installation of package ‘ggpubr’ had non-zero exit status”\n",
      "Warning message in install.packages(\"factoextra\"):\n",
      "“installation of package ‘factoextra’ had non-zero exit status”\n"
     ]
    }
   ],
   "source": [
    "install.packages(\"factoextra\")"
   ]
  },
  {
   "cell_type": "code",
   "execution_count": 1,
   "id": "97507526",
   "metadata": {},
   "outputs": [
    {
     "name": "stderr",
     "output_type": "stream",
     "text": [
      "Installing package into ‘/home/yram0006/R/x86_64-pc-linux-gnu-library/4.0’\n",
      "(as ‘lib’ is unspecified)\n",
      "\n",
      "also installing the dependencies ‘credentials’, ‘gert’, ‘gh’, ‘openssl’, ‘xml2’, ‘usethis’, ‘httr’, ‘roxygen2’, ‘rversions’\n",
      "\n",
      "\n",
      "Downloading GitHub repo jhmadsen/DDoutlier@HEAD\n",
      "\n"
     ]
    },
    {
     "name": "stdout",
     "output_type": "stream",
     "text": [
      "proxy  (NA -> 0.4-26) [CRAN]\n",
      "dbscan (NA -> 1.1-8 ) [CRAN]\n"
     ]
    },
    {
     "name": "stderr",
     "output_type": "stream",
     "text": [
      "Installing 2 packages: proxy, dbscan\n",
      "\n",
      "Installing packages into ‘/home/yram0006/R/x86_64-pc-linux-gnu-library/4.0’\n",
      "(as ‘lib’ is unspecified)\n",
      "\n"
     ]
    },
    {
     "name": "stdout",
     "output_type": "stream",
     "text": [
      "\u001b[32m✔\u001b[39m  \u001b[90mchecking for file ‘/tmp/Rtmp5i5kjI/remotes2cd01b68f3fa43/jhmadsen-DDoutlier-6408950/DESCRIPTION’\u001b[39m\u001b[36m\u001b[39m\n",
      "\u001b[90m─\u001b[39m\u001b[90m  \u001b[39m\u001b[90mpreparing ‘DDoutlier’:\u001b[39m\u001b[36m\u001b[39m\n",
      "\u001b[32m✔\u001b[39m  \u001b[90mchecking DESCRIPTION meta-information\u001b[39m\u001b[36m\u001b[39m\n",
      "\u001b[90m─\u001b[39m\u001b[90m  \u001b[39m\u001b[90mchecking for LF line-endings in source and make files and shell scripts\u001b[39m\u001b[36m\u001b[39m\n",
      "\u001b[90m─\u001b[39m\u001b[90m  \u001b[39m\u001b[90mchecking for empty or unneeded directories\u001b[39m\u001b[36m\u001b[39m\n",
      "\u001b[90m─\u001b[39m\u001b[90m  \u001b[39m\u001b[90mbuilding ‘DDoutlier_0.1.0.tar.gz’\u001b[39m\u001b[36m\u001b[39m\n",
      "   \n",
      "\r"
     ]
    },
    {
     "name": "stderr",
     "output_type": "stream",
     "text": [
      "Installing package into ‘/home/yram0006/R/x86_64-pc-linux-gnu-library/4.0’\n",
      "(as ‘lib’ is unspecified)\n",
      "\n"
     ]
    }
   ],
   "source": [
    "install.packages('devtools')\n",
    "devtools::install_github('jhmadsen/DDoutlier')"
   ]
  },
  {
   "cell_type": "code",
   "execution_count": 46,
   "id": "82e562e9",
   "metadata": {},
   "outputs": [
    {
     "name": "stderr",
     "output_type": "stream",
     "text": [
      "Downloading GitHub repo vqv/ggbiplot@HEAD\n",
      "\n"
     ]
    },
    {
     "name": "stdout",
     "output_type": "stream",
     "text": [
      "\n",
      "\u001b[32m✔\u001b[39m  \u001b[90mchecking for file ‘/tmp/Rtmp5i5kjI/remotes2cd01b646b9608/vqv-ggbiplot-7325e88/DESCRIPTION’\u001b[39m\u001b[36m\u001b[39m\n",
      "\u001b[90m─\u001b[39m\u001b[90m  \u001b[39m\u001b[90mpreparing ‘ggbiplot’:\u001b[39m\u001b[36m\u001b[39m\n",
      "\u001b[32m✔\u001b[39m  \u001b[90mchecking DESCRIPTION meta-information\u001b[39m\u001b[36m\u001b[39m\n",
      "\u001b[90m─\u001b[39m\u001b[90m  \u001b[39m\u001b[90mchecking for LF line-endings in source and make files and shell scripts\u001b[39m\u001b[36m\u001b[39m\n",
      "\u001b[90m─\u001b[39m\u001b[90m  \u001b[39m\u001b[90mchecking for empty or unneeded directories\u001b[39m\u001b[36m\u001b[39m\n",
      "\u001b[90m─\u001b[39m\u001b[90m  \u001b[39m\u001b[90mlooking to see if a ‘data/datalist’ file should be added\u001b[39m\u001b[36m\u001b[39m\n",
      "\u001b[90m─\u001b[39m\u001b[90m  \u001b[39m\u001b[90mbuilding ‘ggbiplot_0.55.tar.gz’\u001b[39m\u001b[36m\u001b[39m\n",
      "   \n",
      "\r"
     ]
    },
    {
     "name": "stderr",
     "output_type": "stream",
     "text": [
      "Installing package into ‘/home/yram0006/R/x86_64-pc-linux-gnu-library/4.0’\n",
      "(as ‘lib’ is unspecified)\n",
      "\n"
     ]
    }
   ],
   "source": [
    "devtools::install_github(\"vqv/ggbiplot\")"
   ]
  },
  {
   "cell_type": "code",
   "execution_count": 61,
   "id": "25314269",
   "metadata": {},
   "outputs": [
    {
     "name": "stderr",
     "output_type": "stream",
     "text": [
      "Installing package into ‘/home/yram0006/R/x86_64-pc-linux-gnu-library/4.0’\n",
      "(as ‘lib’ is unspecified)\n",
      "\n",
      "also installing the dependencies ‘elliptic’, ‘contfrac’, ‘deSolve’, ‘coda’, ‘pbapply’, ‘mvtnorm’, ‘gtools’, ‘hypergeo’, ‘multcompView’, ‘gmp’, ‘Rmpfr’, ‘SuppDists’, ‘kSamples’, ‘BWStest’, ‘reshape’, ‘mc2d’, ‘zeallot’, ‘BayesFactor’, ‘PMCMRplus’, ‘WRS2’, ‘prismatic’, ‘bayestestR’, ‘datawizard’, ‘correlation’, ‘effectsize’, ‘insight’, ‘ipmisc’, ‘pairwiseComparisons’, ‘paletteer’, ‘parameters’, ‘patchwork’, ‘performance’, ‘statsExpressions’\n",
      "\n",
      "\n",
      "Warning message in install.packages(\"ggstatsplot\"):\n",
      "“installation of package ‘gmp’ had non-zero exit status”\n",
      "Warning message in install.packages(\"ggstatsplot\"):\n",
      "“installation of package ‘Rmpfr’ had non-zero exit status”\n",
      "Warning message in install.packages(\"ggstatsplot\"):\n",
      "“installation of package ‘PMCMRplus’ had non-zero exit status”\n",
      "Warning message in install.packages(\"ggstatsplot\"):\n",
      "“installation of package ‘pairwiseComparisons’ had non-zero exit status”\n",
      "Warning message in install.packages(\"ggstatsplot\"):\n",
      "“installation of package ‘ggstatsplot’ had non-zero exit status”\n"
     ]
    }
   ],
   "source": [
    "install.packages(\"ggstatsplot\")"
   ]
  },
  {
   "cell_type": "markdown",
   "id": "ce51643b-5ce5-4223-bff7-7a625f8094d3",
   "metadata": {},
   "source": [
    "# Use libraries"
   ]
  },
  {
   "cell_type": "code",
   "execution_count": 1,
   "id": "ef236d99-699d-412f-8a6b-70f2f8ba3cda",
   "metadata": {},
   "outputs": [],
   "source": [
    "library(DDoutlier)"
   ]
  },
  {
   "cell_type": "code",
   "execution_count": 2,
   "id": "1ac03b6e-b571-4433-9af7-f2855d0b0c41",
   "metadata": {},
   "outputs": [
    {
     "name": "stderr",
     "output_type": "stream",
     "text": [
      "Loading required package: ggplot2\n",
      "\n",
      "Welcome! Want to learn more? See two factoextra-related books at https://goo.gl/ve3WBa\n",
      "\n"
     ]
    }
   ],
   "source": [
    "library(factoextra)"
   ]
  },
  {
   "cell_type": "code",
   "execution_count": 3,
   "id": "99728f18",
   "metadata": {},
   "outputs": [
    {
     "name": "stderr",
     "output_type": "stream",
     "text": [
      "Loading required package: plyr\n",
      "\n",
      "Loading required package: scales\n",
      "\n",
      "Loading required package: grid\n",
      "\n"
     ]
    }
   ],
   "source": [
    "library(ggbiplot)"
   ]
  },
  {
   "cell_type": "markdown",
   "id": "7ee58b20",
   "metadata": {},
   "source": [
    "# Load data"
   ]
  },
  {
   "cell_type": "code",
   "execution_count": 4,
   "id": "88aca41b-27f8-4b4d-ab65-2338d998a4e2",
   "metadata": {},
   "outputs": [],
   "source": [
    "data.dir <- paste(getwd(), \"..\", \"..\", \"data\", sep=\"/\")\n",
    "vitals <- paste(data.dir, \"mimic_omop_selected_vitals.csv\", sep=\"/\")"
   ]
  },
  {
   "cell_type": "code",
   "execution_count": 9,
   "id": "77f5a335-e063-4abe-b520-3c85385ebb1a",
   "metadata": {},
   "outputs": [
    {
     "data": {
      "text/html": [
       "<table class=\"dataframe\">\n",
       "<caption>A data.frame: 6 × 10</caption>\n",
       "<thead>\n",
       "\t<tr><th></th><th scope=col>heartrate</th><th scope=col>sysbp</th><th scope=col>diabp</th><th scope=col>meanbp</th><th scope=col>resprate</th><th scope=col>tempc</th><th scope=col>spo2</th><th scope=col>gcseye</th><th scope=col>gcsverbal</th><th scope=col>gcsmotor</th></tr>\n",
       "\t<tr><th></th><th scope=col>&lt;dbl&gt;</th><th scope=col>&lt;dbl&gt;</th><th scope=col>&lt;dbl&gt;</th><th scope=col>&lt;dbl&gt;</th><th scope=col>&lt;dbl&gt;</th><th scope=col>&lt;dbl&gt;</th><th scope=col>&lt;dbl&gt;</th><th scope=col>&lt;dbl&gt;</th><th scope=col>&lt;dbl&gt;</th><th scope=col>&lt;dbl&gt;</th></tr>\n",
       "</thead>\n",
       "<tbody>\n",
       "\t<tr><th scope=row>-2147462198</th><td>100.76471</td><td>112.76471</td><td>77.41176</td><td>88.82353</td><td>19.94118</td><td>36.78889</td><td> 97.47059</td><td>4.0</td><td>5.0</td><td>6.0</td></tr>\n",
       "\t<tr><th scope=row>-2147363710</th><td> 92.40000</td><td>106.64000</td><td>54.84000</td><td>70.12000</td><td>13.94286</td><td>36.88696</td><td> 97.60000</td><td>2.5</td><td>3.0</td><td>3.5</td></tr>\n",
       "\t<tr><th scope=row>-2147110420</th><td> 67.76190</td><td>109.84211</td><td>41.57895</td><td>56.73684</td><td>17.91667</td><td>36.01667</td><td> 99.95000</td><td>2.0</td><td>1.0</td><td>2.5</td></tr>\n",
       "\t<tr><th scope=row>-2147080626</th><td>127.92593</td><td>116.29167</td><td>72.70833</td><td>82.37500</td><td>29.18519</td><td>37.22222</td><td> 94.11538</td><td>4.0</td><td>5.0</td><td>6.0</td></tr>\n",
       "\t<tr><th scope=row>-2147002424</th><td>101.37037</td><td>103.84000</td><td>57.20000</td><td>71.48000</td><td>22.85185</td><td>36.66667</td><td>148.33333</td><td>4.0</td><td>4.4</td><td>6.0</td></tr>\n",
       "\t<tr><th scope=row>-2146955929</th><td> 76.55556</td><td> 91.84211</td><td>46.94737</td><td>65.47826</td><td>18.33333</td><td>36.69444</td><td> 97.66667</td><td>4.0</td><td>5.0</td><td>6.0</td></tr>\n",
       "</tbody>\n",
       "</table>\n"
      ],
      "text/latex": [
       "A data.frame: 6 × 10\n",
       "\\begin{tabular}{r|llllllllll}\n",
       "  & heartrate & sysbp & diabp & meanbp & resprate & tempc & spo2 & gcseye & gcsverbal & gcsmotor\\\\\n",
       "  & <dbl> & <dbl> & <dbl> & <dbl> & <dbl> & <dbl> & <dbl> & <dbl> & <dbl> & <dbl>\\\\\n",
       "\\hline\n",
       "\t-2147462198 & 100.76471 & 112.76471 & 77.41176 & 88.82353 & 19.94118 & 36.78889 &  97.47059 & 4.0 & 5.0 & 6.0\\\\\n",
       "\t-2147363710 &  92.40000 & 106.64000 & 54.84000 & 70.12000 & 13.94286 & 36.88696 &  97.60000 & 2.5 & 3.0 & 3.5\\\\\n",
       "\t-2147110420 &  67.76190 & 109.84211 & 41.57895 & 56.73684 & 17.91667 & 36.01667 &  99.95000 & 2.0 & 1.0 & 2.5\\\\\n",
       "\t-2147080626 & 127.92593 & 116.29167 & 72.70833 & 82.37500 & 29.18519 & 37.22222 &  94.11538 & 4.0 & 5.0 & 6.0\\\\\n",
       "\t-2147002424 & 101.37037 & 103.84000 & 57.20000 & 71.48000 & 22.85185 & 36.66667 & 148.33333 & 4.0 & 4.4 & 6.0\\\\\n",
       "\t-2146955929 &  76.55556 &  91.84211 & 46.94737 & 65.47826 & 18.33333 & 36.69444 &  97.66667 & 4.0 & 5.0 & 6.0\\\\\n",
       "\\end{tabular}\n"
      ],
      "text/markdown": [
       "\n",
       "A data.frame: 6 × 10\n",
       "\n",
       "| <!--/--> | heartrate &lt;dbl&gt; | sysbp &lt;dbl&gt; | diabp &lt;dbl&gt; | meanbp &lt;dbl&gt; | resprate &lt;dbl&gt; | tempc &lt;dbl&gt; | spo2 &lt;dbl&gt; | gcseye &lt;dbl&gt; | gcsverbal &lt;dbl&gt; | gcsmotor &lt;dbl&gt; |\n",
       "|---|---|---|---|---|---|---|---|---|---|---|\n",
       "| -2147462198 | 100.76471 | 112.76471 | 77.41176 | 88.82353 | 19.94118 | 36.78889 |  97.47059 | 4.0 | 5.0 | 6.0 |\n",
       "| -2147363710 |  92.40000 | 106.64000 | 54.84000 | 70.12000 | 13.94286 | 36.88696 |  97.60000 | 2.5 | 3.0 | 3.5 |\n",
       "| -2147110420 |  67.76190 | 109.84211 | 41.57895 | 56.73684 | 17.91667 | 36.01667 |  99.95000 | 2.0 | 1.0 | 2.5 |\n",
       "| -2147080626 | 127.92593 | 116.29167 | 72.70833 | 82.37500 | 29.18519 | 37.22222 |  94.11538 | 4.0 | 5.0 | 6.0 |\n",
       "| -2147002424 | 101.37037 | 103.84000 | 57.20000 | 71.48000 | 22.85185 | 36.66667 | 148.33333 | 4.0 | 4.4 | 6.0 |\n",
       "| -2146955929 |  76.55556 |  91.84211 | 46.94737 | 65.47826 | 18.33333 | 36.69444 |  97.66667 | 4.0 | 5.0 | 6.0 |\n",
       "\n"
      ],
      "text/plain": [
       "            heartrate sysbp     diabp    meanbp   resprate tempc    spo2     \n",
       "-2147462198 100.76471 112.76471 77.41176 88.82353 19.94118 36.78889  97.47059\n",
       "-2147363710  92.40000 106.64000 54.84000 70.12000 13.94286 36.88696  97.60000\n",
       "-2147110420  67.76190 109.84211 41.57895 56.73684 17.91667 36.01667  99.95000\n",
       "-2147080626 127.92593 116.29167 72.70833 82.37500 29.18519 37.22222  94.11538\n",
       "-2147002424 101.37037 103.84000 57.20000 71.48000 22.85185 36.66667 148.33333\n",
       "-2146955929  76.55556  91.84211 46.94737 65.47826 18.33333 36.69444  97.66667\n",
       "            gcseye gcsverbal gcsmotor\n",
       "-2147462198 4.0    5.0       6.0     \n",
       "-2147363710 2.5    3.0       3.5     \n",
       "-2147110420 2.0    1.0       2.5     \n",
       "-2147080626 4.0    5.0       6.0     \n",
       "-2147002424 4.0    4.4       6.0     \n",
       "-2146955929 4.0    5.0       6.0     "
      ]
     },
     "metadata": {},
     "output_type": "display_data"
    }
   ],
   "source": [
    "data <- read.csv(vitals)\n",
    "rownames(data) <- data$visit_occurrence_id\n",
    "data <- subset(data, select = -c(X, visit_occurrence_id))\n",
    "data[is.na(data)] <- 0\n",
    "head(data)"
   ]
  },
  {
   "cell_type": "markdown",
   "id": "bba1682f",
   "metadata": {},
   "source": [
    "# Univariate Outlier detection"
   ]
  },
  {
   "cell_type": "code",
   "execution_count": 10,
   "id": "9c64f400",
   "metadata": {},
   "outputs": [
    {
     "data": {
      "image/png": "[encoded data removed]",
      "text/plain": [
       "plot without title"
      ]
     },
     "metadata": {
      "image/png": {
       "height": 480,
       "width": 840
      }
     },
     "output_type": "display_data"
    }
   ],
   "source": [
    "options(repr.plot.width = 14, repr.plot.height = 8)\n",
    "boxplot(data)"
   ]
  },
  {
   "cell_type": "markdown",
   "id": "515fe0fa",
   "metadata": {},
   "source": [
    "# Unsupervized Outlier detection algorithms"
   ]
  },
  {
   "cell_type": "code",
   "execution_count": 11,
   "id": "350e1a1e-7d42-49f5-9e03-abaa1408ffc8",
   "metadata": {},
   "outputs": [],
   "source": [
    "y1 <- DDoutlier::KNN_AGG(data,  k_min=10, k_max=20)"
   ]
  },
  {
   "cell_type": "code",
   "execution_count": 12,
   "id": "775cf6f8-a000-4f2a-afa6-5a11d3274858",
   "metadata": {},
   "outputs": [],
   "source": [
    "y2 <- DDoutlier::LOF(data, k=10)"
   ]
  },
  {
   "cell_type": "code",
   "execution_count": 13,
   "id": "133ae8cb-1936-4d56-a87a-2efc459a5d3e",
   "metadata": {},
   "outputs": [],
   "source": [
    "# y3 <- DDoutlier::COF(data, k=10)"
   ]
  },
  {
   "cell_type": "code",
   "execution_count": 14,
   "id": "7addc992-1760-413c-9d16-9ddf35bcf381",
   "metadata": {},
   "outputs": [],
   "source": [
    "y4 <- DDoutlier::INFLO(data, k=10)"
   ]
  },
  {
   "cell_type": "code",
   "execution_count": 15,
   "id": "569fb40b-e69e-48b4-8abc-a031842a158b",
   "metadata": {},
   "outputs": [],
   "source": [
    "y5 <- DDoutlier::KDEOS(data, k_min=10, k_max=20)"
   ]
  },
  {
   "cell_type": "code",
   "execution_count": 16,
   "id": "0e0e8948-c1a2-4f13-9867-882cc611f168",
   "metadata": {},
   "outputs": [],
   "source": [
    "y6 <- DDoutlier::LDF(data, k=10)"
   ]
  },
  {
   "cell_type": "code",
   "execution_count": 17,
   "id": "1e6431a6-7c9d-4ee4-802a-1d80f852154a",
   "metadata": {},
   "outputs": [],
   "source": [
    "# y7 <- DDoutlier::LDOF(data, k=10)"
   ]
  },
  {
   "cell_type": "code",
   "execution_count": 18,
   "id": "9b56c768-a088-4fe5-8488-a3bb0c2e2f03",
   "metadata": {},
   "outputs": [],
   "source": [
    "# Y <- cbind.data.frame(y1, y2, y3, y4, y5, y6$LDF, y7)\n",
    "Y <- cbind.data.frame(y1, y2, y4, y5, y6$LDF)"
   ]
  },
  {
   "cell_type": "markdown",
   "id": "c5c560c1",
   "metadata": {},
   "source": [
    "# Item Response Theory (IRT) emsemble"
   ]
  },
  {
   "cell_type": "code",
   "execution_count": 19,
   "id": "49735c0f-be23-4e2b-80a1-7697e4bf8e75",
   "metadata": {},
   "outputs": [
    {
     "name": "stderr",
     "output_type": "stream",
     "text": [
      "Warning message in max(na.omit(data[, i])):\n",
      "“no non-missing arguments to max; returning -Inf”\n",
      "Warning message in max(na.omit(data[, i])):\n",
      "“no non-missing arguments to max; returning -Inf”\n",
      "Warning message in max(na.omit(data[, i])):\n",
      "“no non-missing arguments to max; returning -Inf”\n",
      "Warning message in max(na.omit(data[, i])):\n",
      "“no non-missing arguments to max; returning -Inf”\n",
      "Warning message in min(na.omit(data[, i])):\n",
      "“no non-missing arguments to min; returning Inf”\n",
      "Warning message in min(na.omit(data[, i])):\n",
      "“no non-missing arguments to min; returning Inf”\n",
      "Warning message in min(na.omit(data[, i])):\n",
      "“no non-missing arguments to min; returning Inf”\n",
      "Warning message in min(na.omit(data[, i])):\n",
      "“no non-missing arguments to min; returning Inf”\n",
      "Warning message in min(data[, i], na.rm = TRUE):\n",
      "“no non-missing arguments to min; returning Inf”\n",
      "Warning message in max(data[, i], na.rm = TRUE):\n",
      "“no non-missing arguments to max; returning -Inf”\n",
      "Warning message in min(data[, i], na.rm = TRUE):\n",
      "“no non-missing arguments to min; returning Inf”\n",
      "Warning message in max(data[, i], na.rm = TRUE):\n",
      "“no non-missing arguments to max; returning -Inf”\n",
      "Warning message in min(data[, i], na.rm = TRUE):\n",
      "“no non-missing arguments to min; returning Inf”\n",
      "Warning message in max(data[, i], na.rm = TRUE):\n",
      "“no non-missing arguments to max; returning -Inf”\n",
      "Warning message in min(data[, i], na.rm = TRUE):\n",
      "“no non-missing arguments to min; returning Inf”\n",
      "Warning message in max(data[, i], na.rm = TRUE):\n",
      "“no non-missing arguments to max; returning -Inf”\n"
     ]
    },
    {
     "ename": "ERROR",
     "evalue": "Error in while (abs(d) > converge && iter < max.EMCycle) {: missing value where TRUE/FALSE needed\n",
     "output_type": "error",
     "traceback": [
      "Error in while (abs(d) > converge && iter < max.EMCycle) {: missing value where TRUE/FALSE needed\nTraceback:\n",
      "1. outlierensembles::irt_ensemble(Y)",
      "2. airt::cirtmodel(X, max.item = rep(1, dd), min.item = rep(0, dd))",
      "3. EstCRMitem2(df, max.item, min.item, max.EMCycle = 200, type = \"Shojima\")"
     ]
    }
   ],
   "source": [
    "ens1 <- outlierensembles::irt_ensemble(Y)"
   ]
  },
  {
   "cell_type": "markdown",
   "id": "2be2a6f2",
   "metadata": {},
   "source": [
    "# IRT emsemble scores"
   ]
  },
  {
   "cell_type": "code",
   "execution_count": null,
   "id": "5e11d480-9cd1-41dd-94e4-7d1b69706339",
   "metadata": {},
   "outputs": [],
   "source": [
    "hist(ens1$scores)"
   ]
  },
  {
   "cell_type": "code",
   "execution_count": null,
   "id": "132055af-ed10-4f75-91d8-40d8f7626d20",
   "metadata": {},
   "outputs": [],
   "source": [
    "summary(ens1$scores)"
   ]
  },
  {
   "cell_type": "code",
   "execution_count": null,
   "id": "0ba0e07e",
   "metadata": {},
   "outputs": [],
   "source": [
    "sum(ens1$scores > 10)"
   ]
  },
  {
   "cell_type": "markdown",
   "id": "906474a9",
   "metadata": {},
   "source": [
    "# Export"
   ]
  },
  {
   "cell_type": "code",
   "execution_count": null,
   "id": "56b713b8",
   "metadata": {},
   "outputs": [],
   "source": [
    "df <- cbind.data.frame(data, y1, y2, y4, y5, y6$LDF, ens1$scores)"
   ]
  },
  {
   "cell_type": "code",
   "execution_count": null,
   "id": "30f31bbf",
   "metadata": {},
   "outputs": [],
   "source": [
    "colnames(df) <- list('heart_rate', 'heart_rate_alarm_high', 'heart_rate_alarm_low', 'non_invasive_blood_pressure_systolic', 'non_invasive_blood_pressure_diastolic', 'non_invasive_blood_pressure_mean', 'respiratory_rate', 'hemoglobin', 'o_saturation_pulseoxymetry', 'hematocrit_serum_', 'wbc', 'chloride_serum_', 'creatinine_serum_', 'glucose_serum_', 'magnesium', 'sodium_serum_', 'non_invasive_blood_pressure_alarm_high', 'non_invasive_blood_pressure_alarm_low', 'temperature_fahrenheit', 'o_saturation_pulseoxymetry_alarm_high', 'o_saturation_pulseoxymetry_alarm_low', 'resp_alarm_high', 'resp_alarm_low', 'bun', 'calcium_non_ionized', 'phosphorous', 'spo_desat_limit', 'admission_weight_kg_', 'admission_weight_lbs_', 'anion_gap', 'y_knn_agg', 'y_lof', 'y_inflo', 'y_kdeos', 'y_ldf', 'ensemble_scores')"
   ]
  },
  {
   "cell_type": "code",
   "execution_count": null,
   "id": "96671f7d",
   "metadata": {},
   "outputs": [],
   "source": [
    "head(df)"
   ]
  },
  {
   "cell_type": "code",
   "execution_count": 24,
   "id": "2b9a58c7",
   "metadata": {},
   "outputs": [],
   "source": [
    "data.dir <- paste(getwd(), \"..\", \"..\", \"data\", sep=\"/\")\n",
    "mimic.selected.vitals.anomalies <- paste(data.dir, \"mimic_omop_selected_vitals_anomalies.csv\", sep=\"/\")\n",
    "write.csv(data.frame(\"stay_id\"=rownames(df), df), mimic.selected.vitals.anomalies, row.names = FALSE)"
   ]
  },
  {
   "cell_type": "markdown",
   "id": "0ddc2ae0",
   "metadata": {},
   "source": [
    "# PCA"
   ]
  },
  {
   "cell_type": "code",
   "execution_count": 25,
   "id": "390a94dc",
   "metadata": {},
   "outputs": [],
   "source": [
    "pc <- prcomp(data)"
   ]
  },
  {
   "cell_type": "code",
   "execution_count": 26,
   "id": "39cb06e1",
   "metadata": {
    "scrolled": true
   },
   "outputs": [
    {
     "data": {
      "text/plain": [
       "Importance of components:\n",
       "                             PC1       PC2       PC3       PC4       PC5\n",
       "Standard deviation     1.964e+04 1.098e+04 8.043e+03 5.898e+03 3.904e+03\n",
       "Proportion of Variance 5.815e-01 1.820e-01 9.754e-02 5.246e-02 2.298e-02\n",
       "Cumulative Proportion  5.815e-01 7.634e-01 8.609e-01 9.134e-01 9.364e-01\n",
       "                             PC6       PC7       PC8       PC9      PC10\n",
       "Standard deviation     3.267e+03 3.159e+03 3.110e+03 1.506e+03 1.468e+03\n",
       "Proportion of Variance 1.609e-02 1.505e-02 1.459e-02 3.420e-03 3.250e-03\n",
       "Cumulative Proportion  9.525e-01 9.675e-01 9.821e-01 9.855e-01 9.888e-01\n",
       "                            PC11      PC12      PC13      PC14      PC15\n",
       "Standard deviation     1.426e+03 1.277e+03 1.017e+03 863.22984 823.15825\n",
       "Proportion of Variance 3.070e-03 2.460e-03 1.560e-03   0.00112   0.00102\n",
       "Cumulative Proportion  9.918e-01 9.943e-01 9.959e-01   0.99698   0.99800\n",
       "                            PC16      PC17     PC18      PC19      PC20\n",
       "Standard deviation     808.05753 493.82642 365.9769 327.54692 295.64723\n",
       "Proportion of Variance   0.00098   0.00037   0.0002   0.00016   0.00013\n",
       "Cumulative Proportion    0.99899   0.99936   0.9996   0.99972   0.99985\n",
       "                            PC21      PC22      PC23     PC24     PC25     PC26\n",
       "Standard deviation     175.38964 171.02963 137.53935 94.52263 78.81030 63.44104\n",
       "Proportion of Variance   0.00005   0.00004   0.00003  0.00001  0.00001  0.00001\n",
       "Cumulative Proportion    0.99990   0.99994   0.99997  0.99998  0.99999  1.00000\n",
       "                        PC27 PC28  PC29  PC30\n",
       "Standard deviation     19.54 16.5 13.78 1.618\n",
       "Proportion of Variance  0.00  0.0  0.00 0.000\n",
       "Cumulative Proportion   1.00  1.0  1.00 1.000"
      ]
     },
     "metadata": {},
     "output_type": "display_data"
    }
   ],
   "source": [
    "summary(pc)"
   ]
  },
  {
   "cell_type": "markdown",
   "id": "f6f702a6",
   "metadata": {},
   "source": [
    "# Plot"
   ]
  },
  {
   "cell_type": "code",
   "execution_count": 27,
   "id": "75141607",
   "metadata": {},
   "outputs": [
    {
     "data": {
      "image/png": "[encoded data removed]",
      "text/plain": [
       "plot without title"
      ]
     },
     "metadata": {
      "image/png": {
       "height": 480,
       "width": 840
      }
     },
     "output_type": "display_data"
    }
   ],
   "source": [
    "options(repr.plot.width = 14, repr.plot.height = 8)\n",
    "g <- ggbiplot(pc)\n",
    "g <- g + scale_color_discrete(name = '')\n",
    "g <- g + theme(legend.direction = 'horizontal',\n",
    "               legend.position = 'top')\n",
    "print(g)"
   ]
  }
 ],
 "metadata": {
  "kernelspec": {
   "display_name": "R",
   "language": "R",
   "name": "ir"
  },
  "language_info": {
   "codemirror_mode": "r",
   "file_extension": ".r",
   "mimetype": "text/x-r-source",
   "name": "R",
   "pygments_lexer": "r",
   "version": "4.0.2"
  }
 },
 "nbformat": 4,
 "nbformat_minor": 5
}
